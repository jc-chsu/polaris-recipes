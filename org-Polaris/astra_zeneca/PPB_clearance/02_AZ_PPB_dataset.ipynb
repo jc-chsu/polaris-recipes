{
 "cells": [
  {
   "cell_type": "markdown",
   "metadata": {},
   "source": [
    "Note: this notebook is set up to run with the env.yml containing the name 'polaris_datasets'"
   ]
  },
  {
   "cell_type": "markdown",
   "metadata": {},
   "source": [
    "# Dataset creation with [Polaris](https://github.com/polaris-hub/polaris)\n",
    "The first step of creating a benchmark is to set up a standard dataset which allows accessing the curated dataset (which has been demonstrated in <01_AZ_PPB_data_curation.ipynb>), and all necessary information about the dataset such as data source, description of endpoints, units etc. "
   ]
  },
  {
   "cell_type": "code",
   "execution_count": 1,
   "metadata": {},
   "outputs": [
    {
     "name": "stderr",
     "output_type": "stream",
     "text": [
      "/Users/lu.zhu/miniconda3/envs/po_dataset/lib/python3.12/site-packages/tqdm/auto.py:21: TqdmWarning: IProgress not found. Please update jupyter and ipywidgets. See https://ipywidgets.readthedocs.io/en/stable/user_install.html\n",
      "  from .autonotebook import tqdm as notebook_tqdm\n"
     ]
    }
   ],
   "source": [
    "%load_ext autoreload\n",
    "%autoreload 2\n",
    "\n",
    "import os\n",
    "import sys\n",
    "import pathlib\n",
    "\n",
    "import pandas as pd\n",
    "import datamol as dm\n",
    "\n",
    "# polaris dataset\n",
    "from polaris.dataset import Dataset, ColumnAnnotation\n",
    "from polaris.utils.types import HubOwner\n",
    "\n",
    "\n",
    "root = pathlib.Path(\"__file__\").absolute().parents[3]\n",
    "os.chdir(root)\n",
    "sys.path.insert(0, str(root))\n",
    "from utils.docs_utils import load_readme"
   ]
  },
  {
   "cell_type": "code",
   "execution_count": 2,
   "metadata": {},
   "outputs": [
    {
     "data": {
      "text/plain": [
       "HubOwner(slug='polaris', external_id=None, type='organization')"
      ]
     },
     "execution_count": 2,
     "metadata": {},
     "output_type": "execute_result"
    }
   ],
   "source": [
    "# Get the owner and organization\n",
    "org = \"polaris\"\n",
    "data_name = \"PPB_clearance\"\n",
    "dirname = dm.fs.join(root, f\"org-{org}\", \"astra_zeneca\", data_name)\n",
    "gcp_root = f\"gs://polaris-public/polaris-recipes/org-{org}/astra_zeneca/{data_name}\"\n",
    "\n",
    "owner = HubOwner(slug=org, type=\"organization\")\n",
    "owner"
   ]
  },
  {
   "cell_type": "code",
   "execution_count": 3,
   "metadata": {},
   "outputs": [],
   "source": [
    "BENCHMARK_DIR = f\"{gcp_root}/benchmarks\"\n",
    "DATASET_DIR = f\"{gcp_root}/datasets\"\n",
    "FIGURE_DIR = f\"{gcp_root}/figures\""
   ]
  },
  {
   "cell_type": "markdown",
   "metadata": {},
   "source": [
    "## Load existing data"
   ]
  },
  {
   "cell_type": "code",
   "execution_count": 4,
   "metadata": {},
   "outputs": [
    {
     "data": {
      "text/plain": [
       "Index(['SMILES', 'PPB', 'log_unbound_PPB', 'MOL_smiles', 'MOL_molhash_id',\n",
       "       'MOL_molhash_id_no_stereo', 'MOL_num_stereoisomers',\n",
       "       'MOL_num_undefined_stereoisomers', 'MOL_num_defined_stereo_center',\n",
       "       'MOL_num_undefined_stereo_center', 'MOL_num_stereo_center',\n",
       "       'MOL_undefined_E_D', 'MOL_undefined_E/Z', 'OUTLIER_log_unbound_PPB',\n",
       "       'AC_log_unbound_PPB'],\n",
       "      dtype='object')"
      ]
     },
     "execution_count": 4,
     "metadata": {},
     "output_type": "execute_result"
    }
   ],
   "source": [
    "PATH = f\"{gcp_root}/data/curation/{data_name}_curated.csv\"\n",
    "table = pd.read_csv(PATH)\n",
    "table.columns"
   ]
  },
  {
   "cell_type": "markdown",
   "metadata": {},
   "source": [
    "### Below we specify the meta information of data columns"
   ]
  },
  {
   "cell_type": "code",
   "execution_count": 5,
   "metadata": {},
   "outputs": [],
   "source": [
    "# Additional meta-data on the column level\n",
    "annotations = {\n",
    "    \"MOL_smiles\": ColumnAnnotation(\n",
    "        description=\"Molecule SMILES string\", modality=\"molecule\"\n",
    "    ),\n",
    "    \"log_unbound_PPB\": ColumnAnnotation(\n",
    "        description=\"Log of percent unbound to whole human plasma by equilibrium dialysis.\",\n",
    "        user_attributes={\"unit\": \"percent\", \"organism\": \"human\"},\n",
    "    ),\n",
    "}"
   ]
  },
  {
   "cell_type": "markdown",
   "metadata": {},
   "source": [
    "### Define `Dataset` object"
   ]
  },
  {
   "cell_type": "code",
   "execution_count": 6,
   "metadata": {},
   "outputs": [],
   "source": [
    "version = \"v1\"\n",
    "dataset_name = f\"{data_name}-{version}\""
   ]
  },
  {
   "cell_type": "code",
   "execution_count": 7,
   "metadata": {},
   "outputs": [],
   "source": [
    "dataset = Dataset(\n",
    "    # The table is the core data-structure required to construct a dataset\n",
    "    table=table[annotations.keys()],\n",
    "    # Additional meta-data on the dataset level.\n",
    "    name=dataset_name,\n",
    "    description=\"Log percent of compound unbound to whole human plasma (PPB) experiment data released by AstraZeneca\",\n",
    "    source=\"https://www.ebi.ac.uk/chembl/document_report_card/CHEMBL3301365/\",\n",
    "    annotations=annotations,\n",
    "    tags=[\"ADME\"],\n",
    "    owner=owner,\n",
    "    license=\"CC-BY-SA-4.0\",\n",
    "    user_attributes={\"year\": \"2016\"},\n",
    "    readme=load_readme(\"org-Polaris/astra_zeneca/PPB_clearance/AZ_PPB_readme.md\"),\n",
    "    curation_reference=\"https://github.com/polaris-hub/polaris-recipes/org-Polaris/astra_zeneca/PPB_clearance/01_AZ_PPB_data_curation.ipynb\",\n",
    ")"
   ]
  },
  {
   "cell_type": "code",
   "execution_count": 8,
   "metadata": {},
   "outputs": [
    {
     "data": {
      "text/plain": [
       "'gs://polaris-public/polaris-recipes/org-polaris/astra_zeneca/PPB_clearance/datasets/PPB_clearance-v1/dataset.json'"
      ]
     },
     "execution_count": 8,
     "metadata": {},
     "output_type": "execute_result"
    }
   ],
   "source": [
    "# save the dataset to GCP\n",
    "SAVE_DIR = f\"{DATASET_DIR}/{dataset_name}\"\n",
    "dataset_path = dataset.to_json(SAVE_DIR)\n",
    "dataset_path"
   ]
  },
  {
   "cell_type": "code",
   "execution_count": 9,
   "metadata": {},
   "outputs": [
    {
     "name": "stderr",
     "output_type": "stream",
     "text": [
      "\u001b[32m2024-07-10 01:57:27.974\u001b[0m | \u001b[1mINFO    \u001b[0m | \u001b[36mpolaris.hub.client\u001b[0m:\u001b[36mlogin\u001b[0m:\u001b[36m285\u001b[0m - \u001b[1mYou are already logged in to the Polaris Hub as  (lu@valencediscovery.com). Set `overwrite=True` to force re-authentication.\u001b[0m\n",
      "\u001b[32m2024-07-10 01:57:30.113\u001b[0m | \u001b[32m\u001b[1mSUCCESS \u001b[0m | \u001b[36mpolaris.hub.client\u001b[0m:\u001b[36mupload_dataset\u001b[0m:\u001b[36m631\u001b[0m - \u001b[32m\u001b[1mYour dataset has been successfully uploaded to the Hub. View it here: https://polarishub.io/datasets/polaris/PPB_clearance-v1\u001b[0m\n"
     ]
    },
    {
     "data": {
      "text/plain": [
       "{'id': 'QGaHW27Q1pnog2SgVQE0w',\n",
       " 'createdAt': '2024-07-10T05:57:28.696Z',\n",
       " 'deletedAt': None,\n",
       " 'name': 'ppb-clearance-v1',\n",
       " 'slug': 'ppb-clearance-v1',\n",
       " 'description': 'Log percent of compound unbound to whole human plasma (PPB) experiment data released by AstraZeneca',\n",
       " 'tags': ['ADME'],\n",
       " 'userAttributes': {'year': '2016'},\n",
       " 'access': 'private',\n",
       " 'isCertified': False,\n",
       " 'polarisVersion': 'dev',\n",
       " 'readme': \"## Background\\nThis is part of a release of experimental data determined at AstraZeneca on a set of compounds in the following assays: pKa, lipophilicity (LogD7.4), aqueous solubility, plasma protein binding (human, rat, dog , mouse and guinea pig), intrinsic clearance (human liver microsomes, human and rat hepatocytes). \\n\\n## Assay Information:\\nDuring a trip through the circulatory system, a drug can bind to many different proteins within the blood plasma. This can affect a drug's efficacy - only the unbound fraction of the drug will exert pharmacological effects. Equilibrium dialysis places a semi-permeable barrier between a drug + plasma sample and a buffer, and after a certain time we measure how much drug is present in the buffer. The membrane lets the drug pass through but drugs bound to proteins are too big to pass across the membrane. Image is from [here](https://www.sciencedirect.com/science/article/abs/pii/S0079646822000029).\\n\\n![image.png](attachment:image.png)\\n\\n## Description of readout:\\n- **PPB**: Percent plasma-bound. % bound to plasma by equilibrium dialysis. Compound is incubated with whole human plasma at 37C for >5hrs. Method described in B. Testa et al (Eds.), Pharmacokinetic Profiling in Drug Research: Biological, Physicochemical, and Computational Strategies, Wiley-VCH, Weinheim, 2006, pp.119-141. Experimental range 10% to 99.95% bound. Typically, the log transformation on %unbound to plasma proteins is used for machine learning. \\nInterpretation of %unbound PPB in value ranges:\\n- good : >1\\n- medium: 0- 1\\n- bad: <0\\n\\n## Data resource\\n\\n**Reference**: https://www.ebi.ac.uk/chembl/document_report_card/CHEMBL3301361/\\n\\n**Raw data**: https://www.ebi.ac.uk/chembl/assay_report_card/CHEMBL3301365/\\n\\n## Curation reproducibility\\nThe curation process in this notebook can be reproduced by command line:\\n\\n```shell\\nauroris curate org-Polaris/astra_zeneca/PPB_clearance/curation_config.json org-Polaris/astra_zeneca/PPB_clearance\\n```\",\n",
       " 'ownerId': '9qGUtJxWQ5MDZrK5op9jn',\n",
       " 'creatorId': 'NKnaHGybLqwSHcaMEHqfF',\n",
       " 'state': 'upload_pending',\n",
       " 'source': 'https://www.ebi.ac.uk/chembl/document_report_card/CHEMBL3301365/',\n",
       " 'curationReference': 'https://github.com/polaris-hub/polaris-recipes/org-Polaris/astra_zeneca/PPB_clearance/01_AZ_PPB_data_curation.ipynb',\n",
       " 'nRows': 1614,\n",
       " 'nColumns': 2,\n",
       " 'license': 'CC-BY-SA-4.0',\n",
       " 'md5Sum': 'bfd77fc35e2f7d270bafe830a0144214',\n",
       " 'annotations': {'MOL_smiles': {'dtype': 'object',\n",
       "   'modality': 'MOLECULE',\n",
       "   'isPointer': False,\n",
       "   'description': 'Molecule SMILES string',\n",
       "   'userAttributes': {}},\n",
       "  'log_unbound_PPB': {'dtype': 'float64',\n",
       "   'modality': 'UNKNOWN',\n",
       "   'isPointer': False,\n",
       "   'description': 'Log of percent unbound to whole human plasma by equilibrium dialysis.',\n",
       "   'userAttributes': {'unit': 'percent', 'organism': 'human'}}},\n",
       " 'tableContent': {'url': 'https://polaris-e7c0xuebp-invivoai-platform.vercel.app/storage/dataset/polaris/ppb-clearance-v1/table.parquet',\n",
       "  'size': 41996,\n",
       "  'fileType': 'parquet'},\n",
       " 'defaultAdapters': {},\n",
       " 'zarrRoot': None,\n",
       " 'artifactId': 'polaris/ppb-clearance-v1',\n",
       " 'creator': {'slug': 'lu-valencelabs',\n",
       "  'externalId': 'user_2gtYwEALU6nz7YYhVOTrlJmkWtN',\n",
       "  'type': 'user'},\n",
       " 'owner': {'slug': 'polaris',\n",
       "  'externalId': 'org_2gtoaJIVrgRqiIR8Qm5BnpFCbxu',\n",
       "  'type': 'organization'},\n",
       " 'benchmarks': [],\n",
       " 'review': None}"
      ]
     },
     "execution_count": 9,
     "metadata": {},
     "output_type": "execute_result"
    }
   ],
   "source": [
    "# from polaris.hub.client import PolarisHubClient\n",
    "# client = PolarisHubClient()\n",
    "# client.login()\n",
    "\n",
    "# client.upload_dataset(dataset=dataset, access=\"private\", owner=owner)"
   ]
  },
  {
   "cell_type": "code",
   "execution_count": null,
   "metadata": {},
   "outputs": [],
   "source": []
  }
 ],
 "metadata": {
  "kernelspec": {
   "display_name": "Python 3 (ipykernel)",
   "language": "python",
   "name": "python3"
  },
  "language_info": {
   "codemirror_mode": {
    "name": "ipython",
    "version": 3
   },
   "file_extension": ".py",
   "mimetype": "text/x-python",
   "name": "python",
   "nbconvert_exporter": "python",
   "pygments_lexer": "ipython3",
   "version": "3.12.4"
  }
 },
 "nbformat": 4,
 "nbformat_minor": 4
}
