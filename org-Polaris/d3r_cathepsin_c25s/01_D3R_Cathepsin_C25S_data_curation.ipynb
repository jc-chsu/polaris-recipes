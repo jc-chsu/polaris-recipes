{
 "cells": [
  {
   "cell_type": "markdown",
   "metadata": {},
   "source": [
    "Note: this notebook is set up to run with the env.yml containing the name 'polaris_datasets'"
   ]
  },
  {
   "cell_type": "markdown",
   "metadata": {},
   "source": [
    "## Background\n",
    "The Drug Design Data Resource (D3R) aims to advance the technology of computer-aided drug discovery through the interchange of high quality protein-ligand datasets and workflows, and by holding community-wide, blinded prediction challenges. The D3R project is based at the University of California San Diego (UCSD), where it is co-directed by Drs. Rommie Amaro and Michael Gilson. An additional D3R component, focused on determining, validating and archiving protein-ligand co-crystal structures, is hosted at Rutgers the State University of New Jersey and led by Dr. Stephen K. Burley, who is Director of the RCSB Protein Data Bank.\n",
    "\n",
    "## Assay Information\n",
    "The cathepsins constitute an 11-member family of proteases involved in protein degradation. Cathepsin S is highly expressed in antigen-presenting cells, where it degrades major histocompatibility complex class II (MHC II)-associated invariant chain. CatS is a candidate target for regulating immune hyper-responsiveness, as the inhibition of CatS may limit antigen presentation. This data set comprises a follow-on challenge to GC3, consisting of non-peptidic, non-covalent, small molecule inhibitors across a three order of magnitude range (nM to μM) of IC50s for CatS. Specifically, we provide 459 CatS inhibitors for affinity prediction. This dataset was kindly donated by Janssen. Please note the affinity values from this set were measured against a C25S CatS mutant.\n",
    "![GC3](https://drugdesigndata.org/upload/community-components/CatS.png)\n",
    "\n",
    "Representative crystal structures of CatS.\n",
    "\n",
    "## Description of readout:\n",
    "- **AFFINITY**: Affinity of molecules for a C25S Cathepsin S mutant. \n",
    "\n",
    "## Data resource\n",
    "\n",
    "**Raw data**: https://drugdesigndata.org/about/datasets/2028\n",
    "\n",
    "## Curation reproducibility\n",
    "The curation process in this notebook can be reproduced by command line:\n",
    "\n",
    "```shell\n",
    "auroris curate org-Biogen/d3r_cathepsin_c25s/curation_config.json org-Biogen/d3r_cathepsin_c25s\n",
    "```"
   ]
  },
  {
   "cell_type": "code",
   "execution_count": 1,
   "metadata": {},
   "outputs": [],
   "source": [
    "%load_ext autoreload\n",
    "%autoreload 2\n",
    "\n",
    "import os\n",
    "import sys\n",
    "import pathlib\n",
    "\n",
    "import pandas as pd\n",
    "import datamol as dm\n",
    "\n",
    "root = pathlib.Path(\"__file__\").absolute().parents[2]\n",
    "# set to recipe root directory\n",
    "os.chdir(root)\n",
    "sys.path.insert(0, str(root))"
   ]
  },
  {
   "cell_type": "code",
   "execution_count": 2,
   "metadata": {},
   "outputs": [
    {
     "name": "stderr",
     "output_type": "stream",
     "text": [
      "/Users/lu.zhu/miniconda3/envs/po_dataset/lib/python3.12/site-packages/tqdm/auto.py:21: TqdmWarning: IProgress not found. Please update jupyter and ipywidgets. See https://ipywidgets.readthedocs.io/en/stable/user_install.html\n",
      "  from .autonotebook import tqdm as notebook_tqdm\n"
     ]
    }
   ],
   "source": [
    "org = \"polaris\"\n",
    "data_name = \"d3r_cathepsin_c25s\"\n",
    "dirname = dm.fs.join(root, f\"org-{org}\", data_name)\n",
    "gcp_root = f\"gs://polaris-public/polaris-recipes/org-{org}/{data_name}\""
   ]
  },
  {
   "cell_type": "markdown",
   "metadata": {},
   "source": [
    "Dataset was downloaded directly from [D3R](https://drugdesigndata.org/about/datasets) on 2024-03-22 by following the link under Name. We saved a version of the raw data as a parquet file in a Google Cloud bucket."
   ]
  },
  {
   "cell_type": "code",
   "execution_count": 3,
   "metadata": {},
   "outputs": [],
   "source": [
    "# Load the data\n",
    "source_data_path = f\"{gcp_root}/data/raw/D3R_CatS_GC4_raw.parquet\"\n",
    "data = pd.read_parquet(source_data_path)"
   ]
  },
  {
   "cell_type": "code",
   "execution_count": 4,
   "metadata": {},
   "outputs": [],
   "source": [
    "# Keep only the SMILES, ID and outcome rows\n",
    "columns_to_keep = [\"Cmpd_ID\", \"SMILES\", \"Affinity\"]\n",
    "data = data[columns_to_keep].copy()\n",
    "# Rename all columns to uppercase\n",
    "for col in data.columns:\n",
    "    data.rename(columns={col: col.upper()}, inplace=True)"
   ]
  },
  {
   "cell_type": "code",
   "execution_count": 5,
   "metadata": {},
   "outputs": [
    {
     "data": {
      "text/html": [
       "<div>\n",
       "<style scoped>\n",
       "    .dataframe tbody tr th:only-of-type {\n",
       "        vertical-align: middle;\n",
       "    }\n",
       "\n",
       "    .dataframe tbody tr th {\n",
       "        vertical-align: top;\n",
       "    }\n",
       "\n",
       "    .dataframe thead th {\n",
       "        text-align: right;\n",
       "    }\n",
       "</style>\n",
       "<table border=\"1\" class=\"dataframe\">\n",
       "  <thead>\n",
       "    <tr style=\"text-align: right;\">\n",
       "      <th></th>\n",
       "      <th>CMPD_ID</th>\n",
       "      <th>SMILES</th>\n",
       "      <th>AFFINITY</th>\n",
       "    </tr>\n",
       "  </thead>\n",
       "  <tbody>\n",
       "    <tr>\n",
       "      <th>count</th>\n",
       "      <td>459</td>\n",
       "      <td>459</td>\n",
       "      <td>459.000000</td>\n",
       "    </tr>\n",
       "    <tr>\n",
       "      <th>unique</th>\n",
       "      <td>459</td>\n",
       "      <td>459</td>\n",
       "      <td>NaN</td>\n",
       "    </tr>\n",
       "    <tr>\n",
       "      <th>top</th>\n",
       "      <td>CatS_1</td>\n",
       "      <td>CC(C)N1CCN(CC1)C(=O)CSc2cc(ccc2C(F)(F)F)c3c4c(...</td>\n",
       "      <td>NaN</td>\n",
       "    </tr>\n",
       "    <tr>\n",
       "      <th>freq</th>\n",
       "      <td>1</td>\n",
       "      <td>1</td>\n",
       "      <td>NaN</td>\n",
       "    </tr>\n",
       "    <tr>\n",
       "      <th>mean</th>\n",
       "      <td>NaN</td>\n",
       "      <td>NaN</td>\n",
       "      <td>0.469236</td>\n",
       "    </tr>\n",
       "    <tr>\n",
       "      <th>std</th>\n",
       "      <td>NaN</td>\n",
       "      <td>NaN</td>\n",
       "      <td>0.943299</td>\n",
       "    </tr>\n",
       "    <tr>\n",
       "      <th>min</th>\n",
       "      <td>NaN</td>\n",
       "      <td>NaN</td>\n",
       "      <td>0.006500</td>\n",
       "    </tr>\n",
       "    <tr>\n",
       "      <th>25%</th>\n",
       "      <td>NaN</td>\n",
       "      <td>NaN</td>\n",
       "      <td>0.070000</td>\n",
       "    </tr>\n",
       "    <tr>\n",
       "      <th>50%</th>\n",
       "      <td>NaN</td>\n",
       "      <td>NaN</td>\n",
       "      <td>0.180000</td>\n",
       "    </tr>\n",
       "    <tr>\n",
       "      <th>75%</th>\n",
       "      <td>NaN</td>\n",
       "      <td>NaN</td>\n",
       "      <td>0.480000</td>\n",
       "    </tr>\n",
       "    <tr>\n",
       "      <th>max</th>\n",
       "      <td>NaN</td>\n",
       "      <td>NaN</td>\n",
       "      <td>10.060000</td>\n",
       "    </tr>\n",
       "  </tbody>\n",
       "</table>\n",
       "</div>"
      ],
      "text/plain": [
       "       CMPD_ID                                             SMILES    AFFINITY\n",
       "count      459                                                459  459.000000\n",
       "unique     459                                                459         NaN\n",
       "top     CatS_1  CC(C)N1CCN(CC1)C(=O)CSc2cc(ccc2C(F)(F)F)c3c4c(...         NaN\n",
       "freq         1                                                  1         NaN\n",
       "mean       NaN                                                NaN    0.469236\n",
       "std        NaN                                                NaN    0.943299\n",
       "min        NaN                                                NaN    0.006500\n",
       "25%        NaN                                                NaN    0.070000\n",
       "50%        NaN                                                NaN    0.180000\n",
       "75%        NaN                                                NaN    0.480000\n",
       "max        NaN                                                NaN   10.060000"
      ]
     },
     "execution_count": 5,
     "metadata": {},
     "output_type": "execute_result"
    }
   ],
   "source": [
    "data.describe(include=\"all\")"
   ]
  },
  {
   "cell_type": "markdown",
   "metadata": {},
   "source": [
    "### Perform data curation with `auroris.curation` module\n",
    "The curation process includes:\n",
    "- assign unique identifier to molecules\n",
    "- detect the stereochemistry information of molecules.\n",
    "- inspect the potential outliers of bioactivity values\n",
    "- merge rows of replicated molecules\n",
    "- detect isomers which show the activity shifts\n",
    "\n",
    "Check out the curation module in [Auroris](https://github.com/polaris-hub/auroris). "
   ]
  },
  {
   "cell_type": "code",
   "execution_count": 6,
   "metadata": {},
   "outputs": [],
   "source": [
    "# Define data column names\n",
    "data_cols = [\"AFFINITY\"]\n",
    "mol_col = \"SMILES\""
   ]
  },
  {
   "cell_type": "code",
   "execution_count": 7,
   "metadata": {},
   "outputs": [],
   "source": [
    "# import key curation components from auroris\n",
    "from auroris.curation import Curator\n",
    "from auroris.curation.actions import (\n",
    "    MoleculeCuration,\n",
    "    OutlierDetection,\n",
    "    Deduplication,\n",
    "    StereoIsomerACDetection,\n",
    "    ContinuousDistributionVisualization,\n",
    ")\n",
    "\n",
    "# Define the curation workflow\n",
    "curator = Curator(\n",
    "    data_path=source_data_path,\n",
    "    steps=[\n",
    "        MoleculeCuration(input_column=mol_col, y_cols=data_cols),\n",
    "        ContinuousDistributionVisualization(y_cols=data_cols),\n",
    "        OutlierDetection(\n",
    "            method=\"zscore\", columns=data_cols, threshold=3, use_modified_zscore=True\n",
    "        ),\n",
    "        StereoIsomerACDetection(y_cols=data_cols, threshold=3),\n",
    "    ],\n",
    "    parallelized_kwargs={\"n_jobs\": -1},\n",
    ")\n",
    "\n",
    "curator.to_json(f\"{dirname}/inspection_config.json\")"
   ]
  },
  {
   "cell_type": "code",
   "execution_count": 8,
   "metadata": {},
   "outputs": [
    {
     "name": "stderr",
     "output_type": "stream",
     "text": [
      "\u001b[32m2024-07-10 01:59:32.630\u001b[0m | \u001b[1mINFO    \u001b[0m | \u001b[36mauroris.curation._curator\u001b[0m:\u001b[36mtransform\u001b[0m:\u001b[36m106\u001b[0m - \u001b[1mPerforming step: mol_curation\u001b[0m\n",
      "\u001b[32m2024-07-10 01:59:48.766\u001b[0m | \u001b[1mINFO    \u001b[0m | \u001b[36mauroris.curation._curator\u001b[0m:\u001b[36mtransform\u001b[0m:\u001b[36m106\u001b[0m - \u001b[1mPerforming step: distribution\u001b[0m\n",
      "\u001b[32m2024-07-10 01:59:48.808\u001b[0m | \u001b[1mINFO    \u001b[0m | \u001b[36mauroris.curation._curator\u001b[0m:\u001b[36mtransform\u001b[0m:\u001b[36m106\u001b[0m - \u001b[1mPerforming step: outlier_detection\u001b[0m\n",
      "\u001b[32m2024-07-10 01:59:48.856\u001b[0m | \u001b[1mINFO    \u001b[0m | \u001b[36mauroris.curation._curator\u001b[0m:\u001b[36mtransform\u001b[0m:\u001b[36m106\u001b[0m - \u001b[1mPerforming step: ac_stereoisomer\u001b[0m\n"
     ]
    }
   ],
   "source": [
    "# Run the curation step defined as above\n",
    "data_inspection, report = curator(data)"
   ]
  },
  {
   "cell_type": "code",
   "execution_count": 9,
   "metadata": {},
   "outputs": [
    {
     "name": "stdout",
     "output_type": "stream",
     "text": [
      "\u001b[31;1m===== Curation Report =====\u001b[0m\n",
      "\u001b[38;20mTime: 2024-07-10 01:59:32\u001b[0m\n",
      "\u001b[38;20mVersion: dev\u001b[0m\n",
      "\u001b[34;1m===== mol_curation =====\u001b[0m\n",
      "\u001b[38;20m[LOG]: New column added: MOL_smiles\u001b[0m\n",
      "\u001b[38;20m[LOG]: New column added: MOL_molhash_id\u001b[0m\n",
      "\u001b[38;20m[LOG]: New column added: MOL_molhash_id_no_stereo\u001b[0m\n",
      "\u001b[38;20m[LOG]: New column added: MOL_num_stereoisomers\u001b[0m\n",
      "\u001b[38;20m[LOG]: New column added: MOL_num_undefined_stereoisomers\u001b[0m\n",
      "\u001b[38;20m[LOG]: New column added: MOL_num_defined_stereo_center\u001b[0m\n",
      "\u001b[38;20m[LOG]: New column added: MOL_num_undefined_stereo_center\u001b[0m\n",
      "\u001b[38;20m[LOG]: New column added: MOL_num_stereo_center\u001b[0m\n",
      "\u001b[38;20m[LOG]: New column added: MOL_undefined_E_D\u001b[0m\n",
      "\u001b[38;20m[LOG]: New column added: MOL_undefined_E/Z\u001b[0m\n",
      "\u001b[38;20m[LOG]: Default `ecfp` fingerprint is used to visualize the chemical space.\u001b[0m\n",
      "\u001b[38;20m[LOG]: Molecules with undefined stereocenter detected: 0.\u001b[0m\n",
      "\u001b[38;20m[IMG]: Dimensions 1200 x 600\u001b[0m\n",
      "\u001b[34;1m===== distribution =====\u001b[0m\n",
      "\u001b[38;20m[IMG]: Dimensions 1200 x 600\u001b[0m\n",
      "\u001b[34;1m===== outlier_detection =====\u001b[0m\n",
      "\u001b[38;20m[LOG]: New column added: OUTLIER_AFFINITY\u001b[0m\n",
      "\u001b[38;20m[LOG]: Found 9 potential outliers with respect to the AFFINITY column for review.\u001b[0m\n",
      "\u001b[38;20m[IMG]: Dimensions 1200 x 600\u001b[0m\n",
      "\u001b[34;1m===== ac_stereoisomer =====\u001b[0m\n",
      "\u001b[38;20m[LOG]: New column added: AC_AFFINITY\u001b[0m\n",
      "\u001b[38;20m[LOG]: Found 2 activity cliffs among stereoisomers with respect to the AFFINITY column.\u001b[0m\n",
      "\u001b[38;20m[LOG]: The molecule index are : 384 ,324\u001b[0m\n",
      "\u001b[38;20m[IMG]: Dimensions 600 x 300\u001b[0m\n",
      "\u001b[31;1m===== Curation Report END =====\u001b[0m\n"
     ]
    }
   ],
   "source": [
    "#  get the curation logger\n",
    "from auroris.report.broadcaster import LoggerBroadcaster\n",
    "\n",
    "broadcaster = LoggerBroadcaster(report)\n",
    "broadcaster.broadcast()"
   ]
  },
  {
   "cell_type": "code",
   "execution_count": 10,
   "metadata": {},
   "outputs": [],
   "source": [
    "# Generate an HTML report with embedded visualizations showcasing the data analysis.\n",
    "from utils.auroris_utils import HTMLBroadcaster\n",
    "\n",
    "# export report to local directory\n",
    "broadcaster = HTMLBroadcaster(report, f\"{dirname}/inspection_report\")\n",
    "report_path = broadcaster.broadcast()"
   ]
  },
  {
   "cell_type": "code",
   "execution_count": 11,
   "metadata": {},
   "outputs": [
    {
     "data": {
      "text/html": [
       "<div>\n",
       "<style scoped>\n",
       "    .dataframe tbody tr th:only-of-type {\n",
       "        vertical-align: middle;\n",
       "    }\n",
       "\n",
       "    .dataframe tbody tr th {\n",
       "        vertical-align: top;\n",
       "    }\n",
       "\n",
       "    .dataframe thead th {\n",
       "        text-align: right;\n",
       "    }\n",
       "</style>\n",
       "<table border=\"1\" class=\"dataframe\">\n",
       "  <thead>\n",
       "    <tr style=\"text-align: right;\">\n",
       "      <th></th>\n",
       "      <th>CMPD_ID</th>\n",
       "      <th>SMILES</th>\n",
       "      <th>AFFINITY</th>\n",
       "      <th>MOL_smiles</th>\n",
       "      <th>MOL_molhash_id</th>\n",
       "      <th>MOL_molhash_id_no_stereo</th>\n",
       "      <th>MOL_num_stereoisomers</th>\n",
       "      <th>MOL_num_undefined_stereoisomers</th>\n",
       "      <th>MOL_num_defined_stereo_center</th>\n",
       "      <th>MOL_num_undefined_stereo_center</th>\n",
       "      <th>MOL_num_stereo_center</th>\n",
       "      <th>MOL_undefined_E_D</th>\n",
       "      <th>MOL_undefined_E/Z</th>\n",
       "      <th>OUTLIER_AFFINITY</th>\n",
       "      <th>AC_AFFINITY</th>\n",
       "    </tr>\n",
       "  </thead>\n",
       "  <tbody>\n",
       "    <tr>\n",
       "      <th>count</th>\n",
       "      <td>459</td>\n",
       "      <td>459</td>\n",
       "      <td>459.000000</td>\n",
       "      <td>459</td>\n",
       "      <td>459</td>\n",
       "      <td>459</td>\n",
       "      <td>459.000000</td>\n",
       "      <td>459.0</td>\n",
       "      <td>459.000000</td>\n",
       "      <td>459.0</td>\n",
       "      <td>459.000000</td>\n",
       "      <td>459</td>\n",
       "      <td>459.0</td>\n",
       "      <td>459</td>\n",
       "      <td>459</td>\n",
       "    </tr>\n",
       "    <tr>\n",
       "      <th>unique</th>\n",
       "      <td>459</td>\n",
       "      <td>459</td>\n",
       "      <td>NaN</td>\n",
       "      <td>459</td>\n",
       "      <td>459</td>\n",
       "      <td>449</td>\n",
       "      <td>NaN</td>\n",
       "      <td>NaN</td>\n",
       "      <td>NaN</td>\n",
       "      <td>NaN</td>\n",
       "      <td>NaN</td>\n",
       "      <td>1</td>\n",
       "      <td>1.0</td>\n",
       "      <td>2</td>\n",
       "      <td>2</td>\n",
       "    </tr>\n",
       "    <tr>\n",
       "      <th>top</th>\n",
       "      <td>CatS_1</td>\n",
       "      <td>CC(C)N1CCN(CC1)C(=O)CSc2cc(ccc2C(F)(F)F)c3c4c(...</td>\n",
       "      <td>NaN</td>\n",
       "      <td>CC(C)N1CCN(C(=O)CSc2cc(-c3nn(CCCN4CCC(N5CCCC5=...</td>\n",
       "      <td>381c727a5862b52f7ec5b14963ce711a0123c56c</td>\n",
       "      <td>289b4b0bc45a9fafdc6b082e0cb957c0a0fd249e</td>\n",
       "      <td>NaN</td>\n",
       "      <td>NaN</td>\n",
       "      <td>NaN</td>\n",
       "      <td>NaN</td>\n",
       "      <td>NaN</td>\n",
       "      <td>False</td>\n",
       "      <td>0.0</td>\n",
       "      <td>False</td>\n",
       "      <td>False</td>\n",
       "    </tr>\n",
       "    <tr>\n",
       "      <th>freq</th>\n",
       "      <td>1</td>\n",
       "      <td>1</td>\n",
       "      <td>NaN</td>\n",
       "      <td>1</td>\n",
       "      <td>1</td>\n",
       "      <td>2</td>\n",
       "      <td>NaN</td>\n",
       "      <td>NaN</td>\n",
       "      <td>NaN</td>\n",
       "      <td>NaN</td>\n",
       "      <td>NaN</td>\n",
       "      <td>459</td>\n",
       "      <td>459.0</td>\n",
       "      <td>450</td>\n",
       "      <td>457</td>\n",
       "    </tr>\n",
       "    <tr>\n",
       "      <th>mean</th>\n",
       "      <td>NaN</td>\n",
       "      <td>NaN</td>\n",
       "      <td>0.469236</td>\n",
       "      <td>NaN</td>\n",
       "      <td>NaN</td>\n",
       "      <td>NaN</td>\n",
       "      <td>1.738562</td>\n",
       "      <td>1.0</td>\n",
       "      <td>0.631808</td>\n",
       "      <td>0.0</td>\n",
       "      <td>0.631808</td>\n",
       "      <td>NaN</td>\n",
       "      <td>NaN</td>\n",
       "      <td>NaN</td>\n",
       "      <td>NaN</td>\n",
       "    </tr>\n",
       "    <tr>\n",
       "      <th>std</th>\n",
       "      <td>NaN</td>\n",
       "      <td>NaN</td>\n",
       "      <td>0.943299</td>\n",
       "      <td>NaN</td>\n",
       "      <td>NaN</td>\n",
       "      <td>NaN</td>\n",
       "      <td>0.956051</td>\n",
       "      <td>0.0</td>\n",
       "      <td>0.662099</td>\n",
       "      <td>0.0</td>\n",
       "      <td>0.662099</td>\n",
       "      <td>NaN</td>\n",
       "      <td>NaN</td>\n",
       "      <td>NaN</td>\n",
       "      <td>NaN</td>\n",
       "    </tr>\n",
       "    <tr>\n",
       "      <th>min</th>\n",
       "      <td>NaN</td>\n",
       "      <td>NaN</td>\n",
       "      <td>0.006500</td>\n",
       "      <td>NaN</td>\n",
       "      <td>NaN</td>\n",
       "      <td>NaN</td>\n",
       "      <td>1.000000</td>\n",
       "      <td>1.0</td>\n",
       "      <td>0.000000</td>\n",
       "      <td>0.0</td>\n",
       "      <td>0.000000</td>\n",
       "      <td>NaN</td>\n",
       "      <td>NaN</td>\n",
       "      <td>NaN</td>\n",
       "      <td>NaN</td>\n",
       "    </tr>\n",
       "    <tr>\n",
       "      <th>25%</th>\n",
       "      <td>NaN</td>\n",
       "      <td>NaN</td>\n",
       "      <td>0.070000</td>\n",
       "      <td>NaN</td>\n",
       "      <td>NaN</td>\n",
       "      <td>NaN</td>\n",
       "      <td>1.000000</td>\n",
       "      <td>1.0</td>\n",
       "      <td>0.000000</td>\n",
       "      <td>0.0</td>\n",
       "      <td>0.000000</td>\n",
       "      <td>NaN</td>\n",
       "      <td>NaN</td>\n",
       "      <td>NaN</td>\n",
       "      <td>NaN</td>\n",
       "    </tr>\n",
       "    <tr>\n",
       "      <th>50%</th>\n",
       "      <td>NaN</td>\n",
       "      <td>NaN</td>\n",
       "      <td>0.180000</td>\n",
       "      <td>NaN</td>\n",
       "      <td>NaN</td>\n",
       "      <td>NaN</td>\n",
       "      <td>2.000000</td>\n",
       "      <td>1.0</td>\n",
       "      <td>1.000000</td>\n",
       "      <td>0.0</td>\n",
       "      <td>1.000000</td>\n",
       "      <td>NaN</td>\n",
       "      <td>NaN</td>\n",
       "      <td>NaN</td>\n",
       "      <td>NaN</td>\n",
       "    </tr>\n",
       "    <tr>\n",
       "      <th>75%</th>\n",
       "      <td>NaN</td>\n",
       "      <td>NaN</td>\n",
       "      <td>0.480000</td>\n",
       "      <td>NaN</td>\n",
       "      <td>NaN</td>\n",
       "      <td>NaN</td>\n",
       "      <td>2.000000</td>\n",
       "      <td>1.0</td>\n",
       "      <td>1.000000</td>\n",
       "      <td>0.0</td>\n",
       "      <td>1.000000</td>\n",
       "      <td>NaN</td>\n",
       "      <td>NaN</td>\n",
       "      <td>NaN</td>\n",
       "      <td>NaN</td>\n",
       "    </tr>\n",
       "    <tr>\n",
       "      <th>max</th>\n",
       "      <td>NaN</td>\n",
       "      <td>NaN</td>\n",
       "      <td>10.060000</td>\n",
       "      <td>NaN</td>\n",
       "      <td>NaN</td>\n",
       "      <td>NaN</td>\n",
       "      <td>8.000000</td>\n",
       "      <td>1.0</td>\n",
       "      <td>3.000000</td>\n",
       "      <td>0.0</td>\n",
       "      <td>3.000000</td>\n",
       "      <td>NaN</td>\n",
       "      <td>NaN</td>\n",
       "      <td>NaN</td>\n",
       "      <td>NaN</td>\n",
       "    </tr>\n",
       "  </tbody>\n",
       "</table>\n",
       "</div>"
      ],
      "text/plain": [
       "       CMPD_ID                                             SMILES    AFFINITY  \\\n",
       "count      459                                                459  459.000000   \n",
       "unique     459                                                459         NaN   \n",
       "top     CatS_1  CC(C)N1CCN(CC1)C(=O)CSc2cc(ccc2C(F)(F)F)c3c4c(...         NaN   \n",
       "freq         1                                                  1         NaN   \n",
       "mean       NaN                                                NaN    0.469236   \n",
       "std        NaN                                                NaN    0.943299   \n",
       "min        NaN                                                NaN    0.006500   \n",
       "25%        NaN                                                NaN    0.070000   \n",
       "50%        NaN                                                NaN    0.180000   \n",
       "75%        NaN                                                NaN    0.480000   \n",
       "max        NaN                                                NaN   10.060000   \n",
       "\n",
       "                                               MOL_smiles  \\\n",
       "count                                                 459   \n",
       "unique                                                459   \n",
       "top     CC(C)N1CCN(C(=O)CSc2cc(-c3nn(CCCN4CCC(N5CCCC5=...   \n",
       "freq                                                    1   \n",
       "mean                                                  NaN   \n",
       "std                                                   NaN   \n",
       "min                                                   NaN   \n",
       "25%                                                   NaN   \n",
       "50%                                                   NaN   \n",
       "75%                                                   NaN   \n",
       "max                                                   NaN   \n",
       "\n",
       "                                  MOL_molhash_id  \\\n",
       "count                                        459   \n",
       "unique                                       459   \n",
       "top     381c727a5862b52f7ec5b14963ce711a0123c56c   \n",
       "freq                                           1   \n",
       "mean                                         NaN   \n",
       "std                                          NaN   \n",
       "min                                          NaN   \n",
       "25%                                          NaN   \n",
       "50%                                          NaN   \n",
       "75%                                          NaN   \n",
       "max                                          NaN   \n",
       "\n",
       "                        MOL_molhash_id_no_stereo  MOL_num_stereoisomers  \\\n",
       "count                                        459             459.000000   \n",
       "unique                                       449                    NaN   \n",
       "top     289b4b0bc45a9fafdc6b082e0cb957c0a0fd249e                    NaN   \n",
       "freq                                           2                    NaN   \n",
       "mean                                         NaN               1.738562   \n",
       "std                                          NaN               0.956051   \n",
       "min                                          NaN               1.000000   \n",
       "25%                                          NaN               1.000000   \n",
       "50%                                          NaN               2.000000   \n",
       "75%                                          NaN               2.000000   \n",
       "max                                          NaN               8.000000   \n",
       "\n",
       "        MOL_num_undefined_stereoisomers  MOL_num_defined_stereo_center  \\\n",
       "count                             459.0                     459.000000   \n",
       "unique                              NaN                            NaN   \n",
       "top                                 NaN                            NaN   \n",
       "freq                                NaN                            NaN   \n",
       "mean                                1.0                       0.631808   \n",
       "std                                 0.0                       0.662099   \n",
       "min                                 1.0                       0.000000   \n",
       "25%                                 1.0                       0.000000   \n",
       "50%                                 1.0                       1.000000   \n",
       "75%                                 1.0                       1.000000   \n",
       "max                                 1.0                       3.000000   \n",
       "\n",
       "        MOL_num_undefined_stereo_center  MOL_num_stereo_center  \\\n",
       "count                             459.0             459.000000   \n",
       "unique                              NaN                    NaN   \n",
       "top                                 NaN                    NaN   \n",
       "freq                                NaN                    NaN   \n",
       "mean                                0.0               0.631808   \n",
       "std                                 0.0               0.662099   \n",
       "min                                 0.0               0.000000   \n",
       "25%                                 0.0               0.000000   \n",
       "50%                                 0.0               1.000000   \n",
       "75%                                 0.0               1.000000   \n",
       "max                                 0.0               3.000000   \n",
       "\n",
       "       MOL_undefined_E_D  MOL_undefined_E/Z OUTLIER_AFFINITY AC_AFFINITY  \n",
       "count                459              459.0              459         459  \n",
       "unique                 1                1.0                2           2  \n",
       "top                False                0.0            False       False  \n",
       "freq                 459              459.0              450         457  \n",
       "mean                 NaN                NaN              NaN         NaN  \n",
       "std                  NaN                NaN              NaN         NaN  \n",
       "min                  NaN                NaN              NaN         NaN  \n",
       "25%                  NaN                NaN              NaN         NaN  \n",
       "50%                  NaN                NaN              NaN         NaN  \n",
       "75%                  NaN                NaN              NaN         NaN  \n",
       "max                  NaN                NaN              NaN         NaN  "
      ]
     },
     "execution_count": 11,
     "metadata": {},
     "output_type": "execute_result"
    }
   ],
   "source": [
    "# check the curated data\n",
    "data_inspection.describe(include=\"all\")"
   ]
  },
  {
   "cell_type": "markdown",
   "metadata": {},
   "source": [
    "## Signals or outliers\n",
    "This process utilized `zscore` as the default method, but one can adjust the outlier detection method by defining parameters within the `method`. \\\n",
    "For more information and details on this, please refer to `auroris.curation.actions.OutlierDetection`.\n",
    "\n",
    "During the curation process, several potential outliers were flagged across multiple endpoints. These outliers have been marked and included in the curated output. \n"
   ]
  },
  {
   "cell_type": "markdown",
   "metadata": {},
   "source": [
    "![Affinity](inspection_report/images/2-Outlier_detection_-_AFFINITY.png)"
   ]
  },
  {
   "cell_type": "markdown",
   "metadata": {},
   "source": [
    "It's worth noting that the flagged outliers (highlighted in red), which are located at the extremes of the data distributions, are still in the value range of readout `AFFINITY` measurement and are likely to be false positive outliers. Therefore, they should be examined closely."
   ]
  },
  {
   "cell_type": "markdown",
   "metadata": {},
   "source": [
    "## Chemical space coverage of the dataset"
   ]
  },
  {
   "cell_type": "markdown",
   "metadata": {},
   "source": [
    "![chemical space chem_all](inspection_report/images/0-Distribution_in_Chemical_Space_-_ECFP.png)"
   ]
  },
  {
   "cell_type": "markdown",
   "metadata": {},
   "source": [
    "The above plot shows that the molecules in dataset are distributed in 5 groups in the chemical space."
   ]
  },
  {
   "cell_type": "markdown",
   "metadata": {},
   "source": [
    "### Examples of stereoisomers having activity shift"
   ]
  },
  {
   "cell_type": "markdown",
   "metadata": {},
   "source": [
    "![AC_stereo](inspection_report/images/3-Detection_of_activity_shifts_among_stereoisomers.png)"
   ]
  },
  {
   "cell_type": "markdown",
   "metadata": {},
   "source": [
    "The `AFFINITY` values indicate that the binding affinity of the isomer on the left is much more higher than the isomer on the right. "
   ]
  },
  {
   "cell_type": "markdown",
   "metadata": {},
   "source": [
    "## Rerun data curation and export curated data for downstream tasks"
   ]
  },
  {
   "cell_type": "code",
   "execution_count": 12,
   "metadata": {},
   "outputs": [],
   "source": [
    "# Define the final curation workflow\n",
    "curator = Curator(\n",
    "    source_data=source_data_path,\n",
    "    steps=[\n",
    "        MoleculeCuration(input_column=mol_col, y_cols=data_cols),\n",
    "        ContinuousDistributionVisualization(y_cols=data_cols),\n",
    "        Deduplication(\n",
    "            deduplicate_on=mol_col, y_cols=data_cols\n",
    "        ),  # remove the replicated molecules\n",
    "        OutlierDetection(\n",
    "            method=\"zscore\", columns=data_cols, threshold=3, use_modified_zscore=True\n",
    "        ),\n",
    "        StereoIsomerACDetection(y_cols=data_cols, threshold=3),\n",
    "    ],\n",
    "    parallelized_kwargs={\"n_jobs\": -1},\n",
    ")"
   ]
  },
  {
   "cell_type": "code",
   "execution_count": 13,
   "metadata": {},
   "outputs": [],
   "source": [
    "# The final curation configuration is exported for reproducibility\n",
    "path = f\"{gcp_root}/data/curation/curation_config.json\"\n",
    "curator.to_json(path)"
   ]
  },
  {
   "cell_type": "code",
   "execution_count": 14,
   "metadata": {},
   "outputs": [
    {
     "name": "stderr",
     "output_type": "stream",
     "text": [
      "\u001b[32m2024-07-10 01:59:50.824\u001b[0m | \u001b[1mINFO    \u001b[0m | \u001b[36mauroris.curation._curator\u001b[0m:\u001b[36mtransform\u001b[0m:\u001b[36m106\u001b[0m - \u001b[1mPerforming step: mol_curation\u001b[0m\n",
      "\u001b[32m2024-07-10 01:59:53.013\u001b[0m | \u001b[1mINFO    \u001b[0m | \u001b[36mauroris.curation._curator\u001b[0m:\u001b[36mtransform\u001b[0m:\u001b[36m106\u001b[0m - \u001b[1mPerforming step: distribution\u001b[0m\n",
      "\u001b[32m2024-07-10 01:59:53.057\u001b[0m | \u001b[1mINFO    \u001b[0m | \u001b[36mauroris.curation._curator\u001b[0m:\u001b[36mtransform\u001b[0m:\u001b[36m106\u001b[0m - \u001b[1mPerforming step: deduplicate\u001b[0m\n",
      "\u001b[32m2024-07-10 01:59:53.265\u001b[0m | \u001b[1mINFO    \u001b[0m | \u001b[36mauroris.curation._curator\u001b[0m:\u001b[36mtransform\u001b[0m:\u001b[36m106\u001b[0m - \u001b[1mPerforming step: outlier_detection\u001b[0m\n",
      "\u001b[32m2024-07-10 01:59:53.317\u001b[0m | \u001b[1mINFO    \u001b[0m | \u001b[36mauroris.curation._curator\u001b[0m:\u001b[36mtransform\u001b[0m:\u001b[36m106\u001b[0m - \u001b[1mPerforming step: ac_stereoisomer\u001b[0m\n"
     ]
    }
   ],
   "source": [
    "# Run the curation step defined as above\n",
    "data_curated, report = curator(data)"
   ]
  },
  {
   "cell_type": "code",
   "execution_count": 15,
   "metadata": {},
   "outputs": [
    {
     "name": "stdout",
     "output_type": "stream",
     "text": [
      "\u001b[31;1m===== Curation Report =====\u001b[0m\n",
      "\u001b[38;20mTime: 2024-07-10 01:59:50\u001b[0m\n",
      "\u001b[38;20mVersion: dev\u001b[0m\n",
      "\u001b[34;1m===== mol_curation =====\u001b[0m\n",
      "\u001b[38;20m[LOG]: New column added: MOL_smiles\u001b[0m\n",
      "\u001b[38;20m[LOG]: New column added: MOL_molhash_id\u001b[0m\n",
      "\u001b[38;20m[LOG]: New column added: MOL_molhash_id_no_stereo\u001b[0m\n",
      "\u001b[38;20m[LOG]: New column added: MOL_num_stereoisomers\u001b[0m\n",
      "\u001b[38;20m[LOG]: New column added: MOL_num_undefined_stereoisomers\u001b[0m\n",
      "\u001b[38;20m[LOG]: New column added: MOL_num_defined_stereo_center\u001b[0m\n",
      "\u001b[38;20m[LOG]: New column added: MOL_num_undefined_stereo_center\u001b[0m\n",
      "\u001b[38;20m[LOG]: New column added: MOL_num_stereo_center\u001b[0m\n",
      "\u001b[38;20m[LOG]: New column added: MOL_undefined_E_D\u001b[0m\n",
      "\u001b[38;20m[LOG]: New column added: MOL_undefined_E/Z\u001b[0m\n",
      "\u001b[38;20m[LOG]: Default `ecfp` fingerprint is used to visualize the chemical space.\u001b[0m\n",
      "\u001b[38;20m[LOG]: Molecules with undefined stereocenter detected: 0.\u001b[0m\n",
      "\u001b[38;20m[IMG]: Dimensions 1200 x 600\u001b[0m\n",
      "\u001b[34;1m===== distribution =====\u001b[0m\n",
      "\u001b[38;20m[IMG]: Dimensions 1200 x 600\u001b[0m\n",
      "\u001b[34;1m===== deduplicate =====\u001b[0m\n",
      "\u001b[38;20m[LOG]: Deduplication merged and removed 0 duplicated molecules from dataset\u001b[0m\n",
      "\u001b[34;1m===== outlier_detection =====\u001b[0m\n",
      "\u001b[38;20m[LOG]: New column added: OUTLIER_AFFINITY\u001b[0m\n",
      "\u001b[38;20m[LOG]: Found 9 potential outliers with respect to the AFFINITY column for review.\u001b[0m\n",
      "\u001b[38;20m[IMG]: Dimensions 1200 x 600\u001b[0m\n",
      "\u001b[34;1m===== ac_stereoisomer =====\u001b[0m\n",
      "\u001b[38;20m[LOG]: New column added: AC_AFFINITY\u001b[0m\n",
      "\u001b[38;20m[LOG]: Found 2 activity cliffs among stereoisomers with respect to the AFFINITY column.\u001b[0m\n",
      "\u001b[38;20m[LOG]: The molecule index are : 230 ,233\u001b[0m\n",
      "\u001b[38;20m[IMG]: Dimensions 600 x 300\u001b[0m\n",
      "\u001b[31;1m===== Curation Report END =====\u001b[0m\n"
     ]
    }
   ],
   "source": [
    "broadcaster = LoggerBroadcaster(report)\n",
    "broadcaster.broadcast()"
   ]
  },
  {
   "cell_type": "code",
   "execution_count": 16,
   "metadata": {},
   "outputs": [
    {
     "data": {
      "text/plain": [
       "'gs://polaris-public/polaris-recipes/org-polaris/d3r_cathepsin_c25s/data/curation/report/index.html'"
      ]
     },
     "execution_count": 16,
     "metadata": {},
     "output_type": "execute_result"
    }
   ],
   "source": [
    "# Export report to polaris public directory on GCP\n",
    "# The report is ready to reviewed in the HTML file.\n",
    "broadcaster = HTMLBroadcaster(\n",
    "    report, f\"{gcp_root}/data/curation/report\", embed_images=True\n",
    ")\n",
    "broadcaster.broadcast()"
   ]
  },
  {
   "cell_type": "markdown",
   "metadata": {},
   "source": [
    "## Export the final curated data"
   ]
  },
  {
   "cell_type": "code",
   "execution_count": 17,
   "metadata": {},
   "outputs": [],
   "source": [
    "fout = f\"{gcp_root}/data/curation/{data_name}_curated.csv\"\n",
    "data_curated.reset_index(drop=True).to_csv(fout, index=False)"
   ]
  },
  {
   "cell_type": "code",
   "execution_count": null,
   "metadata": {},
   "outputs": [],
   "source": []
  }
 ],
 "metadata": {
  "kernelspec": {
   "display_name": "Python 3 (ipykernel)",
   "language": "python",
   "name": "python3"
  },
  "language_info": {
   "codemirror_mode": {
    "name": "ipython",
    "version": 3
   },
   "file_extension": ".py",
   "mimetype": "text/x-python",
   "name": "python",
   "nbconvert_exporter": "python",
   "pygments_lexer": "ipython3",
   "version": "3.12.4"
  }
 },
 "nbformat": 4,
 "nbformat_minor": 4
}
