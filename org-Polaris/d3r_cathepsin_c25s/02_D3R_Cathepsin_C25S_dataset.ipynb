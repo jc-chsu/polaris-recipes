{
 "cells": [
  {
   "cell_type": "markdown",
   "metadata": {},
   "source": [
    "Note: this notebook is set up to run with the env.yml containing the name 'polaris_datasets'"
   ]
  },
  {
   "cell_type": "markdown",
   "metadata": {},
   "source": [
    "# Dataset creation with [Polaris](https://github.com/polaris-hub/polaris)\n",
    "The first step of creating a benchmark is to set up a standard dataset which allows accessing the curated dataset (which has been demonstrated in <01_D3R_Cathepsin_C25S_data_curation.ipynb>), and all necessary information about the dataset such as data source, description of endpoints, units etc. "
   ]
  },
  {
   "cell_type": "code",
   "execution_count": 1,
   "metadata": {},
   "outputs": [
    {
     "name": "stderr",
     "output_type": "stream",
     "text": [
      "/Users/lu.zhu/miniconda3/envs/po_dataset/lib/python3.12/site-packages/tqdm/auto.py:21: TqdmWarning: IProgress not found. Please update jupyter and ipywidgets. See https://ipywidgets.readthedocs.io/en/stable/user_install.html\n",
      "  from .autonotebook import tqdm as notebook_tqdm\n"
     ]
    }
   ],
   "source": [
    "%load_ext autoreload\n",
    "%autoreload 2\n",
    "\n",
    "import os\n",
    "import sys\n",
    "import pathlib\n",
    "\n",
    "import pandas as pd\n",
    "import datamol as dm\n",
    "import numpy as np\n",
    "\n",
    "# polaris dataset\n",
    "from polaris.dataset import Dataset, ColumnAnnotation\n",
    "\n",
    "from polaris.utils.types import HubOwner\n",
    "\n",
    "\n",
    "root = pathlib.Path(\"__file__\").absolute().parents[2]\n",
    "os.chdir(root)\n",
    "sys.path.insert(0, str(root))\n",
    "from utils.docs_utils import load_readme"
   ]
  },
  {
   "cell_type": "code",
   "execution_count": 2,
   "metadata": {},
   "outputs": [
    {
     "data": {
      "text/plain": [
       "HubOwner(slug='polaris', external_id=None, type='organization')"
      ]
     },
     "execution_count": 2,
     "metadata": {},
     "output_type": "execute_result"
    }
   ],
   "source": [
    "# Get the owner and organization\n",
    "org = \"polaris\"\n",
    "data_name = \"d3r_cathepsin_c25s\"\n",
    "dirname = dm.fs.join(root, f\"org-{org}\", data_name)\n",
    "gcp_root = f\"gs://polaris-public/polaris-recipes/org-{org}/{data_name}\"\n",
    "\n",
    "owner = HubOwner(slug=org, type=\"organization\")\n",
    "owner"
   ]
  },
  {
   "cell_type": "code",
   "execution_count": 3,
   "metadata": {},
   "outputs": [],
   "source": [
    "BENCHMARK_DIR = f\"{gcp_root}/benchmarks\"\n",
    "DATASET_DIR = f\"{gcp_root}/datasets\"\n",
    "FIGURE_DIR = f\"{gcp_root}/figures\""
   ]
  },
  {
   "cell_type": "markdown",
   "metadata": {},
   "source": [
    "## Load existing data"
   ]
  },
  {
   "cell_type": "code",
   "execution_count": 4,
   "metadata": {},
   "outputs": [
    {
     "data": {
      "text/plain": [
       "Index(['CMPD_ID', 'SMILES', 'AFFINITY', 'MOL_smiles', 'MOL_molhash_id',\n",
       "       'MOL_molhash_id_no_stereo', 'MOL_num_stereoisomers',\n",
       "       'MOL_num_undefined_stereoisomers', 'MOL_num_defined_stereo_center',\n",
       "       'MOL_num_undefined_stereo_center', 'MOL_num_stereo_center',\n",
       "       'MOL_undefined_E_D', 'MOL_undefined_E/Z', 'OUTLIER_AFFINITY',\n",
       "       'AC_AFFINITY'],\n",
       "      dtype='object')"
      ]
     },
     "execution_count": 4,
     "metadata": {},
     "output_type": "execute_result"
    }
   ],
   "source": [
    "PATH = f\"{gcp_root}/data/curation/{data_name}_curated.csv\"\n",
    "table = pd.read_csv(PATH)\n",
    "table.columns"
   ]
  },
  {
   "cell_type": "markdown",
   "metadata": {},
   "source": [
    "### Below we specify the meta information of data columns"
   ]
  },
  {
   "cell_type": "code",
   "execution_count": 5,
   "metadata": {},
   "outputs": [],
   "source": [
    "# Additional meta-data on the column level\n",
    "annotations = {\n",
    "    \"MOL_smiles\": ColumnAnnotation(\n",
    "        description=\"Molecule SMILES string\", modality=\"molecule\"\n",
    "    ),\n",
    "    \"AFFINITY\": ColumnAnnotation(\n",
    "        description=\"Affinity against a C25S Cathepsin S mutant.\"\n",
    "    ),\n",
    "}"
   ]
  },
  {
   "cell_type": "markdown",
   "metadata": {},
   "source": [
    "### Define `Dataset` object"
   ]
  },
  {
   "cell_type": "code",
   "execution_count": 6,
   "metadata": {},
   "outputs": [],
   "source": [
    "version = \"v1\"\n",
    "dataset_name = f\"{data_name}-{version}\""
   ]
  },
  {
   "cell_type": "code",
   "execution_count": 7,
   "metadata": {},
   "outputs": [],
   "source": [
    "dataset = Dataset(\n",
    "    # The table is the core data-structure required to construct a dataset\n",
    "    table=table[annotations.keys()],\n",
    "    # Additional meta-data on the dataset level.\n",
    "    name=dataset_name,\n",
    "    description=\"Drug Design Data Resource Grand Challenge 4 Dataset: CathepsinS\",\n",
    "    source=\"https://drugdesigndata.org/about/datasets/2028\",\n",
    "    annotations=annotations,\n",
    "    tags=[\"Affinity\"],\n",
    "    owner=owner,\n",
    "    license=\"CC-BY-SA-4.0\",\n",
    "    user_attributes={\"year\": \"2020\"},\n",
    "    readme=load_readme(\"org-Polaris/d3r_cathepsin_c25s/D3R_Cathepsin_C25S_readme.md\"),\n",
    "    curation_reference=\"https://github.com/polaris-hub/polaris-recipes/org-Polaris/d3r_cathepsin_c25s/01_D3R_Cathepsin_C25S_data_curation.ipynb\",\n",
    ")"
   ]
  },
  {
   "cell_type": "code",
   "execution_count": 8,
   "metadata": {},
   "outputs": [
    {
     "data": {
      "text/plain": [
       "'gs://polaris-public/polaris-recipes/org-polaris/d3r_cathepsin_c25s/datasets/d3r_cathepsin_c25s-v1/dataset.json'"
      ]
     },
     "execution_count": 8,
     "metadata": {},
     "output_type": "execute_result"
    }
   ],
   "source": [
    "# save the dataset to GCP\n",
    "SAVE_DIR = f\"{DATASET_DIR}/{dataset_name}\"\n",
    "dataset_path = dataset.to_json(SAVE_DIR)\n",
    "dataset_path"
   ]
  },
  {
   "cell_type": "code",
   "execution_count": 9,
   "metadata": {},
   "outputs": [
    {
     "name": "stderr",
     "output_type": "stream",
     "text": [
      "\u001b[32m2024-07-10 02:00:36.027\u001b[0m | \u001b[1mINFO    \u001b[0m | \u001b[36mpolaris.hub.client\u001b[0m:\u001b[36mlogin\u001b[0m:\u001b[36m285\u001b[0m - \u001b[1mYou are already logged in to the Polaris Hub as  (lu@valencediscovery.com). Set `overwrite=True` to force re-authentication.\u001b[0m\n"
     ]
    },
    {
     "ename": "PolarisHubError",
     "evalue": "The request to the Polaris Hub failed. See the error message below for more details:\n{\n  \"message\": \"Dataset 'd3r-cathepsin-c25s-v1', with slug 'd3r-cathepsin-c25s-v1', already exists\"\n}",
     "output_type": "error",
     "traceback": [
      "\u001b[0;31m---------------------------------------------------------------------------\u001b[0m",
      "\u001b[0;31mHTTPStatusError\u001b[0m                           Traceback (most recent call last)",
      "File \u001b[0;32m~/Documents/Codebase/ValenceLab/polaris/polaris/hub/client.py:136\u001b[0m, in \u001b[0;36mPolarisHubClient._base_request_to_hub\u001b[0;34m(self, url, method, **kwargs)\u001b[0m\n\u001b[1;32m    135\u001b[0m \u001b[38;5;28;01mtry\u001b[39;00m:\n\u001b[0;32m--> 136\u001b[0m     \u001b[43mresponse\u001b[49m\u001b[38;5;241;43m.\u001b[39;49m\u001b[43mraise_for_status\u001b[49m\u001b[43m(\u001b[49m\u001b[43m)\u001b[49m\n\u001b[1;32m    138\u001b[0m \u001b[38;5;28;01mexcept\u001b[39;00m HTTPStatusError \u001b[38;5;28;01mas\u001b[39;00m error:\n\u001b[1;32m    139\u001b[0m     \u001b[38;5;66;03m# With an internal server error, we are not sure the custom error-handling code on the hub is reached.\u001b[39;00m\n",
      "File \u001b[0;32m~/miniconda3/envs/po_dataset/lib/python3.12/site-packages/httpx/_models.py:761\u001b[0m, in \u001b[0;36mResponse.raise_for_status\u001b[0;34m(self)\u001b[0m\n\u001b[1;32m    760\u001b[0m message \u001b[38;5;241m=\u001b[39m message\u001b[38;5;241m.\u001b[39mformat(\u001b[38;5;28mself\u001b[39m, error_type\u001b[38;5;241m=\u001b[39merror_type)\n\u001b[0;32m--> 761\u001b[0m \u001b[38;5;28;01mraise\u001b[39;00m HTTPStatusError(message, request\u001b[38;5;241m=\u001b[39mrequest, response\u001b[38;5;241m=\u001b[39m\u001b[38;5;28mself\u001b[39m)\n",
      "\u001b[0;31mHTTPStatusError\u001b[0m: Client error '409 Conflict' for url 'https://polarishub.io/api/v1/dataset/polaris/d3r-cathepsin-c25s-v1'\nFor more information check: https://developer.mozilla.org/en-US/docs/Web/HTTP/Status/409",
      "\nThe above exception was the direct cause of the following exception:\n",
      "\u001b[0;31mPolarisHubError\u001b[0m                           Traceback (most recent call last)",
      "Cell \u001b[0;32mIn[9], line 5\u001b[0m\n\u001b[1;32m      2\u001b[0m client \u001b[38;5;241m=\u001b[39m PolarisHubClient()\n\u001b[1;32m      3\u001b[0m client\u001b[38;5;241m.\u001b[39mlogin()\n\u001b[0;32m----> 5\u001b[0m \u001b[43mclient\u001b[49m\u001b[38;5;241;43m.\u001b[39;49m\u001b[43mupload_dataset\u001b[49m\u001b[43m(\u001b[49m\u001b[43mdataset\u001b[49m\u001b[38;5;241;43m=\u001b[39;49m\u001b[43mdataset\u001b[49m\u001b[43m,\u001b[49m\u001b[43m \u001b[49m\u001b[43maccess\u001b[49m\u001b[38;5;241;43m=\u001b[39;49m\u001b[38;5;124;43m\"\u001b[39;49m\u001b[38;5;124;43mprivate\u001b[39;49m\u001b[38;5;124;43m\"\u001b[39;49m\u001b[43m,\u001b[49m\u001b[43m \u001b[49m\u001b[43mowner\u001b[49m\u001b[38;5;241;43m=\u001b[39;49m\u001b[43mowner\u001b[49m\u001b[43m)\u001b[49m\n",
      "File \u001b[0;32m~/Documents/Codebase/ValenceLab/polaris/polaris/hub/client.py:561\u001b[0m, in \u001b[0;36mPolarisHubClient.upload_dataset\u001b[0;34m(self, dataset, access, timeout, owner, if_exists)\u001b[0m\n\u001b[1;32m    558\u001b[0m \u001b[38;5;66;03m# Step 1: Upload meta-data\u001b[39;00m\n\u001b[1;32m    559\u001b[0m \u001b[38;5;66;03m# Instead of directly uploading the table, we announce to the hub that we intend to upload one.\u001b[39;00m\n\u001b[1;32m    560\u001b[0m url \u001b[38;5;241m=\u001b[39m \u001b[38;5;124mf\u001b[39m\u001b[38;5;124m\"\u001b[39m\u001b[38;5;124m/dataset/\u001b[39m\u001b[38;5;132;01m{\u001b[39;00mdataset\u001b[38;5;241m.\u001b[39martifact_id\u001b[38;5;132;01m}\u001b[39;00m\u001b[38;5;124m\"\u001b[39m\n\u001b[0;32m--> 561\u001b[0m response \u001b[38;5;241m=\u001b[39m \u001b[38;5;28;43mself\u001b[39;49m\u001b[38;5;241;43m.\u001b[39;49m\u001b[43m_base_request_to_hub\u001b[49m\u001b[43m(\u001b[49m\n\u001b[1;32m    562\u001b[0m \u001b[43m    \u001b[49m\u001b[43murl\u001b[49m\u001b[38;5;241;43m=\u001b[39;49m\u001b[43murl\u001b[49m\u001b[43m,\u001b[49m\n\u001b[1;32m    563\u001b[0m \u001b[43m    \u001b[49m\u001b[43mmethod\u001b[49m\u001b[38;5;241;43m=\u001b[39;49m\u001b[38;5;124;43m\"\u001b[39;49m\u001b[38;5;124;43mPUT\u001b[39;49m\u001b[38;5;124;43m\"\u001b[39;49m\u001b[43m,\u001b[49m\n\u001b[1;32m    564\u001b[0m \u001b[43m    \u001b[49m\u001b[43mjson\u001b[49m\u001b[38;5;241;43m=\u001b[39;49m\u001b[43m{\u001b[49m\n\u001b[1;32m    565\u001b[0m \u001b[43m        \u001b[49m\u001b[38;5;124;43m\"\u001b[39;49m\u001b[38;5;124;43mtableContent\u001b[39;49m\u001b[38;5;124;43m\"\u001b[39;49m\u001b[43m:\u001b[49m\u001b[43m \u001b[49m\u001b[43m{\u001b[49m\n\u001b[1;32m    566\u001b[0m \u001b[43m            \u001b[49m\u001b[38;5;124;43m\"\u001b[39;49m\u001b[38;5;124;43msize\u001b[39;49m\u001b[38;5;124;43m\"\u001b[39;49m\u001b[43m:\u001b[49m\u001b[43m \u001b[49m\u001b[43mparquet_size\u001b[49m\u001b[43m,\u001b[49m\n\u001b[1;32m    567\u001b[0m \u001b[43m            \u001b[49m\u001b[38;5;124;43m\"\u001b[39;49m\u001b[38;5;124;43mfileType\u001b[39;49m\u001b[38;5;124;43m\"\u001b[39;49m\u001b[43m:\u001b[49m\u001b[43m \u001b[49m\u001b[38;5;124;43m\"\u001b[39;49m\u001b[38;5;124;43mparquet\u001b[39;49m\u001b[38;5;124;43m\"\u001b[39;49m\u001b[43m,\u001b[49m\n\u001b[1;32m    568\u001b[0m \u001b[43m            \u001b[49m\u001b[38;5;124;43m\"\u001b[39;49m\u001b[38;5;124;43mmd5sum\u001b[39;49m\u001b[38;5;124;43m\"\u001b[39;49m\u001b[43m:\u001b[49m\u001b[43m \u001b[49m\u001b[43mparquet_md5\u001b[49m\u001b[43m,\u001b[49m\n\u001b[1;32m    569\u001b[0m \u001b[43m        \u001b[49m\u001b[43m}\u001b[49m\u001b[43m,\u001b[49m\n\u001b[1;32m    570\u001b[0m \u001b[43m        \u001b[49m\u001b[38;5;124;43m\"\u001b[39;49m\u001b[38;5;124;43maccess\u001b[39;49m\u001b[38;5;124;43m\"\u001b[39;49m\u001b[43m:\u001b[49m\u001b[43m \u001b[49m\u001b[43maccess\u001b[49m\u001b[43m,\u001b[49m\n\u001b[1;32m    571\u001b[0m \u001b[43m        \u001b[49m\u001b[38;5;241;43m*\u001b[39;49m\u001b[38;5;241;43m*\u001b[39;49m\u001b[43mdataset_json\u001b[49m\u001b[43m,\u001b[49m\n\u001b[1;32m    572\u001b[0m \u001b[43m    \u001b[49m\u001b[43m}\u001b[49m\u001b[43m,\u001b[49m\n\u001b[1;32m    573\u001b[0m \u001b[43m    \u001b[49m\u001b[43mtimeout\u001b[49m\u001b[38;5;241;43m=\u001b[39;49m\u001b[43mtimeout\u001b[49m\u001b[43m,\u001b[49m\n\u001b[1;32m    574\u001b[0m \u001b[43m\u001b[49m\u001b[43m)\u001b[49m\n\u001b[1;32m    576\u001b[0m \u001b[38;5;66;03m# Step 2: Upload the parquet file\u001b[39;00m\n\u001b[1;32m    577\u001b[0m \u001b[38;5;66;03m# create an empty PUT request to get the table content URL from cloudflare\u001b[39;00m\n\u001b[1;32m    578\u001b[0m hub_response \u001b[38;5;241m=\u001b[39m \u001b[38;5;28mself\u001b[39m\u001b[38;5;241m.\u001b[39mrequest(\n\u001b[1;32m    579\u001b[0m     url\u001b[38;5;241m=\u001b[39mresponse[\u001b[38;5;124m\"\u001b[39m\u001b[38;5;124mtableContent\u001b[39m\u001b[38;5;124m\"\u001b[39m][\u001b[38;5;124m\"\u001b[39m\u001b[38;5;124murl\u001b[39m\u001b[38;5;124m\"\u001b[39m],\n\u001b[1;32m    580\u001b[0m     method\u001b[38;5;241m=\u001b[39m\u001b[38;5;124m\"\u001b[39m\u001b[38;5;124mPUT\u001b[39m\u001b[38;5;124m\"\u001b[39m,\n\u001b[0;32m   (...)\u001b[0m\n\u001b[1;32m    584\u001b[0m     timeout\u001b[38;5;241m=\u001b[39mtimeout,\n\u001b[1;32m    585\u001b[0m )\n",
      "File \u001b[0;32m~/Documents/Codebase/ValenceLab/polaris/polaris/hub/client.py:147\u001b[0m, in \u001b[0;36mPolarisHubClient._base_request_to_hub\u001b[0;34m(self, url, method, **kwargs)\u001b[0m\n\u001b[1;32m    145\u001b[0m     response \u001b[38;5;241m=\u001b[39m response\u001b[38;5;241m.\u001b[39mjson()\n\u001b[1;32m    146\u001b[0m     response \u001b[38;5;241m=\u001b[39m json\u001b[38;5;241m.\u001b[39mdumps(response, indent\u001b[38;5;241m=\u001b[39m\u001b[38;5;241m2\u001b[39m, sort_keys\u001b[38;5;241m=\u001b[39m\u001b[38;5;28;01mTrue\u001b[39;00m)\n\u001b[0;32m--> 147\u001b[0m     \u001b[38;5;28;01mraise\u001b[39;00m PolarisHubError(\n\u001b[1;32m    148\u001b[0m         \u001b[38;5;124mf\u001b[39m\u001b[38;5;124m\"\u001b[39m\u001b[38;5;124mThe request to the Polaris Hub failed. See the error message below for more details:\u001b[39m\u001b[38;5;130;01m\\n\u001b[39;00m\u001b[38;5;132;01m{\u001b[39;00mresponse\u001b[38;5;132;01m}\u001b[39;00m\u001b[38;5;124m\"\u001b[39m\n\u001b[1;32m    149\u001b[0m     ) \u001b[38;5;28;01mfrom\u001b[39;00m \u001b[38;5;21;01merror\u001b[39;00m\n\u001b[1;32m    150\u001b[0m \u001b[38;5;66;03m# Convert the response to json format if the response contains a 'text' body\u001b[39;00m\n\u001b[1;32m    151\u001b[0m \u001b[38;5;28;01mtry\u001b[39;00m:\n",
      "\u001b[0;31mPolarisHubError\u001b[0m: The request to the Polaris Hub failed. See the error message below for more details:\n{\n  \"message\": \"Dataset 'd3r-cathepsin-c25s-v1', with slug 'd3r-cathepsin-c25s-v1', already exists\"\n}"
     ]
    }
   ],
   "source": [
    "# from polaris.hub.client import PolarisHubClient\n",
    "# client = PolarisHubClient()\n",
    "# client.login()\n",
    "\n",
    "# client.upload_dataset(dataset=dataset, access=\"private\", owner=owner)"
   ]
  },
  {
   "cell_type": "code",
   "execution_count": null,
   "metadata": {},
   "outputs": [],
   "source": []
  }
 ],
 "metadata": {
  "kernelspec": {
   "display_name": "Python 3 (ipykernel)",
   "language": "python",
   "name": "python3"
  },
  "language_info": {
   "codemirror_mode": {
    "name": "ipython",
    "version": 3
   },
   "file_extension": ".py",
   "mimetype": "text/x-python",
   "name": "python",
   "nbconvert_exporter": "python",
   "pygments_lexer": "ipython3",
   "version": "3.12.4"
  }
 },
 "nbformat": 4,
 "nbformat_minor": 4
}
