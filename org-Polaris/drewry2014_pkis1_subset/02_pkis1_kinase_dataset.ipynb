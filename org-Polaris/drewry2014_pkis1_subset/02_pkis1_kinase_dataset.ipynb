{
 "cells": [
  {
   "cell_type": "markdown",
   "id": "2b798393-db49-47fe-ab32-b2bdbc4fccda",
   "metadata": {},
   "source": [
    "# PKIS 1 Dataset creation"
   ]
  },
  {
   "cell_type": "code",
   "execution_count": 1,
   "id": "bdfe05d8-7f95-4d14-87c8-c1963683a0e3",
   "metadata": {},
   "outputs": [
    {
     "name": "stderr",
     "output_type": "stream",
     "text": [
      "/Users/lu.zhu/miniconda3/envs/po_dataset/lib/python3.12/site-packages/tqdm/auto.py:21: TqdmWarning: IProgress not found. Please update jupyter and ipywidgets. See https://ipywidgets.readthedocs.io/en/stable/user_install.html\n",
      "  from .autonotebook import tqdm as notebook_tqdm\n"
     ]
    }
   ],
   "source": [
    "%load_ext autoreload\n",
    "%autoreload 2\n",
    "\n",
    "import os\n",
    "import sys\n",
    "import pathlib\n",
    "\n",
    "import pandas as pd\n",
    "import datamol as dm\n",
    "\n",
    "# polaris dataset\n",
    "from polaris.dataset import Dataset, ColumnAnnotation\n",
    "\n",
    "from polaris.utils.types import HubOwner\n",
    "\n",
    "\n",
    "root = pathlib.Path(\"__file__\").absolute().parents[2]\n",
    "os.chdir(root)\n",
    "sys.path.insert(0, str(root))\n",
    "from utils.docs_utils import load_readme"
   ]
  },
  {
   "cell_type": "code",
   "execution_count": 2,
   "id": "a9ca76d9-9b4b-49a0-951e-2e31e43a8222",
   "metadata": {},
   "outputs": [
    {
     "data": {
      "text/plain": [
       "HubOwner(slug='polaris', external_id=None, type='organization')"
      ]
     },
     "execution_count": 2,
     "metadata": {},
     "output_type": "execute_result"
    }
   ],
   "source": [
    "# Get the owner and organization\n",
    "org = \"polaris\"\n",
    "data_name = \"drewry2014_pkis1_subset\"\n",
    "dirname = dm.fs.join(root, f\"org-{org}\", data_name)\n",
    "gcp_root = f\"gs://polaris-public/polaris-recipes/org-{org}/{data_name}\"\n",
    "\n",
    "owner = HubOwner(slug=org, type=\"organization\")\n",
    "owner"
   ]
  },
  {
   "cell_type": "code",
   "execution_count": 3,
   "id": "7b1d421d",
   "metadata": {},
   "outputs": [],
   "source": [
    "BENCHMARK_DIR = f\"{gcp_root}/benchmarks\"\n",
    "DATASET_DIR = f\"{gcp_root}/datasets\"\n",
    "FIGURE_DIR = f\"{gcp_root}/figures\""
   ]
  },
  {
   "cell_type": "markdown",
   "id": "8c33b981",
   "metadata": {},
   "source": [
    "## Load existing data"
   ]
  },
  {
   "cell_type": "code",
   "execution_count": 4,
   "id": "3d0ffec3",
   "metadata": {},
   "outputs": [
    {
     "data": {
      "text/plain": [
       "Index(['Smiles', 'EGFR_L858R', 'EGFR', 'KIT_T6701', 'KIT_V560G', 'KIT',\n",
       "       'RET_V804L', 'RET_Y791F', 'RET', 'MOL_smiles', 'MOL_molhash_id',\n",
       "       'MOL_molhash_id_no_stereo', 'MOL_num_stereoisomers',\n",
       "       'MOL_num_undefined_stereoisomers', 'MOL_num_defined_stereo_center',\n",
       "       'MOL_num_undefined_stereo_center', 'MOL_num_stereo_center',\n",
       "       'MOL_undefined_E_D', 'MOL_undefined_E/Z', 'CLS_EGFR', 'CLS_EGFR_L858R',\n",
       "       'CLS_KIT', 'CLS_KIT_T6701', 'CLS_KIT_V560G', 'CLS_RET', 'CLS_RET_V804L',\n",
       "       'CLS_RET_Y791F', 'OUTLIER_EGFR_L858R', 'OUTLIER_EGFR',\n",
       "       'OUTLIER_KIT_T6701', 'OUTLIER_KIT_V560G', 'OUTLIER_KIT',\n",
       "       'OUTLIER_RET_V804L', 'OUTLIER_RET_Y791F', 'OUTLIER_RET',\n",
       "       'AC_CLS_EGFR_L858R', 'AC_CLS_EGFR', 'AC_CLS_KIT_T6701',\n",
       "       'AC_CLS_KIT_V560G', 'AC_CLS_KIT', 'AC_CLS_RET_V804L',\n",
       "       'AC_CLS_RET_Y791F', 'AC_CLS_RET'],\n",
       "      dtype='object')"
      ]
     },
     "execution_count": 4,
     "metadata": {},
     "output_type": "execute_result"
    }
   ],
   "source": [
    "PATH = f\"{gcp_root}/data/curation/{data_name}_curated.csv\"\n",
    "table = pd.read_csv(PATH)\n",
    "table.columns"
   ]
  },
  {
   "cell_type": "markdown",
   "id": "cb3c1424-8fc9-4908-ac7d-fd93d663f525",
   "metadata": {},
   "source": [
    "## Below we specify the meta information of data columns"
   ]
  },
  {
   "cell_type": "markdown",
   "id": "8d41a8e8-e7ad-4678-9444-231823462fbe",
   "metadata": {},
   "source": [
    "### Create Dataset"
   ]
  },
  {
   "cell_type": "code",
   "execution_count": 5,
   "id": "e59cb5c5-0a52-47ed-8afb-812bb786157b",
   "metadata": {},
   "outputs": [],
   "source": [
    "data_cols = [\n",
    "    \"EGFR_L858R\",\n",
    "    \"EGFR\",\n",
    "    \"KIT_T6701\",\n",
    "    \"KIT_V560G\",\n",
    "    \"KIT\",\n",
    "    \"RET_V804L\",\n",
    "    \"RET_Y791F\",\n",
    "    \"RET\",\n",
    "]\n",
    "\n",
    "threshold_dict = {\n",
    "    \"EGFR_L858R\": 75,\n",
    "    \"EGFR\": 75,\n",
    "    \"KIT_T6701\": 75,\n",
    "    \"KIT_V560G\": 75,\n",
    "    \"KIT\": 75,\n",
    "    \"RET_V804L\": 70,\n",
    "    \"RET_Y791F\": 70,\n",
    "    \"RET\": 70,\n",
    "}"
   ]
  },
  {
   "cell_type": "markdown",
   "id": "90a1b79b-8378-49e5-ada3-ec53e026c8cc",
   "metadata": {},
   "source": [
    "#### Create annotations for data columns"
   ]
  },
  {
   "cell_type": "code",
   "execution_count": 6,
   "id": "f92c0ab5-dd41-44a9-a1b9-912da38133ff",
   "metadata": {},
   "outputs": [],
   "source": [
    "import re\n",
    "\n",
    "mutant_anno = {}\n",
    "mutant_cls_anno = {}\n",
    "\n",
    "for col in data_cols:\n",
    "    tar = col.split(\"_\")[0]\n",
    "    mut_var = re.findall(r\"_\\((\\S+)\\)\", col)\n",
    "    mut_var = \"NaN\" if len(mut_var) == 0 else mut_var[0]\n",
    "    if mut_var is None:\n",
    "        anno = ColumnAnnotation(\n",
    "            description=f\"Percentage of inhibition on {tar} wide type\",\n",
    "            user_attributes={\n",
    "                \"unit\": \"%\",\n",
    "                \"concentration\": \"1uM\",\n",
    "                \"organism\": \"Human\",\n",
    "                \"objective\": \"Higher value\",\n",
    "                \"source\": \"PKIS1\",\n",
    "                \"mutation\": \"NaN\",\n",
    "                \"target\": tar,\n",
    "            },\n",
    "        )\n",
    "        cls_anno = ColumnAnnotation(\n",
    "            protocol=f\"Binarized label based on the percentage of inhibition on {tar} wide type\",\n",
    "            user_attributes={\n",
    "                \"thresholds\": f\"Greather than {threshold_dict[col]}\",\n",
    "                \"label_order\": \"ascending\",\n",
    "                \"ref_col\": col,\n",
    "            },\n",
    "        )\n",
    "    else:\n",
    "        anno = ColumnAnnotation(\n",
    "            description=f\"Percentage of inhibition on {tar} with mutation {mut_var}\",\n",
    "            user_attributes={\n",
    "                \"unit\": \"%\",\n",
    "                \"concentration\": \"1uM\",\n",
    "                \"organism\": \"Human\",\n",
    "                \"objective\": \"Higher value\",\n",
    "                \"source\": \"PKIS1\",\n",
    "                \"mutation\": mut_var,\n",
    "                \"target\": tar,\n",
    "            },\n",
    "        )\n",
    "\n",
    "        cls_anno = ColumnAnnotation(\n",
    "            description=f\"Binarized label based on the percentage of inhibition on {tar} {mut_var}\",\n",
    "            user_attributes={\n",
    "                \"thresholds\": f\"Greather than {threshold_dict[col]}\",\n",
    "                \"label_order\": \"ascending\",\n",
    "                \"ref_col\": col,\n",
    "            },\n",
    "        )\n",
    "    mutant_anno[col] = anno\n",
    "    mutant_cls_anno[f\"CLS_{col}\"] = cls_anno"
   ]
  },
  {
   "cell_type": "code",
   "execution_count": 7,
   "id": "9101750d-068e-408c-993d-5411886246e1",
   "metadata": {},
   "outputs": [],
   "source": [
    "pkis_annotations = {\n",
    "    # Molecule identifiers\n",
    "    \"MOL_molhash_id\": ColumnAnnotation(\n",
    "        description=\"Molecular hash ID. See <datamol.mol.hash_mol>\"\n",
    "    ),\n",
    "    \"MOL_smiles\": ColumnAnnotation(\n",
    "        description=\"Molecule SMILES string\", modality=\"molecule\"\n",
    "    ),\n",
    "    **mutant_anno,\n",
    "    **mutant_cls_anno,\n",
    "}"
   ]
  },
  {
   "cell_type": "code",
   "execution_count": 8,
   "id": "65926a63-1caa-4040-bd25-86259ae60942",
   "metadata": {},
   "outputs": [],
   "source": [
    "version = \"v3\"\n",
    "dataset_name = f\"drewry2014_pkis1_subset-{version}\"\n",
    "dataset = Dataset(\n",
    "    table=table[pkis_annotations.keys()],\n",
    "    name=dataset_name,\n",
    "    description=f\"A subset of PKIS dataset only including EGFR, RET, KIT kinases. PKIS is a data set of 367 small-molecule ATP-competitive kinase inhibitors that was screened by the set in activity assays with 224 recombinant kinases and 24 G protein-coupled receptors and in cellular assays of cancer cell proliferation and angiogenesis.\",\n",
    "    source=\"https://pubmed.ncbi.nlm.nih.gov/24283969/\",\n",
    "    annotations=pkis_annotations,\n",
    "    owner=owner,\n",
    "    tags=[\"Kinase\", \"HitDiscovery\", \"Selectivity\"],\n",
    "    user_attributes={\"year\": \"2014\"},\n",
    "    readme=load_readme(\"org-Polaris/drewry2014_pkis1_subset/pkis1_subset_readme.md\"),\n",
    "    license=\"CC-BY-4.0\",\n",
    "    curation_reference=\"https://github.com/polaris-hub/polaris-recipes/org-Polaris/drewry2014_pkis1_subset/01_pkis1_kinase_data_curation.ipynb\",\n",
    ")"
   ]
  },
  {
   "cell_type": "code",
   "execution_count": 9,
   "id": "a64af011-e010-413a-b3ba-be8f6465fe92",
   "metadata": {},
   "outputs": [
    {
     "data": {
      "text/plain": [
       "'gs://polaris-public/polaris-recipes/org-polaris/drewry2014_pkis1_subset/datasets/drewry2014_pkis1_subset-v3/dataset.json'"
      ]
     },
     "execution_count": 9,
     "metadata": {},
     "output_type": "execute_result"
    }
   ],
   "source": [
    "# save the dataset to GCP\n",
    "SAVE_DIR = f\"{DATASET_DIR}/{dataset_name}\"\n",
    "dataset_path = dataset.to_json(SAVE_DIR)\n",
    "dataset_path"
   ]
  },
  {
   "cell_type": "code",
   "execution_count": 10,
   "id": "69f56eea",
   "metadata": {},
   "outputs": [
    {
     "name": "stderr",
     "output_type": "stream",
     "text": [
      "\u001b[32m2024-07-30 12:13:29.686\u001b[0m | \u001b[1mINFO    \u001b[0m | \u001b[36mpolaris.hub.external_auth_client\u001b[0m:\u001b[36minteractive_login\u001b[0m:\u001b[36m135\u001b[0m - \u001b[1mYour browser has been opened to visit:\n",
      "https://clerk.polarishub.io/oauth/authorize?response_type=code&client_id=agQP2xVM6JqMHvGc&redirect_uri=https%3A%2F%2Fpolarishub.io%2Foauth2%2Fcallback&scope=profile+email&state=ENcF32TILoo8kejdjDCpMB2pcDiNVa&code_challenge=jcYknU_5iUp1c1G1lkOMP-S8N4P_FTVhME9dV3yMC_U&code_challenge_method=S256\n",
      "\u001b[0m\n",
      "\u001b[32m2024-07-30 12:14:16.146\u001b[0m | \u001b[32m\u001b[1mSUCCESS \u001b[0m | \u001b[36mpolaris.hub.external_auth_client\u001b[0m:\u001b[36minteractive_login\u001b[0m:\u001b[36m146\u001b[0m - \u001b[32m\u001b[1mSuccessfully authenticated to the Polaris Hub as `lu@valencediscovery.com`! 🎉\u001b[0m\n",
      "\u001b[32m2024-07-30 12:14:16.807\u001b[0m | \u001b[32m\u001b[1mSUCCESS \u001b[0m | \u001b[36mpolaris.hub.client\u001b[0m:\u001b[36mlogin\u001b[0m:\u001b[36m260\u001b[0m - \u001b[32m\u001b[1mYou are successfully logged in to the Polaris Hub.\u001b[0m\n"
     ]
    },
    {
     "name": "stdout",
     "output_type": "stream",
     "text": [
      "✅ SUCCESS: \u001b[1mYour dataset has been successfully uploaded to the Hub. View it here: https://polarishub.io/datasets/polaris/drewry2014_pkis1_subset-v3\u001b[0m\n",
      " \n"
     ]
    },
    {
     "name": "stderr",
     "output_type": "stream",
     "text": [
      "/Users/lu.zhu/miniconda3/envs/po_dataset/lib/python3.12/site-packages/yaspin/core.py:228: UserWarning: color, on_color and attrs are not supported when running in jupyter\n",
      "  self._color = self._set_color(value) if value else value\n"
     ]
    },
    {
     "data": {
      "text/plain": [
       "{'id': 'mody8UPVaDhRcmv8zcGo9',\n",
       " 'createdAt': '2024-07-30T16:14:17.020Z',\n",
       " 'deletedAt': None,\n",
       " 'name': 'drewry2014_pkis1_subset-v3',\n",
       " 'slug': 'drewry2014-pkis1-subset-v3',\n",
       " 'description': 'A subset of PKIS dataset only including EGFR, RET, KIT kinases. PKIS is a data set of 367 small-molecule ATP-competitive kinase inhibitors that was screened by the set in activity assays with 224 recombinant kinases and 24 G protein-coupled receptors and in cellular assays of cancer cell proliferation and angiogenesis.',\n",
       " 'tags': ['Kinase', 'HitDiscovery', 'Selectivity'],\n",
       " 'userAttributes': {'year': '2014'},\n",
       " 'access': 'private',\n",
       " 'isCertified': False,\n",
       " 'polarisVersion': '0.7.9',\n",
       " 'readme': '![kinase](https://storage.googleapis.com/polaris-public/icons/icons8-fox-60-kinases.png)\\n\\n## Background:\\n Kinases play a crucial role in cellular signalling, making them important targets for drug development. Dysregulation of kinases is frequently implicated in diseases like cancer, inflammation, and neurodegenerative disorders. Therefore, targeting kinases with specific drugs has emerged as a crucial strategy in modern drug discovery. Kinase-related task includes inhibition prediction, selectivity prediction, or kinase-ligand binding affinity prediction. In the early release version of Polaris, benchmarks were established for kinases such as EGFR, KIT, and RET, along with their respective mutations.\\n\\n\\n## Description of readout \\n- **Readouts**:\\n    - `EGFR`, `EGFR_L858R`, `EGFR_L861Q`, `EGFR_T790M`, `EGFR_T790M-L858R`\\n    - `KIT`, `KIT_D816V`, `KIT_T6701`, `KIT_V560G`\\n    - `RET`, `RET_V804L`, `RET_Y791F`\\n- **Bioassay readout**: Percentage of inhibition (%).\\n- **Optimization objective**: Higher potency (higher %inhibition).\\n\\n\\n## Data resource:\\nPKIS 1: A set of 364 unique small-molecule ATP-competitive kinase inhibitors that was screened by the set in activity assays with 224 recombinant kinases and 24 G protein-coupled receptors and in cellular assays of cancer cell proliferation and angiogenesis.\\n\\n**Reference**: https://pubmed.ncbi.nlm.nih.gov/26501955\\n\\n',\n",
       " 'ownerId': '9qGUtJxWQ5MDZrK5op9jn',\n",
       " 'creatorId': 'NKnaHGybLqwSHcaMEHqfF',\n",
       " 'state': 'upload_pending',\n",
       " 'source': 'https://pubmed.ncbi.nlm.nih.gov/24283969/',\n",
       " 'curationReference': 'https://github.com/polaris-hub/polaris-recipes/org-Polaris/drewry2014_pkis1_subset/01_pkis1_kinase_data_curation.ipynb',\n",
       " 'nRows': 366,\n",
       " 'nColumns': 18,\n",
       " 'license': 'CC-BY-4.0',\n",
       " 'md5Sum': '8d27e78c089dd0f97bb74f761a4784b2',\n",
       " 'annotations': {'KIT': {'dtype': 'float64',\n",
       "   'modality': 'UNKNOWN',\n",
       "   'isPointer': False,\n",
       "   'description': 'Percentage of inhibition on KIT with mutation NaN',\n",
       "   'userAttributes': {'unit': '%',\n",
       "    'source': 'PKIS1',\n",
       "    'target': 'KIT',\n",
       "    'mutation': 'NaN',\n",
       "    'organism': 'Human',\n",
       "    'objective': 'Higher value',\n",
       "    'concentration': '1uM'}},\n",
       "  'RET': {'dtype': 'float64',\n",
       "   'modality': 'UNKNOWN',\n",
       "   'isPointer': False,\n",
       "   'description': 'Percentage of inhibition on RET with mutation NaN',\n",
       "   'userAttributes': {'unit': '%',\n",
       "    'source': 'PKIS1',\n",
       "    'target': 'RET',\n",
       "    'mutation': 'NaN',\n",
       "    'organism': 'Human',\n",
       "    'objective': 'Higher value',\n",
       "    'concentration': '1uM'}},\n",
       "  'EGFR': {'dtype': 'float64',\n",
       "   'modality': 'UNKNOWN',\n",
       "   'isPointer': False,\n",
       "   'description': 'Percentage of inhibition on EGFR with mutation NaN',\n",
       "   'userAttributes': {'unit': '%',\n",
       "    'source': 'PKIS1',\n",
       "    'target': 'EGFR',\n",
       "    'mutation': 'NaN',\n",
       "    'organism': 'Human',\n",
       "    'objective': 'Higher value',\n",
       "    'concentration': '1uM'}},\n",
       "  'CLS_KIT': {'dtype': 'float64',\n",
       "   'modality': 'UNKNOWN',\n",
       "   'isPointer': False,\n",
       "   'description': 'Binarized label based on the percentage of inhibition on KIT NaN',\n",
       "   'userAttributes': {'ref_col': 'KIT',\n",
       "    'thresholds': 'Greather than 75',\n",
       "    'label_order': 'ascending'}},\n",
       "  'CLS_RET': {'dtype': 'float64',\n",
       "   'modality': 'UNKNOWN',\n",
       "   'isPointer': False,\n",
       "   'description': 'Binarized label based on the percentage of inhibition on RET NaN',\n",
       "   'userAttributes': {'ref_col': 'RET',\n",
       "    'thresholds': 'Greather than 70',\n",
       "    'label_order': 'ascending'}},\n",
       "  'CLS_EGFR': {'dtype': 'float64',\n",
       "   'modality': 'UNKNOWN',\n",
       "   'isPointer': False,\n",
       "   'description': 'Binarized label based on the percentage of inhibition on EGFR NaN',\n",
       "   'userAttributes': {'ref_col': 'EGFR',\n",
       "    'thresholds': 'Greather than 75',\n",
       "    'label_order': 'ascending'}},\n",
       "  'KIT_T6701': {'dtype': 'float64',\n",
       "   'modality': 'UNKNOWN',\n",
       "   'isPointer': False,\n",
       "   'description': 'Percentage of inhibition on KIT with mutation NaN',\n",
       "   'userAttributes': {'unit': '%',\n",
       "    'source': 'PKIS1',\n",
       "    'target': 'KIT',\n",
       "    'mutation': 'NaN',\n",
       "    'organism': 'Human',\n",
       "    'objective': 'Higher value',\n",
       "    'concentration': '1uM'}},\n",
       "  'KIT_V560G': {'dtype': 'float64',\n",
       "   'modality': 'UNKNOWN',\n",
       "   'isPointer': False,\n",
       "   'description': 'Percentage of inhibition on KIT with mutation NaN',\n",
       "   'userAttributes': {'unit': '%',\n",
       "    'source': 'PKIS1',\n",
       "    'target': 'KIT',\n",
       "    'mutation': 'NaN',\n",
       "    'organism': 'Human',\n",
       "    'objective': 'Higher value',\n",
       "    'concentration': '1uM'}},\n",
       "  'RET_V804L': {'dtype': 'float64',\n",
       "   'modality': 'UNKNOWN',\n",
       "   'isPointer': False,\n",
       "   'description': 'Percentage of inhibition on RET with mutation NaN',\n",
       "   'userAttributes': {'unit': '%',\n",
       "    'source': 'PKIS1',\n",
       "    'target': 'RET',\n",
       "    'mutation': 'NaN',\n",
       "    'organism': 'Human',\n",
       "    'objective': 'Higher value',\n",
       "    'concentration': '1uM'}},\n",
       "  'RET_Y791F': {'dtype': 'float64',\n",
       "   'modality': 'UNKNOWN',\n",
       "   'isPointer': False,\n",
       "   'description': 'Percentage of inhibition on RET with mutation NaN',\n",
       "   'userAttributes': {'unit': '%',\n",
       "    'source': 'PKIS1',\n",
       "    'target': 'RET',\n",
       "    'mutation': 'NaN',\n",
       "    'organism': 'Human',\n",
       "    'objective': 'Higher value',\n",
       "    'concentration': '1uM'}},\n",
       "  'EGFR_L858R': {'dtype': 'float64',\n",
       "   'modality': 'UNKNOWN',\n",
       "   'isPointer': False,\n",
       "   'description': 'Percentage of inhibition on EGFR with mutation NaN',\n",
       "   'userAttributes': {'unit': '%',\n",
       "    'source': 'PKIS1',\n",
       "    'target': 'EGFR',\n",
       "    'mutation': 'NaN',\n",
       "    'organism': 'Human',\n",
       "    'objective': 'Higher value',\n",
       "    'concentration': '1uM'}},\n",
       "  'MOL_smiles': {'dtype': 'object',\n",
       "   'modality': 'MOLECULE',\n",
       "   'isPointer': False,\n",
       "   'description': 'Molecule SMILES string',\n",
       "   'userAttributes': {}},\n",
       "  'CLS_KIT_T6701': {'dtype': 'float64',\n",
       "   'modality': 'UNKNOWN',\n",
       "   'isPointer': False,\n",
       "   'description': 'Binarized label based on the percentage of inhibition on KIT NaN',\n",
       "   'userAttributes': {'ref_col': 'KIT_T6701',\n",
       "    'thresholds': 'Greather than 75',\n",
       "    'label_order': 'ascending'}},\n",
       "  'CLS_KIT_V560G': {'dtype': 'float64',\n",
       "   'modality': 'UNKNOWN',\n",
       "   'isPointer': False,\n",
       "   'description': 'Binarized label based on the percentage of inhibition on KIT NaN',\n",
       "   'userAttributes': {'ref_col': 'KIT_V560G',\n",
       "    'thresholds': 'Greather than 75',\n",
       "    'label_order': 'ascending'}},\n",
       "  'CLS_RET_V804L': {'dtype': 'float64',\n",
       "   'modality': 'UNKNOWN',\n",
       "   'isPointer': False,\n",
       "   'description': 'Binarized label based on the percentage of inhibition on RET NaN',\n",
       "   'userAttributes': {'ref_col': 'RET_V804L',\n",
       "    'thresholds': 'Greather than 70',\n",
       "    'label_order': 'ascending'}},\n",
       "  'CLS_RET_Y791F': {'dtype': 'float64',\n",
       "   'modality': 'UNKNOWN',\n",
       "   'isPointer': False,\n",
       "   'description': 'Binarized label based on the percentage of inhibition on RET NaN',\n",
       "   'userAttributes': {'ref_col': 'RET_Y791F',\n",
       "    'thresholds': 'Greather than 70',\n",
       "    'label_order': 'ascending'}},\n",
       "  'CLS_EGFR_L858R': {'dtype': 'float64',\n",
       "   'modality': 'UNKNOWN',\n",
       "   'isPointer': False,\n",
       "   'description': 'Binarized label based on the percentage of inhibition on EGFR NaN',\n",
       "   'userAttributes': {'ref_col': 'EGFR_L858R',\n",
       "    'thresholds': 'Greather than 75',\n",
       "    'label_order': 'ascending'}},\n",
       "  'MOL_molhash_id': {'dtype': 'object',\n",
       "   'modality': 'UNKNOWN',\n",
       "   'isPointer': False,\n",
       "   'description': 'Molecular hash ID. See <datamol.mol.hash_mol>',\n",
       "   'userAttributes': {}}},\n",
       " 'tableContent': {'url': 'https://polarishub.io/storage/dataset/polaris/drewry2014-pkis1-subset-v3/table.parquet',\n",
       "  'size': 53116,\n",
       "  'md5Sum': '36543b6d9e7683e5ad07e414c1b0f848',\n",
       "  'fileType': 'parquet'},\n",
       " 'defaultAdapters': {},\n",
       " 'zarrRootPath': None,\n",
       " 'zarrContent': {},\n",
       " 'artifactId': 'polaris/drewry2014-pkis1-subset-v3',\n",
       " 'creator': {'slug': 'lu-valencelabs',\n",
       "  'externalId': 'user_2gtYwEALU6nz7YYhVOTrlJmkWtN',\n",
       "  'type': 'user'},\n",
       " 'owner': {'slug': 'polaris',\n",
       "  'externalId': 'org_2gtoaJIVrgRqiIR8Qm5BnpFCbxu',\n",
       "  'type': 'organization'},\n",
       " 'benchmarks': [],\n",
       " 'review': None}"
      ]
     },
     "execution_count": 10,
     "metadata": {},
     "output_type": "execute_result"
    }
   ],
   "source": [
    "# upload to Polaris Hub\n",
    "from polaris.hub.client import PolarisHubClient\n",
    "client = PolarisHubClient()\n",
    "client.login()\n",
    "\n",
    "client.upload_dataset(dataset=dataset, access=\"private\", owner=owner)"
   ]
  },
  {
   "cell_type": "code",
   "execution_count": null,
   "id": "2f6504ad",
   "metadata": {},
   "outputs": [],
   "source": []
  }
 ],
 "metadata": {
  "kernelspec": {
   "display_name": "Python 3 (ipykernel)",
   "language": "python",
   "name": "python3"
  },
  "language_info": {
   "codemirror_mode": {
    "name": "ipython",
    "version": 3
   },
   "file_extension": ".py",
   "mimetype": "text/x-python",
   "name": "python",
   "nbconvert_exporter": "python",
   "pygments_lexer": "ipython3",
   "version": "3.12.4"
  }
 },
 "nbformat": 4,
 "nbformat_minor": 5
}
