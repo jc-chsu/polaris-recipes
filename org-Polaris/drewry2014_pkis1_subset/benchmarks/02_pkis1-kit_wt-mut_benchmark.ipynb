{
 "cells": [
  {
   "cell_type": "markdown",
   "id": "e42620fd-056b-41e5-acaf-46552e3ab98c",
   "metadata": {},
   "source": [
    "![molprop](https://storage.googleapis.com/polaris-public/icons/icons8-fox-60-kinases.png)\n",
    "# Benchmark for KIT and mutants"
   ]
  },
  {
   "cell_type": "markdown",
   "id": "dcb32a78-e28d-4f04-b32b-4247da60494a",
   "metadata": {},
   "source": [
    "\n",
    "### Background\n",
    "**KIT** (Proto-oncogene c-KIT) receptor plays a crucial role in regulating cell growth, differentiation, and survival. It's particularly important in the development of blood cells, melanocytes (the cells that produce melanin, the pigment responsible for skin, hair, and eye color), and certain cells in the gut. Mutations in the KIT gene can lead to uncontrolled cell growth and contribute to the development of certain types of cancer, including gastrointestinal stromal tumors (GISTs) and some types of leukemia\n",
    "\n",
    "### Benchmarking\n",
    "\n",
    "- **KIT wild type**:  In certain cancers, KIT signaling can be activated by other receptors or mutations upstream in the signaling pathway. Targeting these upstream factors can indirectly impact KIT signaling and downstream effects. An example of this is seen in some cases of acute myeloid leukemia (AML) where KIT is expressed without mutations, but other upstream mutations can lead to aberrant KIT activation.\n",
    "- **KIT selectivity**: This dataset includes KIT wild type and reported mutants `KIT T6701`, `KIT V560G`. D816V results in constitutive phosphorylation of Kit, activation of Stat5 signaling (PMID: 19865100, PMID: 18390729), induces mastocytosis and tumor formation in mice (PMID: 21148330) and confers resistance to Kit inhibitors (PMID: 22301675, PMID: 19164557). \n",
    "\n",
    "The goal of this benchmark is to select the best predictive model for \n",
    "- Optimization of the bioactivity % inhibition.\n",
    "- Discovery of potential hits in new chemical space.\n",
    "\n",
    "\n",
    "## Description of readout:\n",
    "- **Readouts**: `KIT`, `KIT_T670I`, `KIT_V560G`\n",
    "- **Bioassay readout**: percentage of inhibition.\n",
    "- **Optimization objective**: Higher inhibition\n",
    "\n",
    "\n",
    "### Data resource: \n",
    "- **Reference**: [PKIS1](https://pubmed.ncbi.nlm.nih.gov/26501955)\n",
    "\n",
    "### Train/test split\n",
    "Given the benchmarking goal, a scaffold-based splitting approach was applied to ensure training and test sets contain distinct chemical structures while maintaining the diversity of scaffolds.\n"
   ]
  },
  {
   "cell_type": "code",
   "execution_count": 1,
   "id": "30138c1e",
   "metadata": {},
   "outputs": [],
   "source": [
    "%load_ext autoreload\n",
    "%autoreload 2\n",
    "\n",
    "import os\n",
    "import sys\n",
    "import pathlib\n",
    "\n",
    "import datamol as dm\n",
    "\n",
    "# polaris benchmark\n",
    "from polaris.benchmark import MultiTaskBenchmarkSpecification\n",
    "\n",
    "# polaris hub\n",
    "from polaris.utils.types import HubOwner\n",
    "\n",
    "# utils\n",
    "root = pathlib.Path(\"__file__\").absolute().parents[3]\n",
    "os.chdir(root)\n",
    "sys.path.insert(0, str(root))\n",
    "from utils.docs_utils import load_readme"
   ]
  },
  {
   "cell_type": "code",
   "execution_count": 2,
   "id": "60b288a2",
   "metadata": {},
   "outputs": [
    {
     "data": {
      "text/plain": [
       "HubOwner(slug='polaris', external_id=None, type='organization')"
      ]
     },
     "execution_count": 2,
     "metadata": {},
     "output_type": "execute_result"
    }
   ],
   "source": [
    "# Get the owner and organization\n",
    "org = \"polaris\"\n",
    "data_name = \"drewry2014_pkis1_subset\"\n",
    "dataset_name = 'drewry2014_pkis1_subset-v2'\n",
    "dirname = dm.fs.join(root, f\"org-{org}\", data_name)\n",
    "gcp_root = f\"gs://polaris-public/polaris-recipes/org-{org}/{data_name}\"\n",
    "\n",
    "owner = HubOwner(slug=org, type=\"organization\")\n",
    "owner"
   ]
  },
  {
   "cell_type": "code",
   "execution_count": 3,
   "id": "3de6dfde-41b7-4387-bc7c-66aaa7a783b7",
   "metadata": {},
   "outputs": [],
   "source": [
    "BENCHMARK_DIR = f\"{gcp_root}/benchmarks\"\n",
    "DATASET_JSON = f\"{gcp_root}/datasets/{dataset_name}/dataset.json\"\n",
    "\n",
    "FIGURE_DIR =  f\"{gcp_root}/figures\""
   ]
  },
  {
   "cell_type": "markdown",
   "id": "7f22cb4b-6303-425c-9a15-d437705baff9",
   "metadata": {},
   "source": [
    "## Load existing dataset object\n",
    "> To **maintain consistency** with other benchmarks in the Polaris Hub, a thorough data curation process is carried out to ensure the accuracy of molecular presentations.\n",
    "> Therefore, the raw data from the data resource is not used here. \n",
    "> See more curation details in [here](https://github.com/polaris-hub/polaris-recipes/blob/mvp/03_Kinases/LOK_SLK).\n"
   ]
  },
  {
   "cell_type": "code",
   "execution_count": 4,
   "id": "9e606547-f711-4e4d-8c93-97002a8a2236",
   "metadata": {},
   "outputs": [],
   "source": [
    "# Load the saved Dataset\n",
    "from polaris.dataset import Dataset\n",
    "\n",
    "dataset = Dataset.from_json(DATASET_JSON)"
   ]
  },
  {
   "cell_type": "code",
   "execution_count": 5,
   "id": "113c65cf-db9c-4f33-b4a6-981d391b4399",
   "metadata": {
    "scrolled": true
   },
   "outputs": [
    {
     "data": {
      "text/html": [
       "<table border=\"1\"><tr><th>name</th><td>drewry2014_pkis1_subset-v2</td></tr><tr><th>description</th><td>A subset of PKIS dataset only including EGFR, RET, KIT kinases. PKIS is a data set of 367 small-molecule ATP-competitive kinase inhibitors that was screened by the set in activity assays with 224 recombinant kinases and 24 G protein-coupled receptors and in cellular assays of cancer cell proliferation and angiogenesis.</td></tr><tr><th>tags</th><td><ul><li>kinase</li><li>hit-discovery</li><li>selectivity</li></ul></td></tr><tr><th>user_attributes</th><td><table border=\"1\"><tr><th>year</th><td>2014</td></tr></table></td></tr><tr><th>owner</th><td>polaris</td></tr><tr><th>polaris_version</th><td>dev</td></tr><tr><th>default_adapters</th><td></td></tr><tr><th>zarr_root_path</th><td>None</td></tr><tr><th>md5sum</th><td>93fecdc56573c0442e5717bb0eb24efb</td></tr><tr><th>readme</th><td>![kinase](https://storage.googleapis.com/polaris-public/icons/icons8-fox-60-kinases.png)\n",
       "\n",
       "## Background:\n",
       " Kinases play a crucial role in cellular signalling, making them important targets for drug development. Dysregulation of kinases is frequently implicated in diseases like cancer, inflammation, and neurodegenerative disorders. Therefore, targeting kinases with specific drugs has emerged as a crucial strategy in modern drug discovery. Kinase-related task includes inhibition prediction, selectivity prediction, or kinase-ligand binding affinity prediction. In the early release version of Polaris, benchmarks were established for kinases such as EGFR, KIT, and RET, along with their respective mutations.\n",
       "\n",
       "\n",
       "## Description of readout \n",
       "- **Readouts**:\n",
       "    - `EGFR`, `EGFR_L858R`, `EGFR_L861Q`, `EGFR_T790M`, `EGFR_T790M-L858R`\n",
       "    - `KIT`, `KIT_D816V`, `KIT_T6701`, `KIT_V560G`\n",
       "    - `RET`, `RET_V804L`, `RET_Y791F`\n",
       "- **Bioassay readout**: Percentage of inhibition (%).\n",
       "- **Optimization objective**: Higher potency (higher %inhibition).\n",
       "\n",
       "\n",
       "## Data resource:\n",
       "PKIS 1: A set of 364 unique small-molecule ATP-competitive kinase inhibitors that was screened by the set in activity assays with 224 recombinant kinases and 24 G protein-coupled receptors and in cellular assays of cancer cell proliferation and angiogenesis.\n",
       "\n",
       "**Reference**: https://pubmed.ncbi.nlm.nih.gov/26501955\n",
       "\n",
       "</td></tr><tr><th>annotations</th><td><table border=\"1\"><tr><th>MOL_molhash_id</th><td><table border=\"1\"><tr><th>is_pointer</th><td>False</td></tr><tr><th>modality</th><td>UNKNOWN</td></tr><tr><th>description</th><td>Molecular hash ID. See &lt;datamol.mol.hash_mol&gt;</td></tr><tr><th>user_attributes</th><td></td></tr><tr><th>dtype</th><td>object</td></tr></table></td></tr><tr><th>MOL_smiles</th><td><table border=\"1\"><tr><th>is_pointer</th><td>False</td></tr><tr><th>modality</th><td>MOLECULE</td></tr><tr><th>description</th><td>Molecule SMILES string</td></tr><tr><th>user_attributes</th><td></td></tr><tr><th>dtype</th><td>object</td></tr></table></td></tr><tr><th>EGFR_L858R</th><td><table border=\"1\"><tr><th>is_pointer</th><td>False</td></tr><tr><th>modality</th><td>UNKNOWN</td></tr><tr><th>description</th><td>Percentage of inhibition on EGFR with mutation NaN</td></tr><tr><th>user_attributes</th><td><table border=\"1\"><tr><th>unit</th><td>%</td></tr><tr><th>concentration</th><td>1uM</td></tr><tr><th>organism</th><td>Human</td></tr><tr><th>objective</th><td>Higher value</td></tr><tr><th>source</th><td>PKIS1</td></tr><tr><th>mutation</th><td>NaN</td></tr><tr><th>target</th><td>EGFR</td></tr></table></td></tr><tr><th>dtype</th><td>float64</td></tr></table></td></tr><tr><th>EGFR</th><td><table border=\"1\"><tr><th>is_pointer</th><td>False</td></tr><tr><th>modality</th><td>UNKNOWN</td></tr><tr><th>description</th><td>Percentage of inhibition on EGFR with mutation NaN</td></tr><tr><th>user_attributes</th><td><table border=\"1\"><tr><th>unit</th><td>%</td></tr><tr><th>concentration</th><td>1uM</td></tr><tr><th>organism</th><td>Human</td></tr><tr><th>objective</th><td>Higher value</td></tr><tr><th>source</th><td>PKIS1</td></tr><tr><th>mutation</th><td>NaN</td></tr><tr><th>target</th><td>EGFR</td></tr></table></td></tr><tr><th>dtype</th><td>float64</td></tr></table></td></tr><tr><th>KIT_T6701</th><td><table border=\"1\"><tr><th>is_pointer</th><td>False</td></tr><tr><th>modality</th><td>UNKNOWN</td></tr><tr><th>description</th><td>Percentage of inhibition on KIT with mutation NaN</td></tr><tr><th>user_attributes</th><td><table border=\"1\"><tr><th>unit</th><td>%</td></tr><tr><th>concentration</th><td>1uM</td></tr><tr><th>organism</th><td>Human</td></tr><tr><th>objective</th><td>Higher value</td></tr><tr><th>source</th><td>PKIS1</td></tr><tr><th>mutation</th><td>NaN</td></tr><tr><th>target</th><td>KIT</td></tr></table></td></tr><tr><th>dtype</th><td>float64</td></tr></table></td></tr><tr><th>KIT_V560G</th><td><table border=\"1\"><tr><th>is_pointer</th><td>False</td></tr><tr><th>modality</th><td>UNKNOWN</td></tr><tr><th>description</th><td>Percentage of inhibition on KIT with mutation NaN</td></tr><tr><th>user_attributes</th><td><table border=\"1\"><tr><th>unit</th><td>%</td></tr><tr><th>concentration</th><td>1uM</td></tr><tr><th>organism</th><td>Human</td></tr><tr><th>objective</th><td>Higher value</td></tr><tr><th>source</th><td>PKIS1</td></tr><tr><th>mutation</th><td>NaN</td></tr><tr><th>target</th><td>KIT</td></tr></table></td></tr><tr><th>dtype</th><td>float64</td></tr></table></td></tr><tr><th>KIT</th><td><table border=\"1\"><tr><th>is_pointer</th><td>False</td></tr><tr><th>modality</th><td>UNKNOWN</td></tr><tr><th>description</th><td>Percentage of inhibition on KIT with mutation NaN</td></tr><tr><th>user_attributes</th><td><table border=\"1\"><tr><th>unit</th><td>%</td></tr><tr><th>concentration</th><td>1uM</td></tr><tr><th>organism</th><td>Human</td></tr><tr><th>objective</th><td>Higher value</td></tr><tr><th>source</th><td>PKIS1</td></tr><tr><th>mutation</th><td>NaN</td></tr><tr><th>target</th><td>KIT</td></tr></table></td></tr><tr><th>dtype</th><td>float64</td></tr></table></td></tr><tr><th>RET_V804L</th><td><table border=\"1\"><tr><th>is_pointer</th><td>False</td></tr><tr><th>modality</th><td>UNKNOWN</td></tr><tr><th>description</th><td>Percentage of inhibition on RET with mutation NaN</td></tr><tr><th>user_attributes</th><td><table border=\"1\"><tr><th>unit</th><td>%</td></tr><tr><th>concentration</th><td>1uM</td></tr><tr><th>organism</th><td>Human</td></tr><tr><th>objective</th><td>Higher value</td></tr><tr><th>source</th><td>PKIS1</td></tr><tr><th>mutation</th><td>NaN</td></tr><tr><th>target</th><td>RET</td></tr></table></td></tr><tr><th>dtype</th><td>float64</td></tr></table></td></tr><tr><th>RET_Y791F</th><td><table border=\"1\"><tr><th>is_pointer</th><td>False</td></tr><tr><th>modality</th><td>UNKNOWN</td></tr><tr><th>description</th><td>Percentage of inhibition on RET with mutation NaN</td></tr><tr><th>user_attributes</th><td><table border=\"1\"><tr><th>unit</th><td>%</td></tr><tr><th>concentration</th><td>1uM</td></tr><tr><th>organism</th><td>Human</td></tr><tr><th>objective</th><td>Higher value</td></tr><tr><th>source</th><td>PKIS1</td></tr><tr><th>mutation</th><td>NaN</td></tr><tr><th>target</th><td>RET</td></tr></table></td></tr><tr><th>dtype</th><td>float64</td></tr></table></td></tr><tr><th>RET</th><td><table border=\"1\"><tr><th>is_pointer</th><td>False</td></tr><tr><th>modality</th><td>UNKNOWN</td></tr><tr><th>description</th><td>Percentage of inhibition on RET with mutation NaN</td></tr><tr><th>user_attributes</th><td><table border=\"1\"><tr><th>unit</th><td>%</td></tr><tr><th>concentration</th><td>1uM</td></tr><tr><th>organism</th><td>Human</td></tr><tr><th>objective</th><td>Higher value</td></tr><tr><th>source</th><td>PKIS1</td></tr><tr><th>mutation</th><td>NaN</td></tr><tr><th>target</th><td>RET</td></tr></table></td></tr><tr><th>dtype</th><td>float64</td></tr></table></td></tr><tr><th>CLS_EGFR_L858R</th><td><table border=\"1\"><tr><th>is_pointer</th><td>False</td></tr><tr><th>modality</th><td>UNKNOWN</td></tr><tr><th>description</th><td>Binarized label based on the percentage of inhibition on EGFR NaN</td></tr><tr><th>user_attributes</th><td><table border=\"1\"><tr><th>thresholds</th><td>Greather than 75</td></tr><tr><th>label_order</th><td>ascending</td></tr><tr><th>ref_col</th><td>EGFR_L858R</td></tr></table></td></tr><tr><th>dtype</th><td>float64</td></tr></table></td></tr><tr><th>CLS_EGFR</th><td><table border=\"1\"><tr><th>is_pointer</th><td>False</td></tr><tr><th>modality</th><td>UNKNOWN</td></tr><tr><th>description</th><td>Binarized label based on the percentage of inhibition on EGFR NaN</td></tr><tr><th>user_attributes</th><td><table border=\"1\"><tr><th>thresholds</th><td>Greather than 75</td></tr><tr><th>label_order</th><td>ascending</td></tr><tr><th>ref_col</th><td>EGFR</td></tr></table></td></tr><tr><th>dtype</th><td>float64</td></tr></table></td></tr><tr><th>CLS_KIT_T6701</th><td><table border=\"1\"><tr><th>is_pointer</th><td>False</td></tr><tr><th>modality</th><td>UNKNOWN</td></tr><tr><th>description</th><td>Binarized label based on the percentage of inhibition on KIT NaN</td></tr><tr><th>user_attributes</th><td><table border=\"1\"><tr><th>thresholds</th><td>Greather than 75</td></tr><tr><th>label_order</th><td>ascending</td></tr><tr><th>ref_col</th><td>KIT_T6701</td></tr></table></td></tr><tr><th>dtype</th><td>float64</td></tr></table></td></tr><tr><th>CLS_KIT_V560G</th><td><table border=\"1\"><tr><th>is_pointer</th><td>False</td></tr><tr><th>modality</th><td>UNKNOWN</td></tr><tr><th>description</th><td>Binarized label based on the percentage of inhibition on KIT NaN</td></tr><tr><th>user_attributes</th><td><table border=\"1\"><tr><th>thresholds</th><td>Greather than 75</td></tr><tr><th>label_order</th><td>ascending</td></tr><tr><th>ref_col</th><td>KIT_V560G</td></tr></table></td></tr><tr><th>dtype</th><td>float64</td></tr></table></td></tr><tr><th>CLS_KIT</th><td><table border=\"1\"><tr><th>is_pointer</th><td>False</td></tr><tr><th>modality</th><td>UNKNOWN</td></tr><tr><th>description</th><td>Binarized label based on the percentage of inhibition on KIT NaN</td></tr><tr><th>user_attributes</th><td><table border=\"1\"><tr><th>thresholds</th><td>Greather than 75</td></tr><tr><th>label_order</th><td>ascending</td></tr><tr><th>ref_col</th><td>KIT</td></tr></table></td></tr><tr><th>dtype</th><td>float64</td></tr></table></td></tr><tr><th>CLS_RET_V804L</th><td><table border=\"1\"><tr><th>is_pointer</th><td>False</td></tr><tr><th>modality</th><td>UNKNOWN</td></tr><tr><th>description</th><td>Binarized label based on the percentage of inhibition on RET NaN</td></tr><tr><th>user_attributes</th><td><table border=\"1\"><tr><th>thresholds</th><td>Greather than 70</td></tr><tr><th>label_order</th><td>ascending</td></tr><tr><th>ref_col</th><td>RET_V804L</td></tr></table></td></tr><tr><th>dtype</th><td>float64</td></tr></table></td></tr><tr><th>CLS_RET_Y791F</th><td><table border=\"1\"><tr><th>is_pointer</th><td>False</td></tr><tr><th>modality</th><td>UNKNOWN</td></tr><tr><th>description</th><td>Binarized label based on the percentage of inhibition on RET NaN</td></tr><tr><th>user_attributes</th><td><table border=\"1\"><tr><th>thresholds</th><td>Greather than 70</td></tr><tr><th>label_order</th><td>ascending</td></tr><tr><th>ref_col</th><td>RET_Y791F</td></tr></table></td></tr><tr><th>dtype</th><td>float64</td></tr></table></td></tr><tr><th>CLS_RET</th><td><table border=\"1\"><tr><th>is_pointer</th><td>False</td></tr><tr><th>modality</th><td>UNKNOWN</td></tr><tr><th>description</th><td>Binarized label based on the percentage of inhibition on RET NaN</td></tr><tr><th>user_attributes</th><td><table border=\"1\"><tr><th>thresholds</th><td>Greather than 70</td></tr><tr><th>label_order</th><td>ascending</td></tr><tr><th>ref_col</th><td>RET</td></tr></table></td></tr><tr><th>dtype</th><td>float64</td></tr></table></td></tr></table></td></tr><tr><th>source</th><td>https://pubmed.ncbi.nlm.nih.gov/24283969/</td></tr><tr><th>license</th><td>CC-BY-4.0</td></tr><tr><th>curation_reference</th><td>https://github.com/polaris-hub/polaris-recipes/org-Polaris/drewry2014_pkis1_subset/01_pkis1_kinase_data_curation.ipynb</td></tr><tr><th>cache_dir</th><td>/Users/lu.zhu/Library/Caches/polaris/datasets/drewry2014_pkis1_subset-v2/93fecdc56573c0442e5717bb0eb24efb</td></tr><tr><th>artifact_id</th><td>polaris/drewry2014-pkis1-subset-v2</td></tr><tr><th>n_rows</th><td>366</td></tr><tr><th>n_columns</th><td>18</td></tr></table>"
      ],
      "text/plain": [
       "{\n",
       "  \"name\": \"drewry2014_pkis1_subset-v2\",\n",
       "  \"description\": \"A subset of PKIS dataset only including EGFR, RET, KIT kinases. PKIS is a data set of 367 small-molecule ATP-competitive kinase inhibitors that was screened by the set in activity assays with 224 recombinant kinases and 24 G protein-coupled receptors and in cellular assays of cancer cell proliferation and angiogenesis.\",\n",
       "  \"tags\": [\n",
       "    \"kinase\",\n",
       "    \"hit-discovery\",\n",
       "    \"selectivity\"\n",
       "  ],\n",
       "  \"user_attributes\": {\n",
       "    \"year\": \"2014\"\n",
       "  },\n",
       "  \"owner\": \"polaris\",\n",
       "  \"polaris_version\": \"dev\",\n",
       "  \"default_adapters\": {},\n",
       "  \"zarr_root_path\": null,\n",
       "  \"md5sum\": \"93fecdc56573c0442e5717bb0eb24efb\",\n",
       "  \"readme\": \"![kinase](https://storage.googleapis.com/polaris-public/icons/icons8-fox-60-kinases.png)\\n\\n## Background:\\n Kinases play a crucial role in cellular signalling, making them important targets for drug development. Dysregulation of kinases is frequently implicated in diseases like cancer, inflammation, and neurodegenerative disorders. Therefore, targeting kinases with specific drugs has emerged as a crucial strategy in modern drug discovery. Kinase-related task includes inhibition prediction, selectivity prediction, or kinase-ligand binding affinity prediction. In the early release version of Polaris, benchmarks were established for kinases such as EGFR, KIT, and RET, along with their respective mutations.\\n\\n\\n## Description of readout \\n- **Readouts**:\\n    - `EGFR`, `EGFR_L858R`, `EGFR_L861Q`, `EGFR_T790M`, `EGFR_T790M-L858R`\\n    - `KIT`, `KIT_D816V`, `KIT_T6701`, `KIT_V560G`\\n    - `RET`, `RET_V804L`, `RET_Y791F`\\n- **Bioassay readout**: Percentage of inhibition (%).\\n- **Optimization objective**: Higher potency (higher %inhibition).\\n\\n\\n## Data resource:\\nPKIS 1: A set of 364 unique small-molecule ATP-competitive kinase inhibitors that was screened by the set in activity assays with 224 recombinant kinases and 24 G protein-coupled receptors and in cellular assays of cancer cell proliferation and angiogenesis.\\n\\n**Reference**: https://pubmed.ncbi.nlm.nih.gov/26501955\\n\\n\",\n",
       "  \"annotations\": {\n",
       "    \"MOL_molhash_id\": {\n",
       "      \"is_pointer\": false,\n",
       "      \"modality\": \"UNKNOWN\",\n",
       "      \"description\": \"Molecular hash ID. See <datamol.mol.hash_mol>\",\n",
       "      \"user_attributes\": {},\n",
       "      \"dtype\": \"object\"\n",
       "    },\n",
       "    \"MOL_smiles\": {\n",
       "      \"is_pointer\": false,\n",
       "      \"modality\": \"MOLECULE\",\n",
       "      \"description\": \"Molecule SMILES string\",\n",
       "      \"user_attributes\": {},\n",
       "      \"dtype\": \"object\"\n",
       "    },\n",
       "    \"EGFR_L858R\": {\n",
       "      \"is_pointer\": false,\n",
       "      \"modality\": \"UNKNOWN\",\n",
       "      \"description\": \"Percentage of inhibition on EGFR with mutation NaN\",\n",
       "      \"user_attributes\": {\n",
       "        \"unit\": \"%\",\n",
       "        \"concentration\": \"1uM\",\n",
       "        \"organism\": \"Human\",\n",
       "        \"objective\": \"Higher value\",\n",
       "        \"source\": \"PKIS1\",\n",
       "        \"mutation\": \"NaN\",\n",
       "        \"target\": \"EGFR\"\n",
       "      },\n",
       "      \"dtype\": \"float64\"\n",
       "    },\n",
       "    \"EGFR\": {\n",
       "      \"is_pointer\": false,\n",
       "      \"modality\": \"UNKNOWN\",\n",
       "      \"description\": \"Percentage of inhibition on EGFR with mutation NaN\",\n",
       "      \"user_attributes\": {\n",
       "        \"unit\": \"%\",\n",
       "        \"concentration\": \"1uM\",\n",
       "        \"organism\": \"Human\",\n",
       "        \"objective\": \"Higher value\",\n",
       "        \"source\": \"PKIS1\",\n",
       "        \"mutation\": \"NaN\",\n",
       "        \"target\": \"EGFR\"\n",
       "      },\n",
       "      \"dtype\": \"float64\"\n",
       "    },\n",
       "    \"KIT_T6701\": {\n",
       "      \"is_pointer\": false,\n",
       "      \"modality\": \"UNKNOWN\",\n",
       "      \"description\": \"Percentage of inhibition on KIT with mutation NaN\",\n",
       "      \"user_attributes\": {\n",
       "        \"unit\": \"%\",\n",
       "        \"concentration\": \"1uM\",\n",
       "        \"organism\": \"Human\",\n",
       "        \"objective\": \"Higher value\",\n",
       "        \"source\": \"PKIS1\",\n",
       "        \"mutation\": \"NaN\",\n",
       "        \"target\": \"KIT\"\n",
       "      },\n",
       "      \"dtype\": \"float64\"\n",
       "    },\n",
       "    \"KIT_V560G\": {\n",
       "      \"is_pointer\": false,\n",
       "      \"modality\": \"UNKNOWN\",\n",
       "      \"description\": \"Percentage of inhibition on KIT with mutation NaN\",\n",
       "      \"user_attributes\": {\n",
       "        \"unit\": \"%\",\n",
       "        \"concentration\": \"1uM\",\n",
       "        \"organism\": \"Human\",\n",
       "        \"objective\": \"Higher value\",\n",
       "        \"source\": \"PKIS1\",\n",
       "        \"mutation\": \"NaN\",\n",
       "        \"target\": \"KIT\"\n",
       "      },\n",
       "      \"dtype\": \"float64\"\n",
       "    },\n",
       "    \"KIT\": {\n",
       "      \"is_pointer\": false,\n",
       "      \"modality\": \"UNKNOWN\",\n",
       "      \"description\": \"Percentage of inhibition on KIT with mutation NaN\",\n",
       "      \"user_attributes\": {\n",
       "        \"unit\": \"%\",\n",
       "        \"concentration\": \"1uM\",\n",
       "        \"organism\": \"Human\",\n",
       "        \"objective\": \"Higher value\",\n",
       "        \"source\": \"PKIS1\",\n",
       "        \"mutation\": \"NaN\",\n",
       "        \"target\": \"KIT\"\n",
       "      },\n",
       "      \"dtype\": \"float64\"\n",
       "    },\n",
       "    \"RET_V804L\": {\n",
       "      \"is_pointer\": false,\n",
       "      \"modality\": \"UNKNOWN\",\n",
       "      \"description\": \"Percentage of inhibition on RET with mutation NaN\",\n",
       "      \"user_attributes\": {\n",
       "        \"unit\": \"%\",\n",
       "        \"concentration\": \"1uM\",\n",
       "        \"organism\": \"Human\",\n",
       "        \"objective\": \"Higher value\",\n",
       "        \"source\": \"PKIS1\",\n",
       "        \"mutation\": \"NaN\",\n",
       "        \"target\": \"RET\"\n",
       "      },\n",
       "      \"dtype\": \"float64\"\n",
       "    },\n",
       "    \"RET_Y791F\": {\n",
       "      \"is_pointer\": false,\n",
       "      \"modality\": \"UNKNOWN\",\n",
       "      \"description\": \"Percentage of inhibition on RET with mutation NaN\",\n",
       "      \"user_attributes\": {\n",
       "        \"unit\": \"%\",\n",
       "        \"concentration\": \"1uM\",\n",
       "        \"organism\": \"Human\",\n",
       "        \"objective\": \"Higher value\",\n",
       "        \"source\": \"PKIS1\",\n",
       "        \"mutation\": \"NaN\",\n",
       "        \"target\": \"RET\"\n",
       "      },\n",
       "      \"dtype\": \"float64\"\n",
       "    },\n",
       "    \"RET\": {\n",
       "      \"is_pointer\": false,\n",
       "      \"modality\": \"UNKNOWN\",\n",
       "      \"description\": \"Percentage of inhibition on RET with mutation NaN\",\n",
       "      \"user_attributes\": {\n",
       "        \"unit\": \"%\",\n",
       "        \"concentration\": \"1uM\",\n",
       "        \"organism\": \"Human\",\n",
       "        \"objective\": \"Higher value\",\n",
       "        \"source\": \"PKIS1\",\n",
       "        \"mutation\": \"NaN\",\n",
       "        \"target\": \"RET\"\n",
       "      },\n",
       "      \"dtype\": \"float64\"\n",
       "    },\n",
       "    \"CLS_EGFR_L858R\": {\n",
       "      \"is_pointer\": false,\n",
       "      \"modality\": \"UNKNOWN\",\n",
       "      \"description\": \"Binarized label based on the percentage of inhibition on EGFR NaN\",\n",
       "      \"user_attributes\": {\n",
       "        \"thresholds\": \"Greather than 75\",\n",
       "        \"label_order\": \"ascending\",\n",
       "        \"ref_col\": \"EGFR_L858R\"\n",
       "      },\n",
       "      \"dtype\": \"float64\"\n",
       "    },\n",
       "    \"CLS_EGFR\": {\n",
       "      \"is_pointer\": false,\n",
       "      \"modality\": \"UNKNOWN\",\n",
       "      \"description\": \"Binarized label based on the percentage of inhibition on EGFR NaN\",\n",
       "      \"user_attributes\": {\n",
       "        \"thresholds\": \"Greather than 75\",\n",
       "        \"label_order\": \"ascending\",\n",
       "        \"ref_col\": \"EGFR\"\n",
       "      },\n",
       "      \"dtype\": \"float64\"\n",
       "    },\n",
       "    \"CLS_KIT_T6701\": {\n",
       "      \"is_pointer\": false,\n",
       "      \"modality\": \"UNKNOWN\",\n",
       "      \"description\": \"Binarized label based on the percentage of inhibition on KIT NaN\",\n",
       "      \"user_attributes\": {\n",
       "        \"thresholds\": \"Greather than 75\",\n",
       "        \"label_order\": \"ascending\",\n",
       "        \"ref_col\": \"KIT_T6701\"\n",
       "      },\n",
       "      \"dtype\": \"float64\"\n",
       "    },\n",
       "    \"CLS_KIT_V560G\": {\n",
       "      \"is_pointer\": false,\n",
       "      \"modality\": \"UNKNOWN\",\n",
       "      \"description\": \"Binarized label based on the percentage of inhibition on KIT NaN\",\n",
       "      \"user_attributes\": {\n",
       "        \"thresholds\": \"Greather than 75\",\n",
       "        \"label_order\": \"ascending\",\n",
       "        \"ref_col\": \"KIT_V560G\"\n",
       "      },\n",
       "      \"dtype\": \"float64\"\n",
       "    },\n",
       "    \"CLS_KIT\": {\n",
       "      \"is_pointer\": false,\n",
       "      \"modality\": \"UNKNOWN\",\n",
       "      \"description\": \"Binarized label based on the percentage of inhibition on KIT NaN\",\n",
       "      \"user_attributes\": {\n",
       "        \"thresholds\": \"Greather than 75\",\n",
       "        \"label_order\": \"ascending\",\n",
       "        \"ref_col\": \"KIT\"\n",
       "      },\n",
       "      \"dtype\": \"float64\"\n",
       "    },\n",
       "    \"CLS_RET_V804L\": {\n",
       "      \"is_pointer\": false,\n",
       "      \"modality\": \"UNKNOWN\",\n",
       "      \"description\": \"Binarized label based on the percentage of inhibition on RET NaN\",\n",
       "      \"user_attributes\": {\n",
       "        \"thresholds\": \"Greather than 70\",\n",
       "        \"label_order\": \"ascending\",\n",
       "        \"ref_col\": \"RET_V804L\"\n",
       "      },\n",
       "      \"dtype\": \"float64\"\n",
       "    },\n",
       "    \"CLS_RET_Y791F\": {\n",
       "      \"is_pointer\": false,\n",
       "      \"modality\": \"UNKNOWN\",\n",
       "      \"description\": \"Binarized label based on the percentage of inhibition on RET NaN\",\n",
       "      \"user_attributes\": {\n",
       "        \"thresholds\": \"Greather than 70\",\n",
       "        \"label_order\": \"ascending\",\n",
       "        \"ref_col\": \"RET_Y791F\"\n",
       "      },\n",
       "      \"dtype\": \"float64\"\n",
       "    },\n",
       "    \"CLS_RET\": {\n",
       "      \"is_pointer\": false,\n",
       "      \"modality\": \"UNKNOWN\",\n",
       "      \"description\": \"Binarized label based on the percentage of inhibition on RET NaN\",\n",
       "      \"user_attributes\": {\n",
       "        \"thresholds\": \"Greather than 70\",\n",
       "        \"label_order\": \"ascending\",\n",
       "        \"ref_col\": \"RET\"\n",
       "      },\n",
       "      \"dtype\": \"float64\"\n",
       "    }\n",
       "  },\n",
       "  \"source\": \"https://pubmed.ncbi.nlm.nih.gov/24283969/\",\n",
       "  \"license\": \"CC-BY-4.0\",\n",
       "  \"curation_reference\": \"https://github.com/polaris-hub/polaris-recipes/org-Polaris/drewry2014_pkis1_subset/01_pkis1_kinase_data_curation.ipynb\",\n",
       "  \"cache_dir\": \"/Users/lu.zhu/Library/Caches/polaris/datasets/drewry2014_pkis1_subset-v2/93fecdc56573c0442e5717bb0eb24efb\",\n",
       "  \"artifact_id\": \"polaris/drewry2014-pkis1-subset-v2\",\n",
       "  \"n_rows\": 366,\n",
       "  \"n_columns\": 18\n",
       "}"
      ]
     },
     "execution_count": 5,
     "metadata": {},
     "output_type": "execute_result"
    }
   ],
   "source": [
    "# Display dataset\n",
    "dataset"
   ]
  },
  {
   "cell_type": "markdown",
   "id": "31d042e7",
   "metadata": {},
   "source": [
    "<a id=\"benchmark\"></a>\n",
    "## Benchmark creation with `Polaris`\n",
    "Creating a benchmark involves setting up a standard dataset, designing the train-validation-test set and defining evaluation metrics which is used to establish baseline performance level. "
   ]
  },
  {
   "cell_type": "code",
   "execution_count": 6,
   "id": "8348d8fa-3c80-4eb8-805c-be4dd32b3f80",
   "metadata": {},
   "outputs": [],
   "source": [
    "# data columns\n",
    "data_cols = [\"KIT\", \"KIT_T6701\", \"KIT_V560G\"]"
   ]
  },
  {
   "cell_type": "code",
   "execution_count": 7,
   "id": "95a1d269-3f7c-4525-9e2f-fad4641800f6",
   "metadata": {},
   "outputs": [
    {
     "data": {
      "text/plain": [
       "HubOwner(slug='polaristest', external_id=None, type=None)"
      ]
     },
     "execution_count": 7,
     "metadata": {},
     "output_type": "execute_result"
    }
   ],
   "source": [
    "from polaris.utils.types import HubOwner\n",
    "\n",
    "owner = HubOwner(organizationId=\"PolarisTest\", slug=\"polaristest\")\n",
    "owner"
   ]
  },
  {
   "cell_type": "markdown",
   "id": "0507c05f-30ed-417d-b437-5d6e55b2dd44",
   "metadata": {},
   "source": [
    "### Create scaffold split for `KIT & mutants` dataset\n",
    "> **Note:**\n",
    "> Here we use splitting tool `Splito` to split dataset to train and test. \\\n",
    "> [Splito](https://github.com/datamol-io/splito) is a machine learning dataset splitting library for life sciences."
   ]
  },
  {
   "cell_type": "code",
   "execution_count": 9,
   "id": "bce59102-045a-467c-afba-720ac6069eb9",
   "metadata": {},
   "outputs": [],
   "source": [
    "# scaffold split\n",
    "from splito import ScaffoldSplit\n",
    "\n",
    "mol_col = \"MOL_smiles\"\n",
    "split_key = \"scaffold_split\" \n",
    "TEST_SIZE = 0.2\n",
    "SEED = 780\n",
    "splitter = ScaffoldSplit(\n",
    "    smiles=dataset.table[mol_col].values,\n",
    "    test_size=TEST_SIZE,\n",
    "    random_state=SEED,\n",
    ")\n",
    "scaffold_split = next(splitter.split(X=dataset.table[mol_col].values))"
   ]
  },
  {
   "cell_type": "markdown",
   "id": "edbcd9ce",
   "metadata": {},
   "source": [
    "### Check distribution of train/test set in the chemical space"
   ]
  },
  {
   "cell_type": "code",
   "execution_count": 14,
   "id": "08a700bd-ebf7-4d10-b12a-06be1243d8bc",
   "metadata": {},
   "outputs": [
    {
     "data": {
      "application/vnd.jupyter.widget-view+json": {
       "model_id": "141e1ac7041f484d86ee9bdfcc823c99",
       "version_major": 2,
       "version_minor": 0
      },
      "text/plain": [
       "  0%|          | 0/366 [00:00<?, ?it/s]"
      ]
     },
     "metadata": {},
     "output_type": "display_data"
    },
    {
     "data": {
      "text/plain": [
       "'https://storage.googleapis.com/polaris-public/polaris-recipes/org-polaris/drewry2014_pkis1_subset/figures/kit-wt-mut_scaffold_split_chemspace.png'"
      ]
     },
     "execution_count": 14,
     "metadata": {},
     "output_type": "execute_result"
    },
    {
     "data": {
      "image/png": "[encoded data removed]",
      "text/plain": [
       "<Figure size 1200x600 with 1 Axes>"
      ]
     },
     "metadata": {},
     "output_type": "display_data"
    }
   ],
   "source": [
    "from utils.docs_utils import visualize_split_chemspace\n",
    "\n",
    "fig = visualize_split_chemspace(mols=dataset.table[mol_col].to_list(), \n",
    "                                train_test_dict={\"kit-wt-mut\": scaffold_split})\n",
    "\n",
    "# export the figure to remote path\n",
    "from utils.auroris_utils import save_image\n",
    "save_image(fig, dm.fs.join(FIGURE_DIR, f\"kit-wt-mut_{split_key}_chemspace.png\"))"
   ]
  },
  {
   "cell_type": "markdown",
   "id": "03aa7204-c71f-4b46-9bf0-e4a57e82ff35",
   "metadata": {},
   "source": [
    "## Single task for KIT and mutants with scaffold split "
   ]
  },
  {
   "cell_type": "markdown",
   "id": "6a4b3b66-d07a-42a2-8f16-f14beff70e1e",
   "metadata": {},
   "source": [
    "**Regression tasks**"
   ]
  },
  {
   "cell_type": "code",
   "execution_count": 15,
   "id": "92cbff08-8496-4c10-ba2b-b3a4a60f3cb2",
   "metadata": {
    "scrolled": true
   },
   "outputs": [
    {
     "name": "stdout",
     "output_type": "stream",
     "text": [
      "gs://polaris-public/polaris-recipes/org-polaris/drewry2014_pkis1_subset/benchmarks/pkis1-kit-wt-mut-reg-v2/benchmark.json\n"
     ]
    }
   ],
   "source": [
    "benchmark_version = \"v2\"\n",
    "benchmark_name = f\"pkis1-kit-wt-mut-reg-{benchmark_version}\"\n",
    "readme_name = \"pkis1-kit-wt-mut-reg\"\n",
    "BENCHMARK_SAVE_DIR = f\"{BENCHMARK_DIR}/{benchmark_name}\"\n",
    "\n",
    "benchmark_reg = MultiTaskBenchmarkSpecification(\n",
    "    name=benchmark_name,\n",
    "    dataset=dataset,\n",
    "    target_cols=data_cols,\n",
    "    target_types={col: \"regression\" for col in data_cols},\n",
    "    input_cols=mol_col,\n",
    "    split=scaffold_split,\n",
    "    main_metric=\"mean_squared_error\",\n",
    "    metrics=[\n",
    "        \"mean_absolute_error\",\n",
    "        \"mean_squared_error\",\n",
    "        \"r2\",\n",
    "        \"spearmanr\",\n",
    "        \"pearsonr\",\n",
    "        \"explained_var\",\n",
    "    ],\n",
    "    tags=[\"kinase\", \"hit-discovery\", 'selectivity','multitask'],\n",
    "    description=\"A multitask regression benchmark for KIT wild type, T670I mutant and KV560G_mutant.\",\n",
    "    owner=owner,\n",
    "    readme=load_readme(\"org-Polaris/drewry2014_pkis1_subset/benchmarks/readme/020_pkis1-kit-wt-mut_reg_readme.md\"),\n",
    ")\n",
    "path = benchmark_reg.to_json(BENCHMARK_SAVE_DIR)\n",
    "print(path)"
   ]
  },
  {
   "cell_type": "code",
   "execution_count": 18,
   "id": "3bf9d6f6",
   "metadata": {},
   "outputs": [],
   "source": [
    "# Upload to hub\n",
    "# benchmark_reg.upload_to_hub(owner=owner, access=\"private\") "
   ]
  },
  {
   "cell_type": "markdown",
   "id": "fb3f4b16-b074-4efb-9805-62a025a37c10",
   "metadata": {},
   "source": [
    "**Classification tasks**"
   ]
  },
  {
   "cell_type": "code",
   "execution_count": 24,
   "id": "ea6e1551-986b-4dd2-8cf4-f9f06d9e018b",
   "metadata": {},
   "outputs": [
    {
     "name": "stdout",
     "output_type": "stream",
     "text": [
      "gs://polaris-public/polaris-recipes/org-polaris/drewry2014_pkis1_subset/benchmarks/pkis1-kit-wt-mut-cls-v2/benchmark.json\n"
     ]
    }
   ],
   "source": [
    "data_cols = [\"CLS_KIT_T6701\", \"CLS_KIT_V560G\", \"CLS_KIT\"]\n",
    "benchmark_name = f\"pkis1-kit-wt-mut-cls-{benchmark_version}\"\n",
    "BENCHMARK_SAVE_DIR = f\"{BENCHMARK_DIR}/{benchmark_name}\"\n",
    "\n",
    "benchmark_cls = MultiTaskBenchmarkSpecification(\n",
    "    name=benchmark_name,\n",
    "    dataset=dataset,\n",
    "    target_cols=data_cols,\n",
    "    target_types={col: \"classification\" for col in data_cols},\n",
    "    input_cols=mol_col,\n",
    "    split=scaffold_split,\n",
    "    main_metric=\"pr_auc\",\n",
    "    metrics=[\"accuracy\", \"f1\", \"roc_auc\", \"pr_auc\", \"mcc\", \"cohen_kappa\"],\n",
    "    tags=[\"kinase\", \"hit-discovery\", 'selectivity', 'multitask'],\n",
    "    description=\"A multitask classification benchmark for KIT wild type, T670I mutant and KV560G_mutant.\",\n",
    "    owner=owner,\n",
    "    readme=load_readme(\"org-Polaris/drewry2014_pkis1_subset/benchmarks/readme/021_pkis1-kit-wt-mut_cls_readme.md\"),\n",
    ")\n",
    "path = benchmark_cls.to_json(BENCHMARK_SAVE_DIR)\n",
    "print(path)"
   ]
  },
  {
   "cell_type": "code",
   "execution_count": 22,
   "id": "4e269227-9058-4471-adfd-fe1d024e8116",
   "metadata": {},
   "outputs": [],
   "source": [
    "# Upload to hub\n",
    "# benchmark_cls.upload_to_hub(owner=owner, access=\"private\") "
   ]
  }
 ],
 "metadata": {
  "kernelspec": {
   "display_name": "Python 3 (ipykernel)",
   "language": "python",
   "name": "python3"
  },
  "language_info": {
   "codemirror_mode": {
    "name": "ipython",
    "version": 3
   },
   "file_extension": ".py",
   "mimetype": "text/x-python",
   "name": "python",
   "nbconvert_exporter": "python",
   "pygments_lexer": "ipython3",
   "version": "3.12.3"
  }
 },
 "nbformat": 4,
 "nbformat_minor": 5
}
