{
 "cells": [
  {
   "cell_type": "markdown",
   "id": "842b317f-f6ad-4be6-b114-62d45a0a29f4",
   "metadata": {},
   "source": [
    "![molprop](https://storage.googleapis.com/polaris-public/icons/icons8-bear-100-Molprop.png)\n",
    "## Molecular representation benchmarks - MolProp250K"
   ]
  },
  {
   "cell_type": "markdown",
   "id": "ef98b2ed-b76f-422a-9134-a867732e26f5",
   "metadata": {},
   "source": [
    "## Background\n",
    "\n",
    "Molecular representations are crucial for understanding molecular structure, predicting properties, QSAR studies, toxicology and chemical modeling and other aspects in drug discovery tasks. Therefore, benchmarks for molecular representations are critical tools that drive progress in the field of computational chemistry and drug design. In recent years, many large models have been trained for learning molecular representation. The aim is to evaluate if large pretrained models are capable of predicting various “easy-to-compute” molecular properties. \n",
    "\n",
    "## Description of molecular properties\n",
    " The computed properties are molecular weight, fraction of sp3 carbon atoms (fsp3), number of rotatable bonds, topological polar surface area, computed logP, formal charge, number of charged atoms, refractivity and number of aromatic rings. These properties are widely used in molecule design and molecule prioritization.\n",
    "\n",
    "## Data resource\n",
    "**Reference**: https://pubs.acs.org/doi/10.1021/acs.jcim.5b00559 \n",
    "\n",
    "**Raw data**: https://raw.githubusercontent.com/aspuru-guzik-group/chemical_vae/master/models/zinc_properties/250k_randm_zinc_drugs_clean_3.csv"
   ]
  },
  {
   "cell_type": "code",
   "execution_count": 1,
   "id": "18eced4a",
   "metadata": {},
   "outputs": [],
   "source": [
    "%load_ext autoreload\n",
    "%autoreload 2"
   ]
  },
  {
   "cell_type": "code",
   "execution_count": 2,
   "id": "30138c1e",
   "metadata": {},
   "outputs": [
    {
     "name": "stdout",
     "output_type": "stream",
     "text": [
      "The autoreload extension is already loaded. To reload it, use:\n",
      "  %reload_ext autoreload\n"
     ]
    },
    {
     "name": "stderr",
     "output_type": "stream",
     "text": [
      "/Users/lu.zhu/miniconda3/envs/po_dataset/lib/python3.12/site-packages/tqdm/auto.py:21: TqdmWarning: IProgress not found. Please update jupyter and ipywidgets. See https://ipywidgets.readthedocs.io/en/stable/user_install.html\n",
      "  from .autonotebook import tqdm as notebook_tqdm\n"
     ]
    }
   ],
   "source": [
    "%load_ext autoreload\n",
    "%autoreload 2\n",
    "\n",
    "import os\n",
    "import sys\n",
    "import pathlib\n",
    "\n",
    "import pandas as pd\n",
    "import datamol as dm\n",
    "\n",
    "# polaris dataset\n",
    "from polaris.dataset import Dataset, ColumnAnnotation\n",
    "\n",
    "from polaris.utils.types import HubOwner\n",
    "\n",
    "\n",
    "root = pathlib.Path(\"__file__\").absolute().parents[2]\n",
    "os.chdir(root)\n",
    "sys.path.insert(0, str(root))\n",
    "from utils.docs_utils import load_readme"
   ]
  },
  {
   "cell_type": "code",
   "execution_count": 3,
   "id": "16758c8c",
   "metadata": {},
   "outputs": [
    {
     "data": {
      "text/plain": [
       "HubOwner(slug='polaris', external_id=None, type='organization')"
      ]
     },
     "execution_count": 3,
     "metadata": {},
     "output_type": "execute_result"
    }
   ],
   "source": [
    "org = \"polaris\"\n",
    "data_name = \"molprop\"\n",
    "dirname = dm.fs.join(root, f\"org-{org}\", data_name)\n",
    "gcp_root = f\"gs://polaris-public/polaris-recipes/org-{org}/{data_name}\"\n",
    "\n",
    "\n",
    "owner = HubOwner(slug=org, type=\"organization\")\n",
    "owner"
   ]
  },
  {
   "cell_type": "code",
   "execution_count": 4,
   "id": "f48a0d4f-2802-401c-b998-52ea5e574b97",
   "metadata": {},
   "outputs": [],
   "source": [
    "BENCHMARK_DIR = f\"{gcp_root}/benchmarks\"\n",
    "DATASET_DIR = f\"{gcp_root}/datasets\"\n",
    "FIGURE_DIR = f\"{gcp_root}/figures\""
   ]
  },
  {
   "cell_type": "markdown",
   "id": "f260d4fe-8f8a-4d0e-a6d2-f55a0543a393",
   "metadata": {},
   "source": [
    "## Load existing data"
   ]
  },
  {
   "cell_type": "code",
   "execution_count": 5,
   "id": "de2abbac",
   "metadata": {},
   "outputs": [
    {
     "data": {
      "text/plain": [
       "Index(['smiles', 'mw', 'fsp3', 'n_rotatable_bonds', 'tpsa', 'clogp',\n",
       "       'formal_charge', 'n_charged_atoms', 'refractivity', 'n_aromatic_rings',\n",
       "       'MOL_smiles', 'MOL_molhash_id', 'MOL_molhash_id_no_stereo',\n",
       "       'MOL_num_stereoisomers', 'MOL_num_undefined_stereoisomers',\n",
       "       'MOL_num_defined_stereo_center', 'MOL_num_undefined_stereo_center',\n",
       "       'MOL_num_stereo_center', 'MOL_undefined_E_D', 'MOL_undefined_E/Z'],\n",
       "      dtype='object')"
      ]
     },
     "execution_count": 5,
     "metadata": {},
     "output_type": "execute_result"
    }
   ],
   "source": [
    "PATH = f\"{gcp_root}/data/curation/{data_name}_curated.csv.gz\"\n",
    "table = pd.read_csv(PATH, compression=\"gzip\")\n",
    "table.columns"
   ]
  },
  {
   "cell_type": "markdown",
   "id": "e8dac825",
   "metadata": {},
   "source": [
    "## Below we specify the meta information of data columns"
   ]
  },
  {
   "cell_type": "code",
   "execution_count": 6,
   "id": "db377f8c",
   "metadata": {},
   "outputs": [],
   "source": [
    "data_cols = [\n",
    "    \"mw\",\n",
    "    \"fsp3\",\n",
    "    \"n_rotatable_bonds\",\n",
    "    \"tpsa\",\n",
    "    \"clogp\",\n",
    "    \"formal_charge\",\n",
    "    \"n_charged_atoms\",\n",
    "    \"refractivity\",\n",
    "    \"n_aromatic_rings\",\n",
    "]"
   ]
  },
  {
   "cell_type": "code",
   "execution_count": 7,
   "id": "b055feb2",
   "metadata": {},
   "outputs": [],
   "source": [
    "annotations = {\n",
    "    \"MOL_molhash_id\": ColumnAnnotation(\n",
    "        description=\"Molecular hash ID. See <datamol.mol.hash_mol>\",\n",
    "        modality=\"molecule\",\n",
    "    ),\n",
    "    \"MOL_smiles\": ColumnAnnotation(\n",
    "        description=\"Molecule Smiles string\",\n",
    "        modality=\"molecule\",\n",
    "    ),\n",
    "    \"mw\": ColumnAnnotation(\n",
    "        description=\"Molecular weight computed with <datamol.descriptor.mw>\"\n",
    "    ),\n",
    "    \"fsp3\": ColumnAnnotation(\n",
    "        description=\"Fraction of saturated carbons computed with <datamol.descriptor.fsp3>\"\n",
    "    ),\n",
    "    \"n_rotatable_bonds\": ColumnAnnotation(\n",
    "        description=\"A rotatable bond is defined as any single non-ring bond, attached to a non-terminal, non-hydrogen atom, computed with <datamol.descriptor.n_rotatable_bonds>\"\n",
    "    ),\n",
    "    \"tpsa\": ColumnAnnotation(\n",
    "        description=\"Topological polar surface area of a molecule is defined as the surface sum over all polar atoms or molecules, primarily oxygen and nitrogen, also including their attached hydrogen atoms. Computed with <datamol.descriptor.tpsa>\"\n",
    "    ),\n",
    "    \"clogp\": ColumnAnnotation(\n",
    "        description=\"Wildman-Crippen LogP value, computed with <datamol.descriptor.clogp>\"\n",
    "    ),\n",
    "    \"formal_charge\": ColumnAnnotation(\n",
    "        description=\"Formal Charge is a charge assigned to an atom under the assumption that all electrons in bonds are shared equally, computed with <datamol.descriptor.formal_charge>\"\n",
    "    ),\n",
    "    \"n_charged_atoms\": ColumnAnnotation(\n",
    "        description=\"Number of charged atoms in a molecule, computed with <datamol.descriptor.n_charged_atoms>\"\n",
    "    ),\n",
    "    \"refractivity\": ColumnAnnotation(\n",
    "        description=\"The total polarizability of a mole of a substance and is dependent on the temperature, the index of refraction, and the pressure. Computed with <datamol.descriptor.refeactivity>\"\n",
    "    ),\n",
    "    \"n_aromatic_rings\": ColumnAnnotation(\n",
    "        description=\"Number of aromatic rings in the molecule, computed with <datamol.descriptor.n_aromatic_rings>\"\n",
    "    ),\n",
    "}"
   ]
  },
  {
   "cell_type": "markdown",
   "id": "f72eb0c0",
   "metadata": {},
   "source": [
    "###  Define the `Dataset` object"
   ]
  },
  {
   "cell_type": "code",
   "execution_count": 8,
   "id": "f24b5fb2",
   "metadata": {},
   "outputs": [],
   "source": [
    "dataset_version = \"v2\"\n",
    "dataset_name = f\"molprop-250k-{dataset_version}\""
   ]
  },
  {
   "cell_type": "code",
   "execution_count": 9,
   "id": "c04ac217-3c63-4702-aadf-9f6fd0bb214b",
   "metadata": {},
   "outputs": [],
   "source": [
    "dataset = Dataset(\n",
    "    table=table[annotations.keys()],\n",
    "    name=dataset_name,\n",
    "    description=\" Molecule properties computed for ZINC15 250K dataset. Those molecular properties are used to examinate the usefullness of any pretrained models. Especially, any model for generation purpose should not fail on these tasks.\",\n",
    "    annotations=annotations,\n",
    "    owner=owner,\n",
    "    tags=[\"Representation\", \"Molecular Properties\"],\n",
    "    readme=load_readme(\"org-Polaris/molprop/molprop-250k_readme.md\"),\n",
    "    license=\"CC-BY-4.0\",\n",
    "    source=\"https://pubs.acs.org/doi/10.1021/acs.jcim.5b00559\",\n",
    "    user_attributes={\"year\": \"2015\"},\n",
    "    curation_reference=\"https://github.com/polaris-hub/polaris-recipes/org-Polaris/molprop/01_molprop_data_curation.ipynb\",\n",
    ")"
   ]
  },
  {
   "cell_type": "code",
   "execution_count": 10,
   "id": "50384d01",
   "metadata": {},
   "outputs": [
    {
     "data": {
      "text/plain": [
       "'gs://polaris-public/polaris-recipes/org-polaris/molprop/datasets/molprop-250k-v2/dataset.json'"
      ]
     },
     "execution_count": 10,
     "metadata": {},
     "output_type": "execute_result"
    }
   ],
   "source": [
    "# save the dataset to GCP\n",
    "SAVE_DIR = f\"{DATASET_DIR}/{dataset_name}\"\n",
    "dataset_path = dataset.to_json(SAVE_DIR)\n",
    "dataset_path"
   ]
  },
  {
   "cell_type": "code",
   "execution_count": 11,
   "id": "29b8adea",
   "metadata": {},
   "outputs": [
    {
     "name": "stderr",
     "output_type": "stream",
     "text": [
      "\u001b[32m2024-07-10 02:13:27.539\u001b[0m | \u001b[32m\u001b[1mSUCCESS \u001b[0m | \u001b[36mpolaris.hub.client\u001b[0m:\u001b[36mupload_dataset\u001b[0m:\u001b[36m631\u001b[0m - \u001b[32m\u001b[1mYour dataset has been successfully uploaded to the Hub. View it here: https://polarishub.io/datasets/polaris/molprop-250k-v2\u001b[0m\n"
     ]
    }
   ],
   "source": [
    "# upload to Polaris Hub\n",
    "# dataset.upload_to_hub(owner=owner, access=\"private\")"
   ]
  }
 ],
 "metadata": {
  "kernelspec": {
   "display_name": "Python 3 (ipykernel)",
   "language": "python",
   "name": "python3"
  },
  "language_info": {
   "codemirror_mode": {
    "name": "ipython",
    "version": 3
   },
   "file_extension": ".py",
   "mimetype": "text/x-python",
   "name": "python",
   "nbconvert_exporter": "python",
   "pygments_lexer": "ipython3",
   "version": "3.12.4"
  }
 },
 "nbformat": 4,
 "nbformat_minor": 5
}
