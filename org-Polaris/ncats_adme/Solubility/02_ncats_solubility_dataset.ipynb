{
 "cells": [
  {
   "cell_type": "markdown",
   "metadata": {},
   "source": [
    "Note: this notebook is set up to run with the env.yml containing the name 'polaris_datasets'"
   ]
  },
  {
   "cell_type": "markdown",
   "metadata": {},
   "source": [
    "# Dataset creation with [Polaris](https://github.com/polaris-hub/polaris)\n",
    "The first step of creating a benchmark is to set up a standard dataset which allows accessing the curated dataset (which has been demonstrated in <01_ncats_solubility_data_curation.ipynb>), and all necessary information about the dataset such as data source, description of endpoints, units etc. "
   ]
  },
  {
   "cell_type": "code",
   "execution_count": 1,
   "metadata": {},
   "outputs": [],
   "source": [
    "%load_ext autoreload\n",
    "%autoreload 2\n",
    "\n",
    "import os\n",
    "import sys\n",
    "import pathlib\n",
    "\n",
    "import pandas as pd\n",
    "import datamol as dm\n",
    "import numpy as np\n",
    "\n",
    "from polaris.cli import PolarisHubClient\n",
    "\n",
    "# polaris dataset\n",
    "from polaris.dataset import Dataset, ColumnAnnotation\n",
    "from polaris.dataset._column import Modality\n",
    "\n",
    "from polaris.utils.types import HubOwner\n",
    "\n",
    "\n",
    "root = pathlib.Path(\"__file__\").absolute().parents[3]\n",
    "os.chdir(root)\n",
    "sys.path.insert(0, str(root))\n",
    "from utils.docs_utils import load_readme"
   ]
  },
  {
   "cell_type": "code",
   "execution_count": 2,
   "metadata": {},
   "outputs": [
    {
     "data": {
      "text/plain": [
       "HubOwner(slug='polaris', external_id=None, type='organization')"
      ]
     },
     "execution_count": 2,
     "metadata": {},
     "output_type": "execute_result"
    }
   ],
   "source": [
    "# Get the owner and organization\n",
    "org = \"polaris\"\n",
    "data_name = \"ncats_adme/Solubility\"\n",
    "dirname = dm.fs.join(root, f\"org-{org}\", data_name)\n",
    "gcp_root = f\"gs://polaris-public/polaris-recipes/org-{org}/{data_name}\"\n",
    "\n",
    "owner = HubOwner(slug=org.lower(), type=\"organization\")\n",
    "owner"
   ]
  },
  {
   "cell_type": "code",
   "execution_count": 3,
   "metadata": {},
   "outputs": [],
   "source": [
    "BENCHMARK_DIR = f\"{gcp_root}/benchmarks\"\n",
    "DATASET_DIR = f\"{gcp_root}/datasets\"\n",
    "FIGURE_DIR =  f\"{gcp_root}/figures\""
   ]
  },
  {
   "cell_type": "markdown",
   "metadata": {},
   "source": [
    "## Load existing data"
   ]
  },
  {
   "cell_type": "code",
   "execution_count": 4,
   "metadata": {},
   "outputs": [
    {
     "data": {
      "text/plain": [
       "Index(['PUBCHEM_SID', 'SMILES', 'PUBCHEM_ACTIVITY_OUTCOME',\n",
       "       'PUBCHEM_ACTIVITY_SCORE', 'PHENOTYPE', 'KINETIC_AQUEOUS_SOLUBILITY',\n",
       "       'MOL_smiles', 'MOL_molhash_id', 'MOL_molhash_id_no_stereo',\n",
       "       'MOL_num_stereoisomers', 'MOL_num_undefined_stereoisomers',\n",
       "       'MOL_num_defined_stereo_center', 'MOL_num_undefined_stereo_center',\n",
       "       'MOL_num_stereo_center', 'MOL_undefined_E_D', 'MOL_undefined_E/Z',\n",
       "       'OUTLIER_PUBCHEM_ACTIVITY_OUTCOME',\n",
       "       'OUTLIER_KINETIC_AQUEOUS_SOLUBILITY', 'AC_PUBCHEM_ACTIVITY_OUTCOME',\n",
       "       'AC_KINETIC_AQUEOUS_SOLUBILITY'],\n",
       "      dtype='object')"
      ]
     },
     "execution_count": 4,
     "metadata": {},
     "output_type": "execute_result"
    }
   ],
   "source": [
    "PATH = f'{gcp_root}/data/curation/{data_name}_curated.csv'\n",
    "table = pd.read_csv(PATH)\n",
    "table.columns"
   ]
  },
  {
   "cell_type": "markdown",
   "metadata": {},
   "source": [
    "### Define `Dataset` object"
   ]
  },
  {
   "cell_type": "code",
   "execution_count": 5,
   "metadata": {},
   "outputs": [],
   "source": [
    "version = \"v1\"\n",
    "dataset_name = f\"ncats_solubility-{version}\""
   ]
  },
  {
   "cell_type": "markdown",
   "metadata": {},
   "source": [
    "### Below we specify the meta information of data columns"
   ]
  },
  {
   "cell_type": "code",
   "execution_count": 7,
   "metadata": {},
   "outputs": [],
   "source": [
    "# Additional meta-data on the column level\n",
    "annotations = {\n",
    "     \"MOL_molhash_id\": ColumnAnnotation(\n",
    "        description=\"Molecular hash ID. See <datamol.mol.hash_mol>\"\n",
    "    ),\n",
    "    \"MOL_smiles\": ColumnAnnotation(\n",
    "        description=\"Molecule SMILES string\", modality=\"molecule\"\n",
    "    ),\n",
    "    \"PUBCHEM_ACTIVITY_OUTCOME\": ColumnAnnotation(\n",
    "        description=\"Binarized label based on the phenotype observed, active if Moderate/High Solubility (class = 1) or inactive if Low Solubility (class = 0).\",\n",
    "        user_attributes={\"ref_col\": \"PHENOTYPE\"},\n",
    "    ),\n",
    "    \"PUBCHEM_ACTIVITY_SCORE\": ColumnAnnotation(\n",
    "        description=\"Whole number in solubility (ug/mL) of the compound.\",\n",
    "        user_attributes={\"ref_col\": \"KINETIC AQUEOUS SOLUBILITY\", \"unit\": \"ug/mL\"},\n",
    "    ),\n",
    "    \"PHENOTYPE\": ColumnAnnotation(\n",
    "        description=\"Indicates type of activity observed: 0-10: Low Solubility (Class = 0); >10: Moderate/High Solubility (Class = 1)\",\n",
    "        user_attributes={\"ref_col\": \"KINETIC AQUEOUS SOLUBILITY\"},\n",
    "    ),\n",
    "    \"KINETIC_AQUEOUS_SOLUBILITY\": ColumnAnnotation(\n",
    "        description=\"Numerical value of the observed aqueous solubility.\",\n",
    "        user_attributes={\"unit\": \"ug/mL\"},\n",
    "    ),\n",
    "}"
   ]
  },
  {
   "cell_type": "markdown",
   "metadata": {},
   "source": [
    "### Define `Dataset` object"
   ]
  },
  {
   "cell_type": "code",
   "execution_count": 9,
   "metadata": {},
   "outputs": [],
   "source": [
    "version = \"v1\"\n",
    "dataset_name = f\"ncats_solubility-{version}\""
   ]
  },
  {
   "cell_type": "code",
   "execution_count": 12,
   "metadata": {},
   "outputs": [],
   "source": [
    "dataset = Dataset(\n",
    "    # The table is the core data-structure required to construct a dataset\n",
    "    table=table[annotations.keys()], \n",
    "    # Additional meta-data on the dataset level.\n",
    "    name=dataset_name,\n",
    "    description=\"ADME Solubility experiment data released by the National Center for Advancing Translational Sciences\",\n",
    "    source=\"https://doi.org/10.1038/s41598-020-77327-0\",\n",
    "    annotations=annotations,\n",
    "    tags=[\"ADME\"],\n",
    "    license=\"CC-BY-4.0\",\n",
    "    user_attributes={\"year\": \"2021\"},\n",
    "    curation_reference=\"https://github.com/polaris-hub/polaris-recipes/org-Polaris/ncats_adme/Solibility/01_ncats_solubility_data_curation.ipynb\",\n",
    "    owner=dict(user_id=\"polaris\", slug=\"polaris\"),\n",
    "    readme=load_readme(\"org-Polaris/ncats_adme/Solubility/ncats_solubility_readme.md\")\n",
    ")"
   ]
  },
  {
   "cell_type": "code",
   "execution_count": 13,
   "metadata": {},
   "outputs": [
    {
     "data": {
      "text/plain": [
       "'gs://polaris-public/polaris-recipes/org-polaris/ncats_adme/Solubility/datasets/ncats_solubility-v1/dataset.json'"
      ]
     },
     "execution_count": 13,
     "metadata": {},
     "output_type": "execute_result"
    }
   ],
   "source": [
    "# save the dataset to GCP\n",
    "SAVE_DIR = f\"{DATASET_DIR}/{dataset_name}\"\n",
    "dataset_path = dataset.to_json(SAVE_DIR)\n",
    "dataset_path"
   ]
  },
  {
   "cell_type": "code",
   "execution_count": 14,
   "metadata": {},
   "outputs": [],
   "source": [
    "# upload to Polaris Hub\n",
    "# dataset.upload_to_hub(owner=owner, access=\"private\")"
   ]
  },
  {
   "cell_type": "code",
   "execution_count": null,
   "metadata": {},
   "outputs": [],
   "source": []
  }
 ],
 "metadata": {
  "kernelspec": {
   "display_name": "Python 3 (ipykernel)",
   "language": "python",
   "name": "python3"
  },
  "language_info": {
   "codemirror_mode": {
    "name": "ipython",
    "version": 3
   },
   "file_extension": ".py",
   "mimetype": "text/x-python",
   "name": "python",
   "nbconvert_exporter": "python",
   "pygments_lexer": "ipython3",
   "version": "3.12.3"
  }
 },
 "nbformat": 4,
 "nbformat_minor": 4
}
