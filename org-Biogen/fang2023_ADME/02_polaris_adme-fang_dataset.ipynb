{
 "cells": [
  {
   "cell_type": "markdown",
   "id": "545099e3-0eb9-4a80-a0c6-0448c0674502",
   "metadata": {},
   "source": [
    "# Dataset creation with [Polaris](https://github.com/polaris-hub/polaris)\n",
    "The first step of creating a benchmark is to set up a standard dataset which allows accessing the curated dataset (which has been demonstrated in <01_polaris_adme-fang_data_curation.ipynb>), and all necessary information about the dataset such as data source, description of endpoints, units etc. "
   ]
  },
  {
   "cell_type": "code",
   "execution_count": 3,
   "id": "30138c1e",
   "metadata": {
    "scrolled": true
   },
   "outputs": [],
   "source": [
    "%load_ext autoreload\n",
    "%autoreload 2\n",
    "\n",
    "import os\n",
    "import sys\n",
    "import pathlib\n",
    "\n",
    "import pandas as pd\n",
    "import datamol as dm\n",
    "\n",
    "# polaris dataset\n",
    "from polaris.dataset import Dataset, ColumnAnnotation\n",
    "from polaris.utils.types import HubOwner\n",
    "\n",
    "\n",
    "root = pathlib.Path(\"__file__\").absolute().parents[2]\n",
    "os.chdir(root)\n",
    "sys.path.insert(0, str(root))\n",
    "from utils.docs_utils import load_readme"
   ]
  },
  {
   "cell_type": "code",
   "execution_count": 4,
   "id": "b5c6d872",
   "metadata": {},
   "outputs": [
    {
     "data": {
      "text/plain": [
       "HubOwner(slug='biogen', external_id=None, type='organization')"
      ]
     },
     "execution_count": 4,
     "metadata": {},
     "output_type": "execute_result"
    }
   ],
   "source": [
    "# Get the owner and organization\n",
    "org = \"biogen\"\n",
    "data_name = \"fang2023_ADME\"\n",
    "dirname = dm.fs.join(root, f\"org-{org}\", \"biogen\", data_name)\n",
    "gcp_root = f\"gs://polaris-public/polaris-recipes/org-{org}/{data_name}\"\n",
    "\n",
    "owner = HubOwner(slug=org, type=\"organization\")\n",
    "owner"
   ]
  },
  {
   "cell_type": "code",
   "execution_count": 5,
   "id": "2b30cfce-4ca6-40d5-9cc0-5eab86a11901",
   "metadata": {},
   "outputs": [],
   "source": [
    "BENCHMARK_DIR = f\"gs://polaris-public/polaris-recipes/org-{org}/{data_name}/benchmarks\"\n",
    "DATASET_DIR = f\"gs://polaris-public/polaris-recipes/org-{org}/{data_name}/datasets\"\n",
    "FIGURE_DIR = f\"gs://polaris-public/polaris-recipes/org-{org}/{data_name}/figures\""
   ]
  },
  {
   "cell_type": "markdown",
   "id": "7f22cb4b-6303-425c-9a15-d437705baff9",
   "metadata": {},
   "source": [
    "## Load existing data\n",
    "> **Attention:** \\\n",
    "> The original dataset is published in [`Fang et al. 2023`](https://doi.org/10.1021/acs.jcim.3c00160). \n",
    "https://github.com/molecularinformatics/Computational-ADME/blob/main/ADME_public_set_3521.csv \\ \\\n",
    "> To **maintain consistency** with other benchmarks in the Polaris Hub, a thorough data curation process is carried out to ensure the accuracy of molecular presentations.\n",
    "> Therefore, the raw data from the data resource is not used here. \n",
    "> See more curation details in [01_polaris_adme-fang-1_data_curation.ipynb](https://github.com/polaris-hub/polaris-recipes/org-Biogen/fang2023_ADME/01_polaris_adme-fang-1_data_curation.ipynb)."
   ]
  },
  {
   "cell_type": "code",
   "execution_count": 6,
   "id": "917f6297",
   "metadata": {},
   "outputs": [],
   "source": [
    "# Load the curated data\n",
    "PATH = f\"gs://polaris-public/polaris-recipes/org-biogen/fang2023_ADME/data/curation/fang2023_ADME_curated.csv\"\n",
    "table = pd.read_csv(PATH)"
   ]
  },
  {
   "cell_type": "markdown",
   "id": "39e9b589-c4fc-4229-98d6-5a78ce236da7",
   "metadata": {},
   "source": [
    "### Below we specify the meta information of data columns"
   ]
  },
  {
   "cell_type": "code",
   "execution_count": 7,
   "id": "64f8d241-61db-4c25-a317-1ec6eafb065e",
   "metadata": {},
   "outputs": [],
   "source": [
    "# Here we simplify the column names\n",
    "table = table.rename(\n",
    "    columns={\n",
    "        \"MOL_molhash_id\": \"UNIQUE_ID\",\n",
    "        \"LOG HLM_CLint (mL/min/kg)\": \"LOG_HLM_CLint\",\n",
    "        \"LOG RLM_CLint (mL/min/kg)\": \"LOG_RLM_CLint\",\n",
    "        \"LOG MDR1-MDCK ER (B-A/A-B)\": \"LOG_MDR1-MDCK_ER\",\n",
    "        \"LOG PLASMA PROTEIN BINDING (HUMAN) (% unbound)\": \"LOG_HPPB\",\n",
    "        \"LOG PLASMA PROTEIN BINDING (RAT) (% unbound)\": \"LOG_RPPB\",\n",
    "        \"LOG SOLUBILITY PH 6.8 (ug/mL)\": \"LOG_SOLUBILITY\",\n",
    "    }\n",
    ")\n",
    "\n",
    "# molecule column\n",
    "mol_col = \"MOL_smiles\""
   ]
  },
  {
   "cell_type": "code",
   "execution_count": 8,
   "id": "0c40b1eb-4f9f-4d5e-bece-1d2de39df707",
   "metadata": {},
   "outputs": [],
   "source": [
    "table.reset_index(drop=True, inplace=True)"
   ]
  },
  {
   "cell_type": "markdown",
   "id": "22ddf97e-52ad-42fb-872e-17a8b6f3fb57",
   "metadata": {},
   "source": [
    "Not all the columns are necessary, only the columns which are useful for the benchmarks will be annotated. Here we only use the columns that were used for training in the original paper. "
   ]
  },
  {
   "cell_type": "markdown",
   "id": "63f59e2f-3f3b-4cfe-802f-8b8e530c9e5f",
   "metadata": {},
   "source": [
    "It's necessary to specify the key bioactivity columns, molecule structures and identifiers in the dataset with `ColumnAnnotation`. It is possible to add `user_attributes` with any key and values when needed, such as `unit`, `organism`, `scale` and optimization `objective`. \n",
    "\n",
    "**Abbrevations for the endpoint objective**\n",
    "- THTB: the higher the better\n",
    "- TLTB: the lower the better"
   ]
  },
  {
   "cell_type": "code",
   "execution_count": 9,
   "id": "3145fc25-e670-413a-8926-8ab9d6fcb3b0",
   "metadata": {},
   "outputs": [],
   "source": [
    "annotations = {\n",
    "    \"UNIQUE_ID\": ColumnAnnotation(\n",
    "        description=\"Molecular hash ID. See <datamol.mol.hash_mol>\"\n",
    "    ),\n",
    "    \"MOL_smiles\": ColumnAnnotation(\n",
    "        description=\"Molecule SMILES string after cleaning and standardization.\",\n",
    "        modality=\"molecule\",\n",
    "    ),\n",
    "    \"SMILES\": ColumnAnnotation(\n",
    "        description=\"Original molecule SMILES string from the publication.\"\n",
    "    ),\n",
    "    \"LOG_HLM_CLint\": ColumnAnnotation(\n",
    "        description=\"Human liver microsomal stability reported as intrinsic clearance\",\n",
    "        user_attributes={\n",
    "            \"unit\": \"mL/min/kg\",\n",
    "            \"scale\": \"log\",\n",
    "            \"organism\": \"human\",\n",
    "            \"objective\": \"Higher value\",\n",
    "        },\n",
    "    ),\n",
    "    \"LOG_RLM_CLint\": ColumnAnnotation(\n",
    "        description=\"Rat liver microsomal stability reported as intrinsic clearance\",\n",
    "        user_attributes={\n",
    "            \"unit\": \"mL/min/kg\",\n",
    "            \"scale\": \"log\",\n",
    "            \"organism\": \"rat\",\n",
    "            \"objective\": \"Lower value\",\n",
    "        },\n",
    "    ),\n",
    "    \"LOG_MDR1-MDCK_ER\": ColumnAnnotation(\n",
    "        description=\"MDR1-MDCK efflux ratio (B-A/A-B)\",\n",
    "        user_attributes={\n",
    "            \"unit\": \"mL/min/kg\",\n",
    "            \"scale\": \"log\",\n",
    "            \"objective\": \"Higher value\",\n",
    "        },\n",
    "    ),\n",
    "    \"LOG_HPPB\": ColumnAnnotation(\n",
    "        description=\"Human plasma protein binding\",\n",
    "        user_attributes={\"unit\": \"% unbound\", \"objective\": \"Lower value\"},\n",
    "    ),\n",
    "    \"LOG_RPPB\": ColumnAnnotation(\n",
    "        description=\"Rat plasma protein binding\",\n",
    "        user_attributes={\"unit\": \"% unbound\", \"objective\": \"Lower value\"},\n",
    "    ),\n",
    "    \"LOG_SOLUBILITY\": ColumnAnnotation(\n",
    "        description=\"Solubility was measured after equilibrium between the dissolved and solid state\",\n",
    "        user_attributes={\n",
    "            \"unit\": \"ug/mL\",\n",
    "            \"scale\": \"log\",\n",
    "            \"PH\": \"6.8\",\n",
    "            \"objective\": \"Higher value\",\n",
    "        },\n",
    "    ),\n",
    "}"
   ]
  },
  {
   "cell_type": "markdown",
   "id": "b1e0af61-896b-42f0-af62-5ffbf0004aec",
   "metadata": {},
   "source": [
    "### Define `Dataset` object"
   ]
  },
  {
   "cell_type": "code",
   "execution_count": 10,
   "id": "a1289480-0835-4730-89cf-1167de1e62f2",
   "metadata": {},
   "outputs": [],
   "source": [
    "dataset_version = \"v1\"\n",
    "dataset_name = f\"adme-fang-{dataset_version}\""
   ]
  },
  {
   "cell_type": "code",
   "execution_count": 11,
   "id": "9e606547-f711-4e4d-8c93-97002a8a2236",
   "metadata": {},
   "outputs": [],
   "source": [
    "dataset = Dataset(\n",
    "    table=table[annotations.keys()].copy(),\n",
    "    name=dataset_name,\n",
    "    description=\"A DMPK datasets of six ADME in vitro endpoints from fang et al. 2023. \",\n",
    "    source=\"https://doi.org/10.1021/acs.jcim.3c00160\",\n",
    "    annotations=annotations,\n",
    "    owner=owner,\n",
    "    tags=[\"adme\"],\n",
    "    readme=load_readme(f\"org-Biogen/{data_name}/fang2023_ADME_readme.md\"),\n",
    "    license=\"CC-BY-4.0\",\n",
    "    curation_reference=\"https://github.com/polaris-hub/polaris-recipes/org-Biogen/fang2023_ADME/01_polaris_adme-fang-1_data_curation.ipynb\",\n",
    ")"
   ]
  },
  {
   "cell_type": "code",
   "execution_count": 12,
   "id": "8b295721-e50f-4dae-881f-a7660f1284a9",
   "metadata": {},
   "outputs": [
    {
     "name": "stderr",
     "output_type": "stream",
     "text": [
      "\u001b[32m2024-07-15 22:53:01.473\u001b[0m | \u001b[1mINFO    \u001b[0m | \u001b[36mpolaris._mixins\u001b[0m:\u001b[36mmd5sum\u001b[0m:\u001b[36m27\u001b[0m - \u001b[1mComputing the checksum. This can be slow for large datasets.\u001b[0m\n"
     ]
    },
    {
     "data": {
      "text/plain": [
       "'gs://polaris-public/polaris-recipes/org-biogen/fang2023_ADME/datasets/adme-fang-v1/dataset.json'"
      ]
     },
     "execution_count": 12,
     "metadata": {},
     "output_type": "execute_result"
    }
   ],
   "source": [
    "# save the dataset to GCP\n",
    "SAVE_DIR = f\"{DATASET_DIR}/{dataset_name}\"\n",
    "dataset_path = dataset.to_json(SAVE_DIR)\n",
    "dataset_path"
   ]
  },
  {
   "cell_type": "code",
   "execution_count": 13,
   "id": "ae54f85a",
   "metadata": {},
   "outputs": [],
   "source": [
    "# from polaris.hub.client import PolarisHubClient\n",
    "# client = PolarisHubClient()\n",
    "# client.login()\n",
    "\n",
    "# client.upload_dataset(dataset=dataset, access=\"private\", owner=owner)"
   ]
  },
  {
   "cell_type": "code",
   "execution_count": null,
   "id": "5f74d18b",
   "metadata": {},
   "outputs": [],
   "source": []
  }
 ],
 "metadata": {
  "kernelspec": {
   "display_name": "Python 3 (ipykernel)",
   "language": "python",
   "name": "python3"
  },
  "language_info": {
   "codemirror_mode": {
    "name": "ipython",
    "version": 3
   },
   "file_extension": ".py",
   "mimetype": "text/x-python",
   "name": "python",
   "nbconvert_exporter": "python",
   "pygments_lexer": "ipython3",
   "version": "3.12.2"
  }
 },
 "nbformat": 4,
 "nbformat_minor": 5
}
