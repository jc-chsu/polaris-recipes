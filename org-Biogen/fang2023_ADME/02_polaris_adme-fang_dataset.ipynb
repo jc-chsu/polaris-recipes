{
 "cells": [
  {
   "cell_type": "markdown",
   "id": "545099e3-0eb9-4a80-a0c6-0448c0674502",
   "metadata": {},
   "source": [
    "# Dataset creation with [Polaris](https://github.com/polaris-hub/polaris)\n",
    "The first step of creating a benchmark is to set up a standard dataset which allows accessing the curated dataset (which has been demonstrated in <01_polaris_adme-fang_data_curation.ipynb>), and all necessary information about the dataset such as data source, description of endpoints, units etc. "
   ]
  },
  {
   "cell_type": "code",
   "execution_count": 1,
   "id": "30138c1e",
   "metadata": {
    "scrolled": true
   },
   "outputs": [],
   "source": [
    "%load_ext autoreload\n",
    "%autoreload 2\n",
    "\n",
    "import os\n",
    "import sys\n",
    "import pathlib\n",
    "\n",
    "import pandas as pd\n",
    "import datamol as dm\n",
    "import numpy as np\n",
    "\n",
    "from polaris.cli import PolarisHubClient\n",
    "\n",
    "# polaris dataset\n",
    "from polaris.dataset import Dataset, ColumnAnnotation\n",
    "from polaris.dataset._column import Modality\n",
    "\n",
    "from polaris.utils.types import HubOwner\n",
    "\n",
    "\n",
    "root = pathlib.Path(\"__file__\").absolute().parents[2]\n",
    "os.chdir(root)\n",
    "sys.path.insert(0, str(root))\n",
    "from utils.docs_utils import load_readme"
   ]
  },
  {
   "cell_type": "code",
   "execution_count": 2,
   "id": "d9c5ea4e-740d-4e4a-a62d-dcb508b441a9",
   "metadata": {},
   "outputs": [
    {
     "data": {
      "text/plain": [
       "HubOwner(slug='biogen', external_id=None, type='organization')"
      ]
     },
     "execution_count": 2,
     "metadata": {},
     "output_type": "execute_result"
    }
   ],
   "source": [
    "# Get the owner and organization\n",
    "org = \"biogen\"\n",
    "data_name = \"fang2023_ADME\"\n",
    "owner = HubOwner(slug=org, type=\"organization\")\n",
    "owner"
   ]
  },
  {
   "cell_type": "code",
   "execution_count": 3,
   "id": "2b30cfce-4ca6-40d5-9cc0-5eab86a11901",
   "metadata": {},
   "outputs": [],
   "source": [
    "BENCHMARK_DIR = f\"gs://polaris-public/{org}/{data_name}/benchmarks\"\n",
    "DATASET_DIR = f\"gs://polaris-public/{org}/{data_name}/datasets\"\n",
    "FIGURE_DIR =  f\"gs://polaris-public/{org}/{data_name}/figures\""
   ]
  },
  {
   "cell_type": "markdown",
   "id": "7f22cb4b-6303-425c-9a15-d437705baff9",
   "metadata": {},
   "source": [
    "## Load existing data\n",
    "> **Attention:** \\\n",
    "> The original dataset is published in [`Fang et al. 2023`](https://doi.org/10.1021/acs.jcim.3c00160). \n",
    "https://github.com/molecularinformatics/Computational-ADME/blob/main/ADME_public_set_3521.csv \\ \\\n",
    "> To **maintain consistency** with other benchmarks in the Polaris Hub, a thorough data curation process is carried out to ensure the accuracy of molecular presentations.\n",
    "> Therefore, the raw data from the data resource is not used here. \n",
    "> See more curation details in [01_polaris_adme-fang-1_data_curation.ipynb](https://github.com/polaris-hub/polaris-recipes/org-Biogen/fang2023_ADME/01_polaris_adme-fang-1_data_curation.ipynb)."
   ]
  },
  {
   "cell_type": "code",
   "execution_count": 4,
   "id": "917f6297",
   "metadata": {},
   "outputs": [],
   "source": [
    "# Load the curated data\n",
    "PATH = f\"gs://polaris-public/{org}/{data_name}/data/curation/fang2023_ADME_public_set_3521_curated.csv\"\n",
    "table = pd.read_csv(PATH)"
   ]
  },
  {
   "cell_type": "markdown",
   "id": "39e9b589-c4fc-4229-98d6-5a78ce236da7",
   "metadata": {},
   "source": [
    "### Below we specify the meta information of data columns"
   ]
  },
  {
   "cell_type": "code",
   "execution_count": 6,
   "id": "64f8d241-61db-4c25-a317-1ec6eafb065e",
   "metadata": {},
   "outputs": [],
   "source": [
    "# Here we simplify the column names\n",
    "table = table.rename(\n",
    "    columns={\n",
    "        \"MOL_molhash_id\": \"UNIQUE_ID\",\n",
    "        \"LOG HLM_CLint (mL/min/kg)\": \"LOG_HLM_CLint\",\n",
    "        \"LOG RLM_CLint (mL/min/kg)\": \"LOG_RLM_CLint\",\n",
    "        \"LOG MDR1-MDCK ER (B-A/A-B)\": \"LOG_MDR1-MDCK_ER\",\n",
    "        \"LOG PLASMA PROTEIN BINDING (HUMAN) (% unbound)\": \"LOG_HPPB\",\n",
    "        \"LOG PLASMA PROTEIN BINDING (RAT) (% unbound)\": \"LOG_RPPB\",\n",
    "        \"LOG SOLUBILITY PH 6.8 (ug/mL)\": \"LOG_SOLUBILITY\",\n",
    "    }\n",
    ")\n",
    "\n",
    "# molecule column\n",
    "mol_col = \"MOL_smiles\""
   ]
  },
  {
   "cell_type": "code",
   "execution_count": 7,
   "id": "0c40b1eb-4f9f-4d5e-bece-1d2de39df707",
   "metadata": {},
   "outputs": [],
   "source": [
    "table.reset_index(drop=True, inplace=True)"
   ]
  },
  {
   "cell_type": "markdown",
   "id": "22ddf97e-52ad-42fb-872e-17a8b6f3fb57",
   "metadata": {},
   "source": [
    "Not all the columns are necessary, only the columns which are useful for the benchmarks will be annotated. Here we only use the columns that were used for training in the original paper. "
   ]
  },
  {
   "cell_type": "markdown",
   "id": "63f59e2f-3f3b-4cfe-802f-8b8e530c9e5f",
   "metadata": {},
   "source": [
    "It's necessary to specify the key bioactivity columns, molecule structures and identifiers in the dataset with `ColumnAnnotation`. It is possible to add `user_attributes` with any key and values when needed, such as `unit`, `organism`, `scale` and optimization `objective`. \n",
    "\n",
    "**Abbrevations for the endpoint objective**\n",
    "- THTB: the higher the better\n",
    "- TLTB: the lower the better"
   ]
  },
  {
   "cell_type": "code",
   "execution_count": 8,
   "id": "3145fc25-e670-413a-8926-8ab9d6fcb3b0",
   "metadata": {},
   "outputs": [],
   "source": [
    "annotations = {\n",
    "    \"UNIQUE_ID\": ColumnAnnotation(\n",
    "        description=\"Molecular hash ID. See <datamol.mol.hash_mol>\"\n",
    "    ),\n",
    "    \"MOL_smiles\": ColumnAnnotation(\n",
    "        description=\"Molecule SMILES string after cleaning and standardization.\",\n",
    "        modality=Modality.MOLECULE,\n",
    "    ),\n",
    "    \"SMILES\": ColumnAnnotation(\n",
    "        description=\"Original molecule SMILES string from the publication.\"\n",
    "    ),\n",
    "    \"LOG_HLM_CLint\": ColumnAnnotation(\n",
    "        description=\"Human liver microsomal stability reported as intrinsic clearance\",\n",
    "        user_attributes={\n",
    "            \"unit\": \"mL/min/kg\",\n",
    "            \"scale\": \"log\",\n",
    "            \"organism\": \"human\",\n",
    "            \"objective\": \"Higher value\",\n",
    "        },\n",
    "    ),\n",
    "    \"LOG_RLM_CLint\": ColumnAnnotation(\n",
    "        description=\"Rat liver microsomal stability reported as intrinsic clearance\",\n",
    "        user_attributes={\n",
    "            \"unit\": \"mL/min/kg\",\n",
    "            \"scale\": \"log\",\n",
    "            \"organism\": \"rat\",\n",
    "            \"objective\": \"Lower value\",\n",
    "        },\n",
    "    ),\n",
    "    \"LOG_MDR1-MDCK_ER\": ColumnAnnotation(\n",
    "        description=\"MDR1-MDCK efflux ratio (B-A/A-B)\",\n",
    "        user_attributes={\n",
    "            \"unit\": \"mL/min/kg\",\n",
    "            \"scale\": \"log\",\n",
    "            \"objective\": \"Higher value\",\n",
    "        },\n",
    "    ),\n",
    "    \"LOG_HPPB\": ColumnAnnotation(\n",
    "        description=\"Human plasma protein binding\",\n",
    "        user_attributes={\"unit\": \"% unbound\", \"objective\": \"Lower value\"},\n",
    "    ),\n",
    "    \"LOG_RPPB\": ColumnAnnotation(\n",
    "        description=\"Rat plasma protein binding\",\n",
    "        user_attributes={\"unit\": \"% unbound\", \"objective\": \"Lower value\"},\n",
    "    ),\n",
    "    \"LOG_SOLUBILITY\": ColumnAnnotation(\n",
    "        description=\"Solubility was measured after equilibrium between the dissolved and solid state\",\n",
    "        user_attributes={\n",
    "            \"unit\": \"ug/mL\",\n",
    "            \"scale\": \"log\",\n",
    "            \"PH\": \"6.8\",\n",
    "            \"objective\": \"Higher value\",\n",
    "        },\n",
    "    ),\n",
    "}"
   ]
  },
  {
   "cell_type": "markdown",
   "id": "b1e0af61-896b-42f0-af62-5ffbf0004aec",
   "metadata": {},
   "source": [
    "### Define `Dataset` object"
   ]
  },
  {
   "cell_type": "code",
   "execution_count": 1,
   "id": "a1289480-0835-4730-89cf-1167de1e62f2",
   "metadata": {},
   "outputs": [],
   "source": [
    "dataset_version = \"v1\"\n",
    "dataset_name = f\"adme-fang-{dataset_version}\""
   ]
  },
  {
   "cell_type": "code",
   "execution_count": 10,
   "id": "9e606547-f711-4e4d-8c93-97002a8a2236",
   "metadata": {},
   "outputs": [],
   "source": [
    "dataset = Dataset(\n",
    "    table=table[annotations.keys()].copy(),\n",
    "    name=dataset_name,\n",
    "    description=\"A DMPK datasets of six ADME in vitro endpoints from fang et al. 2023. \",\n",
    "    source=\"https://doi.org/10.1021/acs.jcim.3c00160\",\n",
    "    annotations=annotations,\n",
    "    owner=owner,\n",
    "    tags=[\"adme\"],\n",
    "    readme=load_readme(f\"org-Biogen/{data_name}/fang2023_ADME_readme.md\"),\n",
    "    license=\"CC-BY-4.0\",\n",
    "    curation_reference=\"https://github.com/polaris-hub/polaris-recipes/org-Biogen/fang2023_ADME/01_polaris_adme-fang-1_data_curation.ipynb\",\n",
    ")"
   ]
  },
  {
   "cell_type": "code",
   "execution_count": 14,
   "id": "8b295721-e50f-4dae-881f-a7660f1284a9",
   "metadata": {},
   "outputs": [
    {
     "data": {
      "text/plain": [
       "'gs://polaris-public/biogen/fang2023_ADME/datasets/adme-fang-1/dataset.json'"
      ]
     },
     "execution_count": 14,
     "metadata": {},
     "output_type": "execute_result"
    }
   ],
   "source": [
    "# save the dataset to GCP\n",
    "SAVE_DIR = f\"{DATASET_DIR}/{dataset_name}\"\n",
    "dataset_path = dataset.to_json(SAVE_DIR)\n",
    "dataset_path"
   ]
  },
  {
   "cell_type": "code",
   "execution_count": 15,
   "id": "1bb6a29f",
   "metadata": {
    "scrolled": true
   },
   "outputs": [
    {
     "ename": "PolarisHubError",
     "evalue": "The request to the Polaris Hub failed. See the error message below for more details:\n{\n  \"message\": \"No identity found for externalId 'undefined', slug 'adme-fang-1', type: 'undefined'\"\n}",
     "output_type": "error",
     "traceback": [
      "\u001b[0;31m---------------------------------------------------------------------------\u001b[0m",
      "\u001b[0;31mHTTPStatusError\u001b[0m                           Traceback (most recent call last)",
      "File \u001b[0;32m~/Documents/Codebase/ValenceLab/polaris/polaris/hub/client.py:142\u001b[0m, in \u001b[0;36mPolarisHubClient._base_request_to_hub\u001b[0;34m(self, url, method, **kwargs)\u001b[0m\n\u001b[1;32m    141\u001b[0m \u001b[38;5;28;01mtry\u001b[39;00m:\n\u001b[0;32m--> 142\u001b[0m     \u001b[43mresponse\u001b[49m\u001b[38;5;241;43m.\u001b[39;49m\u001b[43mraise_for_status\u001b[49m\u001b[43m(\u001b[49m\u001b[43m)\u001b[49m\n\u001b[1;32m    144\u001b[0m \u001b[38;5;28;01mexcept\u001b[39;00m HTTPStatusError \u001b[38;5;28;01mas\u001b[39;00m error:\n\u001b[1;32m    145\u001b[0m     \u001b[38;5;66;03m# With an internal server error, we are not sure the custom error-handling code on the hub is reached.\u001b[39;00m\n",
      "File \u001b[0;32m~/miniconda3/envs/auroris/lib/python3.12/site-packages/httpx/_models.py:761\u001b[0m, in \u001b[0;36mResponse.raise_for_status\u001b[0;34m(self)\u001b[0m\n\u001b[1;32m    760\u001b[0m message \u001b[38;5;241m=\u001b[39m message\u001b[38;5;241m.\u001b[39mformat(\u001b[38;5;28mself\u001b[39m, error_type\u001b[38;5;241m=\u001b[39merror_type)\n\u001b[0;32m--> 761\u001b[0m \u001b[38;5;28;01mraise\u001b[39;00m HTTPStatusError(message, request\u001b[38;5;241m=\u001b[39mrequest, response\u001b[38;5;241m=\u001b[39m\u001b[38;5;28mself\u001b[39m)\n",
      "\u001b[0;31mHTTPStatusError\u001b[0m: Client error '404 Not Found' for url 'https://polarishub.io/api/v1/dataset/biogen/adme-fang-1'\nFor more information check: https://developer.mozilla.org/en-US/docs/Web/HTTP/Status/404",
      "\nThe above exception was the direct cause of the following exception:\n",
      "\u001b[0;31mPolarisHubError\u001b[0m                           Traceback (most recent call last)",
      "Cell \u001b[0;32mIn[15], line 2\u001b[0m\n\u001b[1;32m      1\u001b[0m \u001b[38;5;66;03m# upload to Polaris Hub\u001b[39;00m\n\u001b[0;32m----> 2\u001b[0m \u001b[43mdataset\u001b[49m\u001b[38;5;241;43m.\u001b[39;49m\u001b[43mupload_to_hub\u001b[49m\u001b[43m(\u001b[49m\u001b[43mowner\u001b[49m\u001b[38;5;241;43m=\u001b[39;49m\u001b[43mowner\u001b[49m\u001b[43m,\u001b[49m\u001b[43m \u001b[49m\u001b[43maccess\u001b[49m\u001b[38;5;241;43m=\u001b[39;49m\u001b[38;5;124;43m\"\u001b[39;49m\u001b[38;5;124;43mprivate\u001b[39;49m\u001b[38;5;124;43m\"\u001b[39;49m\u001b[43m)\u001b[49m\n",
      "File \u001b[0;32m~/Documents/Codebase/ValenceLab/polaris/polaris/dataset/_dataset.py:356\u001b[0m, in \u001b[0;36mDataset.upload_to_hub\u001b[0;34m(self, access, owner)\u001b[0m\n\u001b[1;32m    349\u001b[0m \u001b[38;5;28;01mdef\u001b[39;00m \u001b[38;5;21mupload_to_hub\u001b[39m(\n\u001b[1;32m    350\u001b[0m     \u001b[38;5;28mself\u001b[39m, access: Optional[AccessType] \u001b[38;5;241m=\u001b[39m \u001b[38;5;124m\"\u001b[39m\u001b[38;5;124mprivate\u001b[39m\u001b[38;5;124m\"\u001b[39m, owner: Optional[Union[HubOwner, \u001b[38;5;28mstr\u001b[39m]] \u001b[38;5;241m=\u001b[39m \u001b[38;5;28;01mNone\u001b[39;00m\n\u001b[1;32m    351\u001b[0m ):\n\u001b[1;32m    352\u001b[0m \u001b[38;5;250m    \u001b[39m\u001b[38;5;124;03m\"\"\"\u001b[39;00m\n\u001b[1;32m    353\u001b[0m \u001b[38;5;124;03m    Very light, convenient wrapper around the\u001b[39;00m\n\u001b[1;32m    354\u001b[0m \u001b[38;5;124;03m    [`PolarisHubClient.upload_dataset`][polaris.hub.client.PolarisHubClient.upload_dataset] method.\u001b[39;00m\n\u001b[1;32m    355\u001b[0m \u001b[38;5;124;03m    \"\"\"\u001b[39;00m\n\u001b[0;32m--> 356\u001b[0m     \u001b[38;5;28;43mself\u001b[39;49m\u001b[38;5;241;43m.\u001b[39;49m\u001b[43mclient\u001b[49m\u001b[38;5;241;43m.\u001b[39;49m\u001b[43mupload_dataset\u001b[49m\u001b[43m(\u001b[49m\u001b[38;5;28;43mself\u001b[39;49m\u001b[43m,\u001b[49m\u001b[43m \u001b[49m\u001b[43maccess\u001b[49m\u001b[38;5;241;43m=\u001b[39;49m\u001b[43maccess\u001b[49m\u001b[43m,\u001b[49m\u001b[43m \u001b[49m\u001b[43mowner\u001b[49m\u001b[38;5;241;43m=\u001b[39;49m\u001b[43mowner\u001b[49m\u001b[43m)\u001b[49m\n",
      "File \u001b[0;32m~/Documents/Codebase/ValenceLab/polaris/polaris/hub/client.py:567\u001b[0m, in \u001b[0;36mPolarisHubClient.upload_dataset\u001b[0;34m(self, dataset, access, timeout, owner, if_exists)\u001b[0m\n\u001b[1;32m    564\u001b[0m \u001b[38;5;66;03m# Step 1: Upload meta-data\u001b[39;00m\n\u001b[1;32m    565\u001b[0m \u001b[38;5;66;03m# Instead of directly uploading the table, we announce to the hub that we intend to upload one.\u001b[39;00m\n\u001b[1;32m    566\u001b[0m url \u001b[38;5;241m=\u001b[39m \u001b[38;5;124mf\u001b[39m\u001b[38;5;124m\"\u001b[39m\u001b[38;5;124m/dataset/\u001b[39m\u001b[38;5;132;01m{\u001b[39;00mdataset\u001b[38;5;241m.\u001b[39martifact_id\u001b[38;5;132;01m}\u001b[39;00m\u001b[38;5;124m\"\u001b[39m\n\u001b[0;32m--> 567\u001b[0m response \u001b[38;5;241m=\u001b[39m \u001b[38;5;28;43mself\u001b[39;49m\u001b[38;5;241;43m.\u001b[39;49m\u001b[43m_base_request_to_hub\u001b[49m\u001b[43m(\u001b[49m\n\u001b[1;32m    568\u001b[0m \u001b[43m    \u001b[49m\u001b[43murl\u001b[49m\u001b[38;5;241;43m=\u001b[39;49m\u001b[43murl\u001b[49m\u001b[43m,\u001b[49m\n\u001b[1;32m    569\u001b[0m \u001b[43m    \u001b[49m\u001b[43mmethod\u001b[49m\u001b[38;5;241;43m=\u001b[39;49m\u001b[38;5;124;43m\"\u001b[39;49m\u001b[38;5;124;43mPUT\u001b[39;49m\u001b[38;5;124;43m\"\u001b[39;49m\u001b[43m,\u001b[49m\n\u001b[1;32m    570\u001b[0m \u001b[43m    \u001b[49m\u001b[43mjson\u001b[49m\u001b[38;5;241;43m=\u001b[39;49m\u001b[43m{\u001b[49m\n\u001b[1;32m    571\u001b[0m \u001b[43m        \u001b[49m\u001b[38;5;124;43m\"\u001b[39;49m\u001b[38;5;124;43mtableContent\u001b[39;49m\u001b[38;5;124;43m\"\u001b[39;49m\u001b[43m:\u001b[49m\u001b[43m \u001b[49m\u001b[43m{\u001b[49m\n\u001b[1;32m    572\u001b[0m \u001b[43m            \u001b[49m\u001b[38;5;124;43m\"\u001b[39;49m\u001b[38;5;124;43msize\u001b[39;49m\u001b[38;5;124;43m\"\u001b[39;49m\u001b[43m:\u001b[49m\u001b[43m \u001b[49m\u001b[43mparquet_size\u001b[49m\u001b[43m,\u001b[49m\n\u001b[1;32m    573\u001b[0m \u001b[43m            \u001b[49m\u001b[38;5;124;43m\"\u001b[39;49m\u001b[38;5;124;43mfileType\u001b[39;49m\u001b[38;5;124;43m\"\u001b[39;49m\u001b[43m:\u001b[49m\u001b[43m \u001b[49m\u001b[38;5;124;43m\"\u001b[39;49m\u001b[38;5;124;43mparquet\u001b[39;49m\u001b[38;5;124;43m\"\u001b[39;49m\u001b[43m,\u001b[49m\n\u001b[1;32m    574\u001b[0m \u001b[43m            \u001b[49m\u001b[38;5;124;43m\"\u001b[39;49m\u001b[38;5;124;43mmd5sum\u001b[39;49m\u001b[38;5;124;43m\"\u001b[39;49m\u001b[43m:\u001b[49m\u001b[43m \u001b[49m\u001b[43mparquet_md5\u001b[49m\u001b[43m,\u001b[49m\n\u001b[1;32m    575\u001b[0m \u001b[43m        \u001b[49m\u001b[43m}\u001b[49m\u001b[43m,\u001b[49m\n\u001b[1;32m    576\u001b[0m \u001b[43m        \u001b[49m\u001b[38;5;124;43m\"\u001b[39;49m\u001b[38;5;124;43maccess\u001b[39;49m\u001b[38;5;124;43m\"\u001b[39;49m\u001b[43m:\u001b[49m\u001b[43m \u001b[49m\u001b[43maccess\u001b[49m\u001b[43m,\u001b[49m\n\u001b[1;32m    577\u001b[0m \u001b[43m        \u001b[49m\u001b[38;5;66;43;03m# \"slug\": dataset.artifact_id,\u001b[39;49;00m\n\u001b[1;32m    578\u001b[0m \u001b[43m        \u001b[49m\u001b[38;5;241;43m*\u001b[39;49m\u001b[38;5;241;43m*\u001b[39;49m\u001b[43mdataset_json\u001b[49m\u001b[43m,\u001b[49m\n\u001b[1;32m    579\u001b[0m \u001b[43m    \u001b[49m\u001b[43m}\u001b[49m\u001b[43m,\u001b[49m\n\u001b[1;32m    580\u001b[0m \u001b[43m    \u001b[49m\u001b[43mtimeout\u001b[49m\u001b[38;5;241;43m=\u001b[39;49m\u001b[43mtimeout\u001b[49m\u001b[43m,\u001b[49m\n\u001b[1;32m    581\u001b[0m \u001b[43m\u001b[49m\u001b[43m)\u001b[49m\n\u001b[1;32m    583\u001b[0m \u001b[38;5;66;03m# Step 2: Upload the parquet file\u001b[39;00m\n\u001b[1;32m    584\u001b[0m \u001b[38;5;66;03m# create an empty PUT request to get the table content URL from cloudflare\u001b[39;00m\n\u001b[1;32m    585\u001b[0m hub_response \u001b[38;5;241m=\u001b[39m \u001b[38;5;28mself\u001b[39m\u001b[38;5;241m.\u001b[39mrequest(\n\u001b[1;32m    586\u001b[0m     url\u001b[38;5;241m=\u001b[39mresponse[\u001b[38;5;124m\"\u001b[39m\u001b[38;5;124mtableContent\u001b[39m\u001b[38;5;124m\"\u001b[39m][\u001b[38;5;124m\"\u001b[39m\u001b[38;5;124murl\u001b[39m\u001b[38;5;124m\"\u001b[39m],\n\u001b[1;32m    587\u001b[0m     method\u001b[38;5;241m=\u001b[39m\u001b[38;5;124m\"\u001b[39m\u001b[38;5;124mPUT\u001b[39m\u001b[38;5;124m\"\u001b[39m,\n\u001b[0;32m   (...)\u001b[0m\n\u001b[1;32m    591\u001b[0m     timeout\u001b[38;5;241m=\u001b[39mtimeout,\n\u001b[1;32m    592\u001b[0m )\n",
      "File \u001b[0;32m~/Documents/Codebase/ValenceLab/polaris/polaris/hub/client.py:153\u001b[0m, in \u001b[0;36mPolarisHubClient._base_request_to_hub\u001b[0;34m(self, url, method, **kwargs)\u001b[0m\n\u001b[1;32m    151\u001b[0m     response \u001b[38;5;241m=\u001b[39m response\u001b[38;5;241m.\u001b[39mjson()\n\u001b[1;32m    152\u001b[0m     response \u001b[38;5;241m=\u001b[39m json\u001b[38;5;241m.\u001b[39mdumps(response, indent\u001b[38;5;241m=\u001b[39m\u001b[38;5;241m2\u001b[39m, sort_keys\u001b[38;5;241m=\u001b[39m\u001b[38;5;28;01mTrue\u001b[39;00m)\n\u001b[0;32m--> 153\u001b[0m     \u001b[38;5;28;01mraise\u001b[39;00m PolarisHubError(\n\u001b[1;32m    154\u001b[0m         \u001b[38;5;124mf\u001b[39m\u001b[38;5;124m\"\u001b[39m\u001b[38;5;124mThe request to the Polaris Hub failed. See the error message below for more details:\u001b[39m\u001b[38;5;130;01m\\n\u001b[39;00m\u001b[38;5;132;01m{\u001b[39;00mresponse\u001b[38;5;132;01m}\u001b[39;00m\u001b[38;5;124m\"\u001b[39m\n\u001b[1;32m    155\u001b[0m     ) \u001b[38;5;28;01mfrom\u001b[39;00m \u001b[38;5;21;01merror\u001b[39;00m\n\u001b[1;32m    156\u001b[0m \u001b[38;5;66;03m# Convert the response to json format if the response contains a 'text' body\u001b[39;00m\n\u001b[1;32m    157\u001b[0m \u001b[38;5;28;01mtry\u001b[39;00m:\n",
      "\u001b[0;31mPolarisHubError\u001b[0m: The request to the Polaris Hub failed. See the error message below for more details:\n{\n  \"message\": \"No identity found for externalId 'undefined', slug 'adme-fang-1', type: 'undefined'\"\n}"
     ]
    }
   ],
   "source": [
    "# upload to Polaris Hub\n",
    "dataset.upload_to_hub(owner=owner, access=\"private\")"
   ]
  },
  {
   "cell_type": "code",
   "execution_count": null,
   "id": "0ffa60c8",
   "metadata": {},
   "outputs": [],
   "source": []
  }
 ],
 "metadata": {
  "kernelspec": {
   "display_name": "Python 3 (ipykernel)",
   "language": "python",
   "name": "python3"
  },
  "language_info": {
   "codemirror_mode": {
    "name": "ipython",
    "version": 3
   },
   "file_extension": ".py",
   "mimetype": "text/x-python",
   "name": "python",
   "nbconvert_exporter": "python",
   "pygments_lexer": "ipython3",
   "version": "3.12.3"
  }
 },
 "nbformat": 4,
 "nbformat_minor": 5
}
