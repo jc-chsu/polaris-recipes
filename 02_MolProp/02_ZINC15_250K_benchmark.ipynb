{
 "cells": [
  {
   "cell_type": "markdown",
   "id": "842b317f-f6ad-4be6-b114-62d45a0a29f4",
   "metadata": {},
   "source": [
    "## Molecular representation benchmarks - MolProp250K"
   ]
  },
  {
   "cell_type": "markdown",
   "id": "ef98b2ed-b76f-422a-9134-a867732e26f5",
   "metadata": {},
   "source": [
    "**Molecular Properties Datasets**\n",
    "\n",
    "ZINC is a widely utilized public access database and tool set, playing a crucial role in various applications including virtual screening, ligand discovery, pharmacophore screens, benchmarking, and force field development. The **MolProp250K** dataset consists of 250,000 compounds randomly selected from **ZINC15**.\n",
    "\n",
    "**Benchmarking goal:** \n",
    "\n",
    "The objective is to comprehend the proficiency of a model in predicting these 'easy' properties, gauging its effectiveness. Ideally, any pre-trained models should, at the very least, demonstrate good performance in those tasks before applying them to the downstream tasks. \n",
    "\n",
    "**Molecule data resource**: \n",
    "\n",
    "https://raw.githubusercontent.com/aspuru-guzik-group/chemical_vae/master/models/zinc_properties/250k_rndm_zinc_drugs_clean_3.csv"
   ]
  },
  {
   "cell_type": "code",
   "execution_count": 1,
   "id": "18eced4a",
   "metadata": {},
   "outputs": [],
   "source": [
    "%load_ext autoreload\n",
    "%autoreload 2"
   ]
  },
  {
   "cell_type": "code",
   "execution_count": 2,
   "id": "30138c1e",
   "metadata": {},
   "outputs": [
    {
     "name": "stderr",
     "output_type": "stream",
     "text": [
      "/Users/lu.zhu/miniconda3/envs/pov3/lib/python3.11/site-packages/umap/distances.py:1063: NumbaDeprecationWarning: \u001b[1mThe 'nopython' keyword argument was not supplied to the 'numba.jit' decorator. The implicit default value for this argument is currently False, but it will be changed to True in Numba 0.59.0. See https://numba.readthedocs.io/en/stable/reference/deprecation.html#deprecation-of-object-mode-fall-back-behaviour-when-using-jit for details.\u001b[0m\n",
      "  @numba.jit()\n",
      "/Users/lu.zhu/miniconda3/envs/pov3/lib/python3.11/site-packages/umap/distances.py:1071: NumbaDeprecationWarning: \u001b[1mThe 'nopython' keyword argument was not supplied to the 'numba.jit' decorator. The implicit default value for this argument is currently False, but it will be changed to True in Numba 0.59.0. See https://numba.readthedocs.io/en/stable/reference/deprecation.html#deprecation-of-object-mode-fall-back-behaviour-when-using-jit for details.\u001b[0m\n",
      "  @numba.jit()\n",
      "/Users/lu.zhu/miniconda3/envs/pov3/lib/python3.11/site-packages/umap/distances.py:1086: NumbaDeprecationWarning: \u001b[1mThe 'nopython' keyword argument was not supplied to the 'numba.jit' decorator. The implicit default value for this argument is currently False, but it will be changed to True in Numba 0.59.0. See https://numba.readthedocs.io/en/stable/reference/deprecation.html#deprecation-of-object-mode-fall-back-behaviour-when-using-jit for details.\u001b[0m\n",
      "  @numba.jit()\n",
      "/Users/lu.zhu/miniconda3/envs/pov3/lib/python3.11/site-packages/umap/umap_.py:660: NumbaDeprecationWarning: \u001b[1mThe 'nopython' keyword argument was not supplied to the 'numba.jit' decorator. The implicit default value for this argument is currently False, but it will be changed to True in Numba 0.59.0. See https://numba.readthedocs.io/en/stable/reference/deprecation.html#deprecation-of-object-mode-fall-back-behaviour-when-using-jit for details.\u001b[0m\n",
      "  @numba.jit()\n"
     ]
    }
   ],
   "source": [
    "import pandas as pd\n",
    "import datamol as dm\n",
    "import numpy as np\n",
    "from sklearn.model_selection import ShuffleSplit\n",
    "import polaris \n",
    "from polaris.curation._chemistry_curator import SMILES_COL, UNIQUE_ID\n",
    "from polaris.dataset import Dataset, ColumnAnnotation\n",
    "from polaris.benchmark import SingleTaskBenchmarkSpecification, MultiTaskBenchmarkSpecification\n",
    "from polaris.utils.types import HubOwner, License\n",
    "\n",
    "import os\n",
    "import pathlib\n",
    "os.chdir(pathlib.Path(\"__file__\").parent.resolve().parent.absolute())\n",
    "from utils import *"
   ]
  },
  {
   "cell_type": "code",
   "execution_count": 3,
   "id": "999f4b65-dc57-4239-a413-3d9aa01766ee",
   "metadata": {},
   "outputs": [
    {
     "data": {
      "text/plain": [
       "'PolarisTest'"
      ]
     },
     "execution_count": 3,
     "metadata": {},
     "output_type": "execute_result"
    }
   ],
   "source": [
    "owner = HubOwner(organizationId=\"PolarisTest\", slug=\"polaristest\")\n",
    "owner.owner"
   ]
  },
  {
   "cell_type": "code",
   "execution_count": 4,
   "id": "8bdf0249-e652-4624-8e69-b604d02dc113",
   "metadata": {},
   "outputs": [],
   "source": [
    "BENCHMARK_DIR = \"gs://polaris-public/benchmarks/molprop\"\n",
    "DATASET_DIR = \"gs://polaris-public/datasets/molprop\"\n",
    "FIGURE_DIR = \"gs://polaris-public/datasets/molprop/figures\""
   ]
  },
  {
   "cell_type": "markdown",
   "id": "7f22cb4b-6303-425c-9a15-d437705baff9",
   "metadata": {},
   "source": [
    "## Load existing data\n",
    "> **Attention:** \\\n",
    "> The original dataset is published in https://raw.githubusercontent.com/aspuru-guzik-group/chemical_vae/master/models/zinc_properties/250k_rndm_zinc_drugs_clean_3.csv \\\n",
    "> To **maintain consistency** with other benchmarks in the Polaris Hub, a thorough data curation process is carried out to ensure the accuracy of molecular presentations.\n",
    "> Therefore, the raw data from the data resource is not used here. \n",
    "> See more curation details in [01_ZINC15_250K_curation.ipynb](https://github.com/polaris-hub/polaris-recipes/blob/mvp/02_MolProp/01_ZINC15_250K_curation.ipynb)\n"
   ]
  },
  {
   "cell_type": "code",
   "execution_count": 5,
   "id": "d517565a-b96f-41f6-aab3-495f65be8585",
   "metadata": {},
   "outputs": [],
   "source": [
    "# Path to the curated data\n",
    "url = \"gs://polaris-public/Data/zinc250k/molecular_properties_2023-07-14.parquet\"\n",
    "table = pd.read_parquet(url)"
   ]
  },
  {
   "cell_type": "code",
   "execution_count": 6,
   "id": "727a3ddd-36a7-48d3-966a-589c49c40975",
   "metadata": {},
   "outputs": [
    {
     "data": {
      "text/html": [
       "<div>\n",
       "<style scoped>\n",
       "    .dataframe tbody tr th:only-of-type {\n",
       "        vertical-align: middle;\n",
       "    }\n",
       "\n",
       "    .dataframe tbody tr th {\n",
       "        vertical-align: top;\n",
       "    }\n",
       "\n",
       "    .dataframe thead th {\n",
       "        text-align: right;\n",
       "    }\n",
       "</style>\n",
       "<table border=\"1\" class=\"dataframe\">\n",
       "  <thead>\n",
       "    <tr style=\"text-align: right;\">\n",
       "      <th></th>\n",
       "      <th>mw</th>\n",
       "      <th>fsp3</th>\n",
       "      <th>n_rotatable_bonds</th>\n",
       "      <th>tpsa</th>\n",
       "      <th>clogp</th>\n",
       "      <th>formal_charge</th>\n",
       "      <th>n_charged_atoms</th>\n",
       "      <th>refractivity</th>\n",
       "      <th>n_aromatic_rings</th>\n",
       "    </tr>\n",
       "  </thead>\n",
       "  <tbody>\n",
       "    <tr>\n",
       "      <th>count</th>\n",
       "      <td>249455.000000</td>\n",
       "      <td>249455.000000</td>\n",
       "      <td>249455.000000</td>\n",
       "      <td>249455.000000</td>\n",
       "      <td>249455.000000</td>\n",
       "      <td>249455.000000</td>\n",
       "      <td>249455.000000</td>\n",
       "      <td>249455.000000</td>\n",
       "      <td>249455.000000</td>\n",
       "    </tr>\n",
       "    <tr>\n",
       "      <th>mean</th>\n",
       "      <td>331.754739</td>\n",
       "      <td>0.411125</td>\n",
       "      <td>4.560173</td>\n",
       "      <td>64.820972</td>\n",
       "      <td>2.457121</td>\n",
       "      <td>0.202638</td>\n",
       "      <td>0.413209</td>\n",
       "      <td>89.161769</td>\n",
       "      <td>1.849833</td>\n",
       "    </tr>\n",
       "    <tr>\n",
       "      <th>std</th>\n",
       "      <td>61.843063</td>\n",
       "      <td>0.220376</td>\n",
       "      <td>1.550658</td>\n",
       "      <td>22.934680</td>\n",
       "      <td>1.434336</td>\n",
       "      <td>0.543069</td>\n",
       "      <td>0.668481</td>\n",
       "      <td>17.147501</td>\n",
       "      <td>0.969474</td>\n",
       "    </tr>\n",
       "    <tr>\n",
       "      <th>min</th>\n",
       "      <td>149.975153</td>\n",
       "      <td>0.000000</td>\n",
       "      <td>0.000000</td>\n",
       "      <td>0.000000</td>\n",
       "      <td>-6.876200</td>\n",
       "      <td>-3.000000</td>\n",
       "      <td>0.000000</td>\n",
       "      <td>17.490000</td>\n",
       "      <td>0.000000</td>\n",
       "    </tr>\n",
       "    <tr>\n",
       "      <th>25%</th>\n",
       "      <td>290.197537</td>\n",
       "      <td>0.250000</td>\n",
       "      <td>3.000000</td>\n",
       "      <td>49.310000</td>\n",
       "      <td>1.574900</td>\n",
       "      <td>0.000000</td>\n",
       "      <td>0.000000</td>\n",
       "      <td>77.750700</td>\n",
       "      <td>1.000000</td>\n",
       "    </tr>\n",
       "    <tr>\n",
       "      <th>50%</th>\n",
       "      <td>333.205242</td>\n",
       "      <td>0.384615</td>\n",
       "      <td>5.000000</td>\n",
       "      <td>64.110000</td>\n",
       "      <td>2.605600</td>\n",
       "      <td>0.000000</td>\n",
       "      <td>0.000000</td>\n",
       "      <td>89.188200</td>\n",
       "      <td>2.000000</td>\n",
       "    </tr>\n",
       "    <tr>\n",
       "      <th>75%</th>\n",
       "      <td>368.153621</td>\n",
       "      <td>0.555556</td>\n",
       "      <td>6.000000</td>\n",
       "      <td>79.710000</td>\n",
       "      <td>3.486760</td>\n",
       "      <td>0.000000</td>\n",
       "      <td>1.000000</td>\n",
       "      <td>100.281250</td>\n",
       "      <td>2.000000</td>\n",
       "    </tr>\n",
       "    <tr>\n",
       "      <th>max</th>\n",
       "      <td>499.726723</td>\n",
       "      <td>1.000000</td>\n",
       "      <td>11.000000</td>\n",
       "      <td>149.700000</td>\n",
       "      <td>8.252100</td>\n",
       "      <td>4.000000</td>\n",
       "      <td>6.000000</td>\n",
       "      <td>151.271000</td>\n",
       "      <td>6.000000</td>\n",
       "    </tr>\n",
       "  </tbody>\n",
       "</table>\n",
       "</div>"
      ],
      "text/plain": [
       "                  mw           fsp3  n_rotatable_bonds           tpsa  \\\n",
       "count  249455.000000  249455.000000      249455.000000  249455.000000   \n",
       "mean      331.754739       0.411125           4.560173      64.820972   \n",
       "std        61.843063       0.220376           1.550658      22.934680   \n",
       "min       149.975153       0.000000           0.000000       0.000000   \n",
       "25%       290.197537       0.250000           3.000000      49.310000   \n",
       "50%       333.205242       0.384615           5.000000      64.110000   \n",
       "75%       368.153621       0.555556           6.000000      79.710000   \n",
       "max       499.726723       1.000000          11.000000     149.700000   \n",
       "\n",
       "               clogp  formal_charge  n_charged_atoms   refractivity  \\\n",
       "count  249455.000000  249455.000000    249455.000000  249455.000000   \n",
       "mean        2.457121       0.202638         0.413209      89.161769   \n",
       "std         1.434336       0.543069         0.668481      17.147501   \n",
       "min        -6.876200      -3.000000         0.000000      17.490000   \n",
       "25%         1.574900       0.000000         0.000000      77.750700   \n",
       "50%         2.605600       0.000000         0.000000      89.188200   \n",
       "75%         3.486760       0.000000         1.000000     100.281250   \n",
       "max         8.252100       4.000000         6.000000     151.271000   \n",
       "\n",
       "       n_aromatic_rings  \n",
       "count     249455.000000  \n",
       "mean           1.849833  \n",
       "std            0.969474  \n",
       "min            0.000000  \n",
       "25%            1.000000  \n",
       "50%            2.000000  \n",
       "75%            2.000000  \n",
       "max            6.000000  "
      ]
     },
     "execution_count": 6,
     "metadata": {},
     "output_type": "execute_result"
    }
   ],
   "source": [
    "table.describe()"
   ]
  },
  {
   "cell_type": "markdown",
   "id": "39e9b589-c4fc-4229-98d6-5a78ce236da7",
   "metadata": {},
   "source": [
    "### Below we specify the meta information of data columns"
   ]
  },
  {
   "cell_type": "code",
   "execution_count": 7,
   "id": "69ff8b2e-4732-4607-b8ae-2ce9db245758",
   "metadata": {},
   "outputs": [],
   "source": [
    "data_cols = [\n",
    "        \"mw\",\n",
    "        \"fsp3\",\n",
    "        \"n_rotatable_bonds\",\n",
    "        \"tpsa\",\n",
    "        \"clogp\",\n",
    "        \"formal_charge\",\n",
    "        \"n_charged_atoms\",\n",
    "        \"refractivity\",\n",
    "        \"n_aromatic_rings\",\n",
    "    ]"
   ]
  },
  {
   "cell_type": "code",
   "execution_count": 8,
   "id": "cda9a430-b338-4aed-9427-030f365f1fd0",
   "metadata": {},
   "outputs": [],
   "source": [
    "annotations = {\n",
    "    \"smiles\": ColumnAnnotation(\n",
    "        description=\"Molecule Smiles string\",\n",
    "        modality=\"molecule\",\n",
    "    ),\n",
    "    \"mw\": ColumnAnnotation(\n",
    "        description=\"Molecular weight computed with <datamol.descriptor.mw>\"\n",
    "    ),\n",
    "    \"fsp3\": ColumnAnnotation(\n",
    "        description=\"Fraction of saturated carbons computed with <datamol.descriptor.fsp3>\"\n",
    "    ),\n",
    "    \"n_rotatable_bonds\": ColumnAnnotation(\n",
    "        description=\"A rotatable bond is defined as any single non-ring bond, attached to a non-terminal, non-hydrogen atom, computed with <datamol.descriptor.n_rotatable_bonds>\"\n",
    "    ),\n",
    "    \"tpsa\": ColumnAnnotation(\n",
    "        description=\"Topological polar surface area of a molecule is defined as the surface sum over all polar atoms or molecules, primarily oxygen and nitrogen, also including their attached hydrogen atoms. Computed with <datamol.descriptor.tpsa>\"\n",
    "    ),\n",
    "    \"clogp\": ColumnAnnotation(\n",
    "        description=\"Wildman-Crippen LogP value, computed with <datamol.descriptor.clogp>\"\n",
    "    ),\n",
    "    \"formal_charge\": ColumnAnnotation(\n",
    "        description=\"Formal Charge is a charge assigned to an atom under the assumption that all electrons in bonds are shared equally, computed with <datamol.descriptor.formal_charge>\"\n",
    "    ),\n",
    "    \"n_charged_atoms\": ColumnAnnotation(\n",
    "        description=\"Number of charged atoms in a molecule, computed with <datamol.descriptor.n_charged_atoms>\"\n",
    "    ),\n",
    "    \"refractivity\": ColumnAnnotation(\n",
    "        description=\"The total polarizability of a mole of a substance and is dependent on the temperature, the index of refraction, and the pressure. Computed with <datamol.descriptor.refeactivity>\"\n",
    "    ),\n",
    "    \"n_aromatic_rings\": ColumnAnnotation(\n",
    "        description=\"Number of aromatic rings in the molecule, computed with <datamol.descriptor.n_aromatic_rings>\"\n",
    "    ),\n",
    "}"
   ]
  },
  {
   "cell_type": "markdown",
   "id": "f8ad91bc-a0c1-41c7-8fff-f0225dd4e601",
   "metadata": {},
   "source": [
    "###  Define the `Dataset` object"
   ]
  },
  {
   "cell_type": "code",
   "execution_count": 9,
   "id": "1e0a8387-5168-41a4-bee2-763f632cbe49",
   "metadata": {},
   "outputs": [],
   "source": [
    "dataset_name = \"molprop250k_v1\""
   ]
  },
  {
   "cell_type": "code",
   "execution_count": 10,
   "id": "c8074cf0-d84a-4cd5-85ce-c9f74721baae",
   "metadata": {},
   "outputs": [],
   "source": [
    "\n",
    "dataset = Dataset(\n",
    "    table=table[annotations.keys()],\n",
    "    name=dataset_name,\n",
    "    description=\" Molecule properties computed for ZINC15 250K dataset. Those molecular properties are used to examinate the usefullness of any pretrained models. Especially, any model for generation purpose should not fail on these tasks.\",\n",
    "    source=\"https://polarishub.io/\",\n",
    "    annotations=annotations,\n",
    "    owner=owner,\n",
    "    tags=[\"Representation\", \"Molecular Properties\"],\n",
    "    readme=load_readme(f\"gs://polaris-public/datasets/readmes/{dataset_name}_readme.md\"), \n",
    "    license=License(id=\"CC-BY-4.0\")\n",
    ")"
   ]
  },
  {
   "cell_type": "code",
   "execution_count": 11,
   "id": "fa095640-7f7b-4401-9ff5-de67f88a0f62",
   "metadata": {},
   "outputs": [
    {
     "data": {
      "text/plain": [
       "'gs://polaris-public/datasets/molprop/molprop250k_v1/dataset.json'"
      ]
     },
     "execution_count": 11,
     "metadata": {},
     "output_type": "execute_result"
    }
   ],
   "source": [
    "# save the dataset\n",
    "SAVE_DIR = f\"{DATASET_DIR}/{dataset_name}\"\n",
    "dataset.to_json(SAVE_DIR)"
   ]
  },
  {
   "cell_type": "markdown",
   "id": "0507c05f-30ed-417d-b437-5d6e55b2dd44",
   "metadata": {},
   "source": [
    "## Create scaffold split for `molProp250K_zinc15` dataset\n",
    "> **Note:**\n",
    "> Here we use splitting tool `Splito` to split dataset to train and test. \\\n",
    "> [Splito](https://github.com/datamol-io/splito) is a machine learning dataset splitting library for life sciences.\n",
    "\n",
    "The objective is to comprehend the proficiency of a model in predicting these 'easy' properties. \\\n",
    "In order to select the predictive models which is able to generalize to new chemical space, a scaffold split is used to generate trian/test sets. "
   ]
  },
  {
   "cell_type": "code",
   "execution_count": 12,
   "id": "fc4f5a18-541d-4a37-ad7e-35f9a03a9644",
   "metadata": {},
   "outputs": [],
   "source": [
    "# scaffold split\n",
    "from splito._scaffold_split import ScaffoldSplit\n",
    "\n",
    "TEST_SIZE = 0.2\n",
    "SEED = 111\n",
    "splitter = ScaffoldSplit(smiles=dataset.table.smiles.values, n_jobs=-1, test_size=TEST_SIZE, random_state=SEED)\n",
    "scaffold_split = next(splitter.split(X=dataset.table.smiles.values))"
   ]
  },
  {
   "cell_type": "code",
   "execution_count": 14,
   "id": "3f496df3-5a80-4e66-a127-5a3629988b31",
   "metadata": {
    "scrolled": true
   },
   "outputs": [
    {
     "name": "stderr",
     "output_type": "stream",
     "text": [
      "\n",
      "KeyboardInterrupt\n",
      "\n"
     ]
    }
   ],
   "source": [
    "\n",
    "fig = display_umap(data=table, mol_col=\"smiles\", \n",
    "                   split=scaffold_split, split_name=\"scaffold_split\",\n",
    "                  method=\"umap\")\n",
    "save_figure(fig, local_path=f\"figures/{dataset_name}_umap_scaffold_split.png\", \n",
    "            remote_path=f\"{FIGURE_DIR}/{dataset_name}_umap_scaffold_split.png\")"
   ]
  },
  {
   "cell_type": "markdown",
   "id": "03aa7204-c71f-4b46-9bf0-e4a57e82ff35",
   "metadata": {},
   "source": [
    "## Create a Benchmark for MolProp250K dataset\n",
    "### Multitask for all properties with a shared scaffold split. "
   ]
  },
  {
   "cell_type": "code",
   "execution_count": 18,
   "id": "8d0e7595-f9bc-428f-85da-e56e8e8f52dd",
   "metadata": {},
   "outputs": [],
   "source": [
    "benchmark_version = \"v1\"\n",
    "benchmark_name=f\"molprop250k_multitask_reg_{benchmark_version}\""
   ]
  },
  {
   "cell_type": "code",
   "execution_count": 21,
   "id": "e34b59cd-65c9-45ad-a3d4-1e41993f35d3",
   "metadata": {},
   "outputs": [],
   "source": [
    "with open(f\"readme/benchmarks/{benchmark_name}_readme.md\") as f:\n",
    "    benchmark_readme = f.read()"
   ]
  },
  {
   "cell_type": "code",
   "execution_count": 23,
   "id": "ff3cce88",
   "metadata": {},
   "outputs": [],
   "source": [
    "benchmark = MultiTaskBenchmarkSpecification(\n",
    "    name = benchmark_name, \n",
    "    dataset=dataset,\n",
    "    target_cols=data_cols,\n",
    "    input_cols=\"smiles\",\n",
    "    split=scaffold_split,\n",
    "    main_metric=\"mean_squared_error\",\n",
    "    metrics=[\"mean_absolute_error\",\n",
    "            \"mean_squared_error\",\n",
    "            \"r2\",\n",
    "            \"spearmanr\",\n",
    "            \"pearsonr\",\n",
    "            \"explained_var\"],\n",
    "    tags=[\"Representation\", \"Multitask\", \"Regression\"], \n",
    "    description='A multitask benchmark to predict nine molecular properties including \"mw\", \"fsp3\", \"n_rotatable_bonds\", \"tpsa\", \"clogp\", \"formal_charge\", \"n_charged_atoms\",  \"refractivity\", \"n_aromatic_rings\" for 250K compounds from ZINC15. \"Scaffold-based\" splitter was used to define training and test set.',\n",
    "    owner = owner, readme=load_readme(f\"gs://polaris-public/benchmarks/readmes/{benchmark_name}_readme.md\"))\n"
   ]
  },
  {
   "cell_type": "markdown",
   "id": "5f211a1b-f93b-4be5-8a14-3e9aa81412c0",
   "metadata": {},
   "source": [
    "#### Save the benchmark"
   ]
  },
  {
   "cell_type": "code",
   "execution_count": 24,
   "id": "ea6e1551-986b-4dd2-8cf4-f9f06d9e018b",
   "metadata": {},
   "outputs": [],
   "source": [
    "BENCHMARK_SAVE_DIR = f\"{BENCHMARK_DIR}/{benchmark_name}\"\n",
    "path = benchmark.to_json(BENCHMARK_SAVE_DIR)"
   ]
  },
  {
   "cell_type": "code",
   "execution_count": 25,
   "id": "c564746c-6d09-43c7-aabf-1852e6d13ee5",
   "metadata": {},
   "outputs": [
    {
     "data": {
      "text/plain": [
       "'gs://polaris-public/benchmarks/molprop/molprop250k_multitask_reg_v1/benchmark.json'"
      ]
     },
     "execution_count": 25,
     "metadata": {},
     "output_type": "execute_result"
    }
   ],
   "source": [
    "path"
   ]
  },
  {
   "cell_type": "code",
   "execution_count": null,
   "id": "73b91379-578c-47cc-a60f-93a312f58102",
   "metadata": {},
   "outputs": [],
   "source": []
  }
 ],
 "metadata": {
  "kernelspec": {
   "display_name": "Python 3 (ipykernel)",
   "language": "python",
   "name": "python3"
  },
  "language_info": {
   "codemirror_mode": {
    "name": "ipython",
    "version": 3
   },
   "file_extension": ".py",
   "mimetype": "text/x-python",
   "name": "python",
   "nbconvert_exporter": "python",
   "pygments_lexer": "ipython3",
   "version": "3.11.5"
  }
 },
 "nbformat": 4,
 "nbformat_minor": 5
}
