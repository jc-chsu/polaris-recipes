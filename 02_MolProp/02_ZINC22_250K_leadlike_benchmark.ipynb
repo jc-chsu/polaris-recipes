{
 "cells": [
  {
   "cell_type": "markdown",
   "id": "842b317f-f6ad-4be6-b114-62d45a0a29f4",
   "metadata": {},
   "source": [
    "\n",
    "![molprop](https://storage.googleapis.com/polaris-public/icons/icons8-bear-100-Molprop.png)\n",
    "## Molecular representation benchmarks - MolProp250K leadlike"
   ]
  },
  {
   "cell_type": "markdown",
   "id": "ef98b2ed-b76f-422a-9134-a867732e26f5",
   "metadata": {},
   "source": [
    "## Background\n",
    "\n",
    "Molecular representations are crucial for understanding molecular structure, predicting properties, QSAR studies, toxicology and chemical modeling and other aspects in drug discovery tasks. Therefore, benchmarks for molecular representations are critical tools that drive progress in the field of computational chemistry and drug design. In recent years, many large models have been trained for learning molecular representation. The aim is to evaluate large pretrained models are capable of predicting various “easy-to-compute” molecular properties. \n",
    "\n",
    "\n",
    "## Benchmarking \n",
    "\n",
    "The objective is to comprehend the proficiency of a model in predicting these 'easy' properties of leadlike molecules, gauging its effectiveness. Ideally, any pre-trained models should, at the very least, demonstrate good performance in those tasks before applying them to the downstream tasks. \n",
    "\n",
    "## Description of readout\n",
    " The computed properties are molecular weight, fraction of sp3 carbon atoms (fsp3), number of rotatable bonds, topological polar surface area, computed logP, formal charge, number of charged atoms, refractivity and number of aromatic rings. These properties are widely used in molecule design and molecule prioritization.\n",
    "\n",
    "## Data resource\n",
    "**Reference**: https://pubs.acs.org/doi/10.1021/acs.jcim.2c01253 \n",
    "\n",
    "**Raw data**: https://cartblanche22.docking.org \n",
    "\n",
    "## Train/test split\n",
    "The objective is to comprehend the proficiency of a model in predicting these 'easy' properties. In order to select the predictive models which is able to generalize to new chemical space, a scaffold split is used to generate trian/test sets. "
   ]
  },
  {
   "cell_type": "code",
   "execution_count": 1,
   "id": "18eced4a",
   "metadata": {},
   "outputs": [],
   "source": [
    "%load_ext autoreload\n",
    "%autoreload 2"
   ]
  },
  {
   "cell_type": "code",
   "execution_count": 2,
   "id": "30138c1e",
   "metadata": {},
   "outputs": [],
   "source": [
    "import pandas as pd\n",
    "import datamol as dm\n",
    "import numpy as np\n",
    "from sklearn.model_selection import ShuffleSplit\n",
    "import polaris\n",
    "from polaris.curation._chemistry_curator import SMILES_COL, UNIQUE_ID\n",
    "from polaris.dataset import Dataset, ColumnAnnotation\n",
    "from polaris.benchmark import (\n",
    "    SingleTaskBenchmarkSpecification,\n",
    "    MultiTaskBenchmarkSpecification,\n",
    ")\n",
    "from polaris.utils.types import HubOwner, License"
   ]
  },
  {
   "cell_type": "code",
   "execution_count": 3,
   "id": "f6004edc-4aa1-4bbd-80c4-dcc90a7d44b2",
   "metadata": {},
   "outputs": [],
   "source": [
    "import os\n",
    "import pathlib\n",
    "os.chdir(pathlib.Path(\"__file__\").absolute().parents[1])\n"
   ]
  },
  {
   "cell_type": "code",
   "execution_count": 4,
   "id": "aaf8c824-195d-4324-a597-268909f3f1b7",
   "metadata": {},
   "outputs": [
    {
     "data": {
      "text/plain": [
       "'PolarisTest'"
      ]
     },
     "execution_count": 4,
     "metadata": {},
     "output_type": "execute_result"
    }
   ],
   "source": [
    "owner = HubOwner(organizationId=\"PolarisTest\", slug=\"polaristest\")\n",
    "owner.owner"
   ]
  },
  {
   "cell_type": "code",
   "execution_count": 5,
   "id": "cd02cd0f-44a2-469f-8982-08dba28cefde",
   "metadata": {},
   "outputs": [],
   "source": [
    "BENCHMARK_DIR = \"gs://polaris-public/benchmarks/molprop\"\n",
    "DATASET_DIR = \"gs://polaris-public/datasets/molprop\"\n",
    "FIGURE_DIR = \"gs://polaris-public/datasets/molprop/figures\""
   ]
  },
  {
   "cell_type": "markdown",
   "id": "7f22cb4b-6303-425c-9a15-d437705baff9",
   "metadata": {},
   "source": [
    "## Load existing data\n",
    "> **Attention:** \\\n",
    "> The ZINC22 is published in https://pubs.acs.org/doi/10.1021/acs.jcim.2c01253 and the dataset is downloaded from https://cartblanche22.docking.org \\\n",
    "> To **maintain consistency** with other benchmarks in the Polaris Hub, a thorough data curation process is carried out to ensure the accuracy of molecular presentations.\n",
    "> Therefore, the raw data from the data resource is not used here. \n",
    "> See more curation details in [03_ZINC22_250K_leadlike_curation.ipynb](https://github.com/polaris-hub/polaris-recipes/blob/mvp/02_MolProp/03_ZINC22_250K_leadlike_benchmark.ipynb)"
   ]
  },
  {
   "cell_type": "code",
   "execution_count": 6,
   "id": "d517565a-b96f-41f6-aab3-495f65be8585",
   "metadata": {},
   "outputs": [],
   "source": [
    "url = \"gs://polaris-public/Data/zinc250k_leadlike/molecular_properties_2023-08-14.parquet\"\n",
    "table = pd.read_parquet(url)"
   ]
  },
  {
   "cell_type": "code",
   "execution_count": 7,
   "id": "cda9a430-b338-4aed-9427-030f365f1fd0",
   "metadata": {},
   "outputs": [],
   "source": [
    "annotations = {\n",
    "    \"smiles\": ColumnAnnotation(\n",
    "        description=\"Molecule Smiles string\", modality=\"molecule\"\n",
    "    ),\n",
    "    \"mw\": ColumnAnnotation(\n",
    "        description=\"Molecular weight computed with <datamol.descriptor.mw>\"\n",
    "    ),\n",
    "    \"fsp3\": ColumnAnnotation(\n",
    "        description=\"Fraction of saturated carbons computed with <datamol.descriptor.fsp3>\"\n",
    "    ),\n",
    "    \"n_rotatable_bonds\": ColumnAnnotation(\n",
    "        description=\"A rotatable bond is defined as any single non-ring bond, attached to a non-terminal, non-hydrogen atom, computed with <datamol.descriptor.n_rotatable_bonds>\"\n",
    "    ),\n",
    "    \"tpsa\": ColumnAnnotation(\n",
    "        description=\"Topological polar surface area of a molecule is defined as the surface sum over all polar atoms or molecules, primarily oxygen and nitrogen, also including their attached hydrogen atoms. Computed with <datamol.descriptor.tpsa>\"\n",
    "    ),\n",
    "    \"clogp\": ColumnAnnotation(\n",
    "        description=\"Wildman-Crippen LogP value, computed with <datamol.descriptor.clogp>\"\n",
    "    ),\n",
    "    \"formal_charge\": ColumnAnnotation(\n",
    "        description=\"Formal Charge is a charge assigned to an atom under the assumption that all electrons in bonds are shared equally, computed with <datamol.descriptor.formal_charge>\"\n",
    "    ),\n",
    "    \"n_charged_atoms\": ColumnAnnotation(\n",
    "        description=\"Number of charged atoms in a molecule, computed with <datamol.descriptor.n_charged_atoms>\"\n",
    "    ),\n",
    "    \"refractivity\": ColumnAnnotation(\n",
    "        description=\"The total polarizability of a mole of a substance and is dependent on the temperature, the index of refraction, and the pressure. Computed with <datamol.descriptor.refeactivity>\"\n",
    "    ),\n",
    "    \"n_aromatic_rings\": ColumnAnnotation(\n",
    "        description=\"Number of aromatic rings in the molecule, computed with <datamol.descriptor.n_aromatic_rings>\"\n",
    "    ),\n",
    "}"
   ]
  },
  {
   "cell_type": "markdown",
   "id": "f8ad91bc-a0c1-41c7-8fff-f0225dd4e601",
   "metadata": {},
   "source": [
    "###  Define the `Dataset` object"
   ]
  },
  {
   "cell_type": "code",
   "execution_count": 8,
   "id": "acee69f5-193c-4b93-aca2-181980bfeddd",
   "metadata": {},
   "outputs": [],
   "source": [
    "dataset_name = \"molprop250kleadlike_v1\"\n",
    "with open(f\"readme/datasets/{dataset_name}_readme.md\") as f:\n",
    "    dataset_readme = f.read()"
   ]
  },
  {
   "cell_type": "code",
   "execution_count": 9,
   "id": "c8074cf0-d84a-4cd5-85ce-c9f74721baae",
   "metadata": {},
   "outputs": [],
   "source": [
    "\n",
    "dataset = Dataset(\n",
    "    table=table[annotations.keys()],\n",
    "    name=dataset_name,\n",
    "    description=\" Molecule properties computed for ZINC15 250K dataset. Those molecular properties are used to examinate the usefullness of any pretrained models. Especially, any model for generation purpose should not fail on these tasks.\",\n",
    "    source=\"https://pubs.acs.org/doi/10.1021/acs.jcim.2c01253\",\n",
    "    annotations=annotations,\n",
    "    owner=owner,\n",
    "    tags=[\"Representation\", \"Molecular Properties\"], \n",
    "    license=License(id=\"CC-BY-4.0\"), \n",
    "    readme=dataset_readme\n",
    ")"
   ]
  },
  {
   "cell_type": "code",
   "execution_count": 10,
   "id": "11c480a8-b4c9-407e-98ec-d241d87f8634",
   "metadata": {},
   "outputs": [
    {
     "name": "stderr",
     "output_type": "stream",
     "text": [
      "/Users/lu.zhu/miniconda3/envs/pov3/lib/python3.11/site-packages/google/auth/_default.py:78: UserWarning: Your application has authenticated using end user credentials from Google Cloud SDK without a quota project. You might receive a \"quota exceeded\" or \"API not enabled\" error. See the following page for troubleshooting: https://cloud.google.com/docs/authentication/adc-troubleshooting/user-creds. \n",
      "  warnings.warn(_CLOUD_SDK_CREDENTIALS_WARNING)\n",
      "/Users/lu.zhu/miniconda3/envs/pov3/lib/python3.11/site-packages/pydantic/main.py:309: UserWarning: Pydantic serializer warnings:\n",
      "  Expected `url` but got `str` - serialized value may not be as expected\n",
      "  Expected `url` but got `str` - serialized value may not be as expected\n",
      "  return self.__pydantic_serializer__.to_python(\n"
     ]
    },
    {
     "data": {
      "text/plain": [
       "'gs://polaris-public/datasets/molprop/molprop250kleadlike_v1/dataset.json'"
      ]
     },
     "execution_count": 10,
     "metadata": {},
     "output_type": "execute_result"
    }
   ],
   "source": [
    "# save the dataset\n",
    "DATASET_SAVE_DIR = f\"{DATASET_DIR}/{dataset_name}\"\n",
    "dataset.to_json(DATASET_SAVE_DIR)"
   ]
  },
  {
   "cell_type": "markdown",
   "id": "0507c05f-30ed-417d-b437-5d6e55b2dd44",
   "metadata": {},
   "source": [
    "## Create scaffold split for `molProp250K_zinc15` dataset\n",
    "> **Note:**\n",
    "> Here we use splitting tool `Splito` to split dataset to train and test. \\\n",
    "> [Splito](https://github.com/datamol-io/splito) is a machine learning dataset splitting library for life sciences.\n",
    "\n",
    "The objective is to comprehend the proficiency of a model in predicting these 'easy' properties. \\\n",
    "In order to select the predictive models which is able to generalize to new chemical space, a scaffold split is used to generate trian/test sets. "
   ]
  },
  {
   "cell_type": "code",
   "execution_count": 11,
   "id": "fc4f5a18-541d-4a37-ad7e-35f9a03a9644",
   "metadata": {},
   "outputs": [],
   "source": [
    "# scaffold split\n",
    "from partitio._scaffold_split import ScaffoldSplit\n",
    "\n",
    "TEST_SIZE = 0.2\n",
    "SEED = 111\n",
    "splitter = ScaffoldSplit(\n",
    "    smiles=dataset.table.smiles.values,\n",
    "    n_jobs=-1,\n",
    "    test_size=TEST_SIZE,\n",
    "    random_state=SEED,\n",
    ")\n",
    "scaffold_split = next(splitter.split(X=dataset.table.smiles.values))"
   ]
  },
  {
   "cell_type": "markdown",
   "id": "f888d7dc-d2b6-4c7f-a6fe-32c939fc11b5",
   "metadata": {},
   "source": [
    "**Visualize the train/test distribution in the chemical space***"
   ]
  },
  {
   "cell_type": "code",
   "execution_count": null,
   "id": "e871c7d2-d4b1-4990-aed5-a61d5d0363c5",
   "metadata": {},
   "outputs": [
    {
     "name": "stderr",
     "output_type": "stream",
     "text": [
      "/Users/lu.zhu/miniconda3/envs/pov3/lib/python3.11/site-packages/umap/distances.py:1063: NumbaDeprecationWarning: \u001b[1mThe 'nopython' keyword argument was not supplied to the 'numba.jit' decorator. The implicit default value for this argument is currently False, but it will be changed to True in Numba 0.59.0. See https://numba.readthedocs.io/en/stable/reference/deprecation.html#deprecation-of-object-mode-fall-back-behaviour-when-using-jit for details.\u001b[0m\n",
      "  @numba.jit()\n",
      "/Users/lu.zhu/miniconda3/envs/pov3/lib/python3.11/site-packages/umap/distances.py:1071: NumbaDeprecationWarning: \u001b[1mThe 'nopython' keyword argument was not supplied to the 'numba.jit' decorator. The implicit default value for this argument is currently False, but it will be changed to True in Numba 0.59.0. See https://numba.readthedocs.io/en/stable/reference/deprecation.html#deprecation-of-object-mode-fall-back-behaviour-when-using-jit for details.\u001b[0m\n",
      "  @numba.jit()\n",
      "/Users/lu.zhu/miniconda3/envs/pov3/lib/python3.11/site-packages/umap/distances.py:1086: NumbaDeprecationWarning: \u001b[1mThe 'nopython' keyword argument was not supplied to the 'numba.jit' decorator. The implicit default value for this argument is currently False, but it will be changed to True in Numba 0.59.0. See https://numba.readthedocs.io/en/stable/reference/deprecation.html#deprecation-of-object-mode-fall-back-behaviour-when-using-jit for details.\u001b[0m\n",
      "  @numba.jit()\n",
      "/Users/lu.zhu/miniconda3/envs/pov3/lib/python3.11/site-packages/umap/umap_.py:660: NumbaDeprecationWarning: \u001b[1mThe 'nopython' keyword argument was not supplied to the 'numba.jit' decorator. The implicit default value for this argument is currently False, but it will be changed to True in Numba 0.59.0. See https://numba.readthedocs.io/en/stable/reference/deprecation.html#deprecation-of-object-mode-fall-back-behaviour-when-using-jit for details.\u001b[0m\n",
      "  @numba.jit()\n"
     ]
    }
   ],
   "source": [
    "from utils import display_chemspace\n",
    "data_name = \"molprop250kleadlike_v1\"\n",
    "fig = display_chemspace(dataset.table.copy(), 'smiles', split =scaffold_split, \n",
    "                   split_name=\"scaffold_split\")\n",
    "method = \"umap\"\n",
    "save_figure(fig,remote_path=f\"{FIGURE_DIR}/{data_name}_{method}_scaffold_split.png\", \n",
    "            local_path=f\"figures/{data_name}_{method}_scaffold_split.png\" )"
   ]
  },
  {
   "cell_type": "markdown",
   "id": "861730ed",
   "metadata": {},
   "source": [
    "## Create a Benchmark for MolProp250KLeadlike dataset\n",
    "### Multitask for all properties with a shared scaffold split. "
   ]
  },
  {
   "cell_type": "code",
   "execution_count": null,
   "id": "8f1676ed-4b03-4f30-9665-58ac0dd28563",
   "metadata": {},
   "outputs": [],
   "source": [
    "benchmark_version = \"v1\"\n",
    "benchmark_name=f\"molprop250kleadlike_multitask_reg_{benchmark_version}\""
   ]
  },
  {
   "cell_type": "code",
   "execution_count": 27,
   "id": "ff3cce88",
   "metadata": {},
   "outputs": [],
   "source": [
    "benchmark = MultiTaskBenchmarkSpecification(\n",
    "    name=benchmark_name,\n",
    "    dataset=dataset,\n",
    "    target_cols=[\n",
    "        \"mw\",\n",
    "        \"fsp3\",\n",
    "        \"n_rotatable_bonds\",\n",
    "        \"tpsa\",\n",
    "        \"clogp\",\n",
    "        \"formal_charge\",\n",
    "        \"n_charged_atoms\",\n",
    "        \"refractivity\",\n",
    "        \"n_aromatic_rings\",\n",
    "    ],\n",
    "    input_cols=\"smiles\",\n",
    "    split=scaffold_split,\n",
    "    main_metric=\"mean_squared_error\",\n",
    "    metrics=[\"mean_absolute_error\",\n",
    "            \"mean_squared_error\",\n",
    "            \"r2\",\n",
    "            \"spearmanr\",\n",
    "            \"pearsonr\",\n",
    "            \"explained_var\"],\n",
    "    tags=[\"Representation\", \"multitask\", \"Regression\"],\n",
    "    description='A multitask benchmark to predict nine molecular properties including \"mw\", \"fsp3\", \"n_rotatable_bonds\", \"tpsa\", \"clogp\", \"formal_charge\", \"n_charged_atoms\",  \"refractivity\", \"n_aromatic_rings\" for 250K leadlike compounds from ZINC22. \"Scaffold-based\" splitter was used to define training and test set.\"',\n",
    "    owner=owner,\n",
    "    readme=benchmark_readme\n",
    ")"
   ]
  },
  {
   "cell_type": "markdown",
   "id": "5f211a1b-f93b-4be5-8a14-3e9aa81412c0",
   "metadata": {},
   "source": [
    "### Save the benchmark"
   ]
  },
  {
   "cell_type": "code",
   "execution_count": 28,
   "id": "ea6e1551-986b-4dd2-8cf4-f9f06d9e018b",
   "metadata": {},
   "outputs": [],
   "source": [
    "BENCHMARK_SAVE_DIR = f\"{BENCHMARK_DIR}/{benchmark_name}\"\n",
    "path = benchmark.to_json(BENCHMARK_SAVE_DIR)"
   ]
  },
  {
   "cell_type": "code",
   "execution_count": 29,
   "id": "56efce34",
   "metadata": {},
   "outputs": [
    {
     "data": {
      "text/plain": [
       "'gs://polaris-public/benchmarks/molprop/molprop250kleadlike_multitask_reg_v1/benchmark.json'"
      ]
     },
     "execution_count": 29,
     "metadata": {},
     "output_type": "execute_result"
    }
   ],
   "source": [
    "path"
   ]
  },
  {
   "cell_type": "code",
   "execution_count": null,
   "id": "e4a1c900-3503-4839-9646-48c2356bb181",
   "metadata": {},
   "outputs": [],
   "source": []
  },
  {
   "cell_type": "code",
   "execution_count": null,
   "id": "c0c3fc0d-8c81-44dd-9bf8-08de63e2d8b7",
   "metadata": {},
   "outputs": [],
   "source": []
  }
 ],
 "metadata": {
  "kernelspec": {
   "display_name": "Python 3 (ipykernel)",
   "language": "python",
   "name": "python3"
  },
  "language_info": {
   "codemirror_mode": {
    "name": "ipython",
    "version": 3
   },
   "file_extension": ".py",
   "mimetype": "text/x-python",
   "name": "python",
   "nbconvert_exporter": "python",
   "pygments_lexer": "ipython3",
   "version": "3.11.5"
  }
 },
 "nbformat": 4,
 "nbformat_minor": 5
}
