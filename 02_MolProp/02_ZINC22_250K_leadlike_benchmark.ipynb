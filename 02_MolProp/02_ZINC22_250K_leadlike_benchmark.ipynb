{
 "cells": [
  {
   "cell_type": "markdown",
   "id": "842b317f-f6ad-4be6-b114-62d45a0a29f4",
   "metadata": {},
   "source": [
    "## Molecular representation benchmarks - MolProp250K leadlike"
   ]
  },
  {
   "cell_type": "markdown",
   "id": "ef98b2ed-b76f-422a-9134-a867732e26f5",
   "metadata": {},
   "source": [
    "**Molecular Properties Datasets**\n",
    "ZINC is a widely utilized public access database and tool set, playing a crucial role in various applications including virtual screening, ligand discovery, pharmacophore screens, benchmarking, and force field development. The **MolProp250KLeadlike** dataset consists of 250,000 leadlike compounds randomly selected from ZINC25.\n",
    "\n",
    "**Benchmarking goal:** The objective is to comprehend the proficiency of a model in predicting these 'easy' properties, gauging its effectiveness. Ideally, any pre-trained models should, at the very least, demonstrate good performance in those tasks before applying them to the downstream tasks. \n",
    "\n",
    "**Molecule data resource**: https://cartblanche22.docking.org/search/random"
   ]
  },
  {
   "cell_type": "code",
   "execution_count": 1,
   "id": "18eced4a",
   "metadata": {},
   "outputs": [],
   "source": [
    "%load_ext autoreload\n",
    "%autoreload 2"
   ]
  },
  {
   "cell_type": "code",
   "execution_count": 2,
   "id": "30138c1e",
   "metadata": {},
   "outputs": [],
   "source": [
    "import pandas as pd\n",
    "import datamol as dm\n",
    "import numpy as np\n",
    "from sklearn.model_selection import ShuffleSplit\n",
    "import polaris \n",
    "from polaris.curation._chemistry_curator import SMILES_COL, UNIQUE_ID\n",
    "from polaris.dataset import Dataset, ColumnAnnotation\n",
    "from polaris.benchmark import SingleTaskBenchmarkSpecification, MultiTaskBenchmarkSpecification\n",
    "from polaris.utils.types import HubOwner"
   ]
  },
  {
   "cell_type": "code",
   "execution_count": 3,
   "id": "aaf8c824-195d-4324-a597-268909f3f1b7",
   "metadata": {},
   "outputs": [
    {
     "data": {
      "text/plain": [
       "'PolarisTest'"
      ]
     },
     "execution_count": 3,
     "metadata": {},
     "output_type": "execute_result"
    }
   ],
   "source": [
    "owner = HubOwner(organizationId=\"PolarisTest\", slug=\"polaristest\")\n",
    "owner.owner"
   ]
  },
  {
   "cell_type": "markdown",
   "id": "7f22cb4b-6303-425c-9a15-d437705baff9",
   "metadata": {},
   "source": [
    "## Load existing Dataset object"
   ]
  },
  {
   "cell_type": "code",
   "execution_count": 4,
   "id": "d517565a-b96f-41f6-aab3-495f65be8585",
   "metadata": {},
   "outputs": [],
   "source": [
    "url = \"gs://polaris-private/Data/zinc250k_leadlike/molecular_properties_2023-08-14.parquet\"\n",
    "table = pd.read_parquet(url)"
   ]
  },
  {
   "cell_type": "code",
   "execution_count": 5,
   "id": "cda9a430-b338-4aed-9427-030f365f1fd0",
   "metadata": {},
   "outputs": [],
   "source": [
    "annotations = {\n",
    "    \"smiles\": ColumnAnnotation(\n",
    "        description=\"Molecule Smiles string\", \n",
    "        modality=\"molecule\"\n",
    "    ),\n",
    "    \"mw\": ColumnAnnotation(\n",
    "        description=\"Molecular weight computed with <datamol.descriptor.mw>\"\n",
    "    ),\n",
    "    \"fsp3\": ColumnAnnotation(\n",
    "        description=\"Fraction of saturated carbons computed with <datamol.descriptor.fsp3>\"\n",
    "    ),\n",
    "    \"n_rotatable_bonds\": ColumnAnnotation(\n",
    "        description=\"A rotatable bond is defined as any single non-ring bond, attached to a non-terminal, non-hydrogen atom, computed with <datamol.descriptor.n_rotatable_bonds>\"\n",
    "    ),\n",
    "    \"tpsa\": ColumnAnnotation(\n",
    "        description=\"Topological polar surface area of a molecule is defined as the surface sum over all polar atoms or molecules, primarily oxygen and nitrogen, also including their attached hydrogen atoms. Computed with <datamol.descriptor.tpsa>\"\n",
    "    ),\n",
    "    \"clogp\": ColumnAnnotation(\n",
    "        description=\"Wildman-Crippen LogP value, computed with <datamol.descriptor.clogp>\"\n",
    "    ),\n",
    "    \"formal_charge\": ColumnAnnotation(\n",
    "        description=\"Formal Charge is a charge assigned to an atom under the assumption that all electrons in bonds are shared equally, computed with <datamol.descriptor.formal_charge>\"\n",
    "    ),\n",
    "    \"n_charged_atoms\": ColumnAnnotation(\n",
    "        description=\"Number of charged atoms in a molecule, computed with <datamol.descriptor.n_charged_atoms>\"\n",
    "    ),\n",
    "    \"refractivity\": ColumnAnnotation(\n",
    "        description=\"The total polarizability of a mole of a substance and is dependent on the temperature, the index of refraction, and the pressure. Computed with <datamol.descriptor.refeactivity>\"\n",
    "    ),\n",
    "    \"n_aromatic_rings\": ColumnAnnotation(\n",
    "        description=\"Number of aromatic rings in the molecule, computed with <datamol.descriptor.n_aromatic_rings>\"\n",
    "    ),\n",
    "}"
   ]
  },
  {
   "cell_type": "code",
   "execution_count": 6,
   "id": "c8074cf0-d84a-4cd5-85ce-c9f74721baae",
   "metadata": {},
   "outputs": [],
   "source": [
    "dataset = Dataset(\n",
    "    table=table[annotations.keys()],\n",
    "    name=\"MolProp250KLeadlike\",\n",
    "    description=\" Molecule properties computed for ZINC15 250K dataset. Those molecular properties are used to examinate the usefullness of any pretrained models. Especially, any model for generation purpose should not fail on these tasks.\",\n",
    "    source=\"https://www.valencelabs.com\",\n",
    "    annotations=annotations,\n",
    "    owner=owner,\n",
    "    tags=[\"Representation\"]\n",
    ")"
   ]
  },
  {
   "cell_type": "code",
   "execution_count": 7,
   "id": "11c480a8-b4c9-407e-98ec-d241d87f8634",
   "metadata": {},
   "outputs": [
    {
     "name": "stderr",
     "output_type": "stream",
     "text": [
      "/Users/lu.zhu/miniconda3/envs/pov3/lib/python3.11/site-packages/google/auth/_default.py:78: UserWarning: Your application has authenticated using end user credentials from Google Cloud SDK without a quota project. You might receive a \"quota exceeded\" or \"API not enabled\" error. See the following page for troubleshooting: https://cloud.google.com/docs/authentication/adc-troubleshooting/user-creds. \n",
      "  warnings.warn(_CLOUD_SDK_CREDENTIALS_WARNING)\n",
      "/Users/lu.zhu/miniconda3/envs/pov3/lib/python3.11/site-packages/pydantic/main.py:309: UserWarning: Pydantic serializer warnings:\n",
      "  Expected `url` but got `str` - serialized value may not be as expected\n",
      "  return self.__pydantic_serializer__.to_python(\n"
     ]
    },
    {
     "data": {
      "text/plain": [
       "'gs://polaris-private/Datasets/MolProp/MolProp250KLeadlike/dataset.json'"
      ]
     },
     "execution_count": 7,
     "metadata": {},
     "output_type": "execute_result"
    }
   ],
   "source": [
    "# save the dataset\n",
    "SAVE_DIR = \"gs://polaris-private/Datasets/MolProp/MolProp250KLeadlike\"\n",
    "dataset.to_json(SAVE_DIR)"
   ]
  },
  {
   "cell_type": "markdown",
   "id": "0507c05f-30ed-417d-b437-5d6e55b2dd44",
   "metadata": {},
   "source": [
    "# Create scaffold split for MolProp250KLeadlike"
   ]
  },
  {
   "cell_type": "code",
   "execution_count": 8,
   "id": "fc4f5a18-541d-4a37-ad7e-35f9a03a9644",
   "metadata": {},
   "outputs": [],
   "source": [
    "# scaffold split\n",
    "from partitio._scaffold_split import ScaffoldSplit\n",
    "\n",
    "TEST_SIZE = 0.2\n",
    "SEED = 111\n",
    "splitter = ScaffoldSplit(smiles=dataset.table.smiles.values, n_jobs=-1, test_size=TEST_SIZE, random_state=SEED)\n",
    "scaffold_split = next(splitter.split(X=dataset.table.smiles.values))"
   ]
  },
  {
   "cell_type": "markdown",
   "id": "03aa7204-c71f-4b46-9bf0-e4a57e82ff35",
   "metadata": {},
   "source": [
    "## Multitask for all properties with a shared scaffold split. "
   ]
  },
  {
   "cell_type": "code",
   "execution_count": 9,
   "id": "ff3cce88",
   "metadata": {},
   "outputs": [],
   "source": [
    "from polaris.benchmark import MultiTaskBenchmarkSpecification\n",
    "\n",
    "benchmark = MultiTaskBenchmarkSpecification(\n",
    "    name = \"MolProp250KLeadlike_multitask_reg\", \n",
    "    dataset=dataset,\n",
    "    target_cols=[\n",
    "        \"mw\",\n",
    "        \"fsp3\",\n",
    "        \"n_rotatable_bonds\",\n",
    "        \"tpsa\",\n",
    "        \"clogp\",\n",
    "        \"formal_charge\",\n",
    "        \"n_charged_atoms\",\n",
    "        \"refractivity\",\n",
    "        \"n_aromatic_rings\",\n",
    "    ],\n",
    "    input_cols=\"smiles\",\n",
    "    split=scaffold_split,\n",
    "    metrics=\"mean_absolute_error\",\n",
    "    tags=[\"Representation\", 'multitask', 'Regression'],\n",
    "    description='A multitask benchmark to predict nine molecular properties including \"mw\", \"fsp3\", \"n_rotatable_bonds\", \"tpsa\", \"clogp\", \"formal_charge\", \"n_charged_atoms\",  \"refractivity\", \"n_aromatic_rings\" for 250K leadlike compounds from ZINC22. \"Scaffold-based\" splitter was used to define training and test set.\"', \n",
    "    owner=owner\n",
    ")"
   ]
  },
  {
   "cell_type": "markdown",
   "id": "5f211a1b-f93b-4be5-8a14-3e9aa81412c0",
   "metadata": {},
   "source": [
    "### Save the benchmark"
   ]
  },
  {
   "cell_type": "code",
   "execution_count": 10,
   "id": "ea6e1551-986b-4dd2-8cf4-f9f06d9e018b",
   "metadata": {},
   "outputs": [
    {
     "name": "stderr",
     "output_type": "stream",
     "text": [
      "/Users/lu.zhu/miniconda3/envs/pov3/lib/python3.11/site-packages/pydantic/main.py:309: UserWarning: Pydantic serializer warnings:\n",
      "  Expected `Union[Dataset, str, dict[str, any]]` but got `Dataset` - serialized value may not be as expected\n",
      "  Expected `url` but got `str` - serialized value may not be as expected\n",
      "  return self.__pydantic_serializer__.to_python(\n",
      "/Users/lu.zhu/miniconda3/envs/pov3/lib/python3.11/site-packages/pydantic/main.py:309: UserWarning: Pydantic serializer warnings:\n",
      "  Expected `url` but got `str` - serialized value may not be as expected\n",
      "  return self.__pydantic_serializer__.to_python(\n"
     ]
    }
   ],
   "source": [
    "name = \"MolProp250KLeadlike_multitask_reg\"\n",
    "BENCHMARK_DIR = f\"gs://polaris-private/benchmarks/molprop/{name}\"\n",
    "path = benchmark.to_json(BENCHMARK_DIR)"
   ]
  },
  {
   "cell_type": "code",
   "execution_count": 11,
   "id": "56efce34",
   "metadata": {},
   "outputs": [
    {
     "data": {
      "text/plain": [
       "['polaris-private/benchmarks/molprop/MolProp250KLeadlike_multitask_reg/benchmark.json',\n",
       " 'polaris-private/benchmarks/molprop/MolProp250KLeadlike_multitask_reg/dataset.json',\n",
       " 'polaris-private/benchmarks/molprop/MolProp250KLeadlike_multitask_reg/table.parquet']"
      ]
     },
     "execution_count": 11,
     "metadata": {},
     "output_type": "execute_result"
    }
   ],
   "source": [
    "fs = dm.fs.get_mapper(BENCHMARK_DIR).fs\n",
    "fs.ls(BENCHMARK_DIR)"
   ]
  },
  {
   "cell_type": "code",
   "execution_count": null,
   "id": "cfd9aa26-e4cd-4a89-b058-60ace75259fb",
   "metadata": {},
   "outputs": [],
   "source": []
  }
 ],
 "metadata": {
  "kernelspec": {
   "display_name": "Python 3 (ipykernel)",
   "language": "python",
   "name": "python3"
  },
  "language_info": {
   "codemirror_mode": {
    "name": "ipython",
    "version": 3
   },
   "file_extension": ".py",
   "mimetype": "text/x-python",
   "name": "python",
   "nbconvert_exporter": "python",
   "pygments_lexer": "ipython3",
   "version": "3.11.5"
  }
 },
 "nbformat": 4,
 "nbformat_minor": 5
}
