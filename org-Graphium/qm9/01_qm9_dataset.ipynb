{
 "cells": [
  {
   "cell_type": "markdown",
   "metadata": {},
   "source": [
    "Note: this notebook is set up to run with the env.yml containing the name 'polaris_datasets'"
   ]
  },
  {
   "cell_type": "markdown",
   "metadata": {},
   "source": [
    "# Dataset creation with [Polaris](https://github.com/polaris-hub/polaris) "
   ]
  },
  {
   "cell_type": "code",
   "execution_count": 1,
   "metadata": {},
   "outputs": [],
   "source": [
    "%load_ext autoreload\n",
    "%autoreload 2\n",
    "\n",
    "import os\n",
    "import sys\n",
    "import pathlib\n",
    "\n",
    "import pandas as pd\n",
    "import datamol as dm\n",
    "\n",
    "# polaris dataset\n",
    "from polaris.dataset import Dataset, ColumnAnnotation\n",
    "\n",
    "from polaris.utils.types import HubOwner\n",
    "\n",
    "\n",
    "root = pathlib.Path(\"__file__\").absolute().parents[2]\n",
    "os.chdir(root)\n",
    "sys.path.insert(0, str(root))\n",
    "from utils.docs_utils import load_readme"
   ]
  },
  {
   "cell_type": "code",
   "execution_count": 2,
   "metadata": {},
   "outputs": [
    {
     "data": {
      "text/plain": [
       "HubOwner(slug='graphium', external_id=None, type='organization')"
      ]
     },
     "execution_count": 2,
     "metadata": {},
     "output_type": "execute_result"
    }
   ],
   "source": [
    "# Get the owner and organization\n",
    "org = \"Graphium\"\n",
    "data_name = \"qm9\"\n",
    "dirname = dm.fs.join(root, f\"org-{org}\", data_name)\n",
    "gcp_root = f\"gs://polaris-public/polaris-recipes/org-{org}/{data_name}\"\n",
    "\n",
    "owner = HubOwner(slug=org.lower(), type=\"organization\")\n",
    "owner"
   ]
  },
  {
   "cell_type": "code",
   "execution_count": 3,
   "metadata": {},
   "outputs": [],
   "source": [
    "BENCHMARK_DIR = f\"{gcp_root}/benchmarks\"\n",
    "DATASET_DIR = f\"{gcp_root}/datasets\"\n",
    "FIGURE_DIR = f\"{gcp_root}/figures\""
   ]
  },
  {
   "cell_type": "markdown",
   "metadata": {},
   "source": [
    "## Load existing data"
   ]
  },
  {
   "cell_type": "code",
   "execution_count": 4,
   "metadata": {},
   "outputs": [
    {
     "data": {
      "text/plain": [
       "Index(['mol_id', 'smiles', 'A', 'B', 'C', 'mu', 'alpha', 'homo', 'lumo', 'gap',\n",
       "       'r2', 'zpve', 'u0', 'u298', 'h298', 'g298', 'cv', 'u0_atom',\n",
       "       'u298_atom', 'h298_atom', 'g298_atom'],\n",
       "      dtype='object')"
      ]
     },
     "execution_count": 4,
     "metadata": {},
     "output_type": "execute_result"
    }
   ],
   "source": [
    "PATH = f\"{gcp_root}/data/raw/qm9.csv\"\n",
    "table = pd.read_csv(PATH)\n",
    "table.columns"
   ]
  },
  {
   "cell_type": "markdown",
   "metadata": {},
   "source": [
    "### Below we specify the meta information of data columns"
   ]
  },
  {
   "cell_type": "code",
   "execution_count": 5,
   "metadata": {},
   "outputs": [],
   "source": [
    "# Additional meta-data on the column level\n",
    "annotations = {\n",
    "    \"mol_id\": ColumnAnnotation(description=\"Molecule identifier\"),\n",
    "    \"smiles\": ColumnAnnotation(\n",
    "        description=\"Molecule SMILES string\", modality=\"molecule\"\n",
    "    ),\n",
    "    \"A\": ColumnAnnotation(\n",
    "        description=\"Rotational constant A\", userAttributes={\"unit\": \"GHz\"}\n",
    "    ),\n",
    "    \"B\": ColumnAnnotation(\n",
    "        description=\"Rotational constant B\", userAttributes={\"unit\": \"GHz\"}\n",
    "    ),\n",
    "    \"C\": ColumnAnnotation(\n",
    "        description=\"Rotational constant C\", userAttributes={\"unit\": \"GHz\"}\n",
    "    ),\n",
    "    \"mu\": ColumnAnnotation(\n",
    "        description=\"Dipole moment\", userAttributes={\"unit\": \"Debye\"}\n",
    "    ),\n",
    "    \"alpha\": ColumnAnnotation(\n",
    "        description=\"Isotropic polarizability\", userAttributes={\"unit\": \"Bohr^3\"}\n",
    "    ),\n",
    "    \"homo\": ColumnAnnotation(\n",
    "        description=\"Energy of Highest occupied molecular orbital (HOMO)\",\n",
    "        userAttributes={\"unit\": \"Hartree\"},\n",
    "    ),\n",
    "    \"lumo\": ColumnAnnotation(\n",
    "        description=\"Energy of Lowest occupied molecular orbital (LUMO)\",\n",
    "        userAttributes={\"unit\": \"Hartree\"},\n",
    "    ),\n",
    "    \"gap\": ColumnAnnotation(\n",
    "        description=\"Gap, difference between LUMO and HOMO\",\n",
    "        userAttributes={\"unit\": \"Hartree\"},\n",
    "    ),\n",
    "    \"r2\": ColumnAnnotation(\n",
    "        description=\"Electronic spatial extent\", userAttributes={\"unit\": \"Bohr^2\"}\n",
    "    ),\n",
    "    \"zpve\": ColumnAnnotation(\n",
    "        description=\"Zero point vibrational energy\", userAttributes={\"unit\": \"Hartree\"}\n",
    "    ),\n",
    "    \"u0\": ColumnAnnotation(\n",
    "        description=\"Internal energy at 0 K\", userAttributes={\"unit\": \"Hartree\"}\n",
    "    ),\n",
    "    \"u298\": ColumnAnnotation(\n",
    "        description=\"Internal energy at 298.15 K\", userAttributes={\"unit\": \"Hartree\"}\n",
    "    ),\n",
    "    \"h298\": ColumnAnnotation(\n",
    "        description=\"Enthalpy at 298.15 K\", userAttributes={\"unit\": \"Hartree\"}\n",
    "    ),\n",
    "    \"g298\": ColumnAnnotation(\n",
    "        description=\"Free energy at 298.15 K\", userAttributes={\"unit\": \"Hartree\"}\n",
    "    ),\n",
    "    \"cv\": ColumnAnnotation(\n",
    "        description=\"Heat capacity at 298.15 K\", userAttributes={\"unit\": \"cal/(mol K)\"}\n",
    "    ),\n",
    "    \"u0_atom\": ColumnAnnotation(\n",
    "        description=\"Atomization energy at 0 K atom\",\n",
    "        userAttributes={\"unit\": \"kcal/mol\"},\n",
    "    ),\n",
    "    \"u298_atom\": ColumnAnnotation(\n",
    "        description=\"Atomization energy at 298.15 K atom\",\n",
    "        userAttributes={\"unit\": \"kcal/mol\"},\n",
    "    ),\n",
    "    \"h298_atom\": ColumnAnnotation(\n",
    "        description=\"Atomization enthalpy at 298.15 K atom\",\n",
    "        userAttributes={\"unit\": \"kcal/mol\"},\n",
    "    ),\n",
    "    \"g298_atom\": ColumnAnnotation(\n",
    "        description=\"Atomization free energy at 298.15 K atom\",\n",
    "        userAttributes={\"unit\": \"kcal/mol\"},\n",
    "    ),\n",
    "}"
   ]
  },
  {
   "cell_type": "markdown",
   "metadata": {},
   "source": [
    "### Define `Dataset` object"
   ]
  },
  {
   "cell_type": "code",
   "execution_count": 6,
   "metadata": {},
   "outputs": [],
   "source": [
    "version = \"v1\"\n",
    "dataset_name = f\"{data_name}-{version}\""
   ]
  },
  {
   "cell_type": "code",
   "execution_count": 7,
   "metadata": {},
   "outputs": [],
   "source": [
    "dataset = Dataset(\n",
    "    # The table is the core data-structure required to construct a dataset\n",
    "    table=table[annotations.keys()],\n",
    "    # Additional meta-data on the dataset level.\n",
    "    name=dataset_name,\n",
    "    description=\"QM9 contains quantum chemical properties for a relevant, consistent, and comprehensive chemical space of small organic molecules\",\n",
    "    source=\"https://www.nature.com/articles/sdata201422\",\n",
    "    annotations=annotations,\n",
    "    tags=[\"Graph\", \"Quantum chemistry\"],\n",
    "    owner=owner,\n",
    "    license=\"CC-BY-4.0\",\n",
    "    user_attributes={\"year\": \"2014\"},\n",
    "    readme=load_readme(f\"org-Graphium/{data_name}/{data_name}_readme.md\"),\n",
    ")"
   ]
  },
  {
   "cell_type": "code",
   "execution_count": 8,
   "metadata": {},
   "outputs": [
    {
     "data": {
      "text/plain": [
       "'gs://polaris-public/polaris-recipes/org-Graphium/qm9/datasets/qm9-v1/dataset.json'"
      ]
     },
     "execution_count": 8,
     "metadata": {},
     "output_type": "execute_result"
    }
   ],
   "source": [
    "# save the dataset to GCP\n",
    "SAVE_DIR = f\"{DATASET_DIR}/{dataset_name}\"\n",
    "dataset_path = dataset.to_json(SAVE_DIR)\n",
    "dataset_path"
   ]
  },
  {
   "cell_type": "code",
   "execution_count": 11,
   "metadata": {},
   "outputs": [
    {
     "name": "stderr",
     "output_type": "stream",
     "text": [
      "\u001b[32m2024-07-18 23:40:14.185\u001b[0m | \u001b[32m\u001b[1mSUCCESS \u001b[0m | \u001b[36mpolaris.hub.client\u001b[0m:\u001b[36mlogin\u001b[0m:\u001b[36m224\u001b[0m - \u001b[32m\u001b[1mYou are successfully logged in to the Polaris Hub.\u001b[0m\n",
      "\u001b[32m2024-07-18 23:40:36.507\u001b[0m | \u001b[32m\u001b[1mSUCCESS \u001b[0m | \u001b[36mpolaris.hub.client\u001b[0m:\u001b[36mupload_dataset\u001b[0m:\u001b[36m569\u001b[0m - \u001b[32m\u001b[1mYour dataset has been successfully uploaded to the Hub. View it here: https://polarishub.io/datasets/graphium/qm9-v1\u001b[0m\n"
     ]
    },
    {
     "data": {
      "text/plain": [
       "{'id': 'qqwqD8SblJfFrHhJHu170',\n",
       " 'createdAt': '2024-07-19T03:40:15.334Z',\n",
       " 'deletedAt': None,\n",
       " 'name': 'qm9-v1',\n",
       " 'slug': 'qm9-v1',\n",
       " 'description': 'QM9 contains quantum chemical properties for a relevant, consistent, and comprehensive chemical space of small organic molecules',\n",
       " 'tags': ['Graph', 'Quantum chemistry'],\n",
       " 'userAttributes': {'year': '2014'},\n",
       " 'access': 'private',\n",
       " 'isCertified': False,\n",
       " 'polarisVersion': 'dev',\n",
       " 'readme': '## Background\\nQM9 is a well-known dataset in the field of 3D GNNs. It consists of 19 graph-level quantum properties associated to an energy-minimized 3D conformation of the molecules. It is considered a simple dataset since all the molecules have at most 9 heavy atoms. We chose QM9 in our ToyMix since it is very similar to the larger proposed quantum datasets, PCQM4M_multitask and PM6_83M, but with smaller molecules.\\n\\n## Assay information\\nComputed geometric, energetic, electronic, and thermodynamic properties for 134k stable small organic molecules made up of CHONF. All properties were calculated at the B3LYP/6-31G(2df,p) level of quantum chemistry. For the predominant stoichiometry, C7H10O2, there are 6,095 constitutional isomers among the 134k molecules, with reported energies, enthalpies, and free energies of atomization at the more accurate G4MP2 level of theory.\\n\\n## Data resource\\nReference: [Quantum chemistry structures and properties of 134 kilo molecules](https://www.nature.com/articles/sdata201422)\\n',\n",
       " 'ownerId': 'zMTB7lQiiukqEmLQF7EjT',\n",
       " 'creatorId': 'NKnaHGybLqwSHcaMEHqfF',\n",
       " 'state': 'upload_pending',\n",
       " 'source': 'https://www.nature.com/articles/sdata201422',\n",
       " 'curationReference': None,\n",
       " 'nRows': 133885,\n",
       " 'nColumns': 21,\n",
       " 'license': 'CC-BY-4.0',\n",
       " 'md5Sum': '2c005f1f1328a988aae3dc6ee5e93ea1',\n",
       " 'annotations': {'A': {'dtype': 'float64',\n",
       "   'modality': 'UNKNOWN',\n",
       "   'isPointer': False,\n",
       "   'description': 'Rotational constant A',\n",
       "   'userAttributes': {'unit': 'GHz'}},\n",
       "  'B': {'dtype': 'float64',\n",
       "   'modality': 'UNKNOWN',\n",
       "   'isPointer': False,\n",
       "   'description': 'Rotational constant B',\n",
       "   'userAttributes': {'unit': 'GHz'}},\n",
       "  'C': {'dtype': 'float64',\n",
       "   'modality': 'UNKNOWN',\n",
       "   'isPointer': False,\n",
       "   'description': 'Rotational constant C',\n",
       "   'userAttributes': {'unit': 'GHz'}},\n",
       "  'cv': {'dtype': 'float64',\n",
       "   'modality': 'UNKNOWN',\n",
       "   'isPointer': False,\n",
       "   'description': 'Heat capacity at 298.15 K',\n",
       "   'userAttributes': {'unit': 'cal/(mol K)'}},\n",
       "  'mu': {'dtype': 'float64',\n",
       "   'modality': 'UNKNOWN',\n",
       "   'isPointer': False,\n",
       "   'description': 'Dipole moment',\n",
       "   'userAttributes': {'unit': 'Debye'}},\n",
       "  'r2': {'dtype': 'float64',\n",
       "   'modality': 'UNKNOWN',\n",
       "   'isPointer': False,\n",
       "   'description': 'Electronic spatial extent',\n",
       "   'userAttributes': {'unit': 'Bohr^2'}},\n",
       "  'u0': {'dtype': 'float64',\n",
       "   'modality': 'UNKNOWN',\n",
       "   'isPointer': False,\n",
       "   'description': 'Internal energy at 0 K',\n",
       "   'userAttributes': {'unit': 'Hartree'}},\n",
       "  'gap': {'dtype': 'float64',\n",
       "   'modality': 'UNKNOWN',\n",
       "   'isPointer': False,\n",
       "   'description': 'Gap, difference between LUMO and HOMO',\n",
       "   'userAttributes': {'unit': 'Hartree'}},\n",
       "  'g298': {'dtype': 'float64',\n",
       "   'modality': 'UNKNOWN',\n",
       "   'isPointer': False,\n",
       "   'description': 'Free energy at 298.15 K',\n",
       "   'userAttributes': {'unit': 'Hartree'}},\n",
       "  'h298': {'dtype': 'float64',\n",
       "   'modality': 'UNKNOWN',\n",
       "   'isPointer': False,\n",
       "   'description': 'Enthalpy at 298.15 K',\n",
       "   'userAttributes': {'unit': 'Hartree'}},\n",
       "  'homo': {'dtype': 'float64',\n",
       "   'modality': 'UNKNOWN',\n",
       "   'isPointer': False,\n",
       "   'description': 'Energy of Highest occupied molecular orbital (HOMO)',\n",
       "   'userAttributes': {'unit': 'Hartree'}},\n",
       "  'lumo': {'dtype': 'float64',\n",
       "   'modality': 'UNKNOWN',\n",
       "   'isPointer': False,\n",
       "   'description': 'Energy of Lowest occupied molecular orbital (LUMO)',\n",
       "   'userAttributes': {'unit': 'Hartree'}},\n",
       "  'u298': {'dtype': 'float64',\n",
       "   'modality': 'UNKNOWN',\n",
       "   'isPointer': False,\n",
       "   'description': 'Internal energy at 298.15 K',\n",
       "   'userAttributes': {'unit': 'Hartree'}},\n",
       "  'zpve': {'dtype': 'float64',\n",
       "   'modality': 'UNKNOWN',\n",
       "   'isPointer': False,\n",
       "   'description': 'Zero point vibrational energy',\n",
       "   'userAttributes': {'unit': 'Hartree'}},\n",
       "  'alpha': {'dtype': 'float64',\n",
       "   'modality': 'UNKNOWN',\n",
       "   'isPointer': False,\n",
       "   'description': 'Isotropic polarizability',\n",
       "   'userAttributes': {'unit': 'Bohr^3'}},\n",
       "  'mol_id': {'dtype': 'object',\n",
       "   'modality': 'UNKNOWN',\n",
       "   'isPointer': False,\n",
       "   'description': 'Molecule identifier',\n",
       "   'userAttributes': {}},\n",
       "  'smiles': {'dtype': 'object',\n",
       "   'modality': 'MOLECULE',\n",
       "   'isPointer': False,\n",
       "   'description': 'Molecule SMILES string',\n",
       "   'userAttributes': {}},\n",
       "  'u0_atom': {'dtype': 'float64',\n",
       "   'modality': 'UNKNOWN',\n",
       "   'isPointer': False,\n",
       "   'description': 'Atomization energy at 0 K atom',\n",
       "   'userAttributes': {'unit': 'kcal/mol'}},\n",
       "  'g298_atom': {'dtype': 'float64',\n",
       "   'modality': 'UNKNOWN',\n",
       "   'isPointer': False,\n",
       "   'description': 'Atomization free energy at 298.15 K atom',\n",
       "   'userAttributes': {'unit': 'kcal/mol'}},\n",
       "  'h298_atom': {'dtype': 'float64',\n",
       "   'modality': 'UNKNOWN',\n",
       "   'isPointer': False,\n",
       "   'description': 'Atomization enthalpy at 298.15 K atom',\n",
       "   'userAttributes': {'unit': 'kcal/mol'}},\n",
       "  'u298_atom': {'dtype': 'float64',\n",
       "   'modality': 'UNKNOWN',\n",
       "   'isPointer': False,\n",
       "   'description': 'Atomization energy at 298.15 K atom',\n",
       "   'userAttributes': {'unit': 'kcal/mol'}}},\n",
       " 'tableContent': {'url': 'https://polarishub.io/storage/dataset/graphium/qm9-v1/table.parquet',\n",
       "  'size': 19315543,\n",
       "  'md5Sum': 'ad1cef21569e9f93af01ac8ddaf609cf',\n",
       "  'fileType': 'parquet'},\n",
       " 'defaultAdapters': {},\n",
       " 'zarrRootPath': None,\n",
       " 'zarrContent': {},\n",
       " 'artifactId': 'graphium/qm9-v1',\n",
       " 'creator': {'slug': 'lu-valencelabs',\n",
       "  'externalId': 'user_2gtYwEALU6nz7YYhVOTrlJmkWtN',\n",
       "  'type': 'user'},\n",
       " 'owner': {'slug': 'graphium',\n",
       "  'externalId': 'org_2jLxcFOg0QSWqTheLPLjUp9AWys',\n",
       "  'type': 'organization'},\n",
       " 'benchmarks': [],\n",
       " 'review': None}"
      ]
     },
     "execution_count": 11,
     "metadata": {},
     "output_type": "execute_result"
    }
   ],
   "source": [
    "from polaris.hub.client import PolarisHubClient\n",
    "\n",
    "client = PolarisHubClient()\n",
    "client.login()\n",
    "\n",
    "client.upload_dataset(dataset=dataset, access=\"private\", owner=owner)"
   ]
  },
  {
   "cell_type": "code",
   "execution_count": null,
   "metadata": {},
   "outputs": [],
   "source": []
  }
 ],
 "metadata": {
  "kernelspec": {
   "display_name": "Python 3 (ipykernel)",
   "language": "python",
   "name": "python3"
  },
  "language_info": {
   "codemirror_mode": {
    "name": "ipython",
    "version": 3
   },
   "file_extension": ".py",
   "mimetype": "text/x-python",
   "name": "python",
   "nbconvert_exporter": "python",
   "pygments_lexer": "ipython3",
   "version": "3.12.2"
  }
 },
 "nbformat": 4,
 "nbformat_minor": 4
}
