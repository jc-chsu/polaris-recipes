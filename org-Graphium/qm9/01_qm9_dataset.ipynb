{
 "cells": [
  {
   "cell_type": "markdown",
   "metadata": {},
   "source": [
    "Note: this notebook is set up to run with the env.yml containing the name 'polaris_datasets'"
   ]
  },
  {
   "cell_type": "markdown",
   "metadata": {},
   "source": [
    "# Dataset creation with [Polaris](https://github.com/polaris-hub/polaris) "
   ]
  },
  {
   "cell_type": "code",
   "execution_count": 1,
   "metadata": {},
   "outputs": [],
   "source": [
    "%load_ext autoreload\n",
    "%autoreload 2\n",
    "\n",
    "import os\n",
    "import sys\n",
    "import pathlib\n",
    "\n",
    "import pandas as pd\n",
    "import datamol as dm\n",
    "\n",
    "# polaris dataset\n",
    "from polaris.dataset import Dataset, ColumnAnnotation\n",
    "\n",
    "from polaris.utils.types import HubOwner\n",
    "\n",
    "\n",
    "root = pathlib.Path(\"__file__\").absolute().parents[2]\n",
    "os.chdir(root)\n",
    "sys.path.insert(0, str(root))\n",
    "from utils.docs_utils import load_readme"
   ]
  },
  {
   "cell_type": "code",
   "execution_count": 2,
   "metadata": {},
   "outputs": [
    {
     "data": {
      "text/plain": [
       "HubOwner(slug='graphium', external_id=None, type='organization')"
      ]
     },
     "execution_count": 2,
     "metadata": {},
     "output_type": "execute_result"
    }
   ],
   "source": [
    "# Get the owner and organization\n",
    "org = \"Graphium\"\n",
    "data_name = \"qm9\"\n",
    "dirname = dm.fs.join(root, f\"org-{org}\", data_name)\n",
    "gcp_root = f\"gs://polaris-public/polaris-recipes/org-{org}/{data_name}\"\n",
    "\n",
    "owner = HubOwner(slug=org.lower(), type=\"organization\")\n",
    "owner"
   ]
  },
  {
   "cell_type": "code",
   "execution_count": 3,
   "metadata": {},
   "outputs": [],
   "source": [
    "BENCHMARK_DIR = f\"{gcp_root}/benchmarks\"\n",
    "DATASET_DIR = f\"{gcp_root}/datasets\"\n",
    "FIGURE_DIR = f\"{gcp_root}/figures\""
   ]
  },
  {
   "cell_type": "markdown",
   "metadata": {},
   "source": [
    "## Load existing data"
   ]
  },
  {
   "cell_type": "code",
   "execution_count": 4,
   "metadata": {},
   "outputs": [
    {
     "data": {
      "text/plain": [
       "Index(['mol_id', 'smiles', 'A', 'B', 'C', 'mu', 'alpha', 'homo', 'lumo', 'gap',\n",
       "       'r2', 'zpve', 'u0', 'u298', 'h298', 'g298', 'cv', 'u0_atom',\n",
       "       'u298_atom', 'h298_atom', 'g298_atom'],\n",
       "      dtype='object')"
      ]
     },
     "execution_count": 4,
     "metadata": {},
     "output_type": "execute_result"
    }
   ],
   "source": [
    "PATH = f\"{gcp_root}/data/raw/qm9.csv\"\n",
    "table = pd.read_csv(PATH)\n",
    "table.columns"
   ]
  },
  {
   "cell_type": "markdown",
   "metadata": {},
   "source": [
    "### Below we specify the meta information of data columns"
   ]
  },
  {
   "cell_type": "code",
   "execution_count": 10,
   "metadata": {},
   "outputs": [],
   "source": [
    "# Additional meta-data on the column level\n",
    "annotations = {\n",
    "    \"mol_id\": ColumnAnnotation(description=\"Molecule identifier\"),\n",
    "    \"smiles\": ColumnAnnotation(\n",
    "        description=\"Molecule SMILES string\", modality=\"molecule\"\n",
    "    ),\n",
    "    \"A\": ColumnAnnotation(description=\"A\"),\n",
    "    \"B\": ColumnAnnotation(description=\"B\"),\n",
    "    \"C\": ColumnAnnotation(description=\"C\"),\n",
    "    \"mu\": ColumnAnnotation(description=\"mu\"),\n",
    "    \"alpha\": ColumnAnnotation(description=\"alpha\"),\n",
    "    \"homo\": ColumnAnnotation(description=\"homo\"),\n",
    "    \"lumo\": ColumnAnnotation(description=\"lumo\"),\n",
    "    \"gap\": ColumnAnnotation(description=\"gap\"),\n",
    "    \"r2\": ColumnAnnotation(description=\"r2\"),\n",
    "    \"zpve\": ColumnAnnotation(description=\"zpve\"),\n",
    "    \"u0\": ColumnAnnotation(description=\"u0\"),\n",
    "    \"u298\": ColumnAnnotation(description=\"u298\"),\n",
    "    \"h298\": ColumnAnnotation(description=\"h298\"),\n",
    "    \"g298\": ColumnAnnotation(description=\"g298\"),\n",
    "    \"cv\": ColumnAnnotation(description=\"cv\"),\n",
    "    \"u0_atom\": ColumnAnnotation(description=\"u0_atom\"),\n",
    "    \"u298_atom\": ColumnAnnotation(description=\"u298_atom\"),\n",
    "    \"h298_atom\": ColumnAnnotation(description=\"h298_atom\"),\n",
    "    \"g298_atom\": ColumnAnnotation(description=\"g298_atom\"),\n",
    "}"
   ]
  },
  {
   "cell_type": "markdown",
   "metadata": {},
   "source": [
    "### Define `Dataset` object"
   ]
  },
  {
   "cell_type": "code",
   "execution_count": 11,
   "metadata": {},
   "outputs": [],
   "source": [
    "version = \"v1\"\n",
    "dataset_name = f\"{data_name}-{version}\""
   ]
  },
  {
   "cell_type": "code",
   "execution_count": 12,
   "metadata": {},
   "outputs": [],
   "source": [
    "dataset = Dataset(\n",
    "    # The table is the core data-structure required to construct a dataset\n",
    "    table=table[annotations.keys()],\n",
    "    # Additional meta-data on the dataset level.\n",
    "    name=dataset_name,\n",
    "    description=\"QM9 contains quantum chemical properties for a relevant, consistent, and comprehensive chemical space of small organic molecules\",\n",
    "    source=\"https://pubs.acs.org/doi/pdf/10.1021/ci300415d\",\n",
    "    annotations=annotations,\n",
    "    tags=[\"Graph\", \"Quantum chemistry\"],\n",
    "    owner=owner,\n",
    "    license=\"CC-BY-4.0\",\n",
    "    user_attributes={\"year\": \"2012\"},\n",
    "    readme=load_readme(f\"org-Graphium/{data_name}/{data_name}_readme.md\"),\n",
    ")"
   ]
  },
  {
   "cell_type": "code",
   "execution_count": 13,
   "metadata": {},
   "outputs": [
    {
     "name": "stderr",
     "output_type": "stream",
     "text": [
      "\u001b[32m2024-07-16 23:26:15.291\u001b[0m | \u001b[1mINFO    \u001b[0m | \u001b[36mpolaris._mixins\u001b[0m:\u001b[36mmd5sum\u001b[0m:\u001b[36m27\u001b[0m - \u001b[1mComputing the checksum. This can be slow for large datasets.\u001b[0m\n"
     ]
    },
    {
     "data": {
      "text/plain": [
       "'gs://polaris-public/polaris-recipes/org-Graphium/qm9/datasets/qm9-v1/dataset.json'"
      ]
     },
     "execution_count": 13,
     "metadata": {},
     "output_type": "execute_result"
    }
   ],
   "source": [
    "# save the dataset to GCP\n",
    "SAVE_DIR = f\"{DATASET_DIR}/{dataset_name}\"\n",
    "dataset_path = dataset.to_json(SAVE_DIR)\n",
    "dataset_path"
   ]
  },
  {
   "cell_type": "code",
   "execution_count": 14,
   "metadata": {},
   "outputs": [
    {
     "name": "stderr",
     "output_type": "stream",
     "text": [
      "\u001b[32m2024-07-16 23:26:46.327\u001b[0m | \u001b[1mINFO    \u001b[0m | \u001b[36mpolaris.hub.client\u001b[0m:\u001b[36mlogin\u001b[0m:\u001b[36m285\u001b[0m - \u001b[1mYou are already logged in to the Polaris Hub as  (lu@valencediscovery.com). Set `overwrite=True` to force re-authentication.\u001b[0m\n",
      "\u001b[32m2024-07-16 23:27:09.130\u001b[0m | \u001b[32m\u001b[1mSUCCESS \u001b[0m | \u001b[36mpolaris.hub.client\u001b[0m:\u001b[36mupload_dataset\u001b[0m:\u001b[36m631\u001b[0m - \u001b[32m\u001b[1mYour dataset has been successfully uploaded to the Hub. View it here: https://polarishub.io/datasets/graphium/qm9-v1\u001b[0m\n"
     ]
    },
    {
     "data": {
      "text/plain": [
       "{'id': 'JxyFtl6Ejk7EaS2b6CriF',\n",
       " 'createdAt': '2024-07-17T03:26:47.118Z',\n",
       " 'deletedAt': None,\n",
       " 'name': 'qm9-v1',\n",
       " 'slug': 'qm9-v1',\n",
       " 'description': 'QM9 contains quantum chemical properties for a relevant, consistent, and comprehensive chemical space of small organic molecules',\n",
       " 'tags': ['Graph', 'Quantum chemistry'],\n",
       " 'userAttributes': {'year': '2012'},\n",
       " 'access': 'private',\n",
       " 'isCertified': False,\n",
       " 'polarisVersion': 'dev',\n",
       " 'readme': '## Background\\nQM9 is a well-known dataset in the field of 3D GNNs. It consists of 19 graph-level quantum properties associated to an energy-minimized 3D conformation of the molecules [1]. It is considered a simple dataset since all the molecules have at most 9 heavy atoms. We chose QM9 in our ToyMix since it is very similar to the larger proposed quantum datasets, PCQM4M_multitask and PM6_83M, but with smaller molecules\\n\\n## Assay information\\n\\n\\n## Description of readout:\\n\\n\\n## Data resource\\n\\n',\n",
       " 'ownerId': 'zMTB7lQiiukqEmLQF7EjT',\n",
       " 'creatorId': 'NKnaHGybLqwSHcaMEHqfF',\n",
       " 'state': 'upload_pending',\n",
       " 'source': 'https://pubs.acs.org/doi/pdf/10.1021/ci300415d',\n",
       " 'curationReference': None,\n",
       " 'nRows': 133885,\n",
       " 'nColumns': 21,\n",
       " 'license': 'CC-BY-4.0',\n",
       " 'md5Sum': '2c005f1f1328a988aae3dc6ee5e93ea1',\n",
       " 'annotations': {'A': {'dtype': 'float64',\n",
       "   'modality': 'UNKNOWN',\n",
       "   'isPointer': False,\n",
       "   'description': 'A',\n",
       "   'userAttributes': {}},\n",
       "  'B': {'dtype': 'float64',\n",
       "   'modality': 'UNKNOWN',\n",
       "   'isPointer': False,\n",
       "   'description': 'B',\n",
       "   'userAttributes': {}},\n",
       "  'C': {'dtype': 'float64',\n",
       "   'modality': 'UNKNOWN',\n",
       "   'isPointer': False,\n",
       "   'description': 'C',\n",
       "   'userAttributes': {}},\n",
       "  'cv': {'dtype': 'float64',\n",
       "   'modality': 'UNKNOWN',\n",
       "   'isPointer': False,\n",
       "   'description': 'cv',\n",
       "   'userAttributes': {}},\n",
       "  'mu': {'dtype': 'float64',\n",
       "   'modality': 'UNKNOWN',\n",
       "   'isPointer': False,\n",
       "   'description': 'mu',\n",
       "   'userAttributes': {}},\n",
       "  'r2': {'dtype': 'float64',\n",
       "   'modality': 'UNKNOWN',\n",
       "   'isPointer': False,\n",
       "   'description': 'r2',\n",
       "   'userAttributes': {}},\n",
       "  'u0': {'dtype': 'float64',\n",
       "   'modality': 'UNKNOWN',\n",
       "   'isPointer': False,\n",
       "   'description': 'u0',\n",
       "   'userAttributes': {}},\n",
       "  'gap': {'dtype': 'float64',\n",
       "   'modality': 'UNKNOWN',\n",
       "   'isPointer': False,\n",
       "   'description': 'gap',\n",
       "   'userAttributes': {}},\n",
       "  'g298': {'dtype': 'float64',\n",
       "   'modality': 'UNKNOWN',\n",
       "   'isPointer': False,\n",
       "   'description': 'g298',\n",
       "   'userAttributes': {}},\n",
       "  'h298': {'dtype': 'float64',\n",
       "   'modality': 'UNKNOWN',\n",
       "   'isPointer': False,\n",
       "   'description': 'h298',\n",
       "   'userAttributes': {}},\n",
       "  'homo': {'dtype': 'float64',\n",
       "   'modality': 'UNKNOWN',\n",
       "   'isPointer': False,\n",
       "   'description': 'homo',\n",
       "   'userAttributes': {}},\n",
       "  'lumo': {'dtype': 'float64',\n",
       "   'modality': 'UNKNOWN',\n",
       "   'isPointer': False,\n",
       "   'description': 'lumo',\n",
       "   'userAttributes': {}},\n",
       "  'u298': {'dtype': 'float64',\n",
       "   'modality': 'UNKNOWN',\n",
       "   'isPointer': False,\n",
       "   'description': 'u298',\n",
       "   'userAttributes': {}},\n",
       "  'zpve': {'dtype': 'float64',\n",
       "   'modality': 'UNKNOWN',\n",
       "   'isPointer': False,\n",
       "   'description': 'zpve',\n",
       "   'userAttributes': {}},\n",
       "  'alpha': {'dtype': 'float64',\n",
       "   'modality': 'UNKNOWN',\n",
       "   'isPointer': False,\n",
       "   'description': 'alpha',\n",
       "   'userAttributes': {}},\n",
       "  'mol_id': {'dtype': 'object',\n",
       "   'modality': 'UNKNOWN',\n",
       "   'isPointer': False,\n",
       "   'description': 'Molecule identifier',\n",
       "   'userAttributes': {}},\n",
       "  'smiles': {'dtype': 'object',\n",
       "   'modality': 'MOLECULE',\n",
       "   'isPointer': False,\n",
       "   'description': 'Molecule SMILES string',\n",
       "   'userAttributes': {}},\n",
       "  'u0_atom': {'dtype': 'float64',\n",
       "   'modality': 'UNKNOWN',\n",
       "   'isPointer': False,\n",
       "   'description': 'u0_atom',\n",
       "   'userAttributes': {}},\n",
       "  'g298_atom': {'dtype': 'float64',\n",
       "   'modality': 'UNKNOWN',\n",
       "   'isPointer': False,\n",
       "   'description': 'g298_atom',\n",
       "   'userAttributes': {}},\n",
       "  'h298_atom': {'dtype': 'float64',\n",
       "   'modality': 'UNKNOWN',\n",
       "   'isPointer': False,\n",
       "   'description': 'h298_atom',\n",
       "   'userAttributes': {}},\n",
       "  'u298_atom': {'dtype': 'float64',\n",
       "   'modality': 'UNKNOWN',\n",
       "   'isPointer': False,\n",
       "   'description': 'u298_atom',\n",
       "   'userAttributes': {}}},\n",
       " 'tableContent': {'url': 'https://polaris-nnd6pgwye-invivoai-platform.vercel.app/storage/dataset/graphium/qm9-v1/table.parquet',\n",
       "  'size': 19315543,\n",
       "  'fileType': 'parquet'},\n",
       " 'defaultAdapters': {},\n",
       " 'zarrRootPath': None,\n",
       " 'zarrContent': {},\n",
       " 'artifactId': 'graphium/qm9-v1',\n",
       " 'creator': {'slug': 'lu-valencelabs',\n",
       "  'externalId': 'user_2gtYwEALU6nz7YYhVOTrlJmkWtN',\n",
       "  'type': 'user'},\n",
       " 'owner': {'slug': 'graphium',\n",
       "  'externalId': 'org_2jLxcFOg0QSWqTheLPLjUp9AWys',\n",
       "  'type': 'organization'},\n",
       " 'benchmarks': [],\n",
       " 'review': None}"
      ]
     },
     "execution_count": 14,
     "metadata": {},
     "output_type": "execute_result"
    }
   ],
   "source": [
    "from polaris.hub.client import PolarisHubClient\n",
    "\n",
    "client = PolarisHubClient()\n",
    "client.login()\n",
    "\n",
    "client.upload_dataset(dataset=dataset, access=\"private\", owner=owner)"
   ]
  },
  {
   "cell_type": "code",
   "execution_count": null,
   "metadata": {},
   "outputs": [],
   "source": []
  }
 ],
 "metadata": {
  "kernelspec": {
   "display_name": "Python 3 (ipykernel)",
   "language": "python",
   "name": "python3"
  },
  "language_info": {
   "codemirror_mode": {
    "name": "ipython",
    "version": 3
   },
   "file_extension": ".py",
   "mimetype": "text/x-python",
   "name": "python",
   "nbconvert_exporter": "python",
   "pygments_lexer": "ipython3",
   "version": "3.12.2"
  }
 },
 "nbformat": 4,
 "nbformat_minor": 4
}
