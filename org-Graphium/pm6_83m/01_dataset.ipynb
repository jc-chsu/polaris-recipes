{
 "cells": [
  {
   "cell_type": "markdown",
   "metadata": {},
   "source": [
    "Note: this notebook is set up to run with the env.yml containing the name 'polaris_datasets'"
   ]
  },
  {
   "cell_type": "markdown",
   "metadata": {},
   "source": [
    "# Dataset creation with [Polaris](https://github.com/polaris-hub/polaris) "
   ]
  },
  {
   "cell_type": "code",
   "execution_count": 1,
   "metadata": {},
   "outputs": [],
   "source": [
    "%load_ext autoreload\n",
    "%autoreload 2\n",
    "\n",
    "import os\n",
    "import sys\n",
    "import pathlib\n",
    "\n",
    "import pandas as pd\n",
    "import datamol as dm\n",
    "\n",
    "# polaris dataset\n",
    "from polaris.dataset import Dataset, ColumnAnnotation\n",
    "\n",
    "from polaris.utils.types import HubOwner\n",
    "\n",
    "\n",
    "root = pathlib.Path(\"__file__\").absolute().parents[2]\n",
    "os.chdir(root)\n",
    "sys.path.insert(0, str(root))\n",
    "from utils.docs_utils import load_readme"
   ]
  },
  {
   "cell_type": "code",
   "execution_count": 2,
   "metadata": {},
   "outputs": [
    {
     "data": {
      "text/plain": [
       "HubOwner(slug='graphium', external_id=None, type='organization')"
      ]
     },
     "execution_count": 2,
     "metadata": {},
     "output_type": "execute_result"
    }
   ],
   "source": [
    "# Get the owner and organization\n",
    "org = \"Graphium\"\n",
    "data_name = \"pm6_subset\"\n",
    "dirname = dm.fs.join(root, f\"org-{org}\", data_name)\n",
    "gcp_root = f\"gs://polaris-public/polaris-recipes/org-{org}/{data_name}\"\n",
    "\n",
    "owner = HubOwner(slug=org.lower(), type=\"organization\")\n",
    "owner"
   ]
  },
  {
   "cell_type": "code",
   "execution_count": 3,
   "metadata": {},
   "outputs": [],
   "source": [
    "BENCHMARK_DIR = f\"{gcp_root}/benchmarks\"\n",
    "DATASET_DIR = f\"{gcp_root}/datasets\"\n",
    "FIGURE_DIR = f\"{gcp_root}/figures\""
   ]
  },
  {
   "cell_type": "markdown",
   "metadata": {},
   "source": [
    "## Load existing data"
   ]
  },
  {
   "cell_type": "code",
   "execution_count": 4,
   "metadata": {},
   "outputs": [
    {
     "data": {
      "text/plain": [
       "Index(['graph_ordered_smiles', 'graph_cation_plane_best_fit',\n",
       "       'graph_S0_principal_length_b', 'graph_S0_principal_length_a',\n",
       "       'graph_cation_energy_total', 'graph_anion_plane_best_fit',\n",
       "       'graph_T0_plane_best_fit', 'graph_anion_beta_homo',\n",
       "       'graph_cation_beta_homo', 'graph_T0_alpha_homo', 'graph_S0_beta_gap',\n",
       "       'graph_T0_beta_homo', 'graph_cation_principal_length_b',\n",
       "       'graph_T0_spherocity', 'graph_S0_plane_best_fit',\n",
       "       'graph_T0_principal_length_b', 'graph_anion_principal_length_c',\n",
       "       'graph_anion_alpha_gap', 'graph_T0_principal_length_c',\n",
       "       'graph_cation_principal_length_a', 'graph_S0_alpha_homo',\n",
       "       'graph_cation_beta_gap', 'graph_S0_energy_total', 'graph_S0_spherocity',\n",
       "       'graph_anion_principal_length_a', 'graph_T0_principal_length_a',\n",
       "       'graph_anion_alpha_homo', 'graph_cation_alpha_homo',\n",
       "       'graph_T0_energy_total', 'graph_S0_principal_length_c',\n",
       "       'graph_anion_spherocity', 'graph_anion_principal_length_b',\n",
       "       'graph_anion_energy_total', 'graph_T0_beta_gap', 'graph_T0_alpha_gap',\n",
       "       'graph_S0_alpha_gap', 'graph_cation_spherocity',\n",
       "       'graph_cation_alpha_gap', 'graph_S0_beta_homo',\n",
       "       'graph_cation_principal_length_c', 'graph_anion_beta_gap',\n",
       "       'node_S0_charges_mulliken', 'graph_mw', 'graph_fsp3',\n",
       "       'graph_n_lipinski_hba', 'graph_n_lipinski_hbd', 'graph_n_rings',\n",
       "       'graph_n_hetero_atoms', 'graph_n_heavy_atoms',\n",
       "       'graph_n_rotatable_bonds', 'graph_n_radical_electrons', 'graph_tpsa',\n",
       "       'graph_qed', 'graph_clogp', 'graph_sas',\n",
       "       'graph_n_aliphatic_carbocycles', 'graph_n_aliphatic_heterocyles',\n",
       "       'graph_n_aliphatic_rings', 'graph_n_aromatic_carbocycles',\n",
       "       'graph_n_aromatic_heterocyles', 'graph_n_aromatic_rings',\n",
       "       'graph_n_saturated_carbocycles', 'graph_n_saturated_heterocyles',\n",
       "       'graph_n_saturated_rings'],\n",
       "      dtype='object')"
      ]
     },
     "execution_count": 4,
     "metadata": {},
     "output_type": "execute_result"
    }
   ],
   "source": [
    "PATH = f\"{gcp_root}/data/raw/PCQM4M_G25_N4.parquet.csv\"\n",
    "PATH = \"/Users/lu.zhu/Downloads/pm6_86M_0.parquet\"\n",
    "table = pd.read_parquet(PATH)\n",
    "table.columns"
   ]
  },
  {
   "cell_type": "markdown",
   "metadata": {},
   "source": [
    "### Below we specify the meta information of data columns"
   ]
  },
  {
   "cell_type": "code",
   "execution_count": 5,
   "metadata": {},
   "outputs": [],
   "source": [
    "# Additional meta-data on the column level\n",
    "annotations = {\n",
    "    \"graph_ordered_smiles\": ColumnAnnotation(\n",
    "        description=\"Molecule SMILES string\", modality=\"molecule\"\n",
    "    ),\n",
    "    **{\n",
    "        col: ColumnAnnotation(description=f\"Graph feature {col}\")\n",
    "        for col in table.columns\n",
    "        if col.startswith(\"graph\")\n",
    "    },\n",
    "}"
   ]
  },
  {
   "cell_type": "markdown",
   "metadata": {},
   "source": [
    "### Define `Dataset` object"
   ]
  },
  {
   "cell_type": "code",
   "execution_count": 6,
   "metadata": {},
   "outputs": [],
   "source": [
    "version = \"v1\"\n",
    "dataset_name = f\"{data_name}-{version}\""
   ]
  },
  {
   "cell_type": "code",
   "execution_count": 7,
   "metadata": {},
   "outputs": [],
   "source": [
    "dataset = Dataset(\n",
    "    # The table is the core data-structure required to construct a dataset\n",
    "    table=table[annotations.keys()],\n",
    "    # Additional meta-data on the dataset level.\n",
    "    name=dataset_name,\n",
    "    description=\"Subset of quantum chemistry dataset which uses PM6 semi-empirical computation of the quantum properties.\",\n",
    "    source=\"https://arxiv.org/abs/1904.06046\",\n",
    "    annotations=annotations,\n",
    "    tags=[\"Graph\", \"Quantum chemistry\", \"LargeMix\"],\n",
    "    owner=owner,\n",
    "    license=\"CC-BY-4.0\",\n",
    "    user_attributes={\"year\": \"2019\"},\n",
    "    readme=load_readme(\"org-Graphium/pm6_83m/readme.md\"),\n",
    ")"
   ]
  },
  {
   "cell_type": "code",
   "execution_count": 8,
   "metadata": {},
   "outputs": [],
   "source": [
    "# save the dataset to GCP\n",
    "SAVE_DIR = f\"{DATASET_DIR}/{dataset_name}\"\n",
    "dataset_path = dataset.to_json(SAVE_DIR)\n",
    "dataset_path"
   ]
  },
  {
   "cell_type": "code",
   "execution_count": 9,
   "metadata": {},
   "outputs": [
    {
     "name": "stderr",
     "output_type": "stream",
     "text": [
      "\u001b[32m2024-07-19 12:06:28.430\u001b[0m | \u001b[32m\u001b[1mSUCCESS \u001b[0m | \u001b[36mpolaris.hub.client\u001b[0m:\u001b[36mlogin\u001b[0m:\u001b[36m224\u001b[0m - \u001b[32m\u001b[1mYou are successfully logged in to the Polaris Hub.\u001b[0m\n",
      "\u001b[32m2024-07-19 12:06:45.084\u001b[0m | \u001b[1mINFO    \u001b[0m | \u001b[36mpolaris.hub.client\u001b[0m:\u001b[36mupload_dataset\u001b[0m:\u001b[36m512\u001b[0m - \u001b[1mUploaded metadata\u001b[0m\n",
      "\u001b[32m2024-07-19 12:06:45.087\u001b[0m | \u001b[1mINFO    \u001b[0m | \u001b[36mpolaris.hub.client\u001b[0m:\u001b[36mupload_dataset\u001b[0m:\u001b[36m516\u001b[0m - \u001b[1mUploading Parquet file: https://polarishub.io/storage/dataset/graphium/pm6-subset-0-v1/table.parquet\u001b[0m\n"
     ]
    }
   ],
   "source": [
    "from polaris.dataset import Dataset\n",
    "\n",
    "dataset = Dataset.from_json(\n",
    "    \"gs://polaris-public/polaris-recipes/org-Graphium/pm6_subset/datasets/pm6_subset-v1/dataset.json\"\n",
    ")\n",
    "\n",
    "from polaris.hub.client import PolarisHubClient\n",
    "\n",
    "client = PolarisHubClient()\n",
    "client.login()\n",
    "\n",
    "client.upload_dataset(dataset=dataset, access=\"public\", owner=owner, timeout=5000)"
   ]
  },
  {
   "cell_type": "code",
   "execution_count": null,
   "metadata": {},
   "outputs": [],
   "source": []
  },
  {
   "cell_type": "code",
   "execution_count": null,
   "metadata": {},
   "outputs": [],
   "source": []
  }
 ],
 "metadata": {
  "kernelspec": {
   "display_name": "Python 3 (ipykernel)",
   "language": "python",
   "name": "python3"
  },
  "language_info": {
   "codemirror_mode": {
    "name": "ipython",
    "version": 3
   },
   "file_extension": ".py",
   "mimetype": "text/x-python",
   "name": "python",
   "nbconvert_exporter": "python",
   "pygments_lexer": "ipython3",
   "version": "3.12.2"
  }
 },
 "nbformat": 4,
 "nbformat_minor": 4
}
