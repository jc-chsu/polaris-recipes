{
 "cells": [
  {
   "cell_type": "markdown",
   "metadata": {},
   "source": [
    "Note: this notebook is set up to run with the env.yml containing the name 'polaris_datasets'"
   ]
  },
  {
   "cell_type": "markdown",
   "metadata": {},
   "source": [
    "# Dataset creation with [Polaris](https://github.com/polaris-hub/polaris) "
   ]
  },
  {
   "cell_type": "code",
   "execution_count": 2,
   "metadata": {},
   "outputs": [],
   "source": [
    "%load_ext autoreload\n",
    "%autoreload 2\n",
    "\n",
    "import os\n",
    "import sys\n",
    "import pathlib\n",
    "\n",
    "import pandas as pd\n",
    "import datamol as dm\n",
    "\n",
    "# polaris dataset\n",
    "from polaris.dataset import Dataset, ColumnAnnotation\n",
    "\n",
    "from polaris.utils.types import HubOwner\n",
    "\n",
    "\n",
    "root = pathlib.Path(\"__file__\").absolute().parents[2]\n",
    "os.chdir(root)\n",
    "sys.path.insert(0, str(root))\n",
    "from utils.docs_utils import load_readme"
   ]
  },
  {
   "cell_type": "code",
   "execution_count": 3,
   "metadata": {},
   "outputs": [
    {
     "data": {
      "text/plain": [
       "HubOwner(slug='graphium', external_id=None, type='organization')"
      ]
     },
     "execution_count": 3,
     "metadata": {},
     "output_type": "execute_result"
    }
   ],
   "source": [
    "# Get the owner and organization\n",
    "org = \"Graphium\"\n",
    "data_name = \"pm6_subset\"\n",
    "dirname = dm.fs.join(root, f\"org-{org}\", data_name)\n",
    "gcp_root = f\"gs://polaris-public/polaris-recipes/org-{org}/{data_name}\"\n",
    "\n",
    "owner = HubOwner(slug=org.lower(), type=\"organization\")\n",
    "owner"
   ]
  },
  {
   "cell_type": "code",
   "execution_count": 4,
   "metadata": {},
   "outputs": [],
   "source": [
    "BENCHMARK_DIR = f\"{gcp_root}/benchmarks\"\n",
    "DATASET_DIR = f\"{gcp_root}/datasets\"\n",
    "FIGURE_DIR = f\"{gcp_root}/figures\""
   ]
  },
  {
   "cell_type": "code",
   "execution_count": 7,
   "metadata": {},
   "outputs": [
    {
     "name": "stdout",
     "output_type": "stream",
     "text": [
      "Copying file:///Users/lu.zhu/Downloads/pcqm4m_g25_n4/pcqm4m_g25_n4_random_splits.pt [Content-Type=application/octet-stream]...\n",
      "Copying file:///Users/lu.zhu/Downloads/pcqm4m_g25_n4/PCQM4M_G25_N4.parquet [Content-Type=application/octet-stream]...\n",
      "==> NOTE: You are uploading one or more large file(s), which would run          \n",
      "significantly faster if you enable parallel composite uploads. This\n",
      "feature can be enabled by editing the\n",
      "\"parallel_composite_upload_threshold\" value in your .boto\n",
      "configuration file. However, note that if you do this large files will\n",
      "be uploaded as `composite objects\n",
      "<https://cloud.google.com/storage/docs/composite-objects>`_,which\n",
      "means that any user who downloads such objects will need to have a\n",
      "compiled crcmod installed (see \"gsutil help crcmod\"). This is because\n",
      "without a compiled crcmod, computing checksums on composite objects is\n",
      "so slow that gsutil disables downloads of composite objects.\n",
      "\n",
      "- [1 files][418.3 MiB/  2.7 GiB]  756.5 KiB/s                                   \r"
     ]
    }
   ],
   "source": [
    "!gsutil cp -r /Users/lu.zhu/Downloads/pcqm4m_g25_n4 {gcp_root}/data/raw"
   ]
  },
  {
   "cell_type": "markdown",
   "metadata": {},
   "source": [
    "## Load existing data"
   ]
  },
  {
   "cell_type": "code",
   "execution_count": null,
   "metadata": {},
   "outputs": [
    {
     "data": {
      "text/plain": [
       "Index(['ordered_cxsmiles_3d', 'ordered_smiles', 'graph_alpha_homo',\n",
       "       'graph_alpha_gap', 'graph_beta_homo', 'graph_beta_gap',\n",
       "       'graph_energy_total', 'graph_principal_length_a',\n",
       "       'graph_principal_length_b', 'graph_principal_length_c',\n",
       "       'graph_inertia_mass_a', 'graph_inertia_mass_b', 'graph_inertia_mass_c',\n",
       "       'graph_inertia_valence_a', 'graph_inertia_valence_b',\n",
       "       'graph_inertia_valence_c', 'graph_inertia_charges_mulliken_a',\n",
       "       'graph_inertia_charges_mullkien_b', 'graph_inertia_charges_mulliken_c',\n",
       "       'graph_inertia_charges_lowdin_a', 'graph_inertia_charges_lowdin_b',\n",
       "       'graph_inertia_charges_lowdin_c', 'graph_spherocity',\n",
       "       'graph_plane_best_fit', 'graph_tddft_alpha_gap',\n",
       "       'graph_tddft_energy_beta_gap', 'graph_tddft_energy_total',\n",
       "       'node_charges_mulliken', 'node_charges_lowdin',\n",
       "       'node_tddft_charges_mulliken', 'node_tddft_charges_lowdin'],\n",
       "      dtype='object')"
      ]
     },
     "execution_count": 6,
     "metadata": {},
     "output_type": "execute_result"
    }
   ],
   "source": [
    "PATH = f\"{gcp_root}/data/raw/PCQM4M_G25_N4.parquet.csv\"\n",
    "PATH = \"/Users/lu.zhu/Downloads/pcqm4m_g25_n4/PCQM4M_G25_N4.parquet\"\n",
    "table = pd.read_parquet(PATH)\n",
    "table.columns"
   ]
  },
  {
   "cell_type": "markdown",
   "metadata": {},
   "source": [
    "### Below we specify the meta information of data columns"
   ]
  },
  {
   "cell_type": "code",
   "execution_count": 10,
   "metadata": {},
   "outputs": [],
   "source": [
    "# Additional meta-data on the column level\n",
    "annotations = {\n",
    "    \"smiles\": ColumnAnnotation(\n",
    "        description=\"Molecule SMILES string\", modality=\"molecule\"\n",
    "    ),\n",
    "    \"SA\": ColumnAnnotation(description=\"Synthetic accessibility score.\"),\n",
    "    \"logp\": ColumnAnnotation(description=\"Log P, octanol-water partition coefficient.\"),\n",
    "    \"score\": ColumnAnnotation(description=\"Score\"),\n",
    "}"
   ]
  },
  {
   "cell_type": "markdown",
   "metadata": {},
   "source": [
    "### Define `Dataset` object"
   ]
  },
  {
   "cell_type": "code",
   "execution_count": 11,
   "metadata": {},
   "outputs": [],
   "source": [
    "version = \"v1\"\n",
    "dataset_name = f\"{data_name}-{version}\""
   ]
  },
  {
   "cell_type": "code",
   "execution_count": 12,
   "metadata": {},
   "outputs": [],
   "source": [
    "dataset = Dataset(\n",
    "    # The table is the core data-structure required to construct a dataset\n",
    "    table=table[annotations.keys()],\n",
    "    # Additional meta-data on the dataset level.\n",
    "    name=dataset_name,\n",
    "    description=\"A subset (12K) of ZINC molecular graphs (250K) dataset.\",\n",
    "    source=\"https://arxiv.org/abs/2003.00982\",\n",
    "    annotations=annotations,\n",
    "    tags=[\"Graph\"],\n",
    "    owner=owner,\n",
    "    license=\"CC-BY-4.0\",\n",
    "    user_attributes={\"year\": \"2022\"},\n",
    "    readme=load_readme(\"org-Graphium/zinc12/zinc12_readme.md\"),\n",
    ")"
   ]
  },
  {
   "cell_type": "code",
   "execution_count": 13,
   "metadata": {},
   "outputs": [
    {
     "name": "stderr",
     "output_type": "stream",
     "text": [
      "\u001b[32m2024-07-16 23:05:28.217\u001b[0m | \u001b[1mINFO    \u001b[0m | \u001b[36mpolaris._mixins\u001b[0m:\u001b[36mmd5sum\u001b[0m:\u001b[36m27\u001b[0m - \u001b[1mComputing the checksum. This can be slow for large datasets.\u001b[0m\n"
     ]
    },
    {
     "data": {
      "text/plain": [
       "'gs://polaris-public/polaris-recipes/org-Graphium/zinc12k/datasets/zinc12k-v1/dataset.json'"
      ]
     },
     "execution_count": 13,
     "metadata": {},
     "output_type": "execute_result"
    }
   ],
   "source": [
    "# save the dataset to GCP\n",
    "SAVE_DIR = f\"{DATASET_DIR}/{dataset_name}\"\n",
    "dataset_path = dataset.to_json(SAVE_DIR)\n",
    "dataset_path"
   ]
  },
  {
   "cell_type": "code",
   "execution_count": 14,
   "metadata": {},
   "outputs": [
    {
     "name": "stderr",
     "output_type": "stream",
     "text": [
      "\u001b[32m2024-07-16 23:05:37.048\u001b[0m | \u001b[1mINFO    \u001b[0m | \u001b[36mpolaris.hub.client\u001b[0m:\u001b[36mlogin\u001b[0m:\u001b[36m285\u001b[0m - \u001b[1mYou are already logged in to the Polaris Hub as  (lu@valencediscovery.com). Set `overwrite=True` to force re-authentication.\u001b[0m\n",
      "\u001b[32m2024-07-16 23:05:39.938\u001b[0m | \u001b[32m\u001b[1mSUCCESS \u001b[0m | \u001b[36mpolaris.hub.client\u001b[0m:\u001b[36mupload_dataset\u001b[0m:\u001b[36m631\u001b[0m - \u001b[32m\u001b[1mYour dataset has been successfully uploaded to the Hub. View it here: https://polarishub.io/datasets/graphium/zinc12k-v1\u001b[0m\n"
     ]
    },
    {
     "data": {
      "text/plain": [
       "{'id': 'lyuMH2u2azzmsvdwtrMu3',\n",
       " 'createdAt': '2024-07-17T03:05:37.875Z',\n",
       " 'deletedAt': None,\n",
       " 'name': 'zinc12k-v1',\n",
       " 'slug': 'zinc12k-v1',\n",
       " 'description': 'A subset (12K) of ZINC molecular graphs (250K) dataset.',\n",
       " 'tags': ['Graph'],\n",
       " 'userAttributes': {'year': '2022'},\n",
       " 'access': 'private',\n",
       " 'isCertified': False,\n",
       " 'polarisVersion': 'dev',\n",
       " 'readme': '## Background\\n\\n\\n## Assay information\\n\\n\\n## Description of readout:\\n\\n\\n## Data resource\\n\\n',\n",
       " 'ownerId': 'zMTB7lQiiukqEmLQF7EjT',\n",
       " 'creatorId': 'NKnaHGybLqwSHcaMEHqfF',\n",
       " 'state': 'upload_pending',\n",
       " 'source': 'https://arxiv.org/abs/2003.00982',\n",
       " 'curationReference': None,\n",
       " 'nRows': 12000,\n",
       " 'nColumns': 4,\n",
       " 'license': 'CC-BY-4.0',\n",
       " 'md5Sum': '804d595f51d3841f329fdb4fec03cc60',\n",
       " 'annotations': {'SA': {'dtype': 'float64',\n",
       "   'modality': 'UNKNOWN',\n",
       "   'isPointer': False,\n",
       "   'description': 'Synthetic accessibility score.',\n",
       "   'userAttributes': {}},\n",
       "  'logp': {'dtype': 'float64',\n",
       "   'modality': 'UNKNOWN',\n",
       "   'isPointer': False,\n",
       "   'description': 'Log P, octanol-water partition coefficient.',\n",
       "   'userAttributes': {}},\n",
       "  'score': {'dtype': 'float64',\n",
       "   'modality': 'UNKNOWN',\n",
       "   'isPointer': False,\n",
       "   'description': 'Score',\n",
       "   'userAttributes': {}},\n",
       "  'smiles': {'dtype': 'object',\n",
       "   'modality': 'MOLECULE',\n",
       "   'isPointer': False,\n",
       "   'description': 'Molecule SMILES string',\n",
       "   'userAttributes': {}}},\n",
       " 'tableContent': {'url': 'https://polaris-nnd6pgwye-invivoai-platform.vercel.app/storage/dataset/graphium/zinc12k-v1/table.parquet',\n",
       "  'size': 634419,\n",
       "  'fileType': 'parquet'},\n",
       " 'defaultAdapters': {},\n",
       " 'zarrRootPath': None,\n",
       " 'zarrContent': {},\n",
       " 'artifactId': 'graphium/zinc12k-v1',\n",
       " 'creator': {'slug': 'lu-valencelabs',\n",
       "  'externalId': 'user_2gtYwEALU6nz7YYhVOTrlJmkWtN',\n",
       "  'type': 'user'},\n",
       " 'owner': {'slug': 'graphium',\n",
       "  'externalId': 'org_2jLxcFOg0QSWqTheLPLjUp9AWys',\n",
       "  'type': 'organization'},\n",
       " 'benchmarks': [],\n",
       " 'review': None}"
      ]
     },
     "execution_count": 14,
     "metadata": {},
     "output_type": "execute_result"
    }
   ],
   "source": [
    "from polaris.hub.client import PolarisHubClient\n",
    "\n",
    "client = PolarisHubClient()\n",
    "client.login()\n",
    "\n",
    "client.upload_dataset(dataset=dataset, access=\"private\", owner=owner)"
   ]
  },
  {
   "cell_type": "code",
   "execution_count": null,
   "metadata": {},
   "outputs": [],
   "source": []
  }
 ],
 "metadata": {
  "kernelspec": {
   "display_name": "Python 3 (ipykernel)",
   "language": "python",
   "name": "python3"
  },
  "language_info": {
   "codemirror_mode": {
    "name": "ipython",
    "version": 3
   },
   "file_extension": ".py",
   "mimetype": "text/x-python",
   "name": "python",
   "nbconvert_exporter": "python",
   "pygments_lexer": "ipython3",
   "version": "3.12.2"
  }
 },
 "nbformat": 4,
 "nbformat_minor": 4
}
