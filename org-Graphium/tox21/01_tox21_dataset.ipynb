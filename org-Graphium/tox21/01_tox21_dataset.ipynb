{
 "cells": [
  {
   "cell_type": "markdown",
   "metadata": {},
   "source": [
    "Note: this notebook is set up to run with the env.yml containing the name 'polaris_datasets'"
   ]
  },
  {
   "cell_type": "markdown",
   "metadata": {},
   "source": [
    "# Dataset creation with [Polaris](https://github.com/polaris-hub/polaris) "
   ]
  },
  {
   "cell_type": "code",
   "execution_count": 1,
   "metadata": {},
   "outputs": [],
   "source": [
    "%load_ext autoreload\n",
    "%autoreload 2\n",
    "\n",
    "import os\n",
    "import sys\n",
    "import pathlib\n",
    "\n",
    "import pandas as pd\n",
    "import datamol as dm\n",
    "\n",
    "# polaris dataset\n",
    "from polaris.dataset import Dataset, ColumnAnnotation\n",
    "\n",
    "from polaris.utils.types import HubOwner\n",
    "\n",
    "\n",
    "root = pathlib.Path(\"__file__\").absolute().parents[2]\n",
    "os.chdir(root)\n",
    "sys.path.insert(0, str(root))\n",
    "from utils.docs_utils import load_readme"
   ]
  },
  {
   "cell_type": "code",
   "execution_count": 2,
   "metadata": {},
   "outputs": [
    {
     "data": {
      "text/plain": [
       "HubOwner(slug='graphium', external_id=None, type='organization')"
      ]
     },
     "execution_count": 2,
     "metadata": {},
     "output_type": "execute_result"
    }
   ],
   "source": [
    "# Get the owner and organization\n",
    "org = \"Graphium\"\n",
    "data_name = \"tox21\"\n",
    "dirname = dm.fs.join(root, f\"org-{org}\", data_name)\n",
    "gcp_root = f\"gs://polaris-public/polaris-recipes/org-{org}/{data_name}\"\n",
    "\n",
    "owner = HubOwner(slug=org.lower(), type=\"organization\")\n",
    "owner"
   ]
  },
  {
   "cell_type": "code",
   "execution_count": 3,
   "metadata": {},
   "outputs": [],
   "source": [
    "BENCHMARK_DIR = f\"{gcp_root}/benchmarks\"\n",
    "DATASET_DIR = f\"{gcp_root}/datasets\"\n",
    "FIGURE_DIR = f\"{gcp_root}/figures\""
   ]
  },
  {
   "cell_type": "markdown",
   "metadata": {},
   "source": [
    "## Load existing data"
   ]
  },
  {
   "cell_type": "code",
   "execution_count": 4,
   "metadata": {},
   "outputs": [
    {
     "data": {
      "text/plain": [
       "Index(['smiles', 'NR-AR', 'NR-AR-LBD', 'NR-AhR', 'NR-Aromatase', 'NR-ER',\n",
       "       'NR-ER-LBD', 'NR-PPAR-gamma', 'SR-ARE', 'SR-ATAD5', 'SR-HSE', 'SR-MMP',\n",
       "       'SR-p53'],\n",
       "      dtype='object')"
      ]
     },
     "execution_count": 4,
     "metadata": {},
     "output_type": "execute_result"
    }
   ],
   "source": [
    "PATH = f\"{gcp_root}/data/raw/Tox21-7k-12-labels.csv\"\n",
    "table = pd.read_csv(PATH)\n",
    "table.columns"
   ]
  },
  {
   "cell_type": "markdown",
   "metadata": {},
   "source": [
    "### Below we specify the meta information of data columns"
   ]
  },
  {
   "cell_type": "code",
   "execution_count": 5,
   "metadata": {},
   "outputs": [],
   "source": [
    "# Additional meta-data on the column level\n",
    "annotations = {\n",
    "    \"smiles\": ColumnAnnotation(\n",
    "        description=\"Molecule SMILES string\", modality=\"molecule\"\n",
    "    ),\n",
    "    \"NR-AR\": ColumnAnnotation(\n",
    "        description=\"Nuclear receptors pathway assay androgen receptor.\"\n",
    "    ),\n",
    "    \"NR-AR-LBD\": ColumnAnnotation(\n",
    "        description=\"Nuclear receptors pathway assay androgen receptor ligand-binding domain.\"\n",
    "    ),\n",
    "    \"NR-AhR\": ColumnAnnotation(\n",
    "        description=\"Nuclear receptors pathway assay nuclear receptor aryl hydrocarbon receptor.\"\n",
    "    ),\n",
    "    \"NR-Aromatase\": ColumnAnnotation(\n",
    "        description=\"Nuclear receptors pathway assay aromatase\"\n",
    "    ),\n",
    "    \"NR-ER\": ColumnAnnotation(\n",
    "        description=\"Nuclear receptors pathway assay estrogen receptor.\"\n",
    "    ),\n",
    "    \"NR-ER-LBD\": ColumnAnnotation(\n",
    "        description=\"Nuclear receptors pathway estrogen receptor luciferase assay.\"\n",
    "    ),\n",
    "    \"NR-PPAR-gamma\": ColumnAnnotation(\n",
    "        description=\"Nuclear receptors pathway assay peroxisome proliferator-activated receptor.\"\n",
    "    ),\n",
    "    \"SR-ARE\": ColumnAnnotation(\n",
    "        description=\"Stress response assay antioxidant response element\"\n",
    "    ),\n",
    "    \"SR-ATAD5\": ColumnAnnotation(\n",
    "        description=\"Stress response assay ATPase Family AAA Domain Containing 5.\"\n",
    "    ),\n",
    "    \"SR-HSE\": ColumnAnnotation(\n",
    "        description=\"Stress response assay heat shock factor response element.\"\n",
    "    ),\n",
    "    \"SR-MMP\": ColumnAnnotation(\n",
    "        description=\"Stress response assay mitochondrial membrane potential.\"\n",
    "    ),\n",
    "    \"SR-p53\": ColumnAnnotation(description=\"Stress response assay p53.\"),\n",
    "}"
   ]
  },
  {
   "cell_type": "markdown",
   "metadata": {},
   "source": [
    "### Define `Dataset` object"
   ]
  },
  {
   "cell_type": "code",
   "execution_count": 6,
   "metadata": {},
   "outputs": [],
   "source": [
    "version = \"v1\"\n",
    "dataset_name = f\"{data_name}-{version}\""
   ]
  },
  {
   "cell_type": "code",
   "execution_count": 9,
   "metadata": {},
   "outputs": [],
   "source": [
    "dataset = Dataset(\n",
    "    # The table is the core data-structure required to construct a dataset\n",
    "    table=table[annotations.keys()],\n",
    "    # Additional meta-data on the dataset level.\n",
    "    name=dataset_name,\n",
    "    description=\"The Tox21 compound structures and activity measurements for 12 different qHTS assays were extracted from the Tox21 Data Challenge\",\n",
    "    source=\"https://europepmc.org/article/MED/23603828\",\n",
    "    annotations=annotations,\n",
    "    tags=[\"Toxicity\"],\n",
    "    owner=owner,\n",
    "    license=\"CC-BY-SA-4.0\",\n",
    "    user_attributes={\"year\": \"2013\"},\n",
    "    readme=load_readme(\"org-Graphium/tox21/tox21_readme.md\"),\n",
    ")"
   ]
  },
  {
   "cell_type": "code",
   "execution_count": 10,
   "metadata": {},
   "outputs": [
    {
     "data": {
      "text/plain": [
       "'gs://polaris-public/polaris-recipes/org-Graphium/tox21/datasets/tox21-v1/dataset.json'"
      ]
     },
     "execution_count": 10,
     "metadata": {},
     "output_type": "execute_result"
    }
   ],
   "source": [
    "# save the dataset to GCP\n",
    "SAVE_DIR = f\"{DATASET_DIR}/{dataset_name}\"\n",
    "dataset_path = dataset.to_json(SAVE_DIR)\n",
    "dataset_path"
   ]
  },
  {
   "cell_type": "code",
   "execution_count": 12,
   "metadata": {},
   "outputs": [
    {
     "name": "stderr",
     "output_type": "stream",
     "text": [
      "\u001b[32m2024-07-19 00:31:36.703\u001b[0m | \u001b[32m\u001b[1mSUCCESS \u001b[0m | \u001b[36mpolaris.hub.client\u001b[0m:\u001b[36mlogin\u001b[0m:\u001b[36m224\u001b[0m - \u001b[32m\u001b[1mYou are successfully logged in to the Polaris Hub.\u001b[0m\n",
      "\u001b[32m2024-07-19 00:31:38.660\u001b[0m | \u001b[32m\u001b[1mSUCCESS \u001b[0m | \u001b[36mpolaris.hub.client\u001b[0m:\u001b[36mupload_dataset\u001b[0m:\u001b[36m569\u001b[0m - \u001b[32m\u001b[1mYour dataset has been successfully uploaded to the Hub. View it here: https://polarishub.io/datasets/graphium/tox21-v1\u001b[0m\n"
     ]
    },
    {
     "data": {
      "text/plain": [
       "{'id': 'J2evWy7RceAJ9GRZsP8iK',\n",
       " 'createdAt': '2024-07-19T04:31:37.747Z',\n",
       " 'deletedAt': None,\n",
       " 'name': 'tox21-v1',\n",
       " 'slug': 'tox21-v1',\n",
       " 'description': 'The Tox21 compound structures and activity measurements for 12 different qHTS assays were extracted from the Tox21 Data Challenge',\n",
       " 'tags': ['Toxicity'],\n",
       " 'userAttributes': {'year': '2013'},\n",
       " 'access': 'public',\n",
       " 'isCertified': False,\n",
       " 'polarisVersion': 'dev',\n",
       " 'readme': '## Background\\nTox21 is a well-known dataset for researchers in machine learning for drug discovery. The data set provided by the Tox21 Data Challenge included approximately 12 000 compounds. It consists of a multi-label classification task with 12 labels, with most labels missing and a strong imbalance towards the negative class. Each subchallenge required the prediction of a different type of toxicity. The sub-challenges were split between two panels: Seven of the twelve sub-challenges dealt with Nuclear Receptor (NR) signaling pathways, the remaining five with the Stress Response (SR) pathways. Nuclear receptors are important components in cell communication and control, and are involved in development,\\nmetabolism and proliferation. Toxicity can also cause cellular stress which in term can\\nlead to apoptosis. Therefore the Tox21 data also includes five tasks on various stress response indicators. We chose Tox21 in our ToyMix since it is very similar to the larger proposed bioassay dataset, PCBA_1328_1564k both in terms of sparsity and imbalance and to the L1000 datasets in terms of imbalance.\\n\\n## Assay information\\nIn qHTS (quantitative high throughput screens), many thousands of compounds are screened in a single experiment across a broad concentration range in order to generate concentration–response curves. The method identifies compounds with a wide range of activities with a much lower false-positive or false-negative rate. The resulting concentration–response curves can be classified to rapidly identify actives and inactives with a variety of potencies and efficacies, producing rich data sets that can be mined for reliable biological activities.\\n\\n## Data resource\\nReference: [Improving the human hazard characterization of chemicals: a Tox21 update.](https://europepmc.org/article/MED/23603828)\\n',\n",
       " 'ownerId': 'zMTB7lQiiukqEmLQF7EjT',\n",
       " 'creatorId': 'NKnaHGybLqwSHcaMEHqfF',\n",
       " 'state': 'upload_pending',\n",
       " 'source': 'https://europepmc.org/article/MED/23603828',\n",
       " 'curationReference': None,\n",
       " 'nRows': 7831,\n",
       " 'nColumns': 13,\n",
       " 'license': 'CC-BY-SA-4.0',\n",
       " 'md5Sum': '4eacdc90d3361063a7074e48a26f3033',\n",
       " 'annotations': {'NR-AR': {'dtype': 'float64',\n",
       "   'modality': 'UNKNOWN',\n",
       "   'isPointer': False,\n",
       "   'description': 'Nuclear receptors pathway assay androgen receptor.',\n",
       "   'userAttributes': {}},\n",
       "  'NR-ER': {'dtype': 'float64',\n",
       "   'modality': 'UNKNOWN',\n",
       "   'isPointer': False,\n",
       "   'description': 'Nuclear receptors pathway assay estrogen receptor.',\n",
       "   'userAttributes': {}},\n",
       "  'NR-AhR': {'dtype': 'float64',\n",
       "   'modality': 'UNKNOWN',\n",
       "   'isPointer': False,\n",
       "   'description': 'Nuclear receptors pathway assay nuclear receptor aryl hydrocarbon receptor.',\n",
       "   'userAttributes': {}},\n",
       "  'SR-ARE': {'dtype': 'float64',\n",
       "   'modality': 'UNKNOWN',\n",
       "   'isPointer': False,\n",
       "   'description': 'Stress response assay antioxidant response element',\n",
       "   'userAttributes': {}},\n",
       "  'SR-HSE': {'dtype': 'float64',\n",
       "   'modality': 'UNKNOWN',\n",
       "   'isPointer': False,\n",
       "   'description': 'Stress response assay heat shock factor response element.',\n",
       "   'userAttributes': {}},\n",
       "  'SR-MMP': {'dtype': 'float64',\n",
       "   'modality': 'UNKNOWN',\n",
       "   'isPointer': False,\n",
       "   'description': 'Stress response assay mitochondrial membrane potential.',\n",
       "   'userAttributes': {}},\n",
       "  'SR-p53': {'dtype': 'float64',\n",
       "   'modality': 'UNKNOWN',\n",
       "   'isPointer': False,\n",
       "   'description': 'Stress response assay p53.',\n",
       "   'userAttributes': {}},\n",
       "  'smiles': {'dtype': 'object',\n",
       "   'modality': 'MOLECULE',\n",
       "   'isPointer': False,\n",
       "   'description': 'Molecule SMILES string',\n",
       "   'userAttributes': {}},\n",
       "  'SR-ATAD5': {'dtype': 'float64',\n",
       "   'modality': 'UNKNOWN',\n",
       "   'isPointer': False,\n",
       "   'description': 'Stress response assay ATPase Family AAA Domain Containing 5.',\n",
       "   'userAttributes': {}},\n",
       "  'NR-AR-LBD': {'dtype': 'float64',\n",
       "   'modality': 'UNKNOWN',\n",
       "   'isPointer': False,\n",
       "   'description': 'Nuclear receptors pathway assay androgen receptor ligand-binding domain.',\n",
       "   'userAttributes': {}},\n",
       "  'NR-ER-LBD': {'dtype': 'float64',\n",
       "   'modality': 'UNKNOWN',\n",
       "   'isPointer': False,\n",
       "   'description': 'Nuclear receptors pathway estrogen receptor luciferase assay.',\n",
       "   'userAttributes': {}},\n",
       "  'NR-Aromatase': {'dtype': 'float64',\n",
       "   'modality': 'UNKNOWN',\n",
       "   'isPointer': False,\n",
       "   'description': 'Nuclear receptors pathway assay aromatase',\n",
       "   'userAttributes': {}},\n",
       "  'NR-PPAR-gamma': {'dtype': 'float64',\n",
       "   'modality': 'UNKNOWN',\n",
       "   'isPointer': False,\n",
       "   'description': 'Nuclear receptors pathway assay peroxisome proliferator-activated receptor.',\n",
       "   'userAttributes': {}}},\n",
       " 'tableContent': {'url': 'https://polarishub.io/storage/dataset/graphium/tox21-v1/table.parquet',\n",
       "  'size': 163188,\n",
       "  'md5Sum': '387abc7287c8e5084af734d5aa3b0c6c',\n",
       "  'fileType': 'parquet'},\n",
       " 'defaultAdapters': {},\n",
       " 'zarrRootPath': None,\n",
       " 'zarrContent': {},\n",
       " 'artifactId': 'graphium/tox21-v1',\n",
       " 'creator': {'slug': 'lu-valencelabs',\n",
       "  'externalId': 'user_2gtYwEALU6nz7YYhVOTrlJmkWtN',\n",
       "  'type': 'user'},\n",
       " 'owner': {'slug': 'graphium',\n",
       "  'externalId': 'org_2jLxcFOg0QSWqTheLPLjUp9AWys',\n",
       "  'type': 'organization'},\n",
       " 'benchmarks': [],\n",
       " 'review': None}"
      ]
     },
     "execution_count": 12,
     "metadata": {},
     "output_type": "execute_result"
    }
   ],
   "source": [
    "# from polaris.hub.client import PolarisHubClient\n",
    "\n",
    "# client = PolarisHubClient()\n",
    "# client.login()\n",
    "\n",
    "# client.upload_dataset(dataset=dataset, access=\"public\", owner=owner)"
   ]
  },
  {
   "cell_type": "code",
   "execution_count": null,
   "metadata": {},
   "outputs": [],
   "source": []
  }
 ],
 "metadata": {
  "kernelspec": {
   "display_name": "Python 3 (ipykernel)",
   "language": "python",
   "name": "python3"
  },
  "language_info": {
   "codemirror_mode": {
    "name": "ipython",
    "version": 3
   },
   "file_extension": ".py",
   "mimetype": "text/x-python",
   "name": "python",
   "nbconvert_exporter": "python",
   "pygments_lexer": "ipython3",
   "version": "3.12.2"
  }
 },
 "nbformat": 4,
 "nbformat_minor": 4
}
