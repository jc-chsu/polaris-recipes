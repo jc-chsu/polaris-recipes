{
 "cells": [
  {
   "cell_type": "markdown",
   "metadata": {},
   "source": [
    "Note: this notebook is set up to run with the env.yml containing the name 'polaris_datasets'"
   ]
  },
  {
   "cell_type": "code",
   "execution_count": 1,
   "metadata": {},
   "outputs": [
    {
     "name": "stderr",
     "output_type": "stream",
     "text": [
      "/Users/lu.zhu/miniconda3/envs/po_dataset/lib/python3.12/site-packages/tqdm/auto.py:21: TqdmWarning: IProgress not found. Please update jupyter and ipywidgets. See https://ipywidgets.readthedocs.io/en/stable/user_install.html\n",
      "  from .autonotebook import tqdm as notebook_tqdm\n"
     ]
    }
   ],
   "source": [
    "%load_ext autoreload\n",
    "%autoreload 2\n",
    "\n",
    "import os\n",
    "import sys\n",
    "import pathlib\n",
    "\n",
    "import pandas as pd\n",
    "import datamol as dm\n",
    "import numpy as np\n",
    "\n",
    "from polaris.cli import PolarisHubClient\n",
    "\n",
    "# polaris dataset\n",
    "from polaris.dataset import Dataset, ColumnAnnotation\n",
    "from polaris.dataset._column import Modality\n",
    "\n",
    "from polaris.utils.types import HubOwner\n",
    "\n",
    "\n",
    "root = pathlib.Path(\"__file__\").absolute().parents[2]\n",
    "os.chdir(root)\n",
    "sys.path.insert(0, str(root))\n",
    "from utils.docs_utils import load_readme"
   ]
  },
  {
   "cell_type": "code",
   "execution_count": 2,
   "metadata": {},
   "outputs": [
    {
     "data": {
      "text/plain": [
       "HubOwner(slug='novartis', external_id=None, type='organization')"
      ]
     },
     "execution_count": 2,
     "metadata": {},
     "output_type": "execute_result"
    }
   ],
   "source": [
    "org = \"novartis\"\n",
    "data_name = \"CYP\"\n",
    "dirname = dm.fs.join(root, f\"org-{org}\", data_name)\n",
    "gcp_root = f\"gs://polaris-public/polaris-recipes/org-{org}/{data_name}\"\n",
    "\n",
    "owner = HubOwner(slug=org, type=\"organization\")\n",
    "owner"
   ]
  },
  {
   "cell_type": "code",
   "execution_count": 3,
   "metadata": {},
   "outputs": [],
   "source": [
    "BENCHMARK_DIR = f\"{gcp_root}/benchmarks\"\n",
    "DATASET_DIR = f\"{gcp_root}/datasets\"\n",
    "FIGURE_DIR = f\"{gcp_root}/figures\""
   ]
  },
  {
   "cell_type": "markdown",
   "metadata": {},
   "source": [
    "## Load existing data\n"
   ]
  },
  {
   "cell_type": "code",
   "execution_count": 4,
   "metadata": {},
   "outputs": [],
   "source": [
    "# Load the data\n",
    "source_data_path = (\n",
    "    \"gs://polaris-public/polaris-recipes/org-novartis/CYP/data/curation/CYP_curated.csv\"\n",
    ")\n",
    "data = pd.read_csv(source_data_path)"
   ]
  },
  {
   "cell_type": "markdown",
   "metadata": {},
   "source": [
    "### Define `Dataset` object"
   ]
  },
  {
   "cell_type": "code",
   "execution_count": 5,
   "metadata": {},
   "outputs": [],
   "source": [
    "version = \"v1\"\n",
    "dataset_name = f\"novartis_cyp3a4-{version}\""
   ]
  },
  {
   "cell_type": "code",
   "execution_count": 6,
   "metadata": {},
   "outputs": [],
   "source": [
    "# Additional meta-data on the column level\n",
    "annotations = {\n",
    "    \"MOL_smiles\": ColumnAnnotation(\n",
    "        description=\"Molecule SMILES string\", modality=\"molecule\"\n",
    "    ),\n",
    "    \"log_kobs\": ColumnAnnotation(\n",
    "        description=\"Log unit of TDI CYP3A4 inactivation.\",\n",
    "    ),\n",
    "    \"CLS_log_kobs\": ColumnAnnotation(\n",
    "        description=\"Three-class binning on TDI CYP3A4 inactivation  0.01 and 0.025.\",\n",
    "    ),\n",
    "    \"pIC50_CYP3A4\": ColumnAnnotation(\n",
    "        description=\"Reversible CYP3A4 inhibition pIC50 values.\",\n",
    "    ),\n",
    "    \"pIC50_CYP2C9\": ColumnAnnotation(\n",
    "        description=\"Reversible CYP2C9 inhibition pIC50 values.\"\n",
    "    ),\n",
    "    \"pIC50_CYP2D6\": ColumnAnnotation(\n",
    "        description=\"Reversible CYP2D6 inhibition pIC50 values.\"\n",
    "    ),\n",
    "    \"split\": ColumnAnnotation(\n",
    "        description=\"Train and test splitting from the original publication doi.org/10.1021/acs.chemrestox.3c00305\",\n",
    "    ),\n",
    "}"
   ]
  },
  {
   "cell_type": "code",
   "execution_count": 7,
   "metadata": {},
   "outputs": [],
   "source": [
    "dataset = Dataset(\n",
    "    # The table is the core data-structure required to construct a dataset\n",
    "    table=data[annotations.keys()],\n",
    "    # Additional meta-data on the dataset level.\n",
    "    name=dataset_name,\n",
    "    description=\"CYP3A4 Time-Dependent Inhibition data released by Novartis\",\n",
    "    source=\"https://opendata.ncats.nih.gov/adme/data\",\n",
    "    annotations=annotations,\n",
    "    tags=[\"ADME\"],\n",
    "    owner=owner,\n",
    "    license=\"CC-BY-4.0\",\n",
    "    user_attributes={\"year\": \"2024\"},\n",
    "    curation_reference=\"https://github.com/polaris-hub/polaris-recipes/org-Polaris/org-Novartis/CYP/00_CYP3A4_data_processing.ipynb\",\n",
    ")"
   ]
  },
  {
   "cell_type": "code",
   "execution_count": 8,
   "metadata": {},
   "outputs": [
    {
     "data": {
      "text/plain": [
       "'gs://polaris-public/polaris-recipes/org-novartis/CYP/datasets/novartis_cyp3a4-v1/dataset.json'"
      ]
     },
     "execution_count": 8,
     "metadata": {},
     "output_type": "execute_result"
    }
   ],
   "source": [
    "# save the dataset to GCP\n",
    "SAVE_DIR = f\"{DATASET_DIR}/{dataset_name}\"\n",
    "dataset_path = dataset.to_json(SAVE_DIR)\n",
    "dataset_path"
   ]
  },
  {
   "cell_type": "code",
   "execution_count": 9,
   "metadata": {},
   "outputs": [
    {
     "name": "stderr",
     "output_type": "stream",
     "text": [
      "\u001b[32m2024-07-10 01:40:37.248\u001b[0m | \u001b[1mINFO    \u001b[0m | \u001b[36mpolaris.hub.client\u001b[0m:\u001b[36mlogin\u001b[0m:\u001b[36m285\u001b[0m - \u001b[1mYou are already logged in to the Polaris Hub as  (lu@valencediscovery.com). Set `overwrite=True` to force re-authentication.\u001b[0m\n",
      "\u001b[32m2024-07-10 01:40:39.736\u001b[0m | \u001b[32m\u001b[1mSUCCESS \u001b[0m | \u001b[36mpolaris.hub.client\u001b[0m:\u001b[36mupload_dataset\u001b[0m:\u001b[36m631\u001b[0m - \u001b[32m\u001b[1mYour dataset has been successfully uploaded to the Hub. View it here: https://polarishub.io/datasets/novartis/novartis_cyp3a4-v1\u001b[0m\n"
     ]
    },
    {
     "data": {
      "text/plain": [
       "{'id': 'cYlWyrr7wFiTiTHKZt9v9',\n",
       " 'createdAt': '2024-07-10T05:40:37.884Z',\n",
       " 'deletedAt': None,\n",
       " 'name': 'novartis-cyp3a4-v1',\n",
       " 'slug': 'novartis-cyp3a4-v1',\n",
       " 'description': 'CYP3A4 Time-Dependent Inhibition data released by Novartis',\n",
       " 'tags': ['ADME'],\n",
       " 'userAttributes': {'year': '2024'},\n",
       " 'access': 'private',\n",
       " 'isCertified': False,\n",
       " 'polarisVersion': 'dev',\n",
       " 'readme': '',\n",
       " 'ownerId': 'yLurE6WfGoFvJX8EHoCpA',\n",
       " 'creatorId': 'NKnaHGybLqwSHcaMEHqfF',\n",
       " 'state': 'upload_pending',\n",
       " 'source': 'https://opendata.ncats.nih.gov/adme/data',\n",
       " 'curationReference': 'https://github.com/polaris-hub/polaris-recipes/org-Polaris/org-Novartis/CYP/00_CYP3A4_data_processing.ipynb',\n",
       " 'nRows': 16740,\n",
       " 'nColumns': 7,\n",
       " 'license': 'CC-BY-4.0',\n",
       " 'md5Sum': 'dcefee6bdae2a0c8224ea14a54e8b7ad',\n",
       " 'annotations': {'split': {'dtype': 'object',\n",
       "   'modality': 'UNKNOWN',\n",
       "   'isPointer': False,\n",
       "   'description': 'Train and test splitting from the original publication doi.org/10.1021/acs.chemrestox.3c00305',\n",
       "   'userAttributes': {}},\n",
       "  'log_kobs': {'dtype': 'float64',\n",
       "   'modality': 'UNKNOWN',\n",
       "   'isPointer': False,\n",
       "   'description': 'Log unit of TDI CYP3A4 inactivation.',\n",
       "   'userAttributes': {}},\n",
       "  'MOL_smiles': {'dtype': 'object',\n",
       "   'modality': 'MOLECULE',\n",
       "   'isPointer': False,\n",
       "   'description': 'Molecule SMILES string',\n",
       "   'userAttributes': {}},\n",
       "  'CLS_log_kobs': {'dtype': 'float64',\n",
       "   'modality': 'UNKNOWN',\n",
       "   'isPointer': False,\n",
       "   'description': 'Three-class binning on TDI CYP3A4 inactivation  0.01 and 0.025.',\n",
       "   'userAttributes': {}},\n",
       "  'pIC50_CYP2C9': {'dtype': 'float64',\n",
       "   'modality': 'UNKNOWN',\n",
       "   'isPointer': False,\n",
       "   'description': 'Reversible CYP2C9 inhibition pIC50 values.',\n",
       "   'userAttributes': {}},\n",
       "  'pIC50_CYP2D6': {'dtype': 'float64',\n",
       "   'modality': 'UNKNOWN',\n",
       "   'isPointer': False,\n",
       "   'description': 'Reversible CYP2D6 inhibition pIC50 values.',\n",
       "   'userAttributes': {}},\n",
       "  'pIC50_CYP3A4': {'dtype': 'float64',\n",
       "   'modality': 'UNKNOWN',\n",
       "   'isPointer': False,\n",
       "   'description': 'Reversible CYP3A4 inhibition pIC50 values.',\n",
       "   'userAttributes': {}}},\n",
       " 'tableContent': {'url': 'https://polaris-e7c0xuebp-invivoai-platform.vercel.app/storage/dataset/novartis/novartis-cyp3a4-v1/table.parquet',\n",
       "  'size': 557142,\n",
       "  'fileType': 'parquet'},\n",
       " 'defaultAdapters': {},\n",
       " 'zarrRoot': None,\n",
       " 'artifactId': 'novartis/novartis-cyp3a4-v1',\n",
       " 'creator': {'slug': 'lu-valencelabs',\n",
       "  'externalId': 'user_2gtYwEALU6nz7YYhVOTrlJmkWtN',\n",
       "  'type': 'user'},\n",
       " 'owner': {'slug': 'novartis',\n",
       "  'externalId': 'org_2gtoGtDstkzFwJb1EMwPY0DA2tc',\n",
       "  'type': 'organization'},\n",
       " 'benchmarks': [],\n",
       " 'review': None}"
      ]
     },
     "execution_count": 9,
     "metadata": {},
     "output_type": "execute_result"
    }
   ],
   "source": [
    "# from polaris.hub.client import PolarisHubClient\n",
    "# client = PolarisHubClient()\n",
    "# client.login()\n",
    "\n",
    "# client.upload_dataset(dataset=dataset, access=\"private\", owner=owner)"
   ]
  },
  {
   "cell_type": "code",
   "execution_count": null,
   "metadata": {},
   "outputs": [],
   "source": []
  }
 ],
 "metadata": {
  "kernelspec": {
   "display_name": "Python 3 (ipykernel)",
   "language": "python",
   "name": "python3"
  },
  "language_info": {
   "codemirror_mode": {
    "name": "ipython",
    "version": 3
   },
   "file_extension": ".py",
   "mimetype": "text/x-python",
   "name": "python",
   "nbconvert_exporter": "python",
   "pygments_lexer": "ipython3",
   "version": "3.12.4"
  }
 },
 "nbformat": 4,
 "nbformat_minor": 4
}
