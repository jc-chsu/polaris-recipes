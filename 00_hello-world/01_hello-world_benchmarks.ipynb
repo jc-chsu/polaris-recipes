{
 "cells": [
  {
   "cell_type": "markdown",
   "id": "545099e3-0eb9-4a80-a0c6-0448c0674502",
   "metadata": {},
   "source": [
    "# Dataset and Benchmark creation with `Polaris`\n",
    "The first step of creating a benchmark is to set up a standard dataset which allows accessing the curated dataset."
   ]
  },
  {
   "cell_type": "code",
   "execution_count": 3,
   "id": "30138c1e",
   "metadata": {
    "scrolled": true
   },
   "outputs": [
    {
     "name": "stdout",
     "output_type": "stream",
     "text": [
      "The autoreload extension is already loaded. To reload it, use:\n",
      "  %reload_ext autoreload\n"
     ]
    }
   ],
   "source": [
    "%load_ext autoreload\n",
    "%autoreload 2\n",
    "import os\n",
    "import pathlib\n",
    "import warnings\n",
    "import pandas as pd\n",
    "import datamol as dm\n",
    "import numpy as np\n",
    "\n",
    "from sklearn.model_selection import ShuffleSplit\n",
    "import polaris\n",
    "\n",
    "# polaris curation module\n",
    "from polaris.curation._chemistry_curator import SMILES_COL, UNIQUE_ID\n",
    "\n",
    "# polaris dataset\n",
    "from polaris.dataset import Dataset, ColumnAnnotation\n",
    "from polaris.dataset._column import Modality\n",
    "\n",
    "# polaris benchmark\n",
    "from polaris.benchmark import (\n",
    "    SingleTaskBenchmarkSpecification,\n",
    "    MultiTaskBenchmarkSpecification,\n",
    ")\n",
    "from polaris.utils.types import HubOwner, License\n",
    "\n",
    "os.chdir(pathlib.Path(\"__file__\").absolute().parents[1])\n"
   ]
  },
  {
   "cell_type": "code",
   "execution_count": 4,
   "id": "d9c5ea4e-740d-4e4a-a62d-dcb508b441a9",
   "metadata": {},
   "outputs": [
    {
     "data": {
      "text/plain": [
       "HubOwner(slug='polaristest', external_id=None, type=None)"
      ]
     },
     "execution_count": 4,
     "metadata": {},
     "output_type": "execute_result"
    }
   ],
   "source": [
    "owner = HubOwner(organizationId=\"PolarisTest\", slug=\"polaristest\")\n",
    "owner"
   ]
  },
  {
   "cell_type": "code",
   "execution_count": 5,
   "id": "2b30cfce-4ca6-40d5-9cc0-5eab86a11901",
   "metadata": {},
   "outputs": [],
   "source": [
    "BENCHMARK_DIR = \"gs://polaris-public/benchmarks/hello_world\"\n",
    "DATASET_DIR = \"gs://polaris-public/datasets/hello_world\""
   ]
  },
  {
   "cell_type": "code",
   "execution_count": 38,
   "id": "917f6297",
   "metadata": {},
   "outputs": [],
   "source": [
    "# Load data\n",
    "from datamol.data import solubility\n",
    "table = solubility()\n",
    "table.head(5)\n",
    "table['smiles'] = table.mol.apply(dm.to_smiles)"
   ]
  },
  {
   "cell_type": "code",
   "execution_count": 33,
   "id": "16203a67",
   "metadata": {},
   "outputs": [],
   "source": [
    "table[\"fp\"] = table.mol.apply(dm.to_fp)"
   ]
  },
  {
   "cell_type": "code",
   "execution_count": 37,
   "id": "22eecb6a",
   "metadata": {},
   "outputs": [
    {
     "data": {
      "text/plain": [
       "<function datamol.fp.to_fp(mol: Union[str, rdkit.Chem.rdchem.Mol], as_array: bool = True, fp_type: str = 'ecfp', fold_size: Optional[int] = None, **fp_args: Any) -> Union[numpy.ndarray, rdkit.DataStructs.cDataStructs.SparseBitVect, rdkit.DataStructs.cDataStructs.ExplicitBitVect, NoneType]>"
      ]
     },
     "execution_count": 37,
     "metadata": {},
     "output_type": "execute_result"
    }
   ],
   "source": [
    "dm.to_fp"
   ]
  },
  {
   "cell_type": "code",
   "execution_count": 39,
   "id": "9dfc88ac",
   "metadata": {},
   "outputs": [],
   "source": [
    "table['UNIQUE_ID'] = table.mol.apply(dm.hash_mol)"
   ]
  },
  {
   "cell_type": "markdown",
   "id": "39e9b589-c4fc-4229-98d6-5a78ce236da7",
   "metadata": {},
   "source": [
    "### Below we specify the meta information of data columns"
   ]
  },
  {
   "cell_type": "code",
   "execution_count": 40,
   "id": "3145fc25-e670-413a-8926-8ab9d6fcb3b0",
   "metadata": {},
   "outputs": [],
   "source": [
    "annotations = {\n",
    "    \"UNIQUE_ID\": ColumnAnnotation(\n",
    "        description=\"Molecular hash ID. See <datamol.mol.hash_mol>\"\n",
    "    ),\n",
    "    \"smiles\": ColumnAnnotation(\n",
    "        description=\"Molecule SMILES string after cleaning and standardization.\",\n",
    "        modality=Modality.MOLECULE,\n",
    "    ),\n",
    "    \"SOL\": ColumnAnnotation(\n",
    "        description=\"Experimental solubility\",\n",
    "    ),\n",
    "}"
   ]
  },
  {
   "cell_type": "markdown",
   "id": "b1e0af61-896b-42f0-af62-5ffbf0004aec",
   "metadata": {},
   "source": [
    "### Define `Dataset` object"
   ]
  },
  {
   "cell_type": "code",
   "execution_count": 41,
   "id": "a1289480-0835-4730-89cf-1167de1e62f2",
   "metadata": {},
   "outputs": [],
   "source": [
    "dataset_name = \"hello-world\""
   ]
  },
  {
   "cell_type": "code",
   "execution_count": 42,
   "id": "9e606547-f711-4e4d-8c93-97002a8a2236",
   "metadata": {},
   "outputs": [],
   "source": [
    "dataset = Dataset(\n",
    "    table=table[annotations.keys()].copy(),\n",
    "    name=dataset_name,\n",
    "    description=\"Hello-world dataset for testing purpose\",\n",
    "    annotations=annotations,\n",
    "    owner=owner,\n",
    "    tags=[\"test\"],\n",
    "    licence=License(id=\"CC-BY-4.0\"),\n",
    ")"
   ]
  },
  {
   "cell_type": "code",
   "execution_count": 43,
   "id": "8b295721-e50f-4dae-881f-a7660f1284a9",
   "metadata": {},
   "outputs": [
    {
     "data": {
      "text/plain": [
       "'gs://polaris-public/datasets/hello_world/hello-world/dataset.json'"
      ]
     },
     "execution_count": 43,
     "metadata": {},
     "output_type": "execute_result"
    }
   ],
   "source": [
    "# save the dataset\n",
    "SAVE_DIR = f\"{DATASET_DIR}/{dataset_name}\"\n",
    "dataset.to_json(SAVE_DIR)"
   ]
  },
  {
   "cell_type": "markdown",
   "id": "42c498f1",
   "metadata": {},
   "source": [
    "## Benchmark creation with `Polaris`\n",
    "Creating a benchmark involves setting up a standard dataset, designing the train-validation-test set and defining evaluation metrics which is used to establish baseline performance level. "
   ]
  },
  {
   "cell_type": "code",
   "execution_count": 44,
   "id": "2868d28e-363d-4fda-8719-a9cf0d917e02",
   "metadata": {},
   "outputs": [
    {
     "name": "stdout",
     "output_type": "stream",
     "text": [
      "gs://polaris-public/benchmarks/hello_world/hello-world-benchmark/benchmark.json\n"
     ]
    }
   ],
   "source": [
    "benchmark_name = \"hello-world-benchmark\"\n",
    "split = table[table[\"split\"] ==\"train\"].index.values, table[table[\"split\"] ==\"test\"].index.values\n",
    "benchmark = SingleTaskBenchmarkSpecification(\n",
    "    name=benchmark_name,\n",
    "    dataset=dataset,\n",
    "    target_cols=[\"SOL\"],\n",
    "    input_cols=\"smiles\",\n",
    "    split=split,\n",
    "    tags=[\"test\"],\n",
    "    owner=owner,\n",
    "    description=\"Hello-world dataset for testing purpose\",\n",
    "    main_metric=\"mean_squared_error\",\n",
    "    metrics=[\n",
    "        \"mean_absolute_error\",\n",
    "        \"mean_squared_error\",\n",
    "        \"r2\",\n",
    "        \"spearmanr\",\n",
    "        \"pearsonr\",\n",
    "        \"explained_var\",\n",
    "    ],\n",
    ")\n",
    "SAVE_DIR = f\"{BENCHMARK_DIR}/{benchmark_name}\"\n",
    "path = benchmark.to_json(SAVE_DIR)\n",
    "print(path)"
   ]
  },
  {
   "cell_type": "code",
   "execution_count": null,
   "id": "58c65185-0f42-4f06-b550-9ca4dc6b7dc5",
   "metadata": {},
   "outputs": [],
   "source": []
  },
  {
   "cell_type": "code",
   "execution_count": null,
   "id": "256e5739",
   "metadata": {},
   "outputs": [],
   "source": []
  }
 ],
 "metadata": {
  "kernelspec": {
   "display_name": "Python 3 (ipykernel)",
   "language": "python",
   "name": "python3"
  },
  "language_info": {
   "codemirror_mode": {
    "name": "ipython",
    "version": 3
   },
   "file_extension": ".py",
   "mimetype": "text/x-python",
   "name": "python",
   "nbconvert_exporter": "python",
   "pygments_lexer": "ipython3",
   "version": "3.12.2"
  }
 },
 "nbformat": 4,
 "nbformat_minor": 5
}
