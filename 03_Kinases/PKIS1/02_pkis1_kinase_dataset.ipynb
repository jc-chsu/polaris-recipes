{
 "cells": [
  {
   "cell_type": "markdown",
   "id": "2b798393-db49-47fe-ab32-b2bdbc4fccda",
   "metadata": {},
   "source": [
    "# PKIS 1 Dataset creation"
   ]
  },
  {
   "cell_type": "code",
   "execution_count": 1,
   "id": "bdfe05d8-7f95-4d14-87c8-c1963683a0e3",
   "metadata": {},
   "outputs": [
    {
     "name": "stderr",
     "output_type": "stream",
     "text": [
      "/Users/lu.zhu/miniconda3/envs/pov3/lib/python3.11/site-packages/umap/distances.py:1063: NumbaDeprecationWarning: \u001b[1mThe 'nopython' keyword argument was not supplied to the 'numba.jit' decorator. The implicit default value for this argument is currently False, but it will be changed to True in Numba 0.59.0. See https://numba.readthedocs.io/en/stable/reference/deprecation.html#deprecation-of-object-mode-fall-back-behaviour-when-using-jit for details.\u001b[0m\n",
      "  @numba.jit()\n",
      "/Users/lu.zhu/miniconda3/envs/pov3/lib/python3.11/site-packages/umap/distances.py:1071: NumbaDeprecationWarning: \u001b[1mThe 'nopython' keyword argument was not supplied to the 'numba.jit' decorator. The implicit default value for this argument is currently False, but it will be changed to True in Numba 0.59.0. See https://numba.readthedocs.io/en/stable/reference/deprecation.html#deprecation-of-object-mode-fall-back-behaviour-when-using-jit for details.\u001b[0m\n",
      "  @numba.jit()\n",
      "/Users/lu.zhu/miniconda3/envs/pov3/lib/python3.11/site-packages/umap/distances.py:1086: NumbaDeprecationWarning: \u001b[1mThe 'nopython' keyword argument was not supplied to the 'numba.jit' decorator. The implicit default value for this argument is currently False, but it will be changed to True in Numba 0.59.0. See https://numba.readthedocs.io/en/stable/reference/deprecation.html#deprecation-of-object-mode-fall-back-behaviour-when-using-jit for details.\u001b[0m\n",
      "  @numba.jit()\n",
      "/Users/lu.zhu/miniconda3/envs/pov3/lib/python3.11/site-packages/umap/umap_.py:660: NumbaDeprecationWarning: \u001b[1mThe 'nopython' keyword argument was not supplied to the 'numba.jit' decorator. The implicit default value for this argument is currently False, but it will be changed to True in Numba 0.59.0. See https://numba.readthedocs.io/en/stable/reference/deprecation.html#deprecation-of-object-mode-fall-back-behaviour-when-using-jit for details.\u001b[0m\n",
      "  @numba.jit()\n"
     ]
    }
   ],
   "source": [
    "%load_ext autoreload\n",
    "%autoreload 2\n",
    "import os\n",
    "import datamol as dm\n",
    "import pandas as pd\n",
    "from polaris import curation\n",
    "import numpy as np\n",
    "import umap\n",
    "import re\n",
    "import seaborn as sns\n",
    "from matplotlib import pyplot as plt\n",
    "import seaborn as sns\n",
    "import os\n",
    "import pathlib\n",
    "os.chdir(pathlib.Path(\"__file__\").absolute().parents[2])\n",
    "from polaris.curation._chemistry_curator import UNIQUE_ID\n",
    "from polaris.dataset import ColumnAnnotation, Dataset\n",
    "from utils import *\n"
   ]
  },
  {
   "cell_type": "code",
   "execution_count": 2,
   "id": "a9ca76d9-9b4b-49a0-951e-2e31e43a8222",
   "metadata": {},
   "outputs": [
    {
     "data": {
      "text/plain": [
       "'PolarisTest'"
      ]
     },
     "execution_count": 2,
     "metadata": {},
     "output_type": "execute_result"
    }
   ],
   "source": [
    "from polaris.utils.types import HubOwner\n",
    "owner = HubOwner(organizationId=\"PolarisTest\", slug=\"polaristest\")\n",
    "owner.owner"
   ]
  },
  {
   "cell_type": "code",
   "execution_count": 3,
   "id": "cb3c1424-8fc9-4908-ac7d-fd93d663f525",
   "metadata": {},
   "outputs": [],
   "source": [
    "DATASET_DIR = \"gs://polaris-public/datasets/kinases/pkis1_subset_curated \""
   ]
  },
  {
   "cell_type": "markdown",
   "id": "8d41a8e8-e7ad-4678-9444-231823462fbe",
   "metadata": {},
   "source": [
    "### Create Dataset"
   ]
  },
  {
   "cell_type": "code",
   "execution_count": 4,
   "id": "ee8fbe6a-5354-4c7b-84cc-dd2cb389750a",
   "metadata": {},
   "outputs": [],
   "source": [
    "path = 'gs://polaris-public/data/Kinases/pkis1_subset_curated_v1.parquet'\n",
    "\n",
    "table = pd.read_parquet(path)\n",
    "table.rename(columns={UNIQUE_ID: \"UNIQUE_ID\"}, inplace=True)"
   ]
  },
  {
   "cell_type": "code",
   "execution_count": 9,
   "id": "e59cb5c5-0a52-47ed-8afb-812bb786157b",
   "metadata": {},
   "outputs": [],
   "source": [
    "data_cols = ['EGFR_(L858R_mutant)',  'EGFR',\n",
    "       'KIT_(T6701_mutant)', 'KIT_(V560G_mutant)', 'KIT', \n",
    "       'RET_(V804L_mutant)', 'RET_(Y791F_mutant)', 'RET']"
   ]
  },
  {
   "cell_type": "code",
   "execution_count": 10,
   "id": "f92c0ab5-dd41-44a9-a1b9-912da38133ff",
   "metadata": {},
   "outputs": [],
   "source": [
    "mutant_anno = {}\n",
    "mutant_cls_anno = {}\n",
    "\n",
    "for col in data_cols:\n",
    "    tar = col.split(\"_\")[0]\n",
    "    mut_var = re.findall(r\"_\\((\\S+)\\)\", data_cols[0])\n",
    "    mut_var = None if len(mut_var) == 0 else mut_var[0]\n",
    "    if mut_var is None:\n",
    "        anno = ColumnAnnotation(\n",
    "            protocol=f\"Percentage of inhibition on {tar} wide type\",\n",
    "            user_attributes={\n",
    "                \"unit\": \"%\",\n",
    "                \"concentration\": \"1uM\",\n",
    "                \"organism\": \"Human\",\n",
    "                \"objective\": \"Higher value\",\n",
    "                \"source\": \"PKIS1\",\n",
    "                \"mutation\": None,\n",
    "                \"target\": tar,\n",
    "            },\n",
    "        )\n",
    "        cls_anno = ColumnAnnotation(\n",
    "            protocol=f\"Binarized label based on the percentage of inhibition on {tar} wide type\",\n",
    "            user_attributes={\n",
    "                \"thresholds\": \"Greather than 90 (stringent)\",\n",
    "                \"label_order\": \"ascending\",\n",
    "                \"ref_col\": col,\n",
    "            },\n",
    "        )\n",
    "    else:\n",
    "        anno = ColumnAnnotation(\n",
    "            protocol=f\"Percentage of inhibition on {tar} with mutation {mut_var}\",\n",
    "            user_attributes={\n",
    "                \"unit\": \"%\",\n",
    "                \"concentration\": \"1uM\",\n",
    "                \"organism\": \"Human\",\n",
    "                \"objective\": \"Higher value\",\n",
    "                \"source\": \"PKIS1\",\n",
    "                \"mutation\": mut_var,\n",
    "                \"target\": tar,\n",
    "            },\n",
    "        )\n",
    "\n",
    "        cls_anno = ColumnAnnotation(\n",
    "            protocol=f\"Binarized label based on the percentage of inhibition on {tar} {mut_var}\",\n",
    "            user_attributes={\n",
    "                \"thresholds\": \"Greather than 90 (stringent)\",\n",
    "                \"label_order\": \"ascending\",\n",
    "                \"ref_col\": col,\n",
    "            },\n",
    "        )\n",
    "    mutant_anno[col] = anno\n",
    "    mutant_cls_anno[f\"CLASS_{col}\"] = cls_anno"
   ]
  },
  {
   "cell_type": "code",
   "execution_count": 11,
   "id": "9101750d-068e-408c-993d-5411886246e1",
   "metadata": {},
   "outputs": [],
   "source": [
    "pkis_annotations = {\n",
    "    # Molecule identifiers\n",
    "    \"UNIQUE_ID\": ColumnAnnotation(\n",
    "        protocol=\"Molecular hash ID. See <datamol.mol.hash_mol>\"\n",
    "    ),\n",
    "    'smiles': ColumnAnnotation(protocol='Molecule SMILES string', modality=\"molecule\"),\n",
    "    **mutant_anno,\n",
    "    **mutant_cls_anno,\n",
    "}"
   ]
  },
  {
   "cell_type": "code",
   "execution_count": 12,
   "id": "65926a63-1caa-4040-bd25-86259ae60942",
   "metadata": {},
   "outputs": [],
   "source": [
    "dataset_name = \"pkis1_egfr_ret_kit_lok_slk\"\n",
    "dataset = Dataset(\n",
    "    table=table,\n",
    "    name=dataset_name,\n",
    "    description=f\"A subset of PKIS dataset only including EGFR, RET, KIT, LOK and SLK kinases. PKIS is a data set of 367 small-molecule ATP-competitive kinase inhibitors that was screened by the set in activity assays with 224 recombinant kinases and 24 G protein-coupled receptors and in cellular assays of cancer cell proliferation and angiogenesis.\",\n",
    "    source=\"https://pubmed.ncbi.nlm.nih.gov/26501955\",\n",
    "    annotations=pkis_annotations,\n",
    "    owner=owner, \n",
    "    tags=[\"Kinase\",\"HitDiscovery\", \"Selectivity\"],\n",
    ")"
   ]
  },
  {
   "cell_type": "code",
   "execution_count": 13,
   "id": "a64af011-e010-413a-b3ba-be8f6465fe92",
   "metadata": {},
   "outputs": [
    {
     "data": {
      "text/plain": [
       "'gs://polaris-public/datasets/kinases/pkis1_subset_curated /pkis1_egfr_ret_kit_lok_slk/dataset.json'"
      ]
     },
     "execution_count": 13,
     "metadata": {},
     "output_type": "execute_result"
    }
   ],
   "source": [
    "# save the dataset\n",
    "SAVE_DIR = f\"{DATASET_DIR}/{dataset_name}\"\n",
    "dataset.to_json(SAVE_DIR)"
   ]
  },
  {
   "cell_type": "code",
   "execution_count": null,
   "id": "0f44b17f-645c-498d-b1a3-107645423701",
   "metadata": {},
   "outputs": [],
   "source": []
  }
 ],
 "metadata": {
  "kernelspec": {
   "display_name": "Python 3 (ipykernel)",
   "language": "python",
   "name": "python3"
  },
  "language_info": {
   "codemirror_mode": {
    "name": "ipython",
    "version": 3
   },
   "file_extension": ".py",
   "mimetype": "text/x-python",
   "name": "python",
   "nbconvert_exporter": "python",
   "pygments_lexer": "ipython3",
   "version": "3.11.5"
  }
 },
 "nbformat": 4,
 "nbformat_minor": 5
}
