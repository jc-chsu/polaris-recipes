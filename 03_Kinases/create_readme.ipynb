{
 "cells": [
  {
   "cell_type": "code",
   "execution_count": 1,
   "id": "40e011d2-aef9-46c8-99cc-d021dd40a289",
   "metadata": {},
   "outputs": [],
   "source": [
    "import datamol as dm\n",
    "import os"
   ]
  },
  {
   "cell_type": "code",
   "execution_count": 2,
   "id": "eaa5d616-c9dc-418d-ae8e-7f868a54dea6",
   "metadata": {},
   "outputs": [],
   "source": [
    "import os\n",
    "from os import path\n",
    "from os.path import dirname\n",
    "\n",
    "os.chdir(path.dirname(path.dirname(path.abspath(\"__file__\"))))"
   ]
  },
  {
   "cell_type": "code",
   "execution_count": 3,
   "id": "10c43aaf-76d0-41ce-aa24-9f9fa63371bf",
   "metadata": {},
   "outputs": [
    {
     "data": {
      "text/plain": [
       "'/Users/lu.zhu/Documents/Codebase/ValenceLab/polaris-recipes'"
      ]
     },
     "execution_count": 3,
     "metadata": {},
     "output_type": "execute_result"
    }
   ],
   "source": [
    "os.getcwd()"
   ]
  },
  {
   "cell_type": "code",
   "execution_count": 34,
   "id": "bea694fe-8d10-4a95-9d21-c0b22391a988",
   "metadata": {},
   "outputs": [],
   "source": [
    "dataset_name = \"drewry_ret_wt_v804l_y791f_v1\""
   ]
  },
  {
   "cell_type": "code",
   "execution_count": 35,
   "id": "21b0280a-374e-4752-af68-ccec98b8444d",
   "metadata": {},
   "outputs": [],
   "source": [
    "dataset_readme = \"\"\"\n",
    "\n",
    "- **RET (Rearranged during Transfection)** is a proto-oncogene that codes for a receptor tyrosine kinase. This means it produces a protein that plays a role in signaling pathways within cells, particularly related to cell growth and differentiation. When activated, RET helps regulate cell survival, proliferation, and differentiation. Mutations or alterations in the RET gene can lead to uncontrolled cell growth and potentially the development of cancer.\n",
    "    - **RET wild type**:  In some cases, targeting both mutant and wild-type RET together can be more effective than targeting only one form as Combination Therapies.\n",
    "    In certain cancer types, such as some subtypes of non-small cell lung cancer (NSCLC), the RET signaling pathway can interact with other oncogenic pathways, such as the EGFR (epidermal growth factor receptor) pathway. Targeting both pathways simultaneously might offer a synergistic effect and improve treatment outcomes.\n",
    "    - **RET-V804L:** The V804L mutation causes a structural change in the RET protein, resulting in its continuous activation, even in the absence of ligand binding. The mutation leads to uncontrolled cell growth and division, contributing to oncogenesis. The V804L mutation in RET has been identified in various cancer types, particularly in thyroid cancers, including papillary thyroid carcinoma (PTC) and medullary thyroid carcinoma (MTC). It is often associated with aggressive tumor behavior and resistance to conventional therapies.\n",
    "    V804L confers a gain of function on the Ret protein, as indicated by increased kinase activity, cell transformation (PMID: 9242375), and is considered a gatekeeper mutation due to lack of response to some inhibitors, including cabozantinib and vandetanib (PMID: 27712045).\n",
    "    - **RET-Y791F:** The Y791F mutation disrupts a crucial phosphorylation site within the RET protein. Consequently, the tyrosine at position 791 cannot be phosphorylated effectively or at all. This disruption interferes with the normal signaling pathways that rely on this particular phosphorylation event, leading to dysregulated downstream signaling, such as MAPK and PI3K. The Y791F mutation, by abrogating this phosphorylation site, alters these cellular responses and may influence tumor development and progression. The Y791F mutation is found in the RET protein, which is implicated in several types of cancer, particularly medullary thyroid carcinoma (MTC). Y791F confers a gain of function on the Ret protein, resulting in ligand independent kinase activity and activation of Stat3 signaling through Src, Jak1, and Jak2-dependent pathways in cell culture (PMID: 15753368).\n",
    "\n",
    "**Description of readout:**\n",
    "- **Readouts**: `RET`, `RET_(V804L_mutant)`, `RET_(Y791F_mutant)`\n",
    "- **Bioassay readout**: Percentage of inhibition.\n",
    "- **Optimization objective**: Higher the more potent.\n",
    "\n",
    "**Published EGFR datasets**: \n",
    "- **PKIS 1**: A set of 364 unique small-molecule ATP-competitive kinase inhibitors that was screened by the set in activity assays with 224 recombinant kinases and 24 G protein-coupled receptors and in cellular assays of cancer cell proliferation and angiogenesis ([ref](https://pubmed.ncbi.nlm.nih.gov/26501955/)).\n",
    "\n",
    "\n",
    "\"\"\""
   ]
  },
  {
   "cell_type": "code",
   "execution_count": 36,
   "id": "434453df-a3c9-4b41-8e8a-aa99f9ac24bf",
   "metadata": {},
   "outputs": [],
   "source": [
    "with dm.fs.fsspec.open(\n",
    "    f\"gs://polaris-public/datasets/readmes/{dataset_name}_readme.md\", \"w\"\n",
    ") as f:\n",
    "    f.write(dataset_readme)"
   ]
  },
  {
   "cell_type": "code",
   "execution_count": null,
   "id": "75528f1a-0ee0-4fdc-a659-29642511bc9f",
   "metadata": {},
   "outputs": [],
   "source": []
  },
  {
   "cell_type": "code",
   "execution_count": 51,
   "id": "92f2feac-0e66-4a4b-b723-591ff841a5e6",
   "metadata": {},
   "outputs": [],
   "source": [
    "benchmark_name = \"drewry_ret_wildtype_singletask_clf_v1\""
   ]
  },
  {
   "cell_type": "markdown",
   "id": "d2a3ac2d-8462-4568-98ac-c424080c2a41",
   "metadata": {},
   "source": [
    "**Benchmarking goal:**\n",
    "The goal of this benchmark is to select the best predictive model for \n",
    "- Optimization of the bioactivity % inhibition.\n",
    "- Discovery of potential hits in new chemical space.\n",
    "\n",
    "**Molecule data resource**: \n",
    "https://www.ncbi.nlm.nih.gov/pubmed/28767711\n",
    "\n",
    "**Train/test split**\n",
    "Therefore, a scaffold-based splitting approach was applied to ensure training and test sets contain distinct chemical structures while maintaining the diversity of scaffolds.\n",
    "\n",
    "**Distribution of the train/test in the chemical space**\n",
    "![image](https://storage.googleapis.com/polaris-public/datasets/kinases/ret/figures/drewry_ret_wildtype_v1_umap_scaffold_split.png)\n",
    "\n",
    "**For more details of this benchmark** -> [notebook](https://github.com/polaris-hub/polaris-recipes/blob/mvp/03_Kinases/RET/mutants/02_RET_mutants_benchmark.ipynb)"
   ]
  },
  {
   "cell_type": "code",
   "execution_count": 52,
   "id": "54ba08cd-1489-4c74-9619-f31be315b124",
   "metadata": {},
   "outputs": [],
   "source": [
    "benchmark_readme = \"\"\"\n",
    "\n",
    "**Benchmarking goal:**\n",
    "The goal of this benchmark is to select the best predictive model for \n",
    "- Optimization of the bioactivity % inhibition.\n",
    "- Discovery of potential hits in new chemical space.\n",
    "\n",
    "**Molecule data resource**: \n",
    "https://www.ncbi.nlm.nih.gov/pubmed/28767711\n",
    "\n",
    "**Train/test split**\n",
    "Therefore, a scaffold-based splitting approach was applied to ensure training and test sets contain distinct chemical structures while maintaining the diversity of scaffolds.\n",
    "\n",
    "**Distribution of the train/test in the chemical space**\n",
    "![image](https://storage.googleapis.com/polaris-public/datasets/kinases/ret/figures/drewry_ret_wildtype_v1_umap_scaffold_split.png)\n",
    "\n",
    "**For more details of this benchmark** -> [notebook](https://github.com/polaris-hub/polaris-recipes/blob/mvp/03_Kinases/RET/mutants/02_RET_mutants_benchmark.ipynb)\n",
    "\"\"\""
   ]
  },
  {
   "cell_type": "code",
   "execution_count": 53,
   "id": "a5772fc0-07e5-47a5-bfef-f2c2f3a12e99",
   "metadata": {},
   "outputs": [],
   "source": [
    "with dm.fs.fsspec.open(f\"readme/benchmarks/{benchmark_name}_readme.md\", \"w\") as f:\n",
    "    f.write(benchmark_readme)\n",
    "with dm.fs.fsspec.open(\n",
    "    f\"gs://polaris-public/benchmarks/readmes/{benchmark_name}_readme.md\", \"w\"\n",
    ") as f:\n",
    "    f.write(benchmark_readme)"
   ]
  },
  {
   "cell_type": "code",
   "execution_count": null,
   "id": "3beab8ae-4714-4c66-ae3f-8ef8fa5e391a",
   "metadata": {},
   "outputs": [],
   "source": []
  },
  {
   "cell_type": "code",
   "execution_count": null,
   "id": "87e01715-e450-4c12-b287-db33cbd6b9eb",
   "metadata": {},
   "outputs": [],
   "source": []
  },
  {
   "cell_type": "code",
   "execution_count": null,
   "id": "63f0c12e-51bf-4272-bab7-b8d7fbf55aa1",
   "metadata": {},
   "outputs": [],
   "source": [
    "response = dataset.upload_to_hub(access=\"public\")\n",
    "response = benchmark_clf.upload_to_hub(access=\"public\")\n",
    "response = benchmark_reg.upload_to_hub(access=\"public\")"
   ]
  }
 ],
 "metadata": {
  "kernelspec": {
   "display_name": "Python 3 (ipykernel)",
   "language": "python",
   "name": "python3"
  },
  "language_info": {
   "codemirror_mode": {
    "name": "ipython",
    "version": 3
   },
   "file_extension": ".py",
   "mimetype": "text/x-python",
   "name": "python",
   "nbconvert_exporter": "python",
   "pygments_lexer": "ipython3",
   "version": "3.11.5"
  }
 },
 "nbformat": 4,
 "nbformat_minor": 5
}
