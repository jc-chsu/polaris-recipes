{
 "cells": [
  {
   "cell_type": "code",
   "execution_count": 1,
   "id": "40e011d2-aef9-46c8-99cc-d021dd40a289",
   "metadata": {},
   "outputs": [],
   "source": [
    "import datamol as dm\n",
    "import os"
   ]
  },
  {
   "cell_type": "code",
   "execution_count": 2,
   "id": "eaa5d616-c9dc-418d-ae8e-7f868a54dea6",
   "metadata": {},
   "outputs": [],
   "source": [
    "import os\n",
    "from os import path\n",
    "from os.path import dirname\n",
    "\n",
    "os.chdir(path.dirname(path.dirname(path.abspath(\"__file__\"))))"
   ]
  },
  {
   "cell_type": "code",
   "execution_count": 3,
   "id": "10c43aaf-76d0-41ce-aa24-9f9fa63371bf",
   "metadata": {},
   "outputs": [
    {
     "data": {
      "text/plain": [
       "'/Users/lu.zhu/Documents/Codebase/ValenceLab/polaris-recipes'"
      ]
     },
     "execution_count": 3,
     "metadata": {},
     "output_type": "execute_result"
    }
   ],
   "source": [
    "os.getcwd()"
   ]
  },
  {
   "cell_type": "code",
   "execution_count": 4,
   "id": "bea694fe-8d10-4a95-9d21-c0b22391a988",
   "metadata": {},
   "outputs": [],
   "source": [
    "dataset_name = \"drewry_lok_slk_v1\""
   ]
  },
  {
   "cell_type": "markdown",
   "id": "9339a5d7-b26d-4f1e-a688-3c027bdfed1a",
   "metadata": {},
   "source": [
    "**STK10** is involved in multiple signaling pathways, including the p38 mitogen-activated protein kinase (MAPK) pathway. \n",
    "research on STK10 as a therapeutic target was still in its early stages. Preclinical studies in cell lines and animal models might have been conducted to investigate the effects of STK10 inhibition on tumor growth and other cellular processes\n",
    "\n",
    "**SLK (STE20-like kinase)** and **STK10 (serine/threonine kinase 10, also known as LOK)** are serine/threonine kinases whose major known function is activating the ERM (ezrin/radixin/moesin) proteins by phosphorylation on a conserved threonine residue near the C-terminus (moesin Thr558). rgistic effect and improve treatment outcomes.\n",
    "\n",
    "**Description of readout:**\n",
    "- **Readouts**: `LOK`, `SLK`\n",
    "- **Bioassay readout**: Percentage of inhibition.\n",
    "- **Optimization objective**: Higher the more potent.\n",
    "\n",
    "  \n",
    "**Published LOK and SLK datasets**: \n",
    "- **PKIS2**: A second chemogenomics set of kinase inhibitors from GSK, Takeda, and Pfizer was assembled as PKIS2. This set contained 645 inhibitors and included many additional chemotypes that were not represented in the original set. [ref](https://www.ncbi.nlm.nih.gov/pubmed/28767711)"
   ]
  },
  {
   "cell_type": "code",
   "execution_count": 5,
   "id": "21b0280a-374e-4752-af68-ccec98b8444d",
   "metadata": {},
   "outputs": [],
   "source": [
    "dataset_readme = \"\"\"\n",
    "**STK10** is involved in multiple signaling pathways, including the p38 mitogen-activated protein kinase (MAPK) pathway. \n",
    "research on STK10 as a therapeutic target was still in its early stages. Preclinical studies in cell lines and animal models might have been conducted to investigate the effects of STK10 inhibition on tumor growth and other cellular processes\n",
    "\n",
    "**SLK (STE20-like kinase)** and **STK10 (serine/threonine kinase 10, also known as LOK)** are serine/threonine kinases whose major known function is activating the ERM (ezrin/radixin/moesin) proteins by phosphorylation on a conserved threonine residue near the C-terminus (moesin Thr558). rgistic effect and improve treatment outcomes.\n",
    "\n",
    "**Description of readout:**\n",
    "- **Readouts**: `LOK`, `SLK`\n",
    "- **Bioassay readout**: Percentage of inhibition.\n",
    "- **Optimization objective**: Higher the more potent.\n",
    "\n",
    "  \n",
    "**Published LOK and SLK datasets**: \n",
    "- **PKIS2**: A second chemogenomics set of kinase inhibitors from GSK, Takeda, and Pfizer was assembled as PKIS2. This set contained 645 inhibitors and included many additional chemotypes that were not represented in the original set. [ref](https://www.ncbi.nlm.nih.gov/pubmed/28767711)\n",
    "\n",
    "\"\"\""
   ]
  },
  {
   "cell_type": "code",
   "execution_count": 6,
   "id": "434453df-a3c9-4b41-8e8a-aa99f9ac24bf",
   "metadata": {},
   "outputs": [
    {
     "name": "stderr",
     "output_type": "stream",
     "text": [
      "/Users/lu.zhu/miniconda3/envs/pov3/lib/python3.11/site-packages/google/auth/_default.py:78: UserWarning: Your application has authenticated using end user credentials from Google Cloud SDK without a quota project. You might receive a \"quota exceeded\" or \"API not enabled\" error. See the following page for troubleshooting: https://cloud.google.com/docs/authentication/adc-troubleshooting/user-creds. \n",
      "  warnings.warn(_CLOUD_SDK_CREDENTIALS_WARNING)\n"
     ]
    }
   ],
   "source": [
    "with dm.fs.fsspec.open(\n",
    "    f\"gs://polaris-public/datasets/readmes/{dataset_name}_readme.md\", \"w\"\n",
    ") as f:\n",
    "    f.write(dataset_readme)"
   ]
  },
  {
   "cell_type": "code",
   "execution_count": null,
   "id": "69546cba-ea82-43a7-994c-31d8aef4a4f2",
   "metadata": {},
   "outputs": [],
   "source": []
  },
  {
   "cell_type": "code",
   "execution_count": null,
   "id": "dd333217-f4a8-42b2-8d0c-2e7e14ab9f03",
   "metadata": {},
   "outputs": [],
   "source": []
  },
  {
   "cell_type": "code",
   "execution_count": 10,
   "id": "92f2feac-0e66-4a4b-b723-591ff841a5e6",
   "metadata": {},
   "outputs": [],
   "source": [
    "benchmark_name = \"drewry_lok_slk_multitask_clf_v1\""
   ]
  },
  {
   "cell_type": "markdown",
   "id": "d2a3ac2d-8462-4568-98ac-c424080c2a41",
   "metadata": {},
   "source": [
    "**Benchmarking goal:**\n",
    "The goal of this benchmark is to select the best predictive model for \n",
    "- Optimization of the bioactivity % inhibition.\n",
    "- Discovery of potential hits in new chemical space.\n",
    "\n",
    "**Molecule data resource**: \n",
    "https://www.ncbi.nlm.nih.gov/pubmed/28767711\n",
    "\n",
    "**Train/test split**\n",
    "Therefore, a scaffold-based splitting approach was applied to ensure training and test sets contain distinct chemical structures while maintaining the diversity of scaffolds.\n",
    "\n",
    "**Distribution of the train/test in the chemical space**\n",
    "![image](https://storage.googleapis.com/polaris-public/datasets/kinases/lok_slk/figures/drewry_lok_slk_v1_umap_scaffold_split.png)\n",
    "\n",
    "**For more details of this benchmark** -> [notebook](https://github.com/polaris-hub/polaris-recipes/blob/mvp/03_Kinases/LOK_SLK/02_LOK_SLK_benchmark.ipynb)"
   ]
  },
  {
   "cell_type": "code",
   "execution_count": 12,
   "id": "54ba08cd-1489-4c74-9619-f31be315b124",
   "metadata": {},
   "outputs": [],
   "source": [
    "benchmark_readme = \"\"\"\n",
    "**Benchmarking goal:**\n",
    "The goal of this benchmark is to select the best predictive model for \n",
    "- Optimization of the bioactivity % inhibition.\n",
    "- Discovery of potential hits in new chemical space.\n",
    "\n",
    "**Molecule data resource**: \n",
    "https://www.ncbi.nlm.nih.gov/pubmed/28767711\n",
    "\n",
    "**Train/test split**\n",
    "Therefore, a scaffold-based splitting approach was applied to ensure training and test sets contain distinct chemical structures while maintaining the diversity of scaffolds.\n",
    "\n",
    "**Distribution of the train/test in the chemical space**\n",
    "![image](https://storage.googleapis.com/polaris-public/datasets/kinases/lok_slk/figures/drewry_lok_slk_v1_umap_scaffold_split.png)\n",
    "\n",
    "**For more details of this benchmark** -> [notebook](https://github.com/polaris-hub/polaris-recipes/blob/mvp/03_Kinases/LOK_SLK/02_LOK_SLK_benchmark.ipynb)\n",
    "\"\"\""
   ]
  },
  {
   "cell_type": "code",
   "execution_count": 13,
   "id": "a5772fc0-07e5-47a5-bfef-f2c2f3a12e99",
   "metadata": {},
   "outputs": [],
   "source": [
    "with dm.fs.fsspec.open(f\"readme/benchmarks/{benchmark_name}_readme.md\", \"w\") as f:\n",
    "    f.write(benchmark_readme)\n",
    "with dm.fs.fsspec.open(\n",
    "    f\"gs://polaris-public/benchmarks/readmes/{benchmark_name}_readme.md\", \"w\"\n",
    ") as f:\n",
    "    f.write(benchmark_readme)"
   ]
  },
  {
   "cell_type": "code",
   "execution_count": null,
   "id": "3beab8ae-4714-4c66-ae3f-8ef8fa5e391a",
   "metadata": {},
   "outputs": [],
   "source": []
  },
  {
   "cell_type": "code",
   "execution_count": null,
   "id": "87e01715-e450-4c12-b287-db33cbd6b9eb",
   "metadata": {},
   "outputs": [],
   "source": []
  },
  {
   "cell_type": "code",
   "execution_count": null,
   "id": "63f0c12e-51bf-4272-bab7-b8d7fbf55aa1",
   "metadata": {},
   "outputs": [],
   "source": []
  }
 ],
 "metadata": {
  "kernelspec": {
   "display_name": "Python 3 (ipykernel)",
   "language": "python",
   "name": "python3"
  },
  "language_info": {
   "codemirror_mode": {
    "name": "ipython",
    "version": 3
   },
   "file_extension": ".py",
   "mimetype": "text/x-python",
   "name": "python",
   "nbconvert_exporter": "python",
   "pygments_lexer": "ipython3",
   "version": "3.11.5"
  }
 },
 "nbformat": 4,
 "nbformat_minor": 5
}
