{
 "cells": [
  {
   "cell_type": "markdown",
   "id": "e42620fd-056b-41e5-acaf-46552e3ab98c",
   "metadata": {},
   "source": [
    "# KIT wide type dataset and benchmarks\n",
    "- [Dataset](#dataset)\n",
    "- [Benchmark](#benchmark)"
   ]
  },
  {
   "cell_type": "markdown",
   "id": "dcb32a78-e28d-4f04-b32b-4247da60494a",
   "metadata": {},
   "source": [
    "- **KIT** **(Proto-oncogene c-KIT)** receptor plays a crucial role in regulating cell growth, differentiation, and survival. It's particularly important in the development of blood cells, melanocytes (the cells that produce melanin, the pigment responsible for skin, hair, and eye color), and certain cells in the gut.\n",
    "    \n",
    "    Mutations in the KIT gene can lead to uncontrolled cell growth and contribute to the development of certain types of cancer, including gastrointestinal stromal tumors (GISTs) and some types of leukemia.\n",
    "    \n",
    "    KIT proto-oncogene, receptor tyrosine kinase, is a transmembrane receptor tyrosine kinase (PMID: 32214210) that binds the stem cell factor (SCF) ligand to activate PI3K, JAK/STAT, and MAPK pathways to promote cell survival and proliferation (PMID: 23181448, PMID: 29704617). Activating Kit mutations are driver mutations in a variety of cancers, particularly in gastrointestinal stromal tumors (PMID: 23127174, PMID: 29704617, PMID: 32091431), acute myeloid leukemia (PMID: 32008291), melanomas (PMID: 30707374, PMID: 32608199), and seminomas (PMID: 29704617).\n",
    "    \n",
    "    - **KIT wild type**:  \n",
    "    In certain cancers, KIT signaling can be activated by other receptors or mutations upstream in the signaling pathway. Targeting these upstream factors can indirectly impact KIT signaling and downstream effects. An example of this is seen in some cases of acute myeloid leukemia (AML) where KIT is expressed without mutations, but other upstream mutations can lead to aberrant KIT activation.\n",
    "    - **KIT selectivity**: This dataset includes KIT wild type and reported mutants `KIT T6701`, `KIT V560G`. D816V results in constitutive phosphorylation of Kit, activation of Stat5 signaling (PMID: 19865100, PMID: 18390729), induces mastocytosis and tumor formation in mice (PMID: 21148330) and confers resistance to Kit inhibitors (PMID: 22301675, PMID: 19164557)."
   ]
  },
  {
   "cell_type": "markdown",
   "id": "d00337bf-56ee-4c85-a281-9f3e90dd9957",
   "metadata": {},
   "source": [
    "**Published RET datasets**: \n",
    "- **PKIS 1**: A set of 364 unique small-molecule ATP-competitive kinase inhibitors that was screened by the set in activity assays with 224 recombinant kinases and 24 G protein-coupled receptors and in cellular assays of cancer cell proliferation and angiogenesis. [ref]"
   ]
  },
  {
   "cell_type": "markdown",
   "id": "045da858-2df8-4fd0-bb78-83e9d0663702",
   "metadata": {},
   "source": [
    "**Description of readout:**\n",
    "- **Readouts**:  `KIT_(T670I_mutant)`, `KIT_(V560G_mutant)`, `KIT`\n",
    "- **Bioassay readout**: Percentage of inhnibition.\n",
    "- **Optimization objective**: Higher the more potent."
   ]
  },
  {
   "cell_type": "code",
   "execution_count": 1,
   "id": "661778a0-2f7c-416d-ab3f-e2f1ba7089ea",
   "metadata": {},
   "outputs": [
    {
     "name": "stderr",
     "output_type": "stream",
     "text": [
      "/Users/lu.zhu/miniconda3/envs/pov3/lib/python3.11/site-packages/umap/distances.py:1063: NumbaDeprecationWarning: \u001b[1mThe 'nopython' keyword argument was not supplied to the 'numba.jit' decorator. The implicit default value for this argument is currently False, but it will be changed to True in Numba 0.59.0. See https://numba.readthedocs.io/en/stable/reference/deprecation.html#deprecation-of-object-mode-fall-back-behaviour-when-using-jit for details.\u001b[0m\n",
      "  @numba.jit()\n",
      "/Users/lu.zhu/miniconda3/envs/pov3/lib/python3.11/site-packages/umap/distances.py:1071: NumbaDeprecationWarning: \u001b[1mThe 'nopython' keyword argument was not supplied to the 'numba.jit' decorator. The implicit default value for this argument is currently False, but it will be changed to True in Numba 0.59.0. See https://numba.readthedocs.io/en/stable/reference/deprecation.html#deprecation-of-object-mode-fall-back-behaviour-when-using-jit for details.\u001b[0m\n",
      "  @numba.jit()\n",
      "/Users/lu.zhu/miniconda3/envs/pov3/lib/python3.11/site-packages/umap/distances.py:1086: NumbaDeprecationWarning: \u001b[1mThe 'nopython' keyword argument was not supplied to the 'numba.jit' decorator. The implicit default value for this argument is currently False, but it will be changed to True in Numba 0.59.0. See https://numba.readthedocs.io/en/stable/reference/deprecation.html#deprecation-of-object-mode-fall-back-behaviour-when-using-jit for details.\u001b[0m\n",
      "  @numba.jit()\n",
      "/Users/lu.zhu/miniconda3/envs/pov3/lib/python3.11/site-packages/umap/umap_.py:660: NumbaDeprecationWarning: \u001b[1mThe 'nopython' keyword argument was not supplied to the 'numba.jit' decorator. The implicit default value for this argument is currently False, but it will be changed to True in Numba 0.59.0. See https://numba.readthedocs.io/en/stable/reference/deprecation.html#deprecation-of-object-mode-fall-back-behaviour-when-using-jit for details.\u001b[0m\n",
      "  @numba.jit()\n"
     ]
    }
   ],
   "source": [
    "%load_ext autoreload\n",
    "%autoreload 2\n",
    "import os\n",
    "import datamol as dm\n",
    "import pandas as pd\n",
    "from polaris import curation\n",
    "import numpy as np\n",
    "import umap\n",
    "import seaborn as sns\n",
    "from matplotlib import pyplot as plt\n",
    "import seaborn as sns\n",
    "import os\n",
    "import pathlib\n",
    "os.chdir(pathlib.Path(\"__file__\").absolute().parents[3])\n",
    "\n",
    "from polaris.curation._chemistry_curator import SMILES_COL, UNIQUE_ID\n",
    "from utils import *\n",
    "import pandas as pd\n",
    "import datamol as dm\n",
    "import numpy as np\n",
    "from sklearn.model_selection import ShuffleSplit\n",
    "\n",
    "from polaris.curation._chemistry_curator import SMILES_COL, UNIQUE_ID\n",
    "from polaris.dataset import Dataset, ColumnAnnotation\n",
    "from polaris.benchmark import SingleTaskBenchmarkSpecification, MultiTaskBenchmarkSpecification"
   ]
  },
  {
   "cell_type": "markdown",
   "id": "545099e3-0eb9-4a80-a0c6-0448c0674502",
   "metadata": {},
   "source": [
    "## Dataset creation with `Polaris`\n",
    "The first step of creating a benchmark is to set up a standard dataset which allows accessing the curated dataset (which has been demonstrated in <06_KIT_mutants_data_curation.ipynb>), and all necessary information about the dataset such as data source, description of endpoints, units etc. "
   ]
  },
  {
   "cell_type": "code",
   "execution_count": 2,
   "id": "c01299ec-83ac-4b18-b8f2-19fcd27b01b6",
   "metadata": {},
   "outputs": [
    {
     "data": {
      "text/plain": [
       "'PolarisTest'"
      ]
     },
     "execution_count": 2,
     "metadata": {},
     "output_type": "execute_result"
    }
   ],
   "source": [
    "from polaris.utils.types import HubOwner\n",
    "owner = HubOwner(organizationId=\"PolarisTest\", slug=\"polaristest\")\n",
    "owner.owner"
   ]
  },
  {
   "cell_type": "code",
   "execution_count": 3,
   "id": "3de6dfde-41b7-4387-bc7c-66aaa7a783b7",
   "metadata": {},
   "outputs": [],
   "source": [
    "BENCHMARK_DIR = \"gs://polaris-public/benchmarks/kinases/kit\"\n",
    "DATASET_DIR = \"gs://polaris-public/datasets/kinases/kit\"\n",
    "FIGURE_DIR = \"gs://polaris-public/datasets/kinases/kit/figures\""
   ]
  },
  {
   "cell_type": "markdown",
   "id": "172ae3e5",
   "metadata": {},
   "source": [
    "**Create the KIT dataset with `polaris.Dataset`** "
   ]
  },
  {
   "cell_type": "code",
   "execution_count": 4,
   "id": "917f6297",
   "metadata": {},
   "outputs": [],
   "source": [
    "# Load data\n",
    "PATH = 'gs://polaris-public/Data/kinases/KIT_mutants_curated.parquet'\n",
    "table = pd.read_parquet(PATH)"
   ]
  },
  {
   "cell_type": "markdown",
   "id": "22ddf97e-52ad-42fb-872e-17a8b6f3fb57",
   "metadata": {},
   "source": [
    "Not all the columns are necessary, only the columns which are useful for the benchmarks will be annotated. Here we only use the columns that were used for training in the original paper. "
   ]
  },
  {
   "cell_type": "markdown",
   "id": "63f59e2f-3f3b-4cfe-802f-8b8e530c9e5f",
   "metadata": {},
   "source": [
    "It's necessary to specify the key bioactivity columns, molecules structures and identifiers in dataset with `ColumnAnnotation`. It is possible to add `user_attributes` with any key and values when is needed, such as `unit`, `organism`, `scale` and optimization `objective`. \n",
    "\n",
    "**Abbrevations for the endpoint objective**\n",
    "- THTB: the higher the better\n",
    "- TLTB: the lower the better"
   ]
  },
  {
   "cell_type": "code",
   "execution_count": 5,
   "id": "5ac8cbca-098b-4fc8-9b8b-342a0731d0f9",
   "metadata": {},
   "outputs": [],
   "source": [
    "data_cols = ['KIT_(T6701_mutant)', 'KIT_(V560G_mutant)', 'KIT']\n",
    "th = 75"
   ]
  },
  {
   "cell_type": "code",
   "execution_count": 6,
   "id": "3145fc25-e670-413a-8926-8ab9d6fcb3b0",
   "metadata": {},
   "outputs": [],
   "source": [
    "annotations = {\n",
    "     'UNIQUE_ID': ColumnAnnotation(protocol='Molecular hash ID. See <datamol.mol.hash_mol>'),\n",
    "     'smiles': ColumnAnnotation(protocol='Molecule SMILES string'),\n",
    "     'KIT_(T6701_mutant)': ColumnAnnotation(protocol='Percentage of inhibition on KIT with mutation Y791F mutant', user_attributes={'unit': '%', 'concentration': '1uM', 'organism': 'human', 'objective': 'THTB', 'source': 'PKIS1', 'mutation': 'T6701_mutant', 'target': 'KIT'}),\n",
    "     'KIT_(V560G_mutant)': ColumnAnnotation(protocol='Percentage of inhibition on KIT with mutation Y791F mutant', user_attributes={'unit': '%', 'concentration': '1uM', 'organism': 'human', 'objective': 'THTB', 'source': 'PKIS1', 'mutation': 'V560G_mutant', 'target': 'KIT'}), \n",
    "     'KIT': ColumnAnnotation(protocol='Percentage of inhibition on KIT wide type', user_attributes={'unit': '%', 'concentration': '1uM', 'organism': 'human', 'objective': 'THTB', 'source': 'https://pubmed.ncbi.nlm.nih.gov/26501955', 'mutation': 'None', 'target': 'EGFR'}),\n",
    "     'CLASS_KIT_(T6701_mutant)': ColumnAnnotation(protocol='Binarized label based on the percentage of inhibition on KIT V804L mutant', user_attributes={'thresholds': f'[{th}]', 'label_order': 'ascending', 'ref_col': 'KIT_(T6701_mutant)'}),\n",
    "     'CLASS_KIT_(V560G_mutant)': ColumnAnnotation(protocol='Binarized label based on the percentage of inhibition on KIT Y791F mutant', user_attributes={'thresholds':  f'[{th}]', 'label_order': 'ascending', 'ref_col': 'KIT_(V560G_mutant)'}),\n",
    "     'CLASS_KIT': ColumnAnnotation(protocol='Binarized label based on the percentage of inhibition on KIT wide type', user_attributes={'thresholds': f'[{th}]', 'label_order': 'ascending', 'ref_col': 'KIT'})\n",
    "}"
   ]
  },
  {
   "cell_type": "markdown",
   "id": "b1e0af61-896b-42f0-af62-5ffbf0004aec",
   "metadata": {},
   "source": [
    "### Create `Dataset` object"
   ]
  },
  {
   "cell_type": "code",
   "execution_count": 7,
   "id": "ebb5f057-c448-4840-af5d-cc0178c14746",
   "metadata": {},
   "outputs": [],
   "source": [
    "dataset_name= \"drewry_kit_wt_t670i_v560g_v1\""
   ]
  },
  {
   "cell_type": "code",
   "execution_count": 8,
   "id": "9e606547-f711-4e4d-8c93-97002a8a2236",
   "metadata": {},
   "outputs": [],
   "source": [
    "dataset = Dataset(\n",
    "    table=table[annotations.keys()],\n",
    "    name=dataset_name,\n",
    "    description=f\"Profile of kinase KIT, and its mutants KIT, KIT_(T6701_mutant), KIT_(V560G_mutant).\",\n",
    "    source=\"https://pubmed.ncbi.nlm.nih.gov/26501955\",\n",
    "    annotations=annotations,\n",
    "    owner=owner, \n",
    "    tags=[\"Kinase\",\"HitDiscovery\", \"Selectivity\"],\n",
    "   readme=load_readme(f\"gs://polaris-public/datasets/readmes/{dataset_name}_readme.md\")\n",
    ")"
   ]
  },
  {
   "cell_type": "code",
   "execution_count": 20,
   "id": "8b295721-e50f-4dae-881f-a7660f1284a9",
   "metadata": {},
   "outputs": [
    {
     "data": {
      "text/plain": [
       "'gs://polaris-public/datasets/kinases/kit/drewry_kit_wt_t670i_v560g_v1/dataset.json'"
      ]
     },
     "execution_count": 20,
     "metadata": {},
     "output_type": "execute_result"
    }
   ],
   "source": [
    "# save the dataset\n",
    "SAVE_DIR = f\"{DATASET_DIR}/{dataset_name}\"\n",
    "dataset.to_json(SAVE_DIR)"
   ]
  },
  {
   "cell_type": "code",
   "execution_count": null,
   "id": "5180a157-a6bb-49fa-a045-1295fdd84435",
   "metadata": {},
   "outputs": [],
   "source": []
  },
  {
   "cell_type": "markdown",
   "id": "259de948",
   "metadata": {},
   "source": [
    "## Benchmark creation with `Polaris`\n",
    "Creating a benchmark involves setting up a standard dataset, designing the train-validation-test set and defining evaluation metrics which is used to establish baseline performance level. "
   ]
  },
  {
   "cell_type": "markdown",
   "id": "0507c05f-30ed-417d-b437-5d6e55b2dd44",
   "metadata": {},
   "source": [
    "### Create scaffold split for `KIT` dataset\n",
    "> **Note:**\n",
    "> Here we use splitting tool `Splito` to split dataset to train and test. \\\n",
    "> [Splito](https://github.com/datamol-io/splito) is a machine learning dataset splitting library for life sciences.\n",
    "\n",
    "The objective is to comprehend the proficiency of a model in predicting these 'easy' properties. \\\n",
    "In order to select the predictive models which is able to generalize to new chemical space, a scaffold split is used to generate trian/test sets. "
   ]
  },
  {
   "cell_type": "code",
   "execution_count": 10,
   "id": "bce59102-045a-467c-afba-720ac6069eb9",
   "metadata": {},
   "outputs": [],
   "source": [
    "# scaffold split\n",
    "from partitio._scaffold_split import ScaffoldSplit\n",
    "flag = True\n",
    "TEST_SIZE = 0.2\n",
    "SEED = 780\n",
    "splitter = ScaffoldSplit(smiles=dataset.table.smiles.values, n_jobs=-1, test_size=TEST_SIZE, random_state=SEED)\n",
    "scaffold_split = next(splitter.split(X=dataset.table.smiles.values))"
   ]
  },
  {
   "cell_type": "code",
   "execution_count": 11,
   "id": "08a700bd-ebf7-4d10-b12a-06be1243d8bc",
   "metadata": {},
   "outputs": [
    {
     "data": {
      "image/png": "[encoded data removed]",
      "text/plain": [
       "<Figure size 600x500 with 1 Axes>"
      ]
     },
     "metadata": {},
     "output_type": "display_data"
    }
   ],
   "source": [
    "from utils import display_umap\n",
    "fig = display_umap(table, 'smiles', split =scaffold_split, \n",
    "                   split_name=\"scaffold_split\")\n",
    "save_figure(fig,remote_path=f\"{FIGURE_DIR}/{dataset_name}_umap_scaffold_split.png\", \n",
    "            local_path=f\"figures/{dataset_name}_umap_scaffold_split.png\" )"
   ]
  },
  {
   "cell_type": "markdown",
   "id": "b35ffc92-f69b-4c6f-ae65-b8db34e93a82",
   "metadata": {},
   "source": [
    "## Multitask for all the KIT endpoints with a common random split. "
   ]
  },
  {
   "cell_type": "markdown",
   "id": "6a4b3b66-d07a-42a2-8f16-f14beff70e1e",
   "metadata": {},
   "source": [
    "**Regression**"
   ]
  },
  {
   "cell_type": "code",
   "execution_count": 12,
   "id": "2868d28e-363d-4fda-8719-a9cf0d917e02",
   "metadata": {},
   "outputs": [
    {
     "name": "stdout",
     "output_type": "stream",
     "text": [
      "gs://polaris-public/benchmarks/kinases/kit/drewry_kit_wt_t670i_v560g_multitask_reg_v1/benchmark.json\n"
     ]
    }
   ],
   "source": [
    "benchmark_name =f\"drewry_kit_wt_t670i_v560g_multitask_reg_v1\"\n",
    "BENCHMARK_SAVE_DIR = f\"{BENCHMARK_DIR}/{benchmark_name}\"\n",
    "\n",
    "\n",
    "benchmark_reg = MultiTaskBenchmarkSpecification(\n",
    "    name=benchmark_name,\n",
    "    dataset=dataset,\n",
    "    target_cols=data_cols,\n",
    "    input_cols=\"smiles\",\n",
    "    split=scaffold_split,\n",
    "    main_metric=\"mean_squared_error\",\n",
    "    metrics=[\"mean_absolute_error\",\n",
    "            \"mean_squared_error\",\n",
    "            \"r2\",\n",
    "            \"spearmanr\",\n",
    "            \"pearsonr\",\n",
    "            \"explained_var\"], \n",
    "    tags=[\"Kinase\", \"MultiTask\", \"Regression\", \"HitDiscovery\"],\n",
    "    owner =owner, \n",
    "    description=\"Multitask regression benchmark for KIT wild type and T6701 and V56G mutant.\",\n",
    "    readme=load_readme(f\"gs://polaris-public/benchmarks/readmes/{benchmark_name}_readme.md\")\n",
    "\n",
    ")\n",
    "path = benchmark_reg.to_json(BENCHMARK_SAVE_DIR)\n",
    "print(path)"
   ]
  },
  {
   "cell_type": "markdown",
   "id": "fb3f4b16-b074-4efb-9805-62a025a37c10",
   "metadata": {},
   "source": [
    "**Classification**"
   ]
  },
  {
   "cell_type": "code",
   "execution_count": 13,
   "id": "e3cad5de-af66-480e-a096-4cf500bd939b",
   "metadata": {},
   "outputs": [
    {
     "name": "stdout",
     "output_type": "stream",
     "text": [
      "gs://polaris-public/benchmarks/kinases/kit/drewry_kit_wt_t670i_v560g_multitask_reg_v1/benchmark.json\n"
     ]
    }
   ],
   "source": [
    "data_cols = ['CLASS_KIT_(T6701_mutant)', 'CLASS_KIT_(V560G_mutant)', 'CLASS_KIT']\n",
    "name =\"KIT_mutants_multitask_clf\"\n",
    "BENCHMARK_DIR = f\"gs://polaris-private/benchmarks/Kinases/{name}\"\n",
    "\n",
    "benchmark_clf = MultiTaskBenchmarkSpecification(\n",
    "    name=name,\n",
    "    dataset=dataset,\n",
    "    target_cols=data_cols,\n",
    "    input_cols=\"smiles\",\n",
    "    split=scaffold_split,\n",
    "    metrics=\"accuracy\",\n",
    "    tags=[\"Kinase\", \"MultiTask\", \"Classification\", \"HitDiscovery\"], \n",
    "    owner=owner,\n",
    "    description=\"Multitask classification benchmark for KIT wild type and T6701 and V56G mutant.\"\n",
    ")\n",
    "path = benchmark_clf.to_json(BENCHMARK_SAVE_DIR)\n",
    "print(path)"
   ]
  },
  {
   "cell_type": "code",
   "execution_count": null,
   "id": "f5b0a950-233e-4a8c-b92e-48117dc46aed",
   "metadata": {},
   "outputs": [],
   "source": []
  }
 ],
 "metadata": {
  "kernelspec": {
   "display_name": "Python 3 (ipykernel)",
   "language": "python",
   "name": "python3"
  },
  "language_info": {
   "codemirror_mode": {
    "name": "ipython",
    "version": 3
   },
   "file_extension": ".py",
   "mimetype": "text/x-python",
   "name": "python",
   "nbconvert_exporter": "python",
   "pygments_lexer": "ipython3",
   "version": "3.11.5"
  }
 },
 "nbformat": 4,
 "nbformat_minor": 5
}
