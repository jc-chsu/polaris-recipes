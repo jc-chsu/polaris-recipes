{
 "cells": [
  {
   "cell_type": "markdown",
   "id": "d26a266e-def2-47d9-96f6-13255fda7935",
   "metadata": {},
   "source": [
    "![molprop](https://storage.googleapis.com/polaris-public/icons/icons8-fox-60-kinases.png)\n",
    "\n",
    "## RET wild type Benchmark "
   ]
  },
  {
   "cell_type": "markdown",
   "id": "dcb32a78-e28d-4f04-b32b-4247da60494a",
   "metadata": {},
   "source": [
    "\n",
    "### Background\n",
    "**RET (Rearranged during Transfection)** is a proto-oncogene that codes for a receptor tyrosine kinase. This means it produces a protein that plays a role in signaling pathways within cells, particularly related to cell growth and differentiation. When activated, RET helps regulate cell survival, proliferation, and differentiation. Mutations or alterations in the RET gene can lead to uncontrolled cell growth and potentially the development of cancer.\n",
    "\n",
    "### Benchmarking\n",
    "- **RET wild type**: In some cases, targeting both mutant and wild-type RET together can be more effective than targeting only one form as Combination Therapies. In certain cancer types, such as some subtypes of non-small cell lung cancer (NSCLC), the RET signaling pathway can interact with other oncogenic pathways, such as the EGFR (epidermal growth factor receptor) pathway. Targeting both pathways simultaneously might offer a synergistic effect and improve treatment outcomes.\n",
    "\n",
    "The goal of this benchmark is to select the best predictive model for \n",
    "- Optimization of the bioactivity % inhibition.\n",
    "- Discovery of potential hits in new chemical space.\n",
    "\n",
    "\n",
    "\n",
    "### Description of readout \n",
    "- **Readouts**: `RET`\n",
    "- **Bioassay readout**: percentage of inhibition.\n",
    "- **Optimization objective**: Higher inhibition\n",
    "\n",
    "\n",
    "### Data resource: \n",
    "- **Reference**: [PKIS2](https://www.ncbi.nlm.nih.gov/pubmed/28767711)\n",
    "\n",
    "### Train/test split\n",
    "Given the benchmarking goal, a scaffold-based splitting approach was applied to ensure training and test sets contain distinct chemical structures while maintaining the diversity of scaffolds.\n"
   ]
  },
  {
   "cell_type": "code",
   "execution_count": 1,
   "id": "30138c1e",
   "metadata": {},
   "outputs": [],
   "source": [
    "import pandas as pd\n",
    "import datamol as dm\n",
    "import numpy as np\n",
    "from sklearn.model_selection import ShuffleSplit\n",
    "import polaris\n",
    "from polaris.curation._chemistry_curator import SMILES_COL, UNIQUE_ID\n",
    "from polaris.dataset import Dataset, ColumnAnnotation\n",
    "from polaris.benchmark import SingleTaskBenchmarkSpecification, MultiTaskBenchmarkSpecification\n",
    "import warnings\n",
    "warnings.filterwarnings(\"ignore\")\n",
    "import os\n",
    "import pathlib\n",
    "os.chdir(pathlib.Path(\"__file__\").absolute().parents[2])\n",
    "from utils import *"
   ]
  },
  {
   "cell_type": "code",
   "execution_count": 2,
   "id": "3de6dfde-41b7-4387-bc7c-66aaa7a783b7",
   "metadata": {},
   "outputs": [],
   "source": [
    "BENCHMARK_DIR = \"gs://polaris-public/benchmarks/kinases/ret\"\n",
    "FIGURE_DIR = \"gs://polaris-public/datasets/kinases/ret/figures\""
   ]
  },
  {
   "cell_type": "markdown",
   "id": "7f22cb4b-6303-425c-9a15-d437705baff9",
   "metadata": {},
   "source": [
    "## Load existing dataset object\n",
    "> **Attention:** \\\n",
    "> The original dataset is published in https://www.ncbi.nlm.nih.gov/pubmed/28767711 \\\n",
    "> \n",
    "> To **maintain consistency** with other benchmarks in the Polaris Hub, a thorough data curation process is carried out to ensure the accuracy of molecular presentations.\n",
    "> Therefore, the raw data from the data resource is not used here. \n",
    "> See more curation details in [here](https://github.com/polaris-hub/polaris-recipes/blob/mvp/03_Kinases/RET).\n"
   ]
  },
  {
   "cell_type": "code",
   "execution_count": 3,
   "id": "9e606547-f711-4e4d-8c93-97002a8a2236",
   "metadata": {},
   "outputs": [
    {
     "ename": "TypeError",
     "evalue": "PolarisHubClient.get_dataset() takes 3 positional arguments but 9 were given",
     "output_type": "error",
     "traceback": [
      "\u001b[0;31m---------------------------------------------------------------------------\u001b[0m",
      "\u001b[0;31mTypeError\u001b[0m                                 Traceback (most recent call last)",
      "Cell \u001b[0;32mIn[3], line 1\u001b[0m\n\u001b[0;32m----> 1\u001b[0m dataset \u001b[38;5;241m=\u001b[39m \u001b[43mpolaris\u001b[49m\u001b[38;5;241;43m.\u001b[39;49m\u001b[43mload_dataset\u001b[49m\u001b[43m(\u001b[49m\u001b[38;5;124;43m\"\u001b[39;49m\u001b[38;5;124;43mgs://polaris-public/datasets/kinases/pkis2_subset_curated /pkis2_egfr_ret_kit_v1/dataset.json\u001b[39;49m\u001b[38;5;124;43m\"\u001b[39;49m\u001b[43m)\u001b[49m\n",
      "File \u001b[0;32m~/Documents/Codebase/ValenceLab/polaris/polaris/loader/__init__.py:25\u001b[0m, in \u001b[0;36mload_dataset\u001b[0;34m(path)\u001b[0m\n\u001b[1;32m     22\u001b[0m \u001b[38;5;28;01mif\u001b[39;00m \u001b[38;5;129;01mnot\u001b[39;00m is_file:\n\u001b[1;32m     23\u001b[0m     \u001b[38;5;66;03m# Load from the Hub\u001b[39;00m\n\u001b[1;32m     24\u001b[0m     client \u001b[38;5;241m=\u001b[39m PolarisHubClient()\n\u001b[0;32m---> 25\u001b[0m     \u001b[38;5;28;01mreturn\u001b[39;00m \u001b[43mclient\u001b[49m\u001b[38;5;241;43m.\u001b[39;49m\u001b[43mget_dataset\u001b[49m\u001b[43m(\u001b[49m\u001b[38;5;241;43m*\u001b[39;49m\u001b[43mpath\u001b[49m\u001b[38;5;241;43m.\u001b[39;49m\u001b[43msplit\u001b[49m\u001b[43m(\u001b[49m\u001b[38;5;124;43m\"\u001b[39;49m\u001b[38;5;124;43m/\u001b[39;49m\u001b[38;5;124;43m\"\u001b[39;49m\u001b[43m)\u001b[49m\u001b[43m)\u001b[49m\n\u001b[1;32m     27\u001b[0m \u001b[38;5;28;01mif\u001b[39;00m extension \u001b[38;5;241m==\u001b[39m \u001b[38;5;124m\"\u001b[39m\u001b[38;5;124mzarr\u001b[39m\u001b[38;5;124m\"\u001b[39m:\n\u001b[1;32m     28\u001b[0m     \u001b[38;5;28;01mreturn\u001b[39;00m Dataset\u001b[38;5;241m.\u001b[39mfrom_zarr(path)\n",
      "\u001b[0;31mTypeError\u001b[0m: PolarisHubClient.get_dataset() takes 3 positional arguments but 9 were given"
     ]
    }
   ],
   "source": [
    "dataset = polaris.load_dataset(\"gs://polaris-public/datasets/kinases/pkis2_subset_curated /pkis2_egfr_ret_kit_lok_slk_v1/dataset.json\")"
   ]
  },
  {
   "cell_type": "code",
   "execution_count": null,
   "id": "113c65cf-db9c-4f33-b4a6-981d391b4399",
   "metadata": {
    "scrolled": true
   },
   "outputs": [],
   "source": [
    "# Display dataset\n",
    "dataset"
   ]
  },
  {
   "cell_type": "code",
   "execution_count": null,
   "id": "8348d8fa-3c80-4eb8-805c-be4dd32b3f80",
   "metadata": {},
   "outputs": [],
   "source": [
    "# data columns\n",
    "data_cols = \"RET\""
   ]
  },
  {
   "cell_type": "markdown",
   "id": "31d042e7",
   "metadata": {},
   "source": [
    "<a id=\"benchmark\"></a>\n",
    "## Benchmark creation with `Polaris`\n",
    "Creating a benchmark involves setting up a standard dataset, designing the train-validation-test set and defining evaluation metrics which is used to establish baseline performance level. "
   ]
  },
  {
   "cell_type": "code",
   "execution_count": null,
   "id": "95a1d269-3f7c-4525-9e2f-fad4641800f6",
   "metadata": {},
   "outputs": [],
   "source": [
    "from polaris.utils.types import HubOwner\n",
    "owner = HubOwner(organizationId=\"PolarisTest\", slug=\"polaristest\")\n",
    "owner.owner"
   ]
  },
  {
   "cell_type": "markdown",
   "id": "0507c05f-30ed-417d-b437-5d6e55b2dd44",
   "metadata": {},
   "source": [
    "### Create scaffold split for `RET` dataset\n",
    "> **Note:**\n",
    "> Here we use splitting tool `Splito` to split dataset to train and test. \\\n",
    "> [Splito](https://github.com/datamol-io/splito) is a machine learning dataset splitting library for life sciences."
   ]
  },
  {
   "cell_type": "code",
   "execution_count": null,
   "id": "bce59102-045a-467c-afba-720ac6069eb9",
   "metadata": {},
   "outputs": [],
   "source": [
    "# scaffold split\n",
    "from partitio._scaffold_split import ScaffoldSplit\n",
    "flag = True\n",
    "TEST_SIZE = 0.2\n",
    "SEED = 177\n",
    "splitter = ScaffoldSplit(smiles=dataset.table.smiles.values, n_jobs=-1, test_size=TEST_SIZE, random_state=SEED)\n",
    "scaffold_split = next(splitter.split(X=dataset.table.smiles.values))"
   ]
  },
  {
   "cell_type": "code",
   "execution_count": null,
   "id": "08a700bd-ebf7-4d10-b12a-06be1243d8bc",
   "metadata": {},
   "outputs": [],
   "source": [
    "from utils import display_chemspace\n",
    "data_name = \"drewry_ret_wildtype_v1\"\n",
    "fig = display_chemspace(dataset.table.copy(), 'smiles', split =scaffold_split, \n",
    "                   split_name=\"scaffold_split\")\n",
    "method = \"tnse\"\n",
    "save_figure(fig,remote_path=f\"{FIGURE_DIR}/{data_name}_{method}_scaffold_split.png\", \n",
    "            local_path=f\"figures/{data_name}_{method}_scaffold_split.png\" )"
   ]
  },
  {
   "cell_type": "markdown",
   "id": "03aa7204-c71f-4b46-9bf0-e4a57e82ff35",
   "metadata": {},
   "source": [
    "## Single task for RET WT with scaffold split "
   ]
  },
  {
   "cell_type": "markdown",
   "id": "6a4b3b66-d07a-42a2-8f16-f14beff70e1e",
   "metadata": {},
   "source": [
    "**Regression tasks**"
   ]
  },
  {
   "cell_type": "code",
   "execution_count": null,
   "id": "92cbff08-8496-4c10-ba2b-b3a4a60f3cb2",
   "metadata": {
    "scrolled": true
   },
   "outputs": [],
   "source": [
    "benchmark_name =f\"drewry_ret_wildtype_singletask_reg_v1\"\n",
    "BENCHMARK_SAVE_DIR = f\"{BENCHMARK_DIR}/{benchmark_name}\"\n",
    "data_cols = ['RET']\n",
    "benchmark_reg = SingleTaskBenchmarkSpecification(\n",
    "    name=benchmark_name,\n",
    "    dataset=dataset,\n",
    "    target_cols=data_cols,\n",
    "    input_cols=\"smiles\",\n",
    "    split=scaffold_split,\n",
    "    main_metric=\"mean_squared_error\",\n",
    "    metrics=[\"mean_absolute_error\",\n",
    "            \"mean_squared_error\",\n",
    "            \"r2\",\n",
    "            \"spearmanr\",\n",
    "            \"pearsonr\",\n",
    "            \"explained_var\"], \n",
    "    tags=[\"Kinase\",\"SingleTask\", \"Regression\", \"HitDiscovery\"],\n",
    "    description=\"Singletask regression benchmark for RET wild type.\", \n",
    "    owner=owner, \n",
    "    readme=load_readme(f\"gs://polaris-public/readme/benchmarks/{benchmark_name}_readme.md\")\n",
    "\n",
    ")\n",
    "path = benchmark_reg.to_json(BENCHMARK_SAVE_DIR)\n",
    "print(path)"
   ]
  },
  {
   "cell_type": "markdown",
   "id": "fb3f4b16-b074-4efb-9805-62a025a37c10",
   "metadata": {},
   "source": [
    "**Classification tasks**"
   ]
  },
  {
   "cell_type": "code",
   "execution_count": null,
   "id": "ea6e1551-986b-4dd2-8cf4-f9f06d9e018b",
   "metadata": {},
   "outputs": [],
   "source": [
    "data_cols = ['CLASS_RET']\n",
    "benchmark_name =f\"drewry_ret_wildtype_singletask_clf_v1\"\n",
    "BENCHMARK_SAVE_DIR = f\"{BENCHMARK_DIR}/{benchmark_name}\"\n",
    "\n",
    "benchmark_clf = SingleTaskBenchmarkSpecification(\n",
    "    name=benchmark_name,\n",
    "    dataset=dataset,\n",
    "    target_cols=data_cols,\n",
    "    input_cols=\"smiles\",\n",
    "    split=scaffold_split,\n",
    "    main_metric=\"f1_macro\",\n",
    "    metrics=[\"accuracy\", \"f1\",\"f1_macro\", \"roc_auc\", \"pr_auc\", \"mcc\", \"cohen_kappa\"],\n",
    "    tags=[\"Kinase\", \"SingleTask\", \"Classification\", \"HitDiscovery\"],\n",
    "    description=\"Single task classification benchmark for RET wild type.\",\n",
    "    owner=owner, \n",
    "    readme=load_readme(f\"gs://polaris-public/readme/benchmarks/{benchmark_name}_readme.md\")\n",
    "\n",
    ")\n",
    "path = benchmark_clf.to_json(BENCHMARK_SAVE_DIR)\n",
    "print(path)"
   ]
  },
  {
   "cell_type": "code",
   "execution_count": null,
   "id": "2c0f4ed0-2116-427b-b850-7c249feba49b",
   "metadata": {},
   "outputs": [],
   "source": []
  }
 ],
 "metadata": {
  "kernelspec": {
   "display_name": "Python 3 (ipykernel)",
   "language": "python",
   "name": "python3"
  },
  "language_info": {
   "codemirror_mode": {
    "name": "ipython",
    "version": 3
   },
   "file_extension": ".py",
   "mimetype": "text/x-python",
   "name": "python",
   "nbconvert_exporter": "python",
   "pygments_lexer": "ipython3",
   "version": "3.11.5"
  }
 },
 "nbformat": 4,
 "nbformat_minor": 5
}
