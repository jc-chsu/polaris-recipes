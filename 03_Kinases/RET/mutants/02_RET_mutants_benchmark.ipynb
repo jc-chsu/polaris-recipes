{
 "cells": [
  {
   "cell_type": "markdown",
   "id": "e42620fd-056b-41e5-acaf-46552e3ab98c",
   "metadata": {},
   "source": [
    "# RET wild type and mutations Dataset and Benchmark\n",
    "- [Dataset](#dataset)\n",
    "- [Benchmark](#benchmark)"
   ]
  },
  {
   "cell_type": "markdown",
   "id": "dcb32a78-e28d-4f04-b32b-4247da60494a",
   "metadata": {},
   "source": [
    "- **RET (Rearranged during Transfection)** is a proto-oncogene that codes for a receptor tyrosine kinase. This means it produces a protein that plays a role in signaling pathways within cells, particularly related to cell growth and differentiation. When activated, RET helps regulate cell survival, proliferation, and differentiation. Mutations or alterations in the RET gene can lead to uncontrolled cell growth and potentially the development of cancer.\n",
    "    - **RET wild type**:  In some cases, targeting both mutant and wild-type RET together can be more effective than targeting only one form as Combination Therapies.\n",
    "    In certain cancer types, such as some subtypes of non-small cell lung cancer (NSCLC), the RET signaling pathway can interact with other oncogenic pathways, such as the EGFR (epidermal growth factor receptor) pathway. Targeting both pathways simultaneously might offer a synergistic effect and improve treatment outcomes.\n",
    "    - **RET-V804L:** The V804L mutation causes a structural change in the RET protein, resulting in its continuous activation, even in the absence of ligand binding. The mutation leads to uncontrolled cell growth and division, contributing to oncogenesis. The V804L mutation in RET has been identified in various cancer types, particularly in thyroid cancers, including papillary thyroid carcinoma (PTC) and medullary thyroid carcinoma (MTC). It is often associated with aggressive tumor behavior and resistance to conventional therapies.\n",
    "    V804L confers a gain of function on the Ret protein, as indicated by increased kinase activity, cell transformation (PMID: 9242375), and is considered a gatekeeper mutation due to lack of response to some inhibitors, including cabozantinib and vandetanib (PMID: 27712045).\n",
    "    - **RET-Y791F:** The Y791F mutation disrupts a crucial phosphorylation site within the RET protein. Consequently, the tyrosine at position 791 cannot be phosphorylated effectively or at all. This disruption interferes with the normal signaling pathways that rely on this particular phosphorylation event, leading to dysregulated downstream signaling, such as MAPK and PI3K. The Y791F mutation, by abrogating this phosphorylation site, alters these cellular responses and may influence tumor development and progression. The Y791F mutation is found in the RET protein, which is implicated in several types of cancer, particularly medullary thyroid carcinoma (MTC). Y791F confers a gain of function on the Ret protein, resulting in ligand independent kinase activity and activation of Stat3 signaling through Src, Jak1, and Jak2-dependent pathways in cell culture (PMID: 15753368)."
   ]
  },
  {
   "cell_type": "markdown",
   "id": "d00337bf-56ee-4c85-a281-9f3e90dd9957",
   "metadata": {},
   "source": [
    "**Published RET datasets**: \n",
    "- **PKIS 1**: A set of 364 unique small-molecule ATP-competitive kinase inhibitors that was screened by the set in activity assays with 224 recombinant kinases and 24 G protein-coupled receptors and in cellular assays of cancer cell proliferation and angiogenesis. [ref]"
   ]
  },
  {
   "cell_type": "markdown",
   "id": "045da858-2df8-4fd0-bb78-83e9d0663702",
   "metadata": {},
   "source": [
    "**Description of readout:**\n",
    "- **Readouts**: `RET`, `RET_(V804L_mutant)`, `RET_(Y791F_mutant)`\n",
    "- **Bioassay readout**: Percentage of inhibition.\n",
    "- **Optimization objective**: Higher the more potent."
   ]
  },
  {
   "cell_type": "code",
   "execution_count": 1,
   "id": "661778a0-2f7c-416d-ab3f-e2f1ba7089ea",
   "metadata": {
    "scrolled": true
   },
   "outputs": [
    {
     "name": "stderr",
     "output_type": "stream",
     "text": [
      "/Users/lu.zhu/miniconda3/envs/pov3/lib/python3.11/site-packages/umap/distances.py:1063: NumbaDeprecationWarning: \u001b[1mThe 'nopython' keyword argument was not supplied to the 'numba.jit' decorator. The implicit default value for this argument is currently False, but it will be changed to True in Numba 0.59.0. See https://numba.readthedocs.io/en/stable/reference/deprecation.html#deprecation-of-object-mode-fall-back-behaviour-when-using-jit for details.\u001b[0m\n",
      "  @numba.jit()\n",
      "/Users/lu.zhu/miniconda3/envs/pov3/lib/python3.11/site-packages/umap/distances.py:1071: NumbaDeprecationWarning: \u001b[1mThe 'nopython' keyword argument was not supplied to the 'numba.jit' decorator. The implicit default value for this argument is currently False, but it will be changed to True in Numba 0.59.0. See https://numba.readthedocs.io/en/stable/reference/deprecation.html#deprecation-of-object-mode-fall-back-behaviour-when-using-jit for details.\u001b[0m\n",
      "  @numba.jit()\n",
      "/Users/lu.zhu/miniconda3/envs/pov3/lib/python3.11/site-packages/umap/distances.py:1086: NumbaDeprecationWarning: \u001b[1mThe 'nopython' keyword argument was not supplied to the 'numba.jit' decorator. The implicit default value for this argument is currently False, but it will be changed to True in Numba 0.59.0. See https://numba.readthedocs.io/en/stable/reference/deprecation.html#deprecation-of-object-mode-fall-back-behaviour-when-using-jit for details.\u001b[0m\n",
      "  @numba.jit()\n",
      "/Users/lu.zhu/miniconda3/envs/pov3/lib/python3.11/site-packages/umap/umap_.py:660: NumbaDeprecationWarning: \u001b[1mThe 'nopython' keyword argument was not supplied to the 'numba.jit' decorator. The implicit default value for this argument is currently False, but it will be changed to True in Numba 0.59.0. See https://numba.readthedocs.io/en/stable/reference/deprecation.html#deprecation-of-object-mode-fall-back-behaviour-when-using-jit for details.\u001b[0m\n",
      "  @numba.jit()\n"
     ]
    }
   ],
   "source": [
    "%load_ext autoreload\n",
    "%autoreload 2\n",
    "import os\n",
    "import datamol as dm\n",
    "import pandas as pd\n",
    "from polaris import curation\n",
    "import numpy as np\n",
    "import umap\n",
    "import seaborn as sns\n",
    "from matplotlib import pyplot as plt\n",
    "import seaborn as sns\n",
    "import os\n",
    "import pathlib\n",
    "os.chdir(pathlib.Path(\"__file__\").absolute().parents[3])\n",
    "\n",
    "from polaris.curation._chemistry_curator import SMILES_COL, UNIQUE_ID\n",
    "from utils import *\n",
    "import pandas as pd\n",
    "import datamol as dm\n",
    "import numpy as np\n",
    "from sklearn.model_selection import ShuffleSplit\n",
    "\n",
    "from polaris.curation._chemistry_curator import SMILES_COL, UNIQUE_ID\n",
    "from polaris.dataset import Dataset, ColumnAnnotation\n",
    "from polaris.benchmark import SingleTaskBenchmarkSpecification, MultiTaskBenchmarkSpecification"
   ]
  },
  {
   "cell_type": "markdown",
   "id": "545099e3-0eb9-4a80-a0c6-0448c0674502",
   "metadata": {},
   "source": [
    "## Dataset creation with `Polaris`"
   ]
  },
  {
   "cell_type": "code",
   "execution_count": 2,
   "id": "bb4d5119-3f1f-4246-88ba-2be08d194033",
   "metadata": {},
   "outputs": [
    {
     "data": {
      "text/plain": [
       "'PolarisTest'"
      ]
     },
     "execution_count": 2,
     "metadata": {},
     "output_type": "execute_result"
    }
   ],
   "source": [
    "from polaris.utils.types import HubOwner\n",
    "owner = HubOwner(organizationId=\"PolarisTest\", slug=\"polaristest\")\n",
    "owner.owner"
   ]
  },
  {
   "cell_type": "code",
   "execution_count": 3,
   "id": "3de6dfde-41b7-4387-bc7c-66aaa7a783b7",
   "metadata": {},
   "outputs": [],
   "source": [
    "BENCHMARK_DIR = \"gs://polaris-public/benchmarks/kinases/ret\"\n",
    "DATASET_DIR = \"gs://polaris-public/datasets/kinases/ret\"\n",
    "FIGURE_DIR = \"gs://polaris-public/datasets/kinases/ret/figures\""
   ]
  },
  {
   "cell_type": "markdown",
   "id": "7f22cb4b-6303-425c-9a15-d437705baff9",
   "metadata": {},
   "source": [
    "### Load existing data\n",
    "> **Attention:** \\\n",
    "> The original dataset is published in https://pubmed.ncbi.nlm.nih.gov/26501955 \\\n",
    "> \n",
    "> To **maintain consistency** with other benchmarks in the Polaris Hub, a thorough data curation process is carried out to ensure the accuracy of molecular presentations.\n",
    "> Therefore, the raw data from the data resource is not used here. \n",
    "> See more curation details in [01_RET_mutants_data_curation.ipynb](https://github.com/polaris-hub/polaris-recipes/blob/mvp/03_Kinases/RET/mutants/01_RET_mutants_data_curation.ipynb)\n"
   ]
  },
  {
   "cell_type": "markdown",
   "id": "172ae3e5",
   "metadata": {},
   "source": [
    "**Create the RET dataset with `polaris.Dataset`** "
   ]
  },
  {
   "cell_type": "code",
   "execution_count": 4,
   "id": "917f6297",
   "metadata": {},
   "outputs": [],
   "source": [
    "# Load data\n",
    "PATH = \"gs://polaris-public/Data/kinases/RET_mutants_curated.parquet\"\n",
    "table = pd.read_parquet(PATH)"
   ]
  },
  {
   "cell_type": "markdown",
   "id": "22ddf97e-52ad-42fb-872e-17a8b6f3fb57",
   "metadata": {},
   "source": [
    "Not all the columns are necessary, only the columns which are useful for the benchmarks will be annotated. Here we only use the columns that were used for training in the original paper. "
   ]
  },
  {
   "cell_type": "markdown",
   "id": "63f59e2f-3f3b-4cfe-802f-8b8e530c9e5f",
   "metadata": {},
   "source": [
    "It's necessary to specify the key bioactivity columns, molecules structures and identifiers in dataset with `ColumnAnnotation`. It is possible to add `user_attributes` with any key and values when is needed, such as `unit`, `organism`, `scale` and optimization `objective`. \n",
    "\n",
    "**Abbrevations for the endpoint objective**\n",
    "- THTB: the higher the better\n",
    "- TLTB: the lower the better"
   ]
  },
  {
   "cell_type": "code",
   "execution_count": 5,
   "id": "4d19b022-5316-4f33-96f7-313e9a93d2d8",
   "metadata": {},
   "outputs": [],
   "source": [
    "data_cols = ['RET_(V804L_mutant)', 'RET_(Y791F_mutant)', 'RET']\n",
    "# threshold for inhibitors\n",
    "th = 70"
   ]
  },
  {
   "cell_type": "code",
   "execution_count": 6,
   "id": "3145fc25-e670-413a-8926-8ab9d6fcb3b0",
   "metadata": {},
   "outputs": [],
   "source": [
    "annotations = {\n",
    "     'UNIQUE_ID': ColumnAnnotation(protocol='Molecular hash ID. See <datamol.mol.hash_mol>'),\n",
    "     'smiles': ColumnAnnotation(protocol='Molecule SMILES string'),\n",
    "     'RET_(V804L_mutant)': ColumnAnnotation(protocol='Percentage of inhibition on RET with mutation V804L_mutant', user_attributes={'unit': '%', 'concentration': '1uM', 'organism': 'human', 'objective': 'THTB', 'source': 'PKIS1', 'mutation': 'V804L_mutant', 'target': 'RET'}),\n",
    "     'RET_(Y791F_mutant)': ColumnAnnotation(protocol='Percentage of inhibition on RET with mutation Y791F mutant', user_attributes={'unit': '%', 'concentration': '1uM', 'organism': 'human', 'objective': 'THTB', 'source': 'PKIS1', 'mutation': 'Y791F_mutant', 'target': 'RET'}),\n",
    "     'RET': ColumnAnnotation(protocol='Percentage of inhibition on RET wide type', user_attributes={'unit': '%', 'concentration': '1uM', 'organism': 'human', 'objective': 'THTB', 'source': 'https://pubmed.ncbi.nlm.nih.gov/26501955', 'mutation': 'None', 'target': 'EGFR'}),\n",
    "     'CLASS_RET_(V804L_mutant)': ColumnAnnotation(protocol='Binarized label based on the percentage of inhibition on RET V804L mutant', user_attributes={'thresholds': f'[{th}]', 'label_order': 'ascending', 'ref_col': 'RET_(V804L_mutant)'}),\n",
    "     'CLASS_RET_(Y791F_mutant)': ColumnAnnotation(protocol='Binarized label based on the percentage of inhibition on RET Y791F mutant', user_attributes={'thresholds': f'[{th}]', 'label_order': 'ascending', 'ref_col': 'RET_(Y791F_mutant)'}),\n",
    "     'CLASS_RET': ColumnAnnotation(protocol='Binarized label based on the percentage of inhibition on RET wide type', user_attributes={'thresholds': f'[{th}]', 'label_order': 'ascending', 'ref_col': 'RET'})\n",
    "}"
   ]
  },
  {
   "cell_type": "markdown",
   "id": "b1e0af61-896b-42f0-af62-5ffbf0004aec",
   "metadata": {},
   "source": [
    "### Create `Dataset` object"
   ]
  },
  {
   "cell_type": "code",
   "execution_count": 7,
   "id": "ebb5f057-c448-4840-af5d-cc0178c14746",
   "metadata": {},
   "outputs": [],
   "source": [
    "dataset_name= \"drewry_ret_wt_v804l_y791f_v1\""
   ]
  },
  {
   "cell_type": "code",
   "execution_count": 8,
   "id": "9e606547-f711-4e4d-8c93-97002a8a2236",
   "metadata": {},
   "outputs": [],
   "source": [
    "dataset = Dataset(\n",
    "    table=table[annotations.keys()],\n",
    "    name=dataset_name,\n",
    "    description=f\"Profile of kinase RET, and its mutants RET, RET_(V804L_mutant), RET_(Y791F_mutant).\",\n",
    "    source=\"https://pubmed.ncbi.nlm.nih.gov/26501955\",\n",
    "    annotations=annotations,\n",
    "    owner=owner, \n",
    "    tags=[\"Kinase\", \"Multitask\"],\n",
    "    readme=load_readme(f\"gs://polaris-public/datasets/readmes/{dataset_name}_readme.md\")\n",
    "\n",
    ")"
   ]
  },
  {
   "cell_type": "code",
   "execution_count": 9,
   "id": "8b295721-e50f-4dae-881f-a7660f1284a9",
   "metadata": {},
   "outputs": [
    {
     "data": {
      "text/plain": [
       "'gs://polaris-public/datasets/kinases/ret/drewry_ret_wt_v804l_y791f_v1/dataset.json'"
      ]
     },
     "execution_count": 9,
     "metadata": {},
     "output_type": "execute_result"
    }
   ],
   "source": [
    "# save the dataset\n",
    "SAVE_DIR = f\"{DATASET_DIR}/{dataset_name}\"\n",
    "dataset.to_json(SAVE_DIR)"
   ]
  },
  {
   "cell_type": "code",
   "execution_count": null,
   "id": "5180a157-a6bb-49fa-a045-1295fdd84435",
   "metadata": {},
   "outputs": [],
   "source": []
  },
  {
   "cell_type": "markdown",
   "id": "7e9999f6",
   "metadata": {},
   "source": [
    "## Benchmark creation with `Polaris`\n",
    "Creating a benchmark involves setting up a standard dataset, designing the train-validation-test set and defining evaluation metrics which is used to establish baseline performance level. "
   ]
  },
  {
   "cell_type": "markdown",
   "id": "0507c05f-30ed-417d-b437-5d6e55b2dd44",
   "metadata": {},
   "source": [
    "### Create scaffold split for `RET` dataset\n",
    "> **Note:**\n",
    "> Here we use splitting tool `Splito` to split dataset to train and test. \\\n",
    "> [Splito](https://github.com/datamol-io/splito) is a machine learning dataset splitting library for life sciences.\n",
    "\n",
    "The objective is to comprehend the proficiency of a model in predicting these 'easy' properties. \\\n",
    "In order to select the predictive models which is able to generalize to new chemical space, a scaffold split is used to generate trian/test sets. "
   ]
  },
  {
   "cell_type": "code",
   "execution_count": 10,
   "id": "bce59102-045a-467c-afba-720ac6069eb9",
   "metadata": {},
   "outputs": [],
   "source": [
    "# scaffold split\n",
    "from partitio._scaffold_split import ScaffoldSplit\n",
    "flag = True\n",
    "TEST_SIZE = 0.2\n",
    "SEED = 665\n",
    "splitter = ScaffoldSplit(smiles=dataset.table.smiles.values, n_jobs=-1, test_size=TEST_SIZE, random_state=SEED)\n",
    "scaffold_split = next(splitter.split(X=dataset.table.smiles.values))"
   ]
  },
  {
   "cell_type": "code",
   "execution_count": 11,
   "id": "08a700bd-ebf7-4d10-b12a-06be1243d8bc",
   "metadata": {},
   "outputs": [
    {
     "data": {
      "image/png": "[encoded data removed]",
      "text/plain": [
       "<Figure size 600x500 with 1 Axes>"
      ]
     },
     "metadata": {},
     "output_type": "display_data"
    }
   ],
   "source": [
    "from utils import display_umap\n",
    "fig = display_umap(table, 'smiles', split =scaffold_split, \n",
    "                   split_name=\"scaffold_split\")\n",
    "save_figure(fig,remote_path=f\"{FIGURE_DIR}/{dataset_name}_umap_scaffold_split.png\", \n",
    "            local_path=f\"figures/{dataset_name}_umap_scaffold_split.png\" )"
   ]
  },
  {
   "cell_type": "markdown",
   "id": "b35ffc92-f69b-4c6f-ae65-b8db34e93a82",
   "metadata": {},
   "source": [
    "## Multitask for all the RET endpoints with a common Scaffold split. "
   ]
  },
  {
   "cell_type": "markdown",
   "id": "6a4b3b66-d07a-42a2-8f16-f14beff70e1e",
   "metadata": {},
   "source": [
    "**Regression**"
   ]
  },
  {
   "cell_type": "code",
   "execution_count": 12,
   "id": "607b42ce-f782-4e29-982c-5c0e19162877",
   "metadata": {},
   "outputs": [
    {
     "data": {
      "text/plain": [
       "'drewry_ret_wt_v804l_y791f_v1'"
      ]
     },
     "execution_count": 12,
     "metadata": {},
     "output_type": "execute_result"
    }
   ],
   "source": [
    "dataset_name"
   ]
  },
  {
   "cell_type": "code",
   "execution_count": 13,
   "id": "92cbff08-8496-4c10-ba2b-b3a4a60f3cb2",
   "metadata": {},
   "outputs": [
    {
     "name": "stdout",
     "output_type": "stream",
     "text": [
      "gs://polaris-public/benchmarks/kinases/ret/drewry_ret_wt_v804l_y791f_multitask_reg_v1/benchmark.json\n"
     ]
    }
   ],
   "source": [
    "data_cols = ['RET_(V804L_mutant)', 'RET_(Y791F_mutant)', 'RET']\n",
    "benchmark_name =f\"drewry_ret_wt_v804l_y791f_multitask_reg_v1\"\n",
    "BENCHMARK_SAVE_DIR = f\"{BENCHMARK_DIR}/{benchmark_name}\"\n",
    "\n",
    "benchmark_reg = MultiTaskBenchmarkSpecification(\n",
    "    name=benchmark_name,\n",
    "    dataset=dataset,\n",
    "    target_cols=data_cols,\n",
    "    input_cols=\"smiles\",\n",
    "    split=scaffold_split,\n",
    "    main_metric=\"mean_squared_error\",\n",
    "    metrics=[\"mean_absolute_error\",\n",
    "            \"mean_squared_error\",\n",
    "            \"r2\",\n",
    "            \"spearmanr\",\n",
    "            \"pearsonr\",\n",
    "            \"explained_var\"], \n",
    "    tags=[\"Kinase\",\"SingleTask\", \"Regression\", \"HitDiscovery\"],\n",
    "    owner=owner, \n",
    "    description=\"Regression benchmark for RET wild type, V804L, Y791F mutants.\",\n",
    "    readme=load_readme(f\"gs://polaris-public/benchmarks/readmes/{benchmark_name}_readme.md\")\n",
    "\n",
    ")\n",
    "path = benchmark_reg.to_json(BENCHMARK_SAVE_DIR)\n",
    "print(path)"
   ]
  },
  {
   "cell_type": "markdown",
   "id": "fb3f4b16-b074-4efb-9805-62a025a37c10",
   "metadata": {},
   "source": [
    "**Classification**"
   ]
  },
  {
   "cell_type": "code",
   "execution_count": 18,
   "id": "ea6e1551-986b-4dd2-8cf4-f9f06d9e018b",
   "metadata": {},
   "outputs": [
    {
     "name": "stdout",
     "output_type": "stream",
     "text": [
      "gs://polaris-public/benchmarks/kinases/ret/drewry_ret_wt_v804l_y791f_multitask_clf_v1/benchmark.json\n"
     ]
    }
   ],
   "source": [
    "data_cols = ['CLASS_RET_(V804L_mutant)', 'CLASS_RET_(Y791F_mutant)', 'CLASS_RET']\n",
    "benchmark_name =f\"drewry_ret_wt_v804l_y791f_multitask_clf_v1\"\n",
    "BENCHMARK_SAVE_DIR = f\"{BENCHMARK_DIR}/{benchmark_name}\"\n",
    "\n",
    "benchmark_clf = MultiTaskBenchmarkSpecification(\n",
    "    name=benchmark_name,\n",
    "    dataset=dataset,\n",
    "    target_cols=data_cols,\n",
    "    input_cols=\"smiles\",\n",
    "    split=scaffold_split,\n",
    "    main_metric=\"f1_macro\",\n",
    "    metrics=[\"accuracy\", \"f1\",\"f1_macro\", \"roc_auc\", \"pr_auc\", \"mcc\", \"cohen_kappa\"],\n",
    "    tags=[\"Kinase\", \"MultiTask\", \"Classification\", \"HitDiscovery\"],\n",
    "    description=\"Classification benchmark for RET wild type, V804L, Y791F mutants.\",\n",
    "    owner=owner,\n",
    "    readme=load_readme(f\"gs://polaris-public/benchmarks/readmes/{benchmark_name}_readme.md\")\n",
    "\n",
    ")\n",
    "path = benchmark_clf.to_json(BENCHMARK_SAVE_DIR)\n",
    "print(path)"
   ]
  },
  {
   "cell_type": "code",
   "execution_count": null,
   "id": "732455dd-2dad-47ca-8eed-1133a5f20a91",
   "metadata": {},
   "outputs": [],
   "source": []
  }
 ],
 "metadata": {
  "kernelspec": {
   "display_name": "Python 3 (ipykernel)",
   "language": "python",
   "name": "python3"
  },
  "language_info": {
   "codemirror_mode": {
    "name": "ipython",
    "version": 3
   },
   "file_extension": ".py",
   "mimetype": "text/x-python",
   "name": "python",
   "nbconvert_exporter": "python",
   "pygments_lexer": "ipython3",
   "version": "3.11.5"
  }
 },
 "nbformat": 4,
 "nbformat_minor": 5
}
