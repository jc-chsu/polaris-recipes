{
 "cells": [
  {
   "cell_type": "markdown",
   "id": "e42620fd-056b-41e5-acaf-46552e3ab98c",
   "metadata": {},
   "source": [
    "# EGFR & mutation benchmark"
   ]
  },
  {
   "cell_type": "markdown",
   "id": "dcb32a78-e28d-4f04-b32b-4247da60494a",
   "metadata": {},
   "source": [
    "**EGFR (Epidermal Growth Factor Receptor) kinase** is a type of receptor tyrosine kinase that plays a significant role in cell growth, proliferation, and survival. Mutations or overexpression of EGFR have been associated with various diseases, particularly cancer.\n",
    "\n",
    "- **EGFR Wild type**:  Targeting wild-type EGFR with small-molecule inhibitors, such as erlotinib, is an ongoing area of research in the treatment of glioblastoma. While early findings are promising, the complexity of glioblastoma biology presents challenges that require further investigation to improve treatment outcomes for patients.\n",
    "- **EGFR L858R:** While EGFR TKIs initially demonstrate impressive responses in NSCLC patients with the L858R mutation, resistance to these drugs can develop over time. However, newer generations of EGFR TKIs, like osimertinib, have been developed to target these resistant mutations."
   ]
  },
  {
   "cell_type": "markdown",
   "id": "d00337bf-56ee-4c85-a281-9f3e90dd9957",
   "metadata": {},
   "source": [
    "**Published EGFR datasets**: \n",
    "- **PKIS 1**: A set of 364 unique small-molecule ATP-competitive kinase inhibitors that was screened by the set in activity assays with 224 recombinant kinases and 24 G protein-coupled receptors and in cellular assays of cancer cell proliferation and angiogenesis ([ref](https://pubmed.ncbi.nlm.nih.gov/26501955/))."
   ]
  },
  {
   "cell_type": "markdown",
   "id": "045da858-2df8-4fd0-bb78-83e9d0663702",
   "metadata": {},
   "source": [
    "**Description of readout:**\n",
    "- **Readouts**: `EGFR_(L858R_mutant)`, `EGFR`\n",
    "- **Bioassay readout**: Percentage of inhnibition.\n",
    "- **Optimization objective**: Higher the more potent.\n",
    "\n",
    "**The goal** of this benchmark is to select the best predictive model for \n",
    "- Optimization of the bioactivity % inhibition.\n",
    "- Discovery of potential hits in new chemical space.\n",
    "\n",
    "Therefore, a scaffold-based splitting approach was applied to ensure training and test sets contain distinct chemical structures while maintaining the diversity of scaffolds.\n",
    "\n",
    "See more details in the dataset information.  "
   ]
  },
  {
   "cell_type": "code",
   "execution_count": 1,
   "id": "661778a0-2f7c-416d-ab3f-e2f1ba7089ea",
   "metadata": {},
   "outputs": [
    {
     "name": "stderr",
     "output_type": "stream",
     "text": [
      "/Users/lu.zhu/miniconda3/envs/pov3/lib/python3.11/site-packages/umap/distances.py:1063: NumbaDeprecationWarning: \u001b[1mThe 'nopython' keyword argument was not supplied to the 'numba.jit' decorator. The implicit default value for this argument is currently False, but it will be changed to True in Numba 0.59.0. See https://numba.readthedocs.io/en/stable/reference/deprecation.html#deprecation-of-object-mode-fall-back-behaviour-when-using-jit for details.\u001b[0m\n",
      "  @numba.jit()\n",
      "/Users/lu.zhu/miniconda3/envs/pov3/lib/python3.11/site-packages/umap/distances.py:1071: NumbaDeprecationWarning: \u001b[1mThe 'nopython' keyword argument was not supplied to the 'numba.jit' decorator. The implicit default value for this argument is currently False, but it will be changed to True in Numba 0.59.0. See https://numba.readthedocs.io/en/stable/reference/deprecation.html#deprecation-of-object-mode-fall-back-behaviour-when-using-jit for details.\u001b[0m\n",
      "  @numba.jit()\n",
      "/Users/lu.zhu/miniconda3/envs/pov3/lib/python3.11/site-packages/umap/distances.py:1086: NumbaDeprecationWarning: \u001b[1mThe 'nopython' keyword argument was not supplied to the 'numba.jit' decorator. The implicit default value for this argument is currently False, but it will be changed to True in Numba 0.59.0. See https://numba.readthedocs.io/en/stable/reference/deprecation.html#deprecation-of-object-mode-fall-back-behaviour-when-using-jit for details.\u001b[0m\n",
      "  @numba.jit()\n",
      "/Users/lu.zhu/miniconda3/envs/pov3/lib/python3.11/site-packages/umap/umap_.py:660: NumbaDeprecationWarning: \u001b[1mThe 'nopython' keyword argument was not supplied to the 'numba.jit' decorator. The implicit default value for this argument is currently False, but it will be changed to True in Numba 0.59.0. See https://numba.readthedocs.io/en/stable/reference/deprecation.html#deprecation-of-object-mode-fall-back-behaviour-when-using-jit for details.\u001b[0m\n",
      "  @numba.jit()\n"
     ]
    },
    {
     "ename": "ModuleNotFoundError",
     "evalue": "No module named 'utils'",
     "output_type": "error",
     "traceback": [
      "\u001b[0;31m---------------------------------------------------------------------------\u001b[0m",
      "\u001b[0;31mModuleNotFoundError\u001b[0m                       Traceback (most recent call last)",
      "Cell \u001b[0;32mIn[1], line 25\u001b[0m\n\u001b[1;32m     23\u001b[0m \u001b[38;5;28;01mfrom\u001b[39;00m \u001b[38;5;21;01mpolaris\u001b[39;00m\u001b[38;5;21;01m.\u001b[39;00m\u001b[38;5;21;01mdataset\u001b[39;00m \u001b[38;5;28;01mimport\u001b[39;00m Dataset, ColumnAnnotation\n\u001b[1;32m     24\u001b[0m \u001b[38;5;28;01mfrom\u001b[39;00m \u001b[38;5;21;01mpolaris\u001b[39;00m\u001b[38;5;21;01m.\u001b[39;00m\u001b[38;5;21;01mbenchmark\u001b[39;00m \u001b[38;5;28;01mimport\u001b[39;00m SingleTaskBenchmarkSpecification, MultiTaskBenchmarkSpecification\n\u001b[0;32m---> 25\u001b[0m \u001b[38;5;28;01mfrom\u001b[39;00m \u001b[38;5;21;01mutils\u001b[39;00m \u001b[38;5;28;01mimport\u001b[39;00m display_umap, load_readme, save_figure\n",
      "\u001b[0;31mModuleNotFoundError\u001b[0m: No module named 'utils'"
     ]
    }
   ],
   "source": [
    "%load_ext autoreload\n",
    "%autoreload 2\n",
    "import datamol as dm\n",
    "import pandas as pd\n",
    "import polaris\n",
    "from polaris import curation\n",
    "import numpy as np\n",
    "import umap\n",
    "import seaborn as sns\n",
    "from matplotlib import pyplot as plt\n",
    "import seaborn as sns\n",
    "import os\n",
    "from os import path\n",
    "from os.path import dirname\n",
    "os.chdir(path.dirname(path.dirname(path.abspath(\"__file__\"))))\n",
    "\n",
    "import pandas as pd\n",
    "import datamol as dm\n",
    "import numpy as np\n",
    "from sklearn.model_selection import ShuffleSplit\n",
    "\n",
    "from polaris.curation._chemistry_curator import SMILES_COL, UNIQUE_ID\n",
    "from polaris.dataset import Dataset, ColumnAnnotation\n",
    "from polaris.benchmark import SingleTaskBenchmarkSpecification, MultiTaskBenchmarkSpecification\n",
    "from utils import display_umap, load_readme, save_figure"
   ]
  },
  {
   "cell_type": "markdown",
   "id": "545099e3-0eb9-4a80-a0c6-0448c0674502",
   "metadata": {},
   "source": [
    "## Dataset creation with `Polaris`\n",
    "The first step of creating a benchmark is to set up a standard dataset which allows accessing the curated dataset (which has been demonstrated in <01_EGFR_mutants_data_curation.ipynb>), and all necessary information about the dataset such as data source, description of endpoints, units etc. "
   ]
  },
  {
   "cell_type": "code",
   "execution_count": null,
   "id": "0233b478-06ec-49fa-adc9-434ac32ddb85",
   "metadata": {},
   "outputs": [],
   "source": [
    "from polaris.utils.types import HubOwner\n",
    "owner = HubOwner(organizationId=\"PolarisTest\", slug=\"polaristest\")\n",
    "owner.owner"
   ]
  },
  {
   "cell_type": "code",
   "execution_count": null,
   "id": "3de6dfde-41b7-4387-bc7c-66aaa7a783b7",
   "metadata": {},
   "outputs": [],
   "source": [
    "BENCHMARK_DIR = \"gs://polaris-public/benchmarks/kinases/egfr\"\n",
    "DATASET_DIR = \"gs://polaris-public/datasets/kinases/egfr\"\n",
    "FIGURE_DIR = \"gs://polaris-public/datasets/kinases/egfr/figures\""
   ]
  },
  {
   "cell_type": "markdown",
   "id": "7f22cb4b-6303-425c-9a15-d437705baff9",
   "metadata": {},
   "source": [
    "### Load existing data\n",
    "> **Attention:** \\\n",
    "> The original dataset is published in https://pubmed.ncbi.nlm.nih.gov/26501955 \\\n",
    "> \n",
    "> To **maintain consistency** with other benchmarks in the Polaris Hub, a thorough data curation process is carried out to ensure the accuracy of molecular presentations.\n",
    "> Therefore, the raw data from the data resource is not used here. \n",
    "> See more curation details in [01_EGFR_mutants_data_curation.ipynb](https://github.com/polaris-hub/polaris-recipes/blob/mvp/03_Kinases/EGFR/mutants/01_EGFR_mutants_data_curation.ipynb)\n"
   ]
  },
  {
   "cell_type": "code",
   "execution_count": null,
   "id": "917f6297",
   "metadata": {},
   "outputs": [],
   "source": [
    "# Load data\n",
    "PATH = 'gs://polaris-public/Data/Kinases/EGFR_mutants_curated.parquet'\n",
    "table = pd.read_parquet(PATH)"
   ]
  },
  {
   "cell_type": "code",
   "execution_count": null,
   "id": "c9277b57-24ad-4161-a415-046bec7f79da",
   "metadata": {},
   "outputs": [],
   "source": [
    "data_cols = ['EGFR_(L858R_mutant)', 'EGFR']\n",
    "mol_col = \"smiles\""
   ]
  },
  {
   "cell_type": "markdown",
   "id": "22ddf97e-52ad-42fb-872e-17a8b6f3fb57",
   "metadata": {},
   "source": [
    "Not all the columns are necessary, only the columns which are useful for the benchmarks will be annotated. Here we only use the columns that were used for training in the original paper. "
   ]
  },
  {
   "cell_type": "markdown",
   "id": "63f59e2f-3f3b-4cfe-802f-8b8e530c9e5f",
   "metadata": {},
   "source": [
    "It's necessary to specify the key bioactivity columns, molecules structures and identifiers in dataset with `ColumnAnnotation`. It is possible to add `user_attributes` with any key and values when is needed, such as `unit`, `organism`, `scale` and optimization `objective`. \n",
    "\n",
    "**Abbrevations for the endpoint objective**\n",
    "- THTB: the higher the better\n",
    "- TLTB: the lower the better"
   ]
  },
  {
   "cell_type": "code",
   "execution_count": null,
   "id": "3145fc25-e670-413a-8926-8ab9d6fcb3b0",
   "metadata": {},
   "outputs": [],
   "source": [
    "# threshold for inhibitors\n",
    "th = 80\n",
    "annotations = {\n",
    "     'UNIQUE_ID': ColumnAnnotation(description='Molecular hash ID. See <datamol.mol.hash_mol>'),\n",
    "     'smiles': ColumnAnnotation(description='Molecule SMILES string'),\n",
    "     'EGFR_(L858R_mutant)': ColumnAnnotation(description='Percentage of inhibition on EGFR with mutation L858R_mutant', user_attributes={'unit': '%', 'concentration': '1uM', 'organism': 'human', 'objective': 'THTB', 'source': 'PKIS1', 'mutation': 'L858R_mutant', 'target': 'EGFR'}),\n",
    "     'EGFR': ColumnAnnotation(description='Percentage of inhibition on EGFR wide type', user_attributes={'unit': '%', 'concentration': '1uM', 'organism': 'human', 'objective': 'THTB', 'source': 'https://pubmed.ncbi.nlm.nih.gov/26501955', 'mutation': 'None', 'target': 'EGFR'}),\n",
    "     'CLASS_EGFR_(L858R_mutant)': ColumnAnnotation(description='Binarized label based on the percentage of inhibition on EGFR L858R_mutant', user_attributes={'thresholds': f'[{th}]', 'label_order': 'ascending', 'ref_col': 'EGFR_(L858R_mutant)'}),\n",
    "     'CLASS_EGFR': ColumnAnnotation(description='Binarized label based on the percentage of inhibition on EGFR wide type', user_attributes={'thresholds': f'[{th}]', 'label_order': 'ascending', 'ref_col': 'EGFR'})\n",
    "}"
   ]
  },
  {
   "cell_type": "markdown",
   "id": "b1e0af61-896b-42f0-af62-5ffbf0004aec",
   "metadata": {},
   "source": [
    "### Create `Dataset` object"
   ]
  },
  {
   "cell_type": "code",
   "execution_count": null,
   "id": "f861011c-c621-48c8-ab3c-d508a3ed33a8",
   "metadata": {},
   "outputs": [],
   "source": [
    "import datamol as dm\n",
    "dataset_name= \"egfr_wt_l858r_v1\"\n",
    "with dm.fs.fsspec.open(f\"gs://polaris-public/datasets/readmes/{dataset_name}_readme.md\") as f:\n",
    "    dataset_readme = f.read()"
   ]
  },
  {
   "cell_type": "code",
   "execution_count": null,
   "id": "9e606547-f711-4e4d-8c93-97002a8a2236",
   "metadata": {},
   "outputs": [],
   "source": [
    "dataset = Dataset(\n",
    "    table=table[list(annotations.keys())],\n",
    "    name=dataset_name,\n",
    "    description=f\"Profile of kinase EGFR, and its mutant EGFR_(L858R_mutant)\",\n",
    "    source=\"https://pubmed.ncbi.nlm.nih.gov/26501955\",\n",
    "    annotations=annotations,\n",
    "    owner=owner,\n",
    "    tags=[\"Kinase\", \"Multitask\", \"HitDiscovery\"], \n",
    "    readme = dataset_readme\n",
    ")"
   ]
  },
  {
   "cell_type": "code",
   "execution_count": null,
   "id": "8b295721-e50f-4dae-881f-a7660f1284a9",
   "metadata": {},
   "outputs": [],
   "source": [
    "# save the dataset\n",
    "SAVE_DIR = f\"{DATASET_DIR}/{dataset_name}\"\n",
    "dataset.to_json(SAVE_DIR)"
   ]
  },
  {
   "cell_type": "code",
   "execution_count": null,
   "id": "38e97eb0-c07a-4171-b6bd-b14419adc122",
   "metadata": {},
   "outputs": [],
   "source": []
  },
  {
   "cell_type": "markdown",
   "id": "9c943733",
   "metadata": {},
   "source": [
    "## Benchmark creation with `Polaris`\n",
    "Creating a benchmark involves setting up a standard dataset, designing the train-validation-test set and defining evaluation metrics which is used to establish baseline performance level. "
   ]
  },
  {
   "cell_type": "markdown",
   "id": "0507c05f-30ed-417d-b437-5d6e55b2dd44",
   "metadata": {},
   "source": [
    "### Create scaffold split for `EGFR` dataset\n",
    "> **Note:**\n",
    "> Here we use splitting tool `Splito` to split dataset to train and test. \\\n",
    "> [Splito](https://github.com/datamol-io/splito) is a machine learning dataset splitting library for life sciences.\n",
    "\n",
    "The objective is to comprehend the proficiency of a model in predicting these 'easy' properties. \\\n",
    "In order to select the predictive models which is able to generalize to new chemical space, a scaffold split is used to generate trian/test sets. "
   ]
  },
  {
   "cell_type": "code",
   "execution_count": null,
   "id": "bce59102-045a-467c-afba-720ac6069eb9",
   "metadata": {},
   "outputs": [],
   "source": [
    "# scaffold split\n",
    "from partitio._scaffold_split import ScaffoldSplit\n",
    "flag = True\n",
    "nums_pos_test = []\n",
    "TEST_SIZE = 0.2\n",
    "SEED = 846\n",
    "splitter = ScaffoldSplit(smiles=dataset.table.smiles.values, n_jobs=-1, test_size=TEST_SIZE, random_state=SEED)\n",
    "scaffold_split = next(splitter.split(X=dataset.table.smiles.values))"
   ]
  },
  {
   "cell_type": "code",
   "execution_count": null,
   "id": "08a700bd-ebf7-4d10-b12a-06be1243d8bc",
   "metadata": {},
   "outputs": [],
   "source": [
    "from utils import display_umap\n",
    "fig = display_umap(table, 'smiles', split =scaffold_split, \n",
    "                   split_name=\"scaffold_split\")\n",
    "save_figure(fig,f\"{FIGURE_DIR}/{dataset_name}_umap_scaffold_split.png\", \n",
    "            f\"figures/{dataset_name}_umap_scaffold_split.png\" )"
   ]
  },
  {
   "cell_type": "markdown",
   "id": "03aa7204-c71f-4b46-9bf0-e4a57e82ff35",
   "metadata": {},
   "source": [
    "## Define multitask benchmarks for EGFR and L858R mutant with scaffold split"
   ]
  },
  {
   "cell_type": "markdown",
   "id": "6a4b3b66-d07a-42a2-8f16-f14beff70e1e",
   "metadata": {},
   "source": [
    "**Regression tasks**"
   ]
  },
  {
   "cell_type": "code",
   "execution_count": null,
   "id": "92cbff08-8496-4c10-ba2b-b3a4a60f3cb2",
   "metadata": {},
   "outputs": [],
   "source": [
    "benchmark_name =\"egfr_wt_l858r_multitask_reg_v1\"\n",
    "BENCHMARK_SAVE_DIR = f\"{BENCHMARK_DIR}/{benchmark_name}\"\n",
    "data_cols = ['EGFR', 'EGFR_(L858R_mutant)']\n",
    "\n",
    "benchmark_reg = MultiTaskBenchmarkSpecification(\n",
    "    name=benchmark_name,\n",
    "    dataset=dataset,\n",
    "    target_cols=data_cols,\n",
    "    input_cols=\"smiles\",\n",
    "    split=scaffold_split,\n",
    "    main_metric=\"mean_squared_error\",\n",
    "    metrics=[\"mean_absolute_error\",\n",
    "            \"mean_squared_error\",\n",
    "            \"r2\",\n",
    "            \"spearmanr\",\n",
    "            \"pearsonr\",\n",
    "            \"explained_var\"],\n",
    "    tags=['Kinase', 'HitDiscovery', 'Selectivity','Regression'], \n",
    "    description=\"Multitask regression benchmark for EGFR wild type and L858R mutant.\",\n",
    "    owner=owner, \n",
    "    readme= load_readme(f\"gs://polaris-public/benchmarks/readmes/{benchmark_name}_readme.md\")\n",
    ")\n",
    "path = benchmark_reg.to_json(BENCHMARK_SAVE_DIR)\n",
    "print(path)"
   ]
  },
  {
   "cell_type": "code",
   "execution_count": null,
   "id": "b5c9d84a-7a76-4eb4-bb84-1d2d7783b07b",
   "metadata": {},
   "outputs": [],
   "source": []
  },
  {
   "cell_type": "markdown",
   "id": "fb3f4b16-b074-4efb-9805-62a025a37c10",
   "metadata": {},
   "source": [
    "**Classification task**"
   ]
  },
  {
   "cell_type": "code",
   "execution_count": null,
   "id": "ea6e1551-986b-4dd2-8cf4-f9f06d9e018b",
   "metadata": {},
   "outputs": [],
   "source": [
    "data_cols = ['CLASS_EGFR', 'CLASS_EGFR_(L858R_mutant)']\n",
    "benchmark_name =\"egfr_wt_l858r_multitask_clf_v1\"\n",
    "BENCHMARK_SAVE_DIR = f\"{BENCHMARK_DIR}/{benchmark_name}\"\n",
    "\n",
    "benchmark_clf = MultiTaskBenchmarkSpecification(\n",
    "    name=benchmark_name,\n",
    "    dataset=dataset,\n",
    "    target_cols=data_cols,\n",
    "    input_cols=\"smiles\",\n",
    "    split=scaffold_split,\n",
    "    main_metric=\"f1_macro\",\n",
    "    metrics=[\"accuracy\", \"f1_macro\", \"roc_auc\", \"pr_auc\", \"mcc\", \"cohen_kappa\"],\n",
    "    tags=['Kinase', 'HitDiscovery', 'Selectivity', 'Classification'],\n",
    "    description=\"Multitask classification benchmark for EGFR wild type and L858R mutant.\",\n",
    "    owner=owner, \n",
    "    readme= load_readme(f\"gs://polaris-public/benchmarks/readmes/{benchmark_name}_readme.md\")\n",
    ")\n",
    "path = benchmark_clf.to_json(BENCHMARK_SAVE_DIR)\n",
    "print(path)"
   ]
  },
  {
   "cell_type": "code",
   "execution_count": null,
   "id": "27f6d81b-3639-4735-a07e-503e2eeb2e0b",
   "metadata": {},
   "outputs": [],
   "source": []
  },
  {
   "cell_type": "code",
   "execution_count": null,
   "id": "e7e8f500-910b-4431-954c-478d24392356",
   "metadata": {},
   "outputs": [],
   "source": []
  }
 ],
 "metadata": {
  "kernelspec": {
   "display_name": "Python 3 (ipykernel)",
   "language": "python",
   "name": "python3"
  },
  "language_info": {
   "codemirror_mode": {
    "name": "ipython",
    "version": 3
   },
   "file_extension": ".py",
   "mimetype": "text/x-python",
   "name": "python",
   "nbconvert_exporter": "python",
   "pygments_lexer": "ipython3",
   "version": "3.11.5"
  }
 },
 "nbformat": 4,
 "nbformat_minor": 5
}
