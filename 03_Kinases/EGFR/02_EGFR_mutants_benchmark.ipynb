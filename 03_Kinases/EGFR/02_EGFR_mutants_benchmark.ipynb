{
 "cells": [
  {
   "cell_type": "markdown",
   "id": "e42620fd-056b-41e5-acaf-46552e3ab98c",
   "metadata": {},
   "source": [
    "![molprop](https://storage.googleapis.com/polaris-public/icons/icons8-fox-60-kinases.png)\n",
    "\n",
    "# Benchmarks for EGFR & mutants"
   ]
  },
  {
   "cell_type": "markdown",
   "id": "689a8500-c8f2-4692-b4f7-a96f9f9ee26d",
   "metadata": {},
   "source": [
    "## Background\n",
    "**EGFR (Epidermal Growth Factor Receptor) kinase** is a type of receptor tyrosine kinase that plays a significant role in cell growth, proliferation, and survival. Mutations or overexpression of EGFR have been associated with various diseases, particularly cancer.\n",
    "\n",
    "## Benchmarking\n",
    " **EGFR Wild type**:  Targeting wild-type EGFR with small-molecule inhibitors, such as erlotinib, is an ongoing area of research in the treatment of glioblastoma. While early findings are promising, the complexity of glioblastoma biology presents challenges that require further investigation to improve treatment outcomes for patients.\n",
    "\n",
    " **EGFR L858R:** While EGFR TKIs initially demonstrate impressive responses in NSCLC patients with the L858R mutation, resistance to these drugs can develop over time. However, newer generations of EGFR TKIs, like osimertinib, have been developed to target these resistant mutations.\n",
    "\n",
    "**The goal** of this benchmark is to select the best predictive model for \n",
    "- Optimization of the bioactivity % inhibition.\n",
    "- Discovery of potential hits in new chemical space.\n",
    "\n",
    "## Description of readout \n",
    "- **Readouts**: `EGFR_(L858R_mutant)`, `EGFR`\n",
    "- **Bioassay readout**: Percentage of inhnibition.\n",
    "- **Optimization objective**: Higher the more potent.\n",
    "\n",
    "## Data resource: \n",
    "- **Reference**: [PKIS1](https://pubmed.ncbi.nlm.nih.gov/26501955)\n",
    "\n",
    "\n",
    "## Train/test split\n",
    "Given the benchmarking goal, a scaffold-based splitting approach was applied to ensure training and test sets contain distinct chemical structures while maintaining the diversity of scaffolds.\n"
   ]
  },
  {
   "cell_type": "code",
   "execution_count": 1,
   "id": "661778a0-2f7c-416d-ab3f-e2f1ba7089ea",
   "metadata": {
    "scrolled": true
   },
   "outputs": [
    {
     "name": "stderr",
     "output_type": "stream",
     "text": [
      "/Users/lu.zhu/miniconda3/envs/pov3/lib/python3.11/site-packages/umap/distances.py:1063: NumbaDeprecationWarning: \u001b[1mThe 'nopython' keyword argument was not supplied to the 'numba.jit' decorator. The implicit default value for this argument is currently False, but it will be changed to True in Numba 0.59.0. See https://numba.readthedocs.io/en/stable/reference/deprecation.html#deprecation-of-object-mode-fall-back-behaviour-when-using-jit for details.\u001b[0m\n",
      "  @numba.jit()\n",
      "/Users/lu.zhu/miniconda3/envs/pov3/lib/python3.11/site-packages/umap/distances.py:1071: NumbaDeprecationWarning: \u001b[1mThe 'nopython' keyword argument was not supplied to the 'numba.jit' decorator. The implicit default value for this argument is currently False, but it will be changed to True in Numba 0.59.0. See https://numba.readthedocs.io/en/stable/reference/deprecation.html#deprecation-of-object-mode-fall-back-behaviour-when-using-jit for details.\u001b[0m\n",
      "  @numba.jit()\n",
      "/Users/lu.zhu/miniconda3/envs/pov3/lib/python3.11/site-packages/umap/distances.py:1086: NumbaDeprecationWarning: \u001b[1mThe 'nopython' keyword argument was not supplied to the 'numba.jit' decorator. The implicit default value for this argument is currently False, but it will be changed to True in Numba 0.59.0. See https://numba.readthedocs.io/en/stable/reference/deprecation.html#deprecation-of-object-mode-fall-back-behaviour-when-using-jit for details.\u001b[0m\n",
      "  @numba.jit()\n",
      "/Users/lu.zhu/miniconda3/envs/pov3/lib/python3.11/site-packages/umap/umap_.py:660: NumbaDeprecationWarning: \u001b[1mThe 'nopython' keyword argument was not supplied to the 'numba.jit' decorator. The implicit default value for this argument is currently False, but it will be changed to True in Numba 0.59.0. See https://numba.readthedocs.io/en/stable/reference/deprecation.html#deprecation-of-object-mode-fall-back-behaviour-when-using-jit for details.\u001b[0m\n",
      "  @numba.jit()\n"
     ]
    }
   ],
   "source": [
    "import pandas as pd\n",
    "import datamol as dm\n",
    "import numpy as np\n",
    "from sklearn.model_selection import ShuffleSplit\n",
    "import polaris\n",
    "from polaris.curation._chemistry_curator import SMILES_COL, UNIQUE_ID\n",
    "from polaris.dataset import Dataset, ColumnAnnotation\n",
    "from polaris.benchmark import SingleTaskBenchmarkSpecification, MultiTaskBenchmarkSpecification\n",
    "\n",
    "import os\n",
    "import pathlib\n",
    "os.chdir(pathlib.Path(\"__file__\").absolute().parents[2])\n",
    "from utils import *"
   ]
  },
  {
   "cell_type": "code",
   "execution_count": 2,
   "id": "3de6dfde-41b7-4387-bc7c-66aaa7a783b7",
   "metadata": {},
   "outputs": [],
   "source": [
    "BENCHMARK_DIR = \"gs://polaris-public/benchmarks/kinases/egfr\"\n",
    "FIGURE_DIR = \"gs://polaris-public/datasets/kinases/egfr/figures\""
   ]
  },
  {
   "cell_type": "markdown",
   "id": "7f22cb4b-6303-425c-9a15-d437705baff9",
   "metadata": {},
   "source": [
    "### Load existing data\n",
    "> **Attention:** \\\n",
    "> The original dataset is published in https://pubmed.ncbi.nlm.nih.gov/26501955 \\\n",
    "> \n",
    "> To **maintain consistency** with other benchmarks in the Polaris Hub, a thorough data curation process is carried out to ensure the accuracy of molecular presentations.\n",
    "> Therefore, the raw data from the data resource is not used here. \n",
    "> See more curation details in [01_EGFR_mutants_data_curation.ipynb](https://github.com/polaris-hub/polaris-recipes/blob/mvp/03_Kinases/EGFR/mutants/01_EGFR_mutants_data_curation.ipynb)\n"
   ]
  },
  {
   "cell_type": "code",
   "execution_count": 3,
   "id": "917f6297",
   "metadata": {},
   "outputs": [],
   "source": [
    "# Load data\n",
    "dataset = polaris.load_dataset(\"gs://polaris-public/datasets/kinases/pkis1_subset_curated/pkis1_egfr_ret_kit_v1/dataset.json\")"
   ]
  },
  {
   "cell_type": "code",
   "execution_count": 4,
   "id": "ed7e7a28-2475-4b20-9f6a-9c6f9ba60037",
   "metadata": {
    "scrolled": true
   },
   "outputs": [
    {
     "data": {
      "text/html": [
       "<table border=\"1\"><tr><th>name</th><td>pkis1_egfr_ret_kit_v1</td></tr><tr><th>description</th><td>A subset of PKIS dataset only including EGFR, RET, KIT kinases. PKIS is a data set of 367 small-molecule ATP-competitive kinase inhibitors that was screened by the set in activity assays with 224 recombinant kinases and 24 G protein-coupled receptors and in cellular assays of cancer cell proliferation and angiogenesis.</td></tr><tr><th>tags</th><td><ul><li>Kinase</li><li>HitDiscovery</li><li>Selectivity</li></ul></td></tr><tr><th>user_attributes</th><td></td></tr><tr><th>owner</th><td><table border=\"1\"><tr><th>slug</th><td>polaristest</td></tr><tr><th>organization_id</th><td>PolarisTest</td></tr><tr><th>user_id</th><td>None</td></tr><tr><th>owner</th><td>PolarisTest</td></tr></table></td></tr><tr><th>md5sum</th><td>04a60a0f346d017203f97e31f91473b5</td></tr><tr><th>readme</th><td>![molprop](https://storage.googleapis.com/polaris-public/icons/icons8-fox-60-kinases.png)\n",
       "\n",
       "## Backgroud:\n",
       " Kinases play a crucial role in cellular signalling, making them important targets for drug development. Dysregulation of kinases is frequently implicated in diseases like cancer, inflammation, and neurodegenerative disorders. Therefore, targeting kinases with specific drugs has emerged as a crucial strategy in modern drug discovery. Kinase-related task includes inhibition prediction, selectivity prediction, or kinase-ligand binding affinity prediction. In the early release version of Polaris, benchmarks were established for kinases such as EGFR, KIT, and RET, along with their respective mutations, as well as for LOK and SLK.\n",
       "\n",
       "\n",
       "## Description of readout \n",
       "- **Readouts**:\n",
       "    - `EGFR`, `EGFR_(L858R_mutant)`, `EGFR_(L861Q_mutant)`, `EGFR_(T790M_mutant)`, `EGFR_(T790M-L858R_mutant)`\n",
       "    - `KIT`, `KIT_(D816V_mutant)`, `KIT_(T6701_mutant)`, `KIT_(V560G_mutant)`\n",
       "    - `RET`, `RET_(V804L_mutant)`, `RET_(Y791F_mutant)`\n",
       "    - `LOK`\n",
       "- **Bioassay readout**: Percentage of inhibition (%).\n",
       "- **Optimization objective**: Higher potency (higher %inhibition).\n",
       "\n",
       "\n",
       "## Data resource:\n",
       "PKIS 1: A set of 364 unique small-molecule ATP-competitive kinase inhibitors that was screened by the set in activity assays with 224 recombinant kinases and 24 G protein-coupled receptors and in cellular assays of cancer cell proliferation and angiogenesis.\n",
       "\n",
       "**Reference**: https://pubmed.ncbi.nlm.nih.gov/26501955\n",
       "\n",
       "## Data curation\n",
       "To **maintain consistency** with other benchmarks in the Polaris Hub, a thorough data curation process is carried out to ensure the accuracy of molecular presentations.\n",
       "\n",
       "The full curation and creation process is documented [here](https://github.com/polaris-hub/polaris-recipes/tree/main/03_Kinases/PKIS1).\n",
       "\n",
       "&lt;!-- ## Related benchmarks --&gt;</td></tr><tr><th>annotations</th><td><table border=\"1\"><tr><th>UNIQUE_ID</th><td><table border=\"1\"><tr><th>is_pointer</th><td>False</td></tr><tr><th>modality</th><td>UNKNOWN</td></tr><tr><th>description</th><td>Molecular hash ID. See &lt;datamol.mol.hash_mol&gt;</td></tr><tr><th>user_attributes</th><td></td></tr></table></td></tr><tr><th>smiles</th><td><table border=\"1\"><tr><th>is_pointer</th><td>False</td></tr><tr><th>modality</th><td>MOLECULE</td></tr><tr><th>description</th><td>Molecule SMILES string</td></tr><tr><th>user_attributes</th><td></td></tr></table></td></tr><tr><th>EGFR_(L858R_mutant)</th><td><table border=\"1\"><tr><th>is_pointer</th><td>False</td></tr><tr><th>modality</th><td>UNKNOWN</td></tr><tr><th>description</th><td>Percentage of inhibition on EGFR with mutation L858R_mutant</td></tr><tr><th>user_attributes</th><td><table border=\"1\"><tr><th>unit</th><td>%</td></tr><tr><th>concentration</th><td>1uM</td></tr><tr><th>organism</th><td>Human</td></tr><tr><th>objective</th><td>Higher value</td></tr><tr><th>source</th><td>PKIS1</td></tr><tr><th>mutation</th><td>L858R_mutant</td></tr><tr><th>target</th><td>EGFR</td></tr></table></td></tr></table></td></tr><tr><th>EGFR</th><td><table border=\"1\"><tr><th>is_pointer</th><td>False</td></tr><tr><th>modality</th><td>UNKNOWN</td></tr><tr><th>description</th><td>Percentage of inhibition on EGFR with mutation L858R_mutant</td></tr><tr><th>user_attributes</th><td><table border=\"1\"><tr><th>unit</th><td>%</td></tr><tr><th>concentration</th><td>1uM</td></tr><tr><th>organism</th><td>Human</td></tr><tr><th>objective</th><td>Higher value</td></tr><tr><th>source</th><td>PKIS1</td></tr><tr><th>mutation</th><td>L858R_mutant</td></tr><tr><th>target</th><td>EGFR</td></tr></table></td></tr></table></td></tr><tr><th>KIT_(T6701_mutant)</th><td><table border=\"1\"><tr><th>is_pointer</th><td>False</td></tr><tr><th>modality</th><td>UNKNOWN</td></tr><tr><th>description</th><td>Percentage of inhibition on KIT with mutation L858R_mutant</td></tr><tr><th>user_attributes</th><td><table border=\"1\"><tr><th>unit</th><td>%</td></tr><tr><th>concentration</th><td>1uM</td></tr><tr><th>organism</th><td>Human</td></tr><tr><th>objective</th><td>Higher value</td></tr><tr><th>source</th><td>PKIS1</td></tr><tr><th>mutation</th><td>L858R_mutant</td></tr><tr><th>target</th><td>KIT</td></tr></table></td></tr></table></td></tr><tr><th>KIT_(V560G_mutant)</th><td><table border=\"1\"><tr><th>is_pointer</th><td>False</td></tr><tr><th>modality</th><td>UNKNOWN</td></tr><tr><th>description</th><td>Percentage of inhibition on KIT with mutation L858R_mutant</td></tr><tr><th>user_attributes</th><td><table border=\"1\"><tr><th>unit</th><td>%</td></tr><tr><th>concentration</th><td>1uM</td></tr><tr><th>organism</th><td>Human</td></tr><tr><th>objective</th><td>Higher value</td></tr><tr><th>source</th><td>PKIS1</td></tr><tr><th>mutation</th><td>L858R_mutant</td></tr><tr><th>target</th><td>KIT</td></tr></table></td></tr></table></td></tr><tr><th>KIT</th><td><table border=\"1\"><tr><th>is_pointer</th><td>False</td></tr><tr><th>modality</th><td>UNKNOWN</td></tr><tr><th>description</th><td>Percentage of inhibition on KIT with mutation L858R_mutant</td></tr><tr><th>user_attributes</th><td><table border=\"1\"><tr><th>unit</th><td>%</td></tr><tr><th>concentration</th><td>1uM</td></tr><tr><th>organism</th><td>Human</td></tr><tr><th>objective</th><td>Higher value</td></tr><tr><th>source</th><td>PKIS1</td></tr><tr><th>mutation</th><td>L858R_mutant</td></tr><tr><th>target</th><td>KIT</td></tr></table></td></tr></table></td></tr><tr><th>RET_(V804L_mutant)</th><td><table border=\"1\"><tr><th>is_pointer</th><td>False</td></tr><tr><th>modality</th><td>UNKNOWN</td></tr><tr><th>description</th><td>Percentage of inhibition on RET with mutation L858R_mutant</td></tr><tr><th>user_attributes</th><td><table border=\"1\"><tr><th>unit</th><td>%</td></tr><tr><th>concentration</th><td>1uM</td></tr><tr><th>organism</th><td>Human</td></tr><tr><th>objective</th><td>Higher value</td></tr><tr><th>source</th><td>PKIS1</td></tr><tr><th>mutation</th><td>L858R_mutant</td></tr><tr><th>target</th><td>RET</td></tr></table></td></tr></table></td></tr><tr><th>RET_(Y791F_mutant)</th><td><table border=\"1\"><tr><th>is_pointer</th><td>False</td></tr><tr><th>modality</th><td>UNKNOWN</td></tr><tr><th>description</th><td>Percentage of inhibition on RET with mutation L858R_mutant</td></tr><tr><th>user_attributes</th><td><table border=\"1\"><tr><th>unit</th><td>%</td></tr><tr><th>concentration</th><td>1uM</td></tr><tr><th>organism</th><td>Human</td></tr><tr><th>objective</th><td>Higher value</td></tr><tr><th>source</th><td>PKIS1</td></tr><tr><th>mutation</th><td>L858R_mutant</td></tr><tr><th>target</th><td>RET</td></tr></table></td></tr></table></td></tr><tr><th>RET</th><td><table border=\"1\"><tr><th>is_pointer</th><td>False</td></tr><tr><th>modality</th><td>UNKNOWN</td></tr><tr><th>description</th><td>Percentage of inhibition on RET with mutation L858R_mutant</td></tr><tr><th>user_attributes</th><td><table border=\"1\"><tr><th>unit</th><td>%</td></tr><tr><th>concentration</th><td>1uM</td></tr><tr><th>organism</th><td>Human</td></tr><tr><th>objective</th><td>Higher value</td></tr><tr><th>source</th><td>PKIS1</td></tr><tr><th>mutation</th><td>L858R_mutant</td></tr><tr><th>target</th><td>RET</td></tr></table></td></tr></table></td></tr><tr><th>CLASS_EGFR_(L858R_mutant)</th><td><table border=\"1\"><tr><th>is_pointer</th><td>False</td></tr><tr><th>modality</th><td>UNKNOWN</td></tr><tr><th>description</th><td>Binarized label based on the percentage of inhibition on EGFR L858R_mutant</td></tr><tr><th>user_attributes</th><td><table border=\"1\"><tr><th>thresholds</th><td>Greather than 75</td></tr><tr><th>label_order</th><td>ascending</td></tr><tr><th>ref_col</th><td>EGFR_(L858R_mutant)</td></tr></table></td></tr></table></td></tr><tr><th>CLASS_EGFR</th><td><table border=\"1\"><tr><th>is_pointer</th><td>False</td></tr><tr><th>modality</th><td>UNKNOWN</td></tr><tr><th>description</th><td>Binarized label based on the percentage of inhibition on EGFR L858R_mutant</td></tr><tr><th>user_attributes</th><td><table border=\"1\"><tr><th>thresholds</th><td>Greather than 75</td></tr><tr><th>label_order</th><td>ascending</td></tr><tr><th>ref_col</th><td>EGFR</td></tr></table></td></tr></table></td></tr><tr><th>CLASS_KIT_(T6701_mutant)</th><td><table border=\"1\"><tr><th>is_pointer</th><td>False</td></tr><tr><th>modality</th><td>UNKNOWN</td></tr><tr><th>description</th><td>Binarized label based on the percentage of inhibition on KIT L858R_mutant</td></tr><tr><th>user_attributes</th><td><table border=\"1\"><tr><th>thresholds</th><td>Greather than 75</td></tr><tr><th>label_order</th><td>ascending</td></tr><tr><th>ref_col</th><td>KIT_(T6701_mutant)</td></tr></table></td></tr></table></td></tr><tr><th>CLASS_KIT_(V560G_mutant)</th><td><table border=\"1\"><tr><th>is_pointer</th><td>False</td></tr><tr><th>modality</th><td>UNKNOWN</td></tr><tr><th>description</th><td>Binarized label based on the percentage of inhibition on KIT L858R_mutant</td></tr><tr><th>user_attributes</th><td><table border=\"1\"><tr><th>thresholds</th><td>Greather than 75</td></tr><tr><th>label_order</th><td>ascending</td></tr><tr><th>ref_col</th><td>KIT_(V560G_mutant)</td></tr></table></td></tr></table></td></tr><tr><th>CLASS_KIT</th><td><table border=\"1\"><tr><th>is_pointer</th><td>False</td></tr><tr><th>modality</th><td>UNKNOWN</td></tr><tr><th>description</th><td>Binarized label based on the percentage of inhibition on KIT L858R_mutant</td></tr><tr><th>user_attributes</th><td><table border=\"1\"><tr><th>thresholds</th><td>Greather than 75</td></tr><tr><th>label_order</th><td>ascending</td></tr><tr><th>ref_col</th><td>KIT</td></tr></table></td></tr></table></td></tr><tr><th>CLASS_RET_(V804L_mutant)</th><td><table border=\"1\"><tr><th>is_pointer</th><td>False</td></tr><tr><th>modality</th><td>UNKNOWN</td></tr><tr><th>description</th><td>Binarized label based on the percentage of inhibition on RET L858R_mutant</td></tr><tr><th>user_attributes</th><td><table border=\"1\"><tr><th>thresholds</th><td>Greather than 70</td></tr><tr><th>label_order</th><td>ascending</td></tr><tr><th>ref_col</th><td>RET_(V804L_mutant)</td></tr></table></td></tr></table></td></tr><tr><th>CLASS_RET_(Y791F_mutant)</th><td><table border=\"1\"><tr><th>is_pointer</th><td>False</td></tr><tr><th>modality</th><td>UNKNOWN</td></tr><tr><th>description</th><td>Binarized label based on the percentage of inhibition on RET L858R_mutant</td></tr><tr><th>user_attributes</th><td><table border=\"1\"><tr><th>thresholds</th><td>Greather than 70</td></tr><tr><th>label_order</th><td>ascending</td></tr><tr><th>ref_col</th><td>RET_(Y791F_mutant)</td></tr></table></td></tr></table></td></tr><tr><th>CLASS_RET</th><td><table border=\"1\"><tr><th>is_pointer</th><td>False</td></tr><tr><th>modality</th><td>UNKNOWN</td></tr><tr><th>description</th><td>Binarized label based on the percentage of inhibition on RET L858R_mutant</td></tr><tr><th>user_attributes</th><td><table border=\"1\"><tr><th>thresholds</th><td>Greather than 70</td></tr><tr><th>label_order</th><td>ascending</td></tr><tr><th>ref_col</th><td>RET</td></tr></table></td></tr></table></td></tr></table></td></tr><tr><th>source</th><td>https://pubmed.ncbi.nlm.nih.gov/26501955</td></tr><tr><th>license</th><td>None</td></tr><tr><th>cache_dir</th><td>/Users/lu.zhu/Library/Caches/polaris/datasets/pkis1_egfr_ret_kit_v1/04a60a0f346d017203f97e31f91473b5</td></tr></table>"
      ],
      "text/plain": [
       "{\n",
       "  \"name\": \"pkis1_egfr_ret_kit_v1\",\n",
       "  \"description\": \"A subset of PKIS dataset only including EGFR, RET, KIT kinases. PKIS is a data set of 367 small-molecule ATP-competitive kinase inhibitors that was screened by the set in activity assays with 224 recombinant kinases and 24 G protein-coupled receptors and in cellular assays of cancer cell proliferation and angiogenesis.\",\n",
       "  \"tags\": [\n",
       "    \"Kinase\",\n",
       "    \"HitDiscovery\",\n",
       "    \"Selectivity\"\n",
       "  ],\n",
       "  \"user_attributes\": {},\n",
       "  \"owner\": {\n",
       "    \"slug\": \"polaristest\",\n",
       "    \"organization_id\": \"PolarisTest\",\n",
       "    \"user_id\": null,\n",
       "    \"owner\": \"PolarisTest\"\n",
       "  },\n",
       "  \"md5sum\": \"04a60a0f346d017203f97e31f91473b5\",\n",
       "  \"readme\": \"![molprop](https://storage.googleapis.com/polaris-public/icons/icons8-fox-60-kinases.png)\\n\\n## Backgroud:\\n Kinases play a crucial role in cellular signalling, making them important targets for drug development. Dysregulation of kinases is frequently implicated in diseases like cancer, inflammation, and neurodegenerative disorders. Therefore, targeting kinases with specific drugs has emerged as a crucial strategy in modern drug discovery. Kinase-related task includes inhibition prediction, selectivity prediction, or kinase-ligand binding affinity prediction. In the early release version of Polaris, benchmarks were established for kinases such as EGFR, KIT, and RET, along with their respective mutations, as well as for LOK and SLK.\\n\\n\\n## Description of readout \\n- **Readouts**:\\n    - `EGFR`, `EGFR_(L858R_mutant)`, `EGFR_(L861Q_mutant)`, `EGFR_(T790M_mutant)`, `EGFR_(T790M-L858R_mutant)`\\n    - `KIT`, `KIT_(D816V_mutant)`, `KIT_(T6701_mutant)`, `KIT_(V560G_mutant)`\\n    - `RET`, `RET_(V804L_mutant)`, `RET_(Y791F_mutant)`\\n    - `LOK`\\n- **Bioassay readout**: Percentage of inhibition (%).\\n- **Optimization objective**: Higher potency (higher %inhibition).\\n\\n\\n## Data resource:\\nPKIS 1: A set of 364 unique small-molecule ATP-competitive kinase inhibitors that was screened by the set in activity assays with 224 recombinant kinases and 24 G protein-coupled receptors and in cellular assays of cancer cell proliferation and angiogenesis.\\n\\n**Reference**: https://pubmed.ncbi.nlm.nih.gov/26501955\\n\\n## Data curation\\nTo **maintain consistency** with other benchmarks in the Polaris Hub, a thorough data curation process is carried out to ensure the accuracy of molecular presentations.\\n\\nThe full curation and creation process is documented [here](https://github.com/polaris-hub/polaris-recipes/tree/main/03_Kinases/PKIS1).\\n\\n<!-- ## Related benchmarks -->\",\n",
       "  \"annotations\": {\n",
       "    \"UNIQUE_ID\": {\n",
       "      \"is_pointer\": false,\n",
       "      \"modality\": \"UNKNOWN\",\n",
       "      \"description\": \"Molecular hash ID. See <datamol.mol.hash_mol>\",\n",
       "      \"user_attributes\": {}\n",
       "    },\n",
       "    \"smiles\": {\n",
       "      \"is_pointer\": false,\n",
       "      \"modality\": \"MOLECULE\",\n",
       "      \"description\": \"Molecule SMILES string\",\n",
       "      \"user_attributes\": {}\n",
       "    },\n",
       "    \"EGFR_(L858R_mutant)\": {\n",
       "      \"is_pointer\": false,\n",
       "      \"modality\": \"UNKNOWN\",\n",
       "      \"description\": \"Percentage of inhibition on EGFR with mutation L858R_mutant\",\n",
       "      \"user_attributes\": {\n",
       "        \"unit\": \"%\",\n",
       "        \"concentration\": \"1uM\",\n",
       "        \"organism\": \"Human\",\n",
       "        \"objective\": \"Higher value\",\n",
       "        \"source\": \"PKIS1\",\n",
       "        \"mutation\": \"L858R_mutant\",\n",
       "        \"target\": \"EGFR\"\n",
       "      }\n",
       "    },\n",
       "    \"EGFR\": {\n",
       "      \"is_pointer\": false,\n",
       "      \"modality\": \"UNKNOWN\",\n",
       "      \"description\": \"Percentage of inhibition on EGFR with mutation L858R_mutant\",\n",
       "      \"user_attributes\": {\n",
       "        \"unit\": \"%\",\n",
       "        \"concentration\": \"1uM\",\n",
       "        \"organism\": \"Human\",\n",
       "        \"objective\": \"Higher value\",\n",
       "        \"source\": \"PKIS1\",\n",
       "        \"mutation\": \"L858R_mutant\",\n",
       "        \"target\": \"EGFR\"\n",
       "      }\n",
       "    },\n",
       "    \"KIT_(T6701_mutant)\": {\n",
       "      \"is_pointer\": false,\n",
       "      \"modality\": \"UNKNOWN\",\n",
       "      \"description\": \"Percentage of inhibition on KIT with mutation L858R_mutant\",\n",
       "      \"user_attributes\": {\n",
       "        \"unit\": \"%\",\n",
       "        \"concentration\": \"1uM\",\n",
       "        \"organism\": \"Human\",\n",
       "        \"objective\": \"Higher value\",\n",
       "        \"source\": \"PKIS1\",\n",
       "        \"mutation\": \"L858R_mutant\",\n",
       "        \"target\": \"KIT\"\n",
       "      }\n",
       "    },\n",
       "    \"KIT_(V560G_mutant)\": {\n",
       "      \"is_pointer\": false,\n",
       "      \"modality\": \"UNKNOWN\",\n",
       "      \"description\": \"Percentage of inhibition on KIT with mutation L858R_mutant\",\n",
       "      \"user_attributes\": {\n",
       "        \"unit\": \"%\",\n",
       "        \"concentration\": \"1uM\",\n",
       "        \"organism\": \"Human\",\n",
       "        \"objective\": \"Higher value\",\n",
       "        \"source\": \"PKIS1\",\n",
       "        \"mutation\": \"L858R_mutant\",\n",
       "        \"target\": \"KIT\"\n",
       "      }\n",
       "    },\n",
       "    \"KIT\": {\n",
       "      \"is_pointer\": false,\n",
       "      \"modality\": \"UNKNOWN\",\n",
       "      \"description\": \"Percentage of inhibition on KIT with mutation L858R_mutant\",\n",
       "      \"user_attributes\": {\n",
       "        \"unit\": \"%\",\n",
       "        \"concentration\": \"1uM\",\n",
       "        \"organism\": \"Human\",\n",
       "        \"objective\": \"Higher value\",\n",
       "        \"source\": \"PKIS1\",\n",
       "        \"mutation\": \"L858R_mutant\",\n",
       "        \"target\": \"KIT\"\n",
       "      }\n",
       "    },\n",
       "    \"RET_(V804L_mutant)\": {\n",
       "      \"is_pointer\": false,\n",
       "      \"modality\": \"UNKNOWN\",\n",
       "      \"description\": \"Percentage of inhibition on RET with mutation L858R_mutant\",\n",
       "      \"user_attributes\": {\n",
       "        \"unit\": \"%\",\n",
       "        \"concentration\": \"1uM\",\n",
       "        \"organism\": \"Human\",\n",
       "        \"objective\": \"Higher value\",\n",
       "        \"source\": \"PKIS1\",\n",
       "        \"mutation\": \"L858R_mutant\",\n",
       "        \"target\": \"RET\"\n",
       "      }\n",
       "    },\n",
       "    \"RET_(Y791F_mutant)\": {\n",
       "      \"is_pointer\": false,\n",
       "      \"modality\": \"UNKNOWN\",\n",
       "      \"description\": \"Percentage of inhibition on RET with mutation L858R_mutant\",\n",
       "      \"user_attributes\": {\n",
       "        \"unit\": \"%\",\n",
       "        \"concentration\": \"1uM\",\n",
       "        \"organism\": \"Human\",\n",
       "        \"objective\": \"Higher value\",\n",
       "        \"source\": \"PKIS1\",\n",
       "        \"mutation\": \"L858R_mutant\",\n",
       "        \"target\": \"RET\"\n",
       "      }\n",
       "    },\n",
       "    \"RET\": {\n",
       "      \"is_pointer\": false,\n",
       "      \"modality\": \"UNKNOWN\",\n",
       "      \"description\": \"Percentage of inhibition on RET with mutation L858R_mutant\",\n",
       "      \"user_attributes\": {\n",
       "        \"unit\": \"%\",\n",
       "        \"concentration\": \"1uM\",\n",
       "        \"organism\": \"Human\",\n",
       "        \"objective\": \"Higher value\",\n",
       "        \"source\": \"PKIS1\",\n",
       "        \"mutation\": \"L858R_mutant\",\n",
       "        \"target\": \"RET\"\n",
       "      }\n",
       "    },\n",
       "    \"CLASS_EGFR_(L858R_mutant)\": {\n",
       "      \"is_pointer\": false,\n",
       "      \"modality\": \"UNKNOWN\",\n",
       "      \"description\": \"Binarized label based on the percentage of inhibition on EGFR L858R_mutant\",\n",
       "      \"user_attributes\": {\n",
       "        \"thresholds\": \"Greather than 75\",\n",
       "        \"label_order\": \"ascending\",\n",
       "        \"ref_col\": \"EGFR_(L858R_mutant)\"\n",
       "      }\n",
       "    },\n",
       "    \"CLASS_EGFR\": {\n",
       "      \"is_pointer\": false,\n",
       "      \"modality\": \"UNKNOWN\",\n",
       "      \"description\": \"Binarized label based on the percentage of inhibition on EGFR L858R_mutant\",\n",
       "      \"user_attributes\": {\n",
       "        \"thresholds\": \"Greather than 75\",\n",
       "        \"label_order\": \"ascending\",\n",
       "        \"ref_col\": \"EGFR\"\n",
       "      }\n",
       "    },\n",
       "    \"CLASS_KIT_(T6701_mutant)\": {\n",
       "      \"is_pointer\": false,\n",
       "      \"modality\": \"UNKNOWN\",\n",
       "      \"description\": \"Binarized label based on the percentage of inhibition on KIT L858R_mutant\",\n",
       "      \"user_attributes\": {\n",
       "        \"thresholds\": \"Greather than 75\",\n",
       "        \"label_order\": \"ascending\",\n",
       "        \"ref_col\": \"KIT_(T6701_mutant)\"\n",
       "      }\n",
       "    },\n",
       "    \"CLASS_KIT_(V560G_mutant)\": {\n",
       "      \"is_pointer\": false,\n",
       "      \"modality\": \"UNKNOWN\",\n",
       "      \"description\": \"Binarized label based on the percentage of inhibition on KIT L858R_mutant\",\n",
       "      \"user_attributes\": {\n",
       "        \"thresholds\": \"Greather than 75\",\n",
       "        \"label_order\": \"ascending\",\n",
       "        \"ref_col\": \"KIT_(V560G_mutant)\"\n",
       "      }\n",
       "    },\n",
       "    \"CLASS_KIT\": {\n",
       "      \"is_pointer\": false,\n",
       "      \"modality\": \"UNKNOWN\",\n",
       "      \"description\": \"Binarized label based on the percentage of inhibition on KIT L858R_mutant\",\n",
       "      \"user_attributes\": {\n",
       "        \"thresholds\": \"Greather than 75\",\n",
       "        \"label_order\": \"ascending\",\n",
       "        \"ref_col\": \"KIT\"\n",
       "      }\n",
       "    },\n",
       "    \"CLASS_RET_(V804L_mutant)\": {\n",
       "      \"is_pointer\": false,\n",
       "      \"modality\": \"UNKNOWN\",\n",
       "      \"description\": \"Binarized label based on the percentage of inhibition on RET L858R_mutant\",\n",
       "      \"user_attributes\": {\n",
       "        \"thresholds\": \"Greather than 70\",\n",
       "        \"label_order\": \"ascending\",\n",
       "        \"ref_col\": \"RET_(V804L_mutant)\"\n",
       "      }\n",
       "    },\n",
       "    \"CLASS_RET_(Y791F_mutant)\": {\n",
       "      \"is_pointer\": false,\n",
       "      \"modality\": \"UNKNOWN\",\n",
       "      \"description\": \"Binarized label based on the percentage of inhibition on RET L858R_mutant\",\n",
       "      \"user_attributes\": {\n",
       "        \"thresholds\": \"Greather than 70\",\n",
       "        \"label_order\": \"ascending\",\n",
       "        \"ref_col\": \"RET_(Y791F_mutant)\"\n",
       "      }\n",
       "    },\n",
       "    \"CLASS_RET\": {\n",
       "      \"is_pointer\": false,\n",
       "      \"modality\": \"UNKNOWN\",\n",
       "      \"description\": \"Binarized label based on the percentage of inhibition on RET L858R_mutant\",\n",
       "      \"user_attributes\": {\n",
       "        \"thresholds\": \"Greather than 70\",\n",
       "        \"label_order\": \"ascending\",\n",
       "        \"ref_col\": \"RET\"\n",
       "      }\n",
       "    }\n",
       "  },\n",
       "  \"source\": \"https://pubmed.ncbi.nlm.nih.gov/26501955\",\n",
       "  \"license\": null,\n",
       "  \"cache_dir\": \"/Users/lu.zhu/Library/Caches/polaris/datasets/pkis1_egfr_ret_kit_v1/04a60a0f346d017203f97e31f91473b5\"\n",
       "}"
      ]
     },
     "execution_count": 4,
     "metadata": {},
     "output_type": "execute_result"
    }
   ],
   "source": [
    "dataset"
   ]
  },
  {
   "cell_type": "code",
   "execution_count": 5,
   "id": "c9277b57-24ad-4161-a415-046bec7f79da",
   "metadata": {},
   "outputs": [],
   "source": [
    "data_cols = ['EGFR_(L858R_mutant)', 'EGFR']"
   ]
  },
  {
   "cell_type": "markdown",
   "id": "31d042e7",
   "metadata": {},
   "source": [
    "<a id=\"benchmark\"></a>\n",
    "## Benchmark creation with `Polaris`\n",
    "Creating a benchmark involves setting up a standard dataset, designing the train-validation-test set and defining evaluation metrics which is used to establish baseline performance level. "
   ]
  },
  {
   "cell_type": "code",
   "execution_count": 6,
   "id": "95a1d269-3f7c-4525-9e2f-fad4641800f6",
   "metadata": {},
   "outputs": [
    {
     "data": {
      "text/plain": [
       "'PolarisTest'"
      ]
     },
     "execution_count": 6,
     "metadata": {},
     "output_type": "execute_result"
    }
   ],
   "source": [
    "from polaris.utils.types import HubOwner\n",
    "owner = HubOwner(organizationId=\"PolarisTest\", slug=\"polaristest\")\n",
    "owner.owner"
   ]
  },
  {
   "cell_type": "markdown",
   "id": "9c943733",
   "metadata": {},
   "source": [
    "## Benchmark creation with `Polaris`\n",
    "Creating a benchmark involves setting up a standard dataset, designing the train-validation-test set and defining evaluation metrics which is used to establish baseline performance level. "
   ]
  },
  {
   "cell_type": "code",
   "execution_count": 7,
   "id": "58375981",
   "metadata": {},
   "outputs": [
    {
     "data": {
      "text/plain": [
       "'PolarisTest'"
      ]
     },
     "execution_count": 7,
     "metadata": {},
     "output_type": "execute_result"
    }
   ],
   "source": [
    "from polaris.utils.types import HubOwner\n",
    "owner = HubOwner(organizationId=\"PolarisTest\", slug=\"polaristest\")\n",
    "owner.owner"
   ]
  },
  {
   "cell_type": "markdown",
   "id": "0507c05f-30ed-417d-b437-5d6e55b2dd44",
   "metadata": {},
   "source": [
    "### Create scaffold split for `EGFR & mutants` dataset\n",
    "> **Note:**\n",
    "> Here we use splitting tool `Splito` to split dataset to train and test. \\\n",
    "> [Splito](https://github.com/datamol-io/splito) is a machine learning dataset splitting library for life sciences."
   ]
  },
  {
   "cell_type": "code",
   "execution_count": 8,
   "id": "bce59102-045a-467c-afba-720ac6069eb9",
   "metadata": {},
   "outputs": [],
   "source": [
    "# scaffold split\n",
    "from partitio._scaffold_split import ScaffoldSplit\n",
    "flag = True\n",
    "nums_pos_test = []\n",
    "TEST_SIZE = 0.2\n",
    "SEED = 846\n",
    "splitter = ScaffoldSplit(smiles=dataset.table.smiles.values, n_jobs=-1, test_size=TEST_SIZE, random_state=SEED)\n",
    "scaffold_split = next(splitter.split(X=dataset.table.smiles.values))"
   ]
  },
  {
   "cell_type": "code",
   "execution_count": 9,
   "id": "08a700bd-ebf7-4d10-b12a-06be1243d8bc",
   "metadata": {},
   "outputs": [
    {
     "data": {
      "image/png": "[encoded data removed]",
      "text/plain": [
       "<Figure size 600x500 with 1 Axes>"
      ]
     },
     "metadata": {},
     "output_type": "display_data"
    }
   ],
   "source": [
    "from utils import display_chemspace\n",
    "data_name = \"egfr_wt_l858r_v1\"\n",
    "fig = display_chemspace(dataset.table.copy(), 'smiles', split =scaffold_split, \n",
    "                   split_name=\"scaffold_split\")\n",
    "method = \"tnse\"\n",
    "save_figure(fig,remote_path=f\"{FIGURE_DIR}/{data_name}_{method}_scaffold_split.png\", \n",
    "            local_path=f\"figures/{data_name}_{method}_scaffold_split.png\" )"
   ]
  },
  {
   "cell_type": "markdown",
   "id": "03aa7204-c71f-4b46-9bf0-e4a57e82ff35",
   "metadata": {},
   "source": [
    "## Define multitask benchmarks for EGFR and L858R mutant with scaffold split"
   ]
  },
  {
   "cell_type": "markdown",
   "id": "6a4b3b66-d07a-42a2-8f16-f14beff70e1e",
   "metadata": {},
   "source": [
    "**Regression tasks**"
   ]
  },
  {
   "cell_type": "code",
   "execution_count": 10,
   "id": "92cbff08-8496-4c10-ba2b-b3a4a60f3cb2",
   "metadata": {},
   "outputs": [
    {
     "name": "stdout",
     "output_type": "stream",
     "text": [
      "gs://polaris-public/benchmarks/kinases/egfr/drewry_egfr_wt_l858r_multitask_reg_v1/benchmark.json\n"
     ]
    }
   ],
   "source": [
    "benchmark_name =\"drewry_egfr_wt_l858r_multitask_reg_v1\"\n",
    "BENCHMARK_SAVE_DIR = f\"{BENCHMARK_DIR}/{benchmark_name}\"\n",
    "data_cols = ['EGFR', 'EGFR_(L858R_mutant)']\n",
    "\n",
    "benchmark_reg = MultiTaskBenchmarkSpecification(\n",
    "    name=benchmark_name,\n",
    "    dataset=dataset,\n",
    "    target_cols=data_cols,\n",
    "    input_cols=\"smiles\",\n",
    "    split=scaffold_split,\n",
    "    main_metric=\"mean_squared_error\",\n",
    "    metrics=[\"mean_absolute_error\",\n",
    "            \"mean_squared_error\",\n",
    "            \"r2\",\n",
    "            \"spearmanr\",\n",
    "            \"pearsonr\",\n",
    "            \"explained_var\"],\n",
    "    tags=['Kinase', 'HitDiscovery', 'Selectivity','Regression'], \n",
    "    description=\"A multitask regression benchmark for kinase EGFR wild type and L858R mutant.\",\n",
    "    owner=owner, \n",
    "    readme= load_readme(f\"gs://polaris-public/readme/benchmarks/{benchmark_name}_readme.md\")\n",
    ")\n",
    "path = benchmark_reg.to_json(BENCHMARK_SAVE_DIR)\n",
    "print(path)"
   ]
  },
  {
   "cell_type": "markdown",
   "id": "fb3f4b16-b074-4efb-9805-62a025a37c10",
   "metadata": {},
   "source": [
    "**Classification task**"
   ]
  },
  {
   "cell_type": "code",
   "execution_count": 11,
   "id": "ea6e1551-986b-4dd2-8cf4-f9f06d9e018b",
   "metadata": {},
   "outputs": [
    {
     "name": "stdout",
     "output_type": "stream",
     "text": [
      "gs://polaris-public/benchmarks/kinases/egfr/drewry_egfr_wt_l858r_multitask_clf_v1/benchmark.json\n"
     ]
    }
   ],
   "source": [
    "data_cols = ['CLASS_EGFR', 'CLASS_EGFR_(L858R_mutant)']\n",
    "benchmark_name =\"drewry_egfr_wt_l858r_multitask_clf_v1\"\n",
    "BENCHMARK_SAVE_DIR = f\"{BENCHMARK_DIR}/{benchmark_name}\"\n",
    "\n",
    "benchmark_clf = MultiTaskBenchmarkSpecification(\n",
    "    name=benchmark_name,\n",
    "    dataset=dataset,\n",
    "    target_cols=data_cols,\n",
    "    input_cols=\"smiles\",\n",
    "    split=scaffold_split,\n",
    "    main_metric=\"f1_macro\",\n",
    "    metrics=[\"accuracy\", \"f1_macro\", \"roc_auc\", \"pr_auc\", \"mcc\", \"cohen_kappa\"],\n",
    "    tags=['Kinase', 'HitDiscovery', 'Selectivity', 'Classification'],\n",
    "    description=\"A multitask classification benchmark for kinase EGFR wild type and L858R mutant.\",\n",
    "    owner=owner, \n",
    "    readme= load_readme(f\"gs://polaris-public/readme/benchmarks/{benchmark_name}_readme.md\")\n",
    ")\n",
    "path = benchmark_clf.to_json(BENCHMARK_SAVE_DIR)\n",
    "print(path)"
   ]
  },
  {
   "cell_type": "code",
   "execution_count": null,
   "id": "27f6d81b-3639-4735-a07e-503e2eeb2e0b",
   "metadata": {},
   "outputs": [],
   "source": []
  },
  {
   "cell_type": "code",
   "execution_count": null,
   "id": "e7e8f500-910b-4431-954c-478d24392356",
   "metadata": {},
   "outputs": [],
   "source": []
  }
 ],
 "metadata": {
  "kernelspec": {
   "display_name": "Python 3 (ipykernel)",
   "language": "python",
   "name": "python3"
  },
  "language_info": {
   "codemirror_mode": {
    "name": "ipython",
    "version": 3
   },
   "file_extension": ".py",
   "mimetype": "text/x-python",
   "name": "python",
   "nbconvert_exporter": "python",
   "pygments_lexer": "ipython3",
   "version": "3.11.5"
  }
 },
 "nbformat": 4,
 "nbformat_minor": 5
}
