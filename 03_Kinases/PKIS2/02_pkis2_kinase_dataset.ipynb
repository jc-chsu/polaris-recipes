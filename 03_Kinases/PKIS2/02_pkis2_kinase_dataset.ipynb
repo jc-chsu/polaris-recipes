{
 "cells": [
  {
   "cell_type": "markdown",
   "id": "2b798393-db49-47fe-ab32-b2bdbc4fccda",
   "metadata": {},
   "source": [
    "# PKIS 2 Dataset creation"
   ]
  },
  {
   "cell_type": "code",
   "execution_count": 1,
   "id": "bdfe05d8-7f95-4d14-87c8-c1963683a0e3",
   "metadata": {},
   "outputs": [],
   "source": [
    "%load_ext autoreload\n",
    "%autoreload 2\n",
    "import os\n",
    "import datamol as dm\n",
    "import pandas as pd\n",
    "from polaris import curation\n",
    "import numpy as np\n",
    "import umap\n",
    "import re\n",
    "import seaborn as sns\n",
    "from matplotlib import pyplot as plt\n",
    "import seaborn as sns\n",
    "import os\n",
    "import pathlib\n",
    "\n",
    "os.chdir(pathlib.Path(\"__file__\").absolute().parents[2])\n",
    "from polaris.curation._chemistry_curator import UNIQUE_ID\n",
    "from polaris.dataset import ColumnAnnotation, Dataset\n",
    "from utils import load_readme\n",
    "\n",
    "import warnings\n",
    "\n",
    "warnings.filterwarnings(\"ignore\")"
   ]
  },
  {
   "cell_type": "code",
   "execution_count": 3,
   "id": "a9ca76d9-9b4b-49a0-951e-2e31e43a8222",
   "metadata": {},
   "outputs": [
    {
     "data": {
      "text/plain": [
       "HubOwner(slug='polaristest', external_id=None, type=None)"
      ]
     },
     "execution_count": 3,
     "metadata": {},
     "output_type": "execute_result"
    }
   ],
   "source": [
    "from polaris.utils.types import HubOwner\n",
    "\n",
    "owner = HubOwner(organizationId=\"PolarisTest\", slug=\"polaristest\")\n",
    "owner"
   ]
  },
  {
   "cell_type": "code",
   "execution_count": 4,
   "id": "cb3c1424-8fc9-4908-ac7d-fd93d663f525",
   "metadata": {},
   "outputs": [],
   "source": [
    "DATASET_DIR = \"gs://polaris-public/datasets/kinases/pkis2_subset_curated\""
   ]
  },
  {
   "cell_type": "markdown",
   "id": "8d41a8e8-e7ad-4678-9444-231823462fbe",
   "metadata": {},
   "source": [
    "### Create Dataset"
   ]
  },
  {
   "cell_type": "code",
   "execution_count": 5,
   "id": "ee8fbe6a-5354-4c7b-84cc-dd2cb389750a",
   "metadata": {},
   "outputs": [],
   "source": [
    "path = \"gs://polaris-public/data/Kinases/pkis2_subset_curated_v1.parquet\"\n",
    "\n",
    "table = pd.read_parquet(path)\n",
    "table.rename(columns={UNIQUE_ID: \"UNIQUE_ID\"}, inplace=True)"
   ]
  },
  {
   "cell_type": "code",
   "execution_count": 6,
   "id": "e59cb5c5-0a52-47ed-8afb-812bb786157b",
   "metadata": {},
   "outputs": [],
   "source": [
    "data_cols = [\"EGFR\", \"KIT\", \"LOK\", \"RET\", \"SLK\"]\n",
    "threshold = 80"
   ]
  },
  {
   "cell_type": "code",
   "execution_count": 7,
   "id": "f92c0ab5-dd41-44a9-a1b9-912da38133ff",
   "metadata": {},
   "outputs": [],
   "source": [
    "mutant_anno = {}\n",
    "mutant_cls_anno = {}\n",
    "\n",
    "for col in data_cols:\n",
    "    tar = col.split(\"_\")[0]\n",
    "    mut_var = re.findall(r\"_\\((\\S+)\\)\", data_cols[0])\n",
    "    mut_var = None if len(mut_var) == 0 else mut_var[0]\n",
    "    if mut_var is None:\n",
    "        anno = ColumnAnnotation(\n",
    "            description=f\"Percentage of inhibition on {tar} wide type\",\n",
    "            user_attributes={\n",
    "                \"unit\": \"%\",\n",
    "                \"concentration\": \"1uM\",\n",
    "                \"organism\": \"Human\",\n",
    "                \"objective\": \"Higher value\",\n",
    "                \"source\": \"PKIS2\",\n",
    "                \"mutation\": \"None\",\n",
    "                \"target\": tar,\n",
    "            },\n",
    "        )\n",
    "        cls_anno = ColumnAnnotation(\n",
    "            description=f\"Binarized label based on the percentage of inhibition on {tar} wide type\",\n",
    "            user_attributes={\n",
    "                \"thresholds\": f\"Greather than {threshold}\",\n",
    "                \"label_order\": \"ascending\",\n",
    "                \"ref_col\": col,\n",
    "            },\n",
    "        )\n",
    "    else:\n",
    "        anno = ColumnAnnotation(\n",
    "            description=f\"Percentage of inhibition on {tar} with mutation {mut_var}\",\n",
    "            user_attributes={\n",
    "                \"unit\": \"%\",\n",
    "                \"concentration\": \"1uM\",\n",
    "                \"organism\": \"Human\",\n",
    "                \"objective\": \"Higher value\",\n",
    "                \"source\": \"PKIS2\",\n",
    "                \"mutation\": mut_var,\n",
    "                \"target\": tar,\n",
    "            },\n",
    "        )\n",
    "\n",
    "        cls_anno = ColumnAnnotation(\n",
    "            protocol=f\"Binarized label based on the percentage of inhibition on {tar} {mut_var}\",\n",
    "            user_attributes={\n",
    "                \"thresholds\": f\"Greather than {threshold}\",\n",
    "                \"label_order\": \"ascending\",\n",
    "                \"ref_col\": col,\n",
    "            },\n",
    "        )\n",
    "    mutant_anno[col] = anno\n",
    "    mutant_cls_anno[f\"CLASS_{col}\"] = cls_anno"
   ]
  },
  {
   "cell_type": "code",
   "execution_count": 8,
   "id": "9101750d-068e-408c-993d-5411886246e1",
   "metadata": {},
   "outputs": [],
   "source": [
    "pkis2_annotations = {\n",
    "    # Molecule identifiers\n",
    "    \"UNIQUE_ID\": ColumnAnnotation(\n",
    "        description=\"Molecular hash ID. See <datamol.mol.hash_mol>\"\n",
    "    ),\n",
    "    \"smiles\": ColumnAnnotation(\n",
    "        description=\"Molecule SMILES string\", modality=\"molecule\"\n",
    "    ),\n",
    "    **mutant_anno,\n",
    "    **mutant_cls_anno,\n",
    "}"
   ]
  },
  {
   "cell_type": "code",
   "execution_count": 10,
   "id": "65926a63-1caa-4040-bd25-86259ae60942",
   "metadata": {},
   "outputs": [],
   "source": [
    "dataset_name = \"kinase-pkis2-1\"\n",
    "readme_name = \"pkis2_egfr_ret_kit_lok_slk_v1\"\n",
    "dataset = Dataset(\n",
    "    table=table[pkis2_annotations.keys()],\n",
    "    name=dataset_name,\n",
    "    description=f\"A subset of PKIS 2 dataset only including EGFR, RET, KIT, LOK and SLK kinases. Profile of kinases PKIS2 which contains 640 small molecule for 468 kinases.\",\n",
    "    source=\" https://www.ncbi.nlm.nih.gov/pubmed/28767711\",\n",
    "    annotations=pkis2_annotations,\n",
    "    owner=owner,\n",
    "    tags=[\"Kinase\", \"HitDiscovery\", \"Selectivity\"],\n",
    "    readme=load_readme(f\"gs://polaris-public/readme/datasets/{readme_name}_readme.md\"),\n",
    ")"
   ]
  },
  {
   "cell_type": "code",
   "execution_count": 11,
   "id": "a64af011-e010-413a-b3ba-be8f6465fe92",
   "metadata": {},
   "outputs": [
    {
     "data": {
      "text/plain": [
       "'gs://polaris-public/datasets/kinases/pkis2_subset_curated/kinase-pkis2-1/dataset.json'"
      ]
     },
     "execution_count": 11,
     "metadata": {},
     "output_type": "execute_result"
    }
   ],
   "source": [
    "# save the dataset\n",
    "SAVE_DIR = f\"{DATASET_DIR}/{dataset_name}\"\n",
    "dataset.to_json(SAVE_DIR)"
   ]
  },
  {
   "cell_type": "code",
   "execution_count": null,
   "id": "d0cdbd6a-158b-40bd-9743-d7dd9efda250",
   "metadata": {},
   "outputs": [],
   "source": []
  }
 ],
 "metadata": {
  "kernelspec": {
   "display_name": "Python 3 (ipykernel)",
   "language": "python",
   "name": "python3"
  },
  "language_info": {
   "codemirror_mode": {
    "name": "ipython",
    "version": 3
   },
   "file_extension": ".py",
   "mimetype": "text/x-python",
   "name": "python",
   "nbconvert_exporter": "python",
   "pygments_lexer": "ipython3",
   "version": "3.11.5"
  }
 },
 "nbformat": 4,
 "nbformat_minor": 5
}
