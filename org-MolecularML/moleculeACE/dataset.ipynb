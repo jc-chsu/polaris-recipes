{
 "cells": [
  {
   "cell_type": "markdown",
   "metadata": {},
   "source": [
    "## This notebook is for dataset and benchmark creation for MoleculeACE benchmarks "
   ]
  },
  {
   "cell_type": "code",
   "execution_count": null,
   "metadata": {},
   "outputs": [],
   "source": [
    "%load_ext autoreload\n",
    "%autoreload 2\n",
    "\n",
    "import os\n",
    "import sys\n",
    "import pathlib\n",
    "\n",
    "import pandas as pd\n",
    "import datamol as dm\n",
    "\n",
    "from polaris.dataset import Dataset, ColumnAnnotation\n",
    "from polaris.benchmark import SingleTaskBenchmarkSpecification\n",
    "from polaris.utils.types import HubOwner\n",
    "\n",
    "\n",
    "root = pathlib.Path(\"__file__\").absolute().parents[2]\n",
    "# set to recipe root directory\n",
    "os.chdir(root)\n",
    "sys.path.insert(0, str(root))\n",
    "\n",
    "from utils.docs_utils import load_readme\n"
   ]
  },
  {
   "cell_type": "code",
   "execution_count": 2,
   "metadata": {},
   "outputs": [
    {
     "data": {
      "text/plain": [
       "HubOwner(slug='molecularml', external_id=None, type='organization')"
      ]
     },
     "execution_count": 2,
     "metadata": {},
     "output_type": "execute_result"
    }
   ],
   "source": [
    "# Get the owner and organization\n",
    "org = \"MolecularML\"\n",
    "\n",
    "owner = HubOwner(slug=org.lower(), type=\"organization\")\n",
    "owner"
   ]
  },
  {
   "cell_type": "code",
   "execution_count": 3,
   "metadata": {},
   "outputs": [],
   "source": [
    "tags = [\"Activity Cliff\", \"QSAR\"]\n",
    "source = \"https://pubs.acs.org/doi/10.1021/acs.jcim.2c01073\"\n",
    "target_col = \"y\"\n",
    "task = \"regression\"\n",
    "mol_col = \"smiles\""
   ]
  },
  {
   "cell_type": "code",
   "execution_count": 4,
   "metadata": {},
   "outputs": [],
   "source": [
    "mapping = {\n",
    "    \"CHEMBL1862\": \"Tyrosine protein kinase Abl family\",\n",
    "    \"CHEMBL1871\": \"Nuclear hormone receptor subfamily 3 group C member 4\",\n",
    "    \"CHEMBL2034\": \"Nuclear hormone receptor subfamily 3 group C member 1\",\n",
    "    \"CHEMBL2047\": \"Nuclear hormone receptor subfamily 1 group H member 4\",\n",
    "    \"CHEMBL204\": \"Serine protease S1A subfamily\",\n",
    "    \"CHEMBL2147\": \"CAMK protein kinase PIM family\",\n",
    "    \"CHEMBL214\": \"Serotonin receptor\",\n",
    "    \"CHEMBL218\": \"Cannabinoid receptor\",\n",
    "    \"CHEMBL219\": \"Dopamine receptor\",\n",
    "    \"CHEMBL228\": \"SLC06 neurotransmitter transporter family\",\n",
    "    \"CHEMBL231\": \"Histamine receptor\",\n",
    "    \"CHEMBL233\": \"Opioid receptor\",\n",
    "    \"CHEMBL234\": \"Dopamine receptor\",\n",
    "    \"CHEMBL235\": \"Nuclear hormone receptor subfamily 1 group C member 3\",\n",
    "    \"CHEMBL236\": \"Opioid receptor\",\n",
    "    \"CHEMBL237\": \"Opioid receptor\",\n",
    "    \"CHEMBL238\": \"SLC06 neurotransmitter transporter family\",\n",
    "    \"CHEMBL239\": \"Nuclear hormone receptor subfamily 1 group C member 1\",\n",
    "    \"CHEMBL244\": \"Serine protease S1A subfamily\",\n",
    "    \"CHEMBL262\": \"CMGC protein kinase GSK family\",\n",
    "    \"CHEMBL264\": \"Histamine receptor\",\n",
    "    \"CHEMBL2835\": \"Tyrosine protein kinase JakA family\",\n",
    "    \"CHEMBL287\": \"Membrane receptor\",\n",
    "    \"CHEMBL2971\": \"Tyrosine protein kinase JakA family\",\n",
    "    \"CHEMBL3979\": \"Nuclear hormone receptor subfamily 1 group C member 2\",\n",
    "    \"CHEMBL4005\": \"Transferase\",\n",
    "    \"CHEMBL4203\": \"CMGC protein kinase CLK family\",\n",
    "    \"CHEMBL4616\": \"GRP-related receptor\",\n",
    "    \"CHEMBL4792\": \"Orexin receptor\",\n",
    "}\n",
    "\n",
    "readout_map = {\"Ki\": \"Inhibition [Inhibitory Constant, Ki]\" ,\n",
    "               \"EC50\": \"Agonism [Half-Maximal Effective Concentration, EC50]\"}"
   ]
  },
  {
   "cell_type": "code",
   "execution_count": 15,
   "metadata": {},
   "outputs": [],
   "source": [
    "# create readme files\n",
    "for path in dm.fs.glob(\n",
    "    f\"org-MolecularML/moleculeACE/benchmark_data/*.csv\"\n",
    "):\n",
    "    table = dm.read_csv(path)\n",
    "    name = pathlib.Path(path).stem\n",
    "    chembl_id, readout = name.split(\"_\")\n",
    "    target_name = mapping[chembl_id]\n",
    "    dataset_name = f\"moleculeace_{name}\"\n",
    "    benchmark_name = dataset_name\n",
    "    chembl_id, readout = name.split(\"_\")\n",
    "\n",
    "    readout_desc = readout_map[readout]\n",
    "    readme = f'## Background\\nThis dataset comprises collected and curated bioactivity data for the target {target_name} from ChEMBL assay {chembl_id}, utilized to evaluate the performance of various machine learning algorithms on activity cliffs. We employed classical machine learning methods combined with common molecular descriptors, as well as neural networks based on unstructured molecular data such as molecular graphs or SMILES strings.\\n\\nActivity cliffs are molecules with small differences in structure but large differences in potency. Activity cliffs play an important role in drug discovery, but the bioactivity of activity cliff compounds are notoriously difficult to predict.\\n\\n## Description of readouts\\n- `exp_mean [nM]`: {readout_desc}\\n- `y`: Negative of log transform of the bioactivity value.\\n- `split`: Train-test split based on activity cliff.\\n\\n## Data resource:\\n- [Exposing the Limitations of Molecular Machine Learning with Activity Cliffs\\n](https://pubs.acs.org/doi/10.1021/acs.jcim.2c01073)\\n- Github: https://github.com/molML/MoleculeACE'\n",
    "    \n",
    "    path = f\"org-MolecularML/moleculeACE/docs/{dataset_name}_readme.md\"\n",
    "    with dm.fs.fsspec.open(path, \"w\") as f:\n",
    "        f.write(readme)\n",
    "    "
   ]
  },
  {
   "cell_type": "code",
   "execution_count": 16,
   "metadata": {},
   "outputs": [
    {
     "name": "stdout",
     "output_type": "stream",
     "text": [
      "moleculeace_CHEMBL1862_Ki\n",
      "⠋ Uploading dataset..."
     ]
    },
    {
     "name": "stderr",
     "output_type": "stream",
     "text": [
      "\u001b[32m2024-07-24 12:03:06.716\u001b[0m | \u001b[1mINFO    \u001b[0m | \u001b[36mpolaris._mixins\u001b[0m:\u001b[36mmd5sum\u001b[0m:\u001b[36m27\u001b[0m - \u001b[1mComputing the checksum. This can be slow for large datasets.\u001b[0m\n"
     ]
    },
    {
     "name": "stdout",
     "output_type": "stream",
     "text": [
      "✅ SUCCESS: \u001b[1mYour dataset has been successfully uploaded to the Hub. View it here: https://polarishub.io/datasets/molecularml/moleculeace_CHEMBL1862_Ki\u001b[0m\n",
      " \n",
      "⠋ Uploading benchmark..."
     ]
    },
    {
     "name": "stderr",
     "output_type": "stream",
     "text": [
      "/mnt/ps/home/CORP/lu.zhu/miniconda3/envs/po_datasets/lib/python3.12/site-packages/yaspin/core.py:228: UserWarning: color, on_color and attrs are not supported when running in jupyter\n",
      "  self._color = self._set_color(value) if value else value\n",
      "\u001b[32m2024-07-24 12:03:07.926\u001b[0m | \u001b[1mINFO    \u001b[0m | \u001b[36mpolaris._mixins\u001b[0m:\u001b[36mmd5sum\u001b[0m:\u001b[36m27\u001b[0m - \u001b[1mComputing the checksum. This can be slow for large datasets.\u001b[0m\n"
     ]
    },
    {
     "name": "stdout",
     "output_type": "stream",
     "text": [
      "✅ SUCCESS: \u001b[1mYour benchmark has been successfully uploaded to the Hub. View it here: https://polarishub.io/benchmarks/molecularml/moleculeace_CHEMBL1862_Ki\u001b[0m\n",
      " \n",
      "moleculeace_CHEMBL1871_Ki\n",
      "⠋ Uploading dataset..."
     ]
    },
    {
     "name": "stderr",
     "output_type": "stream",
     "text": [
      "/mnt/ps/home/CORP/lu.zhu/miniconda3/envs/po_datasets/lib/python3.12/site-packages/yaspin/core.py:228: UserWarning: color, on_color and attrs are not supported when running in jupyter\n",
      "  self._color = self._set_color(value) if value else value\n",
      "\u001b[32m2024-07-24 12:03:08.303\u001b[0m | \u001b[1mINFO    \u001b[0m | \u001b[36mpolaris._mixins\u001b[0m:\u001b[36mmd5sum\u001b[0m:\u001b[36m27\u001b[0m - \u001b[1mComputing the checksum. This can be slow for large datasets.\u001b[0m\n"
     ]
    },
    {
     "name": "stdout",
     "output_type": "stream",
     "text": [
      "✅ SUCCESS: \u001b[1mYour dataset has been successfully uploaded to the Hub. View it here: https://polarishub.io/datasets/molecularml/moleculeace_CHEMBL1871_Ki\u001b[0m\n",
      " \n",
      "⠋ Uploading benchmark..."
     ]
    },
    {
     "name": "stderr",
     "output_type": "stream",
     "text": [
      "/mnt/ps/home/CORP/lu.zhu/miniconda3/envs/po_datasets/lib/python3.12/site-packages/yaspin/core.py:228: UserWarning: color, on_color and attrs are not supported when running in jupyter\n",
      "  self._color = self._set_color(value) if value else value\n",
      "\u001b[32m2024-07-24 12:03:09.380\u001b[0m | \u001b[1mINFO    \u001b[0m | \u001b[36mpolaris._mixins\u001b[0m:\u001b[36mmd5sum\u001b[0m:\u001b[36m27\u001b[0m - \u001b[1mComputing the checksum. This can be slow for large datasets.\u001b[0m\n"
     ]
    },
    {
     "name": "stdout",
     "output_type": "stream",
     "text": [
      "✅ SUCCESS: \u001b[1mYour benchmark has been successfully uploaded to the Hub. View it here: https://polarishub.io/benchmarks/molecularml/moleculeace_CHEMBL1871_Ki\u001b[0m\n",
      " \n",
      "moleculeace_CHEMBL2034_Ki\n",
      "⠋ Uploading dataset..."
     ]
    },
    {
     "name": "stderr",
     "output_type": "stream",
     "text": [
      "/mnt/ps/home/CORP/lu.zhu/miniconda3/envs/po_datasets/lib/python3.12/site-packages/yaspin/core.py:228: UserWarning: color, on_color and attrs are not supported when running in jupyter\n",
      "  self._color = self._set_color(value) if value else value\n",
      "\u001b[32m2024-07-24 12:03:09.748\u001b[0m | \u001b[1mINFO    \u001b[0m | \u001b[36mpolaris._mixins\u001b[0m:\u001b[36mmd5sum\u001b[0m:\u001b[36m27\u001b[0m - \u001b[1mComputing the checksum. This can be slow for large datasets.\u001b[0m\n"
     ]
    },
    {
     "name": "stdout",
     "output_type": "stream",
     "text": [
      "✅ SUCCESS: \u001b[1mYour dataset has been successfully uploaded to the Hub. View it here: https://polarishub.io/datasets/molecularml/moleculeace_CHEMBL2034_Ki\u001b[0m\n",
      " \n",
      "⠋ Uploading benchmark..."
     ]
    },
    {
     "name": "stderr",
     "output_type": "stream",
     "text": [
      "/mnt/ps/home/CORP/lu.zhu/miniconda3/envs/po_datasets/lib/python3.12/site-packages/yaspin/core.py:228: UserWarning: color, on_color and attrs are not supported when running in jupyter\n",
      "  self._color = self._set_color(value) if value else value\n",
      "\u001b[32m2024-07-24 12:03:10.883\u001b[0m | \u001b[1mINFO    \u001b[0m | \u001b[36mpolaris._mixins\u001b[0m:\u001b[36mmd5sum\u001b[0m:\u001b[36m27\u001b[0m - \u001b[1mComputing the checksum. This can be slow for large datasets.\u001b[0m\n"
     ]
    },
    {
     "name": "stdout",
     "output_type": "stream",
     "text": [
      "✅ SUCCESS: \u001b[1mYour benchmark has been successfully uploaded to the Hub. View it here: https://polarishub.io/benchmarks/molecularml/moleculeace_CHEMBL2034_Ki\u001b[0m\n",
      " \n",
      "moleculeace_CHEMBL2047_EC50\n",
      "⠋ Uploading dataset..."
     ]
    },
    {
     "name": "stderr",
     "output_type": "stream",
     "text": [
      "/mnt/ps/home/CORP/lu.zhu/miniconda3/envs/po_datasets/lib/python3.12/site-packages/yaspin/core.py:228: UserWarning: color, on_color and attrs are not supported when running in jupyter\n",
      "  self._color = self._set_color(value) if value else value\n",
      "\u001b[32m2024-07-24 12:03:11.241\u001b[0m | \u001b[1mINFO    \u001b[0m | \u001b[36mpolaris._mixins\u001b[0m:\u001b[36mmd5sum\u001b[0m:\u001b[36m27\u001b[0m - \u001b[1mComputing the checksum. This can be slow for large datasets.\u001b[0m\n"
     ]
    },
    {
     "name": "stdout",
     "output_type": "stream",
     "text": [
      "✅ SUCCESS: \u001b[1mYour dataset has been successfully uploaded to the Hub. View it here: https://polarishub.io/datasets/molecularml/moleculeace_CHEMBL2047_EC50\u001b[0m\n",
      " \n",
      "⠋ Uploading benchmark..."
     ]
    },
    {
     "name": "stderr",
     "output_type": "stream",
     "text": [
      "/mnt/ps/home/CORP/lu.zhu/miniconda3/envs/po_datasets/lib/python3.12/site-packages/yaspin/core.py:228: UserWarning: color, on_color and attrs are not supported when running in jupyter\n",
      "  self._color = self._set_color(value) if value else value\n",
      "\u001b[32m2024-07-24 12:03:12.359\u001b[0m | \u001b[1mINFO    \u001b[0m | \u001b[36mpolaris._mixins\u001b[0m:\u001b[36mmd5sum\u001b[0m:\u001b[36m27\u001b[0m - \u001b[1mComputing the checksum. This can be slow for large datasets.\u001b[0m\n"
     ]
    },
    {
     "name": "stdout",
     "output_type": "stream",
     "text": [
      "✅ SUCCESS: \u001b[1mYour benchmark has been successfully uploaded to the Hub. View it here: https://polarishub.io/benchmarks/molecularml/moleculeace_CHEMBL2047_EC50\u001b[0m\n",
      " \n",
      "moleculeace_CHEMBL204_Ki\n",
      "⠋ Uploading dataset..."
     ]
    },
    {
     "name": "stderr",
     "output_type": "stream",
     "text": [
      "/mnt/ps/home/CORP/lu.zhu/miniconda3/envs/po_datasets/lib/python3.12/site-packages/yaspin/core.py:228: UserWarning: color, on_color and attrs are not supported when running in jupyter\n",
      "  self._color = self._set_color(value) if value else value\n",
      "\u001b[32m2024-07-24 12:03:12.750\u001b[0m | \u001b[1mINFO    \u001b[0m | \u001b[36mpolaris._mixins\u001b[0m:\u001b[36mmd5sum\u001b[0m:\u001b[36m27\u001b[0m - \u001b[1mComputing the checksum. This can be slow for large datasets.\u001b[0m\n"
     ]
    },
    {
     "name": "stdout",
     "output_type": "stream",
     "text": [
      "✅ SUCCESS: \u001b[1mYour dataset has been successfully uploaded to the Hub. View it here: https://polarishub.io/datasets/molecularml/moleculeace_CHEMBL204_Ki\u001b[0m\n",
      " \n",
      "⠋ Uploading benchmark..."
     ]
    },
    {
     "name": "stderr",
     "output_type": "stream",
     "text": [
      "/mnt/ps/home/CORP/lu.zhu/miniconda3/envs/po_datasets/lib/python3.12/site-packages/yaspin/core.py:228: UserWarning: color, on_color and attrs are not supported when running in jupyter\n",
      "  self._color = self._set_color(value) if value else value\n",
      "\u001b[32m2024-07-24 12:03:13.811\u001b[0m | \u001b[1mINFO    \u001b[0m | \u001b[36mpolaris._mixins\u001b[0m:\u001b[36mmd5sum\u001b[0m:\u001b[36m27\u001b[0m - \u001b[1mComputing the checksum. This can be slow for large datasets.\u001b[0m\n"
     ]
    },
    {
     "name": "stdout",
     "output_type": "stream",
     "text": [
      "✅ SUCCESS: \u001b[1mYour benchmark has been successfully uploaded to the Hub. View it here: https://polarishub.io/benchmarks/molecularml/moleculeace_CHEMBL204_Ki\u001b[0m\n",
      " \n",
      "moleculeace_CHEMBL2147_Ki\n",
      "⠋ Uploading dataset..."
     ]
    },
    {
     "name": "stderr",
     "output_type": "stream",
     "text": [
      "/mnt/ps/home/CORP/lu.zhu/miniconda3/envs/po_datasets/lib/python3.12/site-packages/yaspin/core.py:228: UserWarning: color, on_color and attrs are not supported when running in jupyter\n",
      "  self._color = self._set_color(value) if value else value\n",
      "\u001b[32m2024-07-24 12:03:14.240\u001b[0m | \u001b[1mINFO    \u001b[0m | \u001b[36mpolaris._mixins\u001b[0m:\u001b[36mmd5sum\u001b[0m:\u001b[36m27\u001b[0m - \u001b[1mComputing the checksum. This can be slow for large datasets.\u001b[0m\n"
     ]
    },
    {
     "name": "stdout",
     "output_type": "stream",
     "text": [
      "✅ SUCCESS: \u001b[1mYour dataset has been successfully uploaded to the Hub. View it here: https://polarishub.io/datasets/molecularml/moleculeace_CHEMBL2147_Ki\u001b[0m\n",
      " \n",
      "⠋ Uploading benchmark..."
     ]
    },
    {
     "name": "stderr",
     "output_type": "stream",
     "text": [
      "/mnt/ps/home/CORP/lu.zhu/miniconda3/envs/po_datasets/lib/python3.12/site-packages/yaspin/core.py:228: UserWarning: color, on_color and attrs are not supported when running in jupyter\n",
      "  self._color = self._set_color(value) if value else value\n",
      "\u001b[32m2024-07-24 12:03:15.345\u001b[0m | \u001b[1mINFO    \u001b[0m | \u001b[36mpolaris._mixins\u001b[0m:\u001b[36mmd5sum\u001b[0m:\u001b[36m27\u001b[0m - \u001b[1mComputing the checksum. This can be slow for large datasets.\u001b[0m\n"
     ]
    },
    {
     "name": "stdout",
     "output_type": "stream",
     "text": [
      "✅ SUCCESS: \u001b[1mYour benchmark has been successfully uploaded to the Hub. View it here: https://polarishub.io/benchmarks/molecularml/moleculeace_CHEMBL2147_Ki\u001b[0m\n",
      " \n",
      "moleculeace_CHEMBL214_Ki\n",
      "⠋ Uploading dataset..."
     ]
    },
    {
     "name": "stderr",
     "output_type": "stream",
     "text": [
      "/mnt/ps/home/CORP/lu.zhu/miniconda3/envs/po_datasets/lib/python3.12/site-packages/yaspin/core.py:228: UserWarning: color, on_color and attrs are not supported when running in jupyter\n",
      "  self._color = self._set_color(value) if value else value\n",
      "\u001b[32m2024-07-24 12:03:15.766\u001b[0m | \u001b[1mINFO    \u001b[0m | \u001b[36mpolaris._mixins\u001b[0m:\u001b[36mmd5sum\u001b[0m:\u001b[36m27\u001b[0m - \u001b[1mComputing the checksum. This can be slow for large datasets.\u001b[0m\n"
     ]
    },
    {
     "name": "stdout",
     "output_type": "stream",
     "text": [
      "✅ SUCCESS: \u001b[1mYour dataset has been successfully uploaded to the Hub. View it here: https://polarishub.io/datasets/molecularml/moleculeace_CHEMBL214_Ki\u001b[0m\n",
      " \n",
      "⠋ Uploading benchmark..."
     ]
    },
    {
     "name": "stderr",
     "output_type": "stream",
     "text": [
      "/mnt/ps/home/CORP/lu.zhu/miniconda3/envs/po_datasets/lib/python3.12/site-packages/yaspin/core.py:228: UserWarning: color, on_color and attrs are not supported when running in jupyter\n",
      "  self._color = self._set_color(value) if value else value\n",
      "\u001b[32m2024-07-24 12:03:16.938\u001b[0m | \u001b[1mINFO    \u001b[0m | \u001b[36mpolaris._mixins\u001b[0m:\u001b[36mmd5sum\u001b[0m:\u001b[36m27\u001b[0m - \u001b[1mComputing the checksum. This can be slow for large datasets.\u001b[0m\n"
     ]
    },
    {
     "name": "stdout",
     "output_type": "stream",
     "text": [
      "✅ SUCCESS: \u001b[1mYour benchmark has been successfully uploaded to the Hub. View it here: https://polarishub.io/benchmarks/molecularml/moleculeace_CHEMBL214_Ki\u001b[0m\n",
      " \n",
      "moleculeace_CHEMBL218_EC50\n",
      "⠋ Uploading dataset..."
     ]
    },
    {
     "name": "stderr",
     "output_type": "stream",
     "text": [
      "/mnt/ps/home/CORP/lu.zhu/miniconda3/envs/po_datasets/lib/python3.12/site-packages/yaspin/core.py:228: UserWarning: color, on_color and attrs are not supported when running in jupyter\n",
      "  self._color = self._set_color(value) if value else value\n",
      "\u001b[32m2024-07-24 12:03:17.433\u001b[0m | \u001b[1mINFO    \u001b[0m | \u001b[36mpolaris._mixins\u001b[0m:\u001b[36mmd5sum\u001b[0m:\u001b[36m27\u001b[0m - \u001b[1mComputing the checksum. This can be slow for large datasets.\u001b[0m\n"
     ]
    },
    {
     "name": "stdout",
     "output_type": "stream",
     "text": [
      "✅ SUCCESS: \u001b[1mYour dataset has been successfully uploaded to the Hub. View it here: https://polarishub.io/datasets/molecularml/moleculeace_CHEMBL218_EC50\u001b[0m\n",
      " \n",
      "⠋ Uploading benchmark..."
     ]
    },
    {
     "name": "stderr",
     "output_type": "stream",
     "text": [
      "/mnt/ps/home/CORP/lu.zhu/miniconda3/envs/po_datasets/lib/python3.12/site-packages/yaspin/core.py:228: UserWarning: color, on_color and attrs are not supported when running in jupyter\n",
      "  self._color = self._set_color(value) if value else value\n",
      "\u001b[32m2024-07-24 12:03:18.564\u001b[0m | \u001b[1mINFO    \u001b[0m | \u001b[36mpolaris._mixins\u001b[0m:\u001b[36mmd5sum\u001b[0m:\u001b[36m27\u001b[0m - \u001b[1mComputing the checksum. This can be slow for large datasets.\u001b[0m\n"
     ]
    },
    {
     "name": "stdout",
     "output_type": "stream",
     "text": [
      "✅ SUCCESS: \u001b[1mYour benchmark has been successfully uploaded to the Hub. View it here: https://polarishub.io/benchmarks/molecularml/moleculeace_CHEMBL218_EC50\u001b[0m\n",
      " \n",
      "moleculeace_CHEMBL219_Ki\n",
      "⠋ Uploading dataset..."
     ]
    },
    {
     "name": "stderr",
     "output_type": "stream",
     "text": [
      "/mnt/ps/home/CORP/lu.zhu/miniconda3/envs/po_datasets/lib/python3.12/site-packages/yaspin/core.py:228: UserWarning: color, on_color and attrs are not supported when running in jupyter\n",
      "  self._color = self._set_color(value) if value else value\n",
      "\u001b[32m2024-07-24 12:03:18.915\u001b[0m | \u001b[1mINFO    \u001b[0m | \u001b[36mpolaris._mixins\u001b[0m:\u001b[36mmd5sum\u001b[0m:\u001b[36m27\u001b[0m - \u001b[1mComputing the checksum. This can be slow for large datasets.\u001b[0m\n"
     ]
    },
    {
     "name": "stdout",
     "output_type": "stream",
     "text": [
      "✅ SUCCESS: \u001b[1mYour dataset has been successfully uploaded to the Hub. View it here: https://polarishub.io/datasets/molecularml/moleculeace_CHEMBL219_Ki\u001b[0m\n",
      " \n",
      "⠋ Uploading benchmark..."
     ]
    },
    {
     "name": "stderr",
     "output_type": "stream",
     "text": [
      "/mnt/ps/home/CORP/lu.zhu/miniconda3/envs/po_datasets/lib/python3.12/site-packages/yaspin/core.py:228: UserWarning: color, on_color and attrs are not supported when running in jupyter\n",
      "  self._color = self._set_color(value) if value else value\n",
      "\u001b[32m2024-07-24 12:03:20.153\u001b[0m | \u001b[1mINFO    \u001b[0m | \u001b[36mpolaris._mixins\u001b[0m:\u001b[36mmd5sum\u001b[0m:\u001b[36m27\u001b[0m - \u001b[1mComputing the checksum. This can be slow for large datasets.\u001b[0m\n"
     ]
    },
    {
     "name": "stdout",
     "output_type": "stream",
     "text": [
      "✅ SUCCESS: \u001b[1mYour benchmark has been successfully uploaded to the Hub. View it here: https://polarishub.io/benchmarks/molecularml/moleculeace_CHEMBL219_Ki\u001b[0m\n",
      " \n",
      "moleculeace_CHEMBL228_Ki\n",
      "⠋ Uploading dataset..."
     ]
    },
    {
     "name": "stderr",
     "output_type": "stream",
     "text": [
      "/mnt/ps/home/CORP/lu.zhu/miniconda3/envs/po_datasets/lib/python3.12/site-packages/yaspin/core.py:228: UserWarning: color, on_color and attrs are not supported when running in jupyter\n",
      "  self._color = self._set_color(value) if value else value\n",
      "\u001b[32m2024-07-24 12:03:20.477\u001b[0m | \u001b[1mINFO    \u001b[0m | \u001b[36mpolaris._mixins\u001b[0m:\u001b[36mmd5sum\u001b[0m:\u001b[36m27\u001b[0m - \u001b[1mComputing the checksum. This can be slow for large datasets.\u001b[0m\n"
     ]
    },
    {
     "name": "stdout",
     "output_type": "stream",
     "text": [
      "✅ SUCCESS: \u001b[1mYour dataset has been successfully uploaded to the Hub. View it here: https://polarishub.io/datasets/molecularml/moleculeace_CHEMBL228_Ki\u001b[0m\n",
      " \n",
      "⠋ Uploading benchmark..."
     ]
    },
    {
     "name": "stderr",
     "output_type": "stream",
     "text": [
      "/mnt/ps/home/CORP/lu.zhu/miniconda3/envs/po_datasets/lib/python3.12/site-packages/yaspin/core.py:228: UserWarning: color, on_color and attrs are not supported when running in jupyter\n",
      "  self._color = self._set_color(value) if value else value\n",
      "\u001b[32m2024-07-24 12:03:21.532\u001b[0m | \u001b[1mINFO    \u001b[0m | \u001b[36mpolaris._mixins\u001b[0m:\u001b[36mmd5sum\u001b[0m:\u001b[36m27\u001b[0m - \u001b[1mComputing the checksum. This can be slow for large datasets.\u001b[0m\n"
     ]
    },
    {
     "name": "stdout",
     "output_type": "stream",
     "text": [
      "✅ SUCCESS: \u001b[1mYour benchmark has been successfully uploaded to the Hub. View it here: https://polarishub.io/benchmarks/molecularml/moleculeace_CHEMBL228_Ki\u001b[0m\n",
      " \n",
      "moleculeace_CHEMBL231_Ki\n",
      "⠋ Uploading dataset..."
     ]
    },
    {
     "name": "stderr",
     "output_type": "stream",
     "text": [
      "/mnt/ps/home/CORP/lu.zhu/miniconda3/envs/po_datasets/lib/python3.12/site-packages/yaspin/core.py:228: UserWarning: color, on_color and attrs are not supported when running in jupyter\n",
      "  self._color = self._set_color(value) if value else value\n",
      "\u001b[32m2024-07-24 12:03:21.897\u001b[0m | \u001b[1mINFO    \u001b[0m | \u001b[36mpolaris._mixins\u001b[0m:\u001b[36mmd5sum\u001b[0m:\u001b[36m27\u001b[0m - \u001b[1mComputing the checksum. This can be slow for large datasets.\u001b[0m\n"
     ]
    },
    {
     "name": "stdout",
     "output_type": "stream",
     "text": [
      "✅ SUCCESS: \u001b[1mYour dataset has been successfully uploaded to the Hub. View it here: https://polarishub.io/datasets/molecularml/moleculeace_CHEMBL231_Ki\u001b[0m\n",
      " \n",
      "⠋ Uploading benchmark..."
     ]
    },
    {
     "name": "stderr",
     "output_type": "stream",
     "text": [
      "/mnt/ps/home/CORP/lu.zhu/miniconda3/envs/po_datasets/lib/python3.12/site-packages/yaspin/core.py:228: UserWarning: color, on_color and attrs are not supported when running in jupyter\n",
      "  self._color = self._set_color(value) if value else value\n",
      "\u001b[32m2024-07-24 12:03:22.978\u001b[0m | \u001b[1mINFO    \u001b[0m | \u001b[36mpolaris._mixins\u001b[0m:\u001b[36mmd5sum\u001b[0m:\u001b[36m27\u001b[0m - \u001b[1mComputing the checksum. This can be slow for large datasets.\u001b[0m\n"
     ]
    },
    {
     "name": "stdout",
     "output_type": "stream",
     "text": [
      "✅ SUCCESS: \u001b[1mYour benchmark has been successfully uploaded to the Hub. View it here: https://polarishub.io/benchmarks/molecularml/moleculeace_CHEMBL231_Ki\u001b[0m\n",
      " \n",
      "moleculeace_CHEMBL233_Ki\n",
      "⠋ Uploading dataset..."
     ]
    },
    {
     "name": "stderr",
     "output_type": "stream",
     "text": [
      "/mnt/ps/home/CORP/lu.zhu/miniconda3/envs/po_datasets/lib/python3.12/site-packages/yaspin/core.py:228: UserWarning: color, on_color and attrs are not supported when running in jupyter\n",
      "  self._color = self._set_color(value) if value else value\n",
      "\u001b[32m2024-07-24 12:03:23.334\u001b[0m | \u001b[1mINFO    \u001b[0m | \u001b[36mpolaris._mixins\u001b[0m:\u001b[36mmd5sum\u001b[0m:\u001b[36m27\u001b[0m - \u001b[1mComputing the checksum. This can be slow for large datasets.\u001b[0m\n"
     ]
    },
    {
     "name": "stdout",
     "output_type": "stream",
     "text": [
      "✅ SUCCESS: \u001b[1mYour dataset has been successfully uploaded to the Hub. View it here: https://polarishub.io/datasets/molecularml/moleculeace_CHEMBL233_Ki\u001b[0m\n",
      " \n",
      "⠋ Uploading benchmark..."
     ]
    },
    {
     "name": "stderr",
     "output_type": "stream",
     "text": [
      "/mnt/ps/home/CORP/lu.zhu/miniconda3/envs/po_datasets/lib/python3.12/site-packages/yaspin/core.py:228: UserWarning: color, on_color and attrs are not supported when running in jupyter\n",
      "  self._color = self._set_color(value) if value else value\n",
      "\u001b[32m2024-07-24 12:03:24.444\u001b[0m | \u001b[1mINFO    \u001b[0m | \u001b[36mpolaris._mixins\u001b[0m:\u001b[36mmd5sum\u001b[0m:\u001b[36m27\u001b[0m - \u001b[1mComputing the checksum. This can be slow for large datasets.\u001b[0m\n"
     ]
    },
    {
     "name": "stdout",
     "output_type": "stream",
     "text": [
      "✅ SUCCESS: \u001b[1mYour benchmark has been successfully uploaded to the Hub. View it here: https://polarishub.io/benchmarks/molecularml/moleculeace_CHEMBL233_Ki\u001b[0m\n",
      " \n",
      "moleculeace_CHEMBL234_Ki\n",
      "⠋ Uploading dataset..."
     ]
    },
    {
     "name": "stderr",
     "output_type": "stream",
     "text": [
      "/mnt/ps/home/CORP/lu.zhu/miniconda3/envs/po_datasets/lib/python3.12/site-packages/yaspin/core.py:228: UserWarning: color, on_color and attrs are not supported when running in jupyter\n",
      "  self._color = self._set_color(value) if value else value\n",
      "\u001b[32m2024-07-24 12:03:24.906\u001b[0m | \u001b[1mINFO    \u001b[0m | \u001b[36mpolaris._mixins\u001b[0m:\u001b[36mmd5sum\u001b[0m:\u001b[36m27\u001b[0m - \u001b[1mComputing the checksum. This can be slow for large datasets.\u001b[0m\n"
     ]
    },
    {
     "name": "stdout",
     "output_type": "stream",
     "text": [
      "✅ SUCCESS: \u001b[1mYour dataset has been successfully uploaded to the Hub. View it here: https://polarishub.io/datasets/molecularml/moleculeace_CHEMBL234_Ki\u001b[0m\n",
      " \n",
      "⠋ Uploading benchmark..."
     ]
    },
    {
     "name": "stderr",
     "output_type": "stream",
     "text": [
      "/mnt/ps/home/CORP/lu.zhu/miniconda3/envs/po_datasets/lib/python3.12/site-packages/yaspin/core.py:228: UserWarning: color, on_color and attrs are not supported when running in jupyter\n",
      "  self._color = self._set_color(value) if value else value\n",
      "\u001b[32m2024-07-24 12:03:26.426\u001b[0m | \u001b[1mINFO    \u001b[0m | \u001b[36mpolaris._mixins\u001b[0m:\u001b[36mmd5sum\u001b[0m:\u001b[36m27\u001b[0m - \u001b[1mComputing the checksum. This can be slow for large datasets.\u001b[0m\n"
     ]
    },
    {
     "name": "stdout",
     "output_type": "stream",
     "text": [
      "✅ SUCCESS: \u001b[1mYour benchmark has been successfully uploaded to the Hub. View it here: https://polarishub.io/benchmarks/molecularml/moleculeace_CHEMBL234_Ki\u001b[0m\n",
      " \n",
      "moleculeace_CHEMBL235_EC50\n",
      "⠋ Uploading dataset..."
     ]
    },
    {
     "name": "stderr",
     "output_type": "stream",
     "text": [
      "/mnt/ps/home/CORP/lu.zhu/miniconda3/envs/po_datasets/lib/python3.12/site-packages/yaspin/core.py:228: UserWarning: color, on_color and attrs are not supported when running in jupyter\n",
      "  self._color = self._set_color(value) if value else value\n",
      "\u001b[32m2024-07-24 12:03:26.847\u001b[0m | \u001b[1mINFO    \u001b[0m | \u001b[36mpolaris._mixins\u001b[0m:\u001b[36mmd5sum\u001b[0m:\u001b[36m27\u001b[0m - \u001b[1mComputing the checksum. This can be slow for large datasets.\u001b[0m\n"
     ]
    },
    {
     "name": "stdout",
     "output_type": "stream",
     "text": [
      "✅ SUCCESS: \u001b[1mYour dataset has been successfully uploaded to the Hub. View it here: https://polarishub.io/datasets/molecularml/moleculeace_CHEMBL235_EC50\u001b[0m\n",
      " \n",
      "⠋ Uploading benchmark..."
     ]
    },
    {
     "name": "stderr",
     "output_type": "stream",
     "text": [
      "/mnt/ps/home/CORP/lu.zhu/miniconda3/envs/po_datasets/lib/python3.12/site-packages/yaspin/core.py:228: UserWarning: color, on_color and attrs are not supported when running in jupyter\n",
      "  self._color = self._set_color(value) if value else value\n",
      "\u001b[32m2024-07-24 12:03:27.970\u001b[0m | \u001b[1mINFO    \u001b[0m | \u001b[36mpolaris._mixins\u001b[0m:\u001b[36mmd5sum\u001b[0m:\u001b[36m27\u001b[0m - \u001b[1mComputing the checksum. This can be slow for large datasets.\u001b[0m\n"
     ]
    },
    {
     "name": "stdout",
     "output_type": "stream",
     "text": [
      "✅ SUCCESS: \u001b[1mYour benchmark has been successfully uploaded to the Hub. View it here: https://polarishub.io/benchmarks/molecularml/moleculeace_CHEMBL235_EC50\u001b[0m\n",
      " \n",
      "moleculeace_CHEMBL236_Ki\n",
      "⠋ Uploading dataset..."
     ]
    },
    {
     "name": "stderr",
     "output_type": "stream",
     "text": [
      "/mnt/ps/home/CORP/lu.zhu/miniconda3/envs/po_datasets/lib/python3.12/site-packages/yaspin/core.py:228: UserWarning: color, on_color and attrs are not supported when running in jupyter\n",
      "  self._color = self._set_color(value) if value else value\n",
      "\u001b[32m2024-07-24 12:03:28.423\u001b[0m | \u001b[1mINFO    \u001b[0m | \u001b[36mpolaris._mixins\u001b[0m:\u001b[36mmd5sum\u001b[0m:\u001b[36m27\u001b[0m - \u001b[1mComputing the checksum. This can be slow for large datasets.\u001b[0m\n"
     ]
    },
    {
     "name": "stdout",
     "output_type": "stream",
     "text": [
      "✅ SUCCESS: \u001b[1mYour dataset has been successfully uploaded to the Hub. View it here: https://polarishub.io/datasets/molecularml/moleculeace_CHEMBL236_Ki\u001b[0m\n",
      " \n",
      "⠋ Uploading benchmark..."
     ]
    },
    {
     "name": "stderr",
     "output_type": "stream",
     "text": [
      "/mnt/ps/home/CORP/lu.zhu/miniconda3/envs/po_datasets/lib/python3.12/site-packages/yaspin/core.py:228: UserWarning: color, on_color and attrs are not supported when running in jupyter\n",
      "  self._color = self._set_color(value) if value else value\n",
      "\u001b[32m2024-07-24 12:03:29.555\u001b[0m | \u001b[1mINFO    \u001b[0m | \u001b[36mpolaris._mixins\u001b[0m:\u001b[36mmd5sum\u001b[0m:\u001b[36m27\u001b[0m - \u001b[1mComputing the checksum. This can be slow for large datasets.\u001b[0m\n"
     ]
    },
    {
     "name": "stdout",
     "output_type": "stream",
     "text": [
      "✅ SUCCESS: \u001b[1mYour benchmark has been successfully uploaded to the Hub. View it here: https://polarishub.io/benchmarks/molecularml/moleculeace_CHEMBL236_Ki\u001b[0m\n",
      " \n",
      "moleculeace_CHEMBL237_EC50\n",
      "⠋ Uploading dataset..."
     ]
    },
    {
     "name": "stderr",
     "output_type": "stream",
     "text": [
      "/mnt/ps/home/CORP/lu.zhu/miniconda3/envs/po_datasets/lib/python3.12/site-packages/yaspin/core.py:228: UserWarning: color, on_color and attrs are not supported when running in jupyter\n",
      "  self._color = self._set_color(value) if value else value\n",
      "\u001b[32m2024-07-24 12:03:29.968\u001b[0m | \u001b[1mINFO    \u001b[0m | \u001b[36mpolaris._mixins\u001b[0m:\u001b[36mmd5sum\u001b[0m:\u001b[36m27\u001b[0m - \u001b[1mComputing the checksum. This can be slow for large datasets.\u001b[0m\n"
     ]
    },
    {
     "name": "stdout",
     "output_type": "stream",
     "text": [
      "✅ SUCCESS: \u001b[1mYour dataset has been successfully uploaded to the Hub. View it here: https://polarishub.io/datasets/molecularml/moleculeace_CHEMBL237_EC50\u001b[0m\n",
      " \n",
      "⠋ Uploading benchmark..."
     ]
    },
    {
     "name": "stderr",
     "output_type": "stream",
     "text": [
      "/mnt/ps/home/CORP/lu.zhu/miniconda3/envs/po_datasets/lib/python3.12/site-packages/yaspin/core.py:228: UserWarning: color, on_color and attrs are not supported when running in jupyter\n",
      "  self._color = self._set_color(value) if value else value\n",
      "\u001b[32m2024-07-24 12:03:31.159\u001b[0m | \u001b[1mINFO    \u001b[0m | \u001b[36mpolaris._mixins\u001b[0m:\u001b[36mmd5sum\u001b[0m:\u001b[36m27\u001b[0m - \u001b[1mComputing the checksum. This can be slow for large datasets.\u001b[0m\n"
     ]
    },
    {
     "name": "stdout",
     "output_type": "stream",
     "text": [
      "✅ SUCCESS: \u001b[1mYour benchmark has been successfully uploaded to the Hub. View it here: https://polarishub.io/benchmarks/molecularml/moleculeace_CHEMBL237_EC50\u001b[0m\n",
      " \n",
      "moleculeace_CHEMBL237_Ki\n",
      "⠋ Uploading dataset..."
     ]
    },
    {
     "name": "stderr",
     "output_type": "stream",
     "text": [
      "/mnt/ps/home/CORP/lu.zhu/miniconda3/envs/po_datasets/lib/python3.12/site-packages/yaspin/core.py:228: UserWarning: color, on_color and attrs are not supported when running in jupyter\n",
      "  self._color = self._set_color(value) if value else value\n",
      "\u001b[32m2024-07-24 12:03:31.520\u001b[0m | \u001b[1mINFO    \u001b[0m | \u001b[36mpolaris._mixins\u001b[0m:\u001b[36mmd5sum\u001b[0m:\u001b[36m27\u001b[0m - \u001b[1mComputing the checksum. This can be slow for large datasets.\u001b[0m\n"
     ]
    },
    {
     "name": "stdout",
     "output_type": "stream",
     "text": [
      "✅ SUCCESS: \u001b[1mYour dataset has been successfully uploaded to the Hub. View it here: https://polarishub.io/datasets/molecularml/moleculeace_CHEMBL237_Ki\u001b[0m\n",
      " \n",
      "⠋ Uploading benchmark..."
     ]
    },
    {
     "name": "stderr",
     "output_type": "stream",
     "text": [
      "/mnt/ps/home/CORP/lu.zhu/miniconda3/envs/po_datasets/lib/python3.12/site-packages/yaspin/core.py:228: UserWarning: color, on_color and attrs are not supported when running in jupyter\n",
      "  self._color = self._set_color(value) if value else value\n",
      "\u001b[32m2024-07-24 12:03:32.609\u001b[0m | \u001b[1mINFO    \u001b[0m | \u001b[36mpolaris._mixins\u001b[0m:\u001b[36mmd5sum\u001b[0m:\u001b[36m27\u001b[0m - \u001b[1mComputing the checksum. This can be slow for large datasets.\u001b[0m\n"
     ]
    },
    {
     "name": "stdout",
     "output_type": "stream",
     "text": [
      "✅ SUCCESS: \u001b[1mYour benchmark has been successfully uploaded to the Hub. View it here: https://polarishub.io/benchmarks/molecularml/moleculeace_CHEMBL237_Ki\u001b[0m\n",
      " \n",
      "moleculeace_CHEMBL238_Ki\n",
      "⠋ Uploading dataset..."
     ]
    },
    {
     "name": "stderr",
     "output_type": "stream",
     "text": [
      "/mnt/ps/home/CORP/lu.zhu/miniconda3/envs/po_datasets/lib/python3.12/site-packages/yaspin/core.py:228: UserWarning: color, on_color and attrs are not supported when running in jupyter\n",
      "  self._color = self._set_color(value) if value else value\n",
      "\u001b[32m2024-07-24 12:03:32.978\u001b[0m | \u001b[1mINFO    \u001b[0m | \u001b[36mpolaris._mixins\u001b[0m:\u001b[36mmd5sum\u001b[0m:\u001b[36m27\u001b[0m - \u001b[1mComputing the checksum. This can be slow for large datasets.\u001b[0m\n"
     ]
    },
    {
     "name": "stdout",
     "output_type": "stream",
     "text": [
      "✅ SUCCESS: \u001b[1mYour dataset has been successfully uploaded to the Hub. View it here: https://polarishub.io/datasets/molecularml/moleculeace_CHEMBL238_Ki\u001b[0m\n",
      " \n",
      "⠋ Uploading benchmark..."
     ]
    },
    {
     "name": "stderr",
     "output_type": "stream",
     "text": [
      "/mnt/ps/home/CORP/lu.zhu/miniconda3/envs/po_datasets/lib/python3.12/site-packages/yaspin/core.py:228: UserWarning: color, on_color and attrs are not supported when running in jupyter\n",
      "  self._color = self._set_color(value) if value else value\n",
      "\u001b[32m2024-07-24 12:03:34.051\u001b[0m | \u001b[1mINFO    \u001b[0m | \u001b[36mpolaris._mixins\u001b[0m:\u001b[36mmd5sum\u001b[0m:\u001b[36m27\u001b[0m - \u001b[1mComputing the checksum. This can be slow for large datasets.\u001b[0m\n"
     ]
    },
    {
     "name": "stdout",
     "output_type": "stream",
     "text": [
      "✅ SUCCESS: \u001b[1mYour benchmark has been successfully uploaded to the Hub. View it here: https://polarishub.io/benchmarks/molecularml/moleculeace_CHEMBL238_Ki\u001b[0m\n",
      " \n",
      "moleculeace_CHEMBL239_EC50\n"
     ]
    },
    {
     "name": "stderr",
     "output_type": "stream",
     "text": [
      "/mnt/ps/home/CORP/lu.zhu/miniconda3/envs/po_datasets/lib/python3.12/site-packages/yaspin/core.py:228: UserWarning: color, on_color and attrs are not supported when running in jupyter\n",
      "  self._color = self._set_color(value) if value else value\n",
      "\u001b[32m2024-07-24 12:03:34.429\u001b[0m | \u001b[1mINFO    \u001b[0m | \u001b[36mpolaris._mixins\u001b[0m:\u001b[36mmd5sum\u001b[0m:\u001b[36m27\u001b[0m - \u001b[1mComputing the checksum. This can be slow for large datasets.\u001b[0m\n"
     ]
    },
    {
     "name": "stdout",
     "output_type": "stream",
     "text": [
      "✅ SUCCESS: \u001b[1mYour dataset has been successfully uploaded to the Hub. View it here: https://polarishub.io/datasets/molecularml/moleculeace_CHEMBL239_EC50\u001b[0m\n",
      " \n",
      "⠋ Uploading benchmark..."
     ]
    },
    {
     "name": "stderr",
     "output_type": "stream",
     "text": [
      "/mnt/ps/home/CORP/lu.zhu/miniconda3/envs/po_datasets/lib/python3.12/site-packages/yaspin/core.py:228: UserWarning: color, on_color and attrs are not supported when running in jupyter\n",
      "  self._color = self._set_color(value) if value else value\n",
      "\u001b[32m2024-07-24 12:03:35.509\u001b[0m | \u001b[1mINFO    \u001b[0m | \u001b[36mpolaris._mixins\u001b[0m:\u001b[36mmd5sum\u001b[0m:\u001b[36m27\u001b[0m - \u001b[1mComputing the checksum. This can be slow for large datasets.\u001b[0m\n"
     ]
    },
    {
     "name": "stdout",
     "output_type": "stream",
     "text": [
      "✅ SUCCESS: \u001b[1mYour benchmark has been successfully uploaded to the Hub. View it here: https://polarishub.io/benchmarks/molecularml/moleculeace_CHEMBL239_EC50\u001b[0m\n",
      " \n",
      "moleculeace_CHEMBL244_Ki\n",
      "⠋ Uploading dataset..."
     ]
    },
    {
     "name": "stderr",
     "output_type": "stream",
     "text": [
      "/mnt/ps/home/CORP/lu.zhu/miniconda3/envs/po_datasets/lib/python3.12/site-packages/yaspin/core.py:228: UserWarning: color, on_color and attrs are not supported when running in jupyter\n",
      "  self._color = self._set_color(value) if value else value\n",
      "\u001b[32m2024-07-24 12:03:35.863\u001b[0m | \u001b[1mINFO    \u001b[0m | \u001b[36mpolaris._mixins\u001b[0m:\u001b[36mmd5sum\u001b[0m:\u001b[36m27\u001b[0m - \u001b[1mComputing the checksum. This can be slow for large datasets.\u001b[0m\n"
     ]
    },
    {
     "name": "stdout",
     "output_type": "stream",
     "text": [
      "✅ SUCCESS: \u001b[1mYour dataset has been successfully uploaded to the Hub. View it here: https://polarishub.io/datasets/molecularml/moleculeace_CHEMBL244_Ki\u001b[0m\n",
      " \n",
      "⠋ Uploading benchmark..."
     ]
    },
    {
     "name": "stderr",
     "output_type": "stream",
     "text": [
      "/mnt/ps/home/CORP/lu.zhu/miniconda3/envs/po_datasets/lib/python3.12/site-packages/yaspin/core.py:228: UserWarning: color, on_color and attrs are not supported when running in jupyter\n",
      "  self._color = self._set_color(value) if value else value\n",
      "\u001b[32m2024-07-24 12:03:36.963\u001b[0m | \u001b[1mINFO    \u001b[0m | \u001b[36mpolaris._mixins\u001b[0m:\u001b[36mmd5sum\u001b[0m:\u001b[36m27\u001b[0m - \u001b[1mComputing the checksum. This can be slow for large datasets.\u001b[0m\n"
     ]
    },
    {
     "name": "stdout",
     "output_type": "stream",
     "text": [
      "✅ SUCCESS: \u001b[1mYour benchmark has been successfully uploaded to the Hub. View it here: https://polarishub.io/benchmarks/molecularml/moleculeace_CHEMBL244_Ki\u001b[0m\n",
      " \n",
      "moleculeace_CHEMBL262_Ki\n",
      "⠋ Uploading dataset..."
     ]
    },
    {
     "name": "stderr",
     "output_type": "stream",
     "text": [
      "/mnt/ps/home/CORP/lu.zhu/miniconda3/envs/po_datasets/lib/python3.12/site-packages/yaspin/core.py:228: UserWarning: color, on_color and attrs are not supported when running in jupyter\n",
      "  self._color = self._set_color(value) if value else value\n",
      "\u001b[32m2024-07-24 12:03:37.432\u001b[0m | \u001b[1mINFO    \u001b[0m | \u001b[36mpolaris._mixins\u001b[0m:\u001b[36mmd5sum\u001b[0m:\u001b[36m27\u001b[0m - \u001b[1mComputing the checksum. This can be slow for large datasets.\u001b[0m\n"
     ]
    },
    {
     "name": "stdout",
     "output_type": "stream",
     "text": [
      "✅ SUCCESS: \u001b[1mYour dataset has been successfully uploaded to the Hub. View it here: https://polarishub.io/datasets/molecularml/moleculeace_CHEMBL262_Ki\u001b[0m\n",
      " \n",
      "⠋ Uploading benchmark..."
     ]
    },
    {
     "name": "stderr",
     "output_type": "stream",
     "text": [
      "/mnt/ps/home/CORP/lu.zhu/miniconda3/envs/po_datasets/lib/python3.12/site-packages/yaspin/core.py:228: UserWarning: color, on_color and attrs are not supported when running in jupyter\n",
      "  self._color = self._set_color(value) if value else value\n",
      "\u001b[32m2024-07-24 12:03:38.575\u001b[0m | \u001b[1mINFO    \u001b[0m | \u001b[36mpolaris._mixins\u001b[0m:\u001b[36mmd5sum\u001b[0m:\u001b[36m27\u001b[0m - \u001b[1mComputing the checksum. This can be slow for large datasets.\u001b[0m\n"
     ]
    },
    {
     "name": "stdout",
     "output_type": "stream",
     "text": [
      "✅ SUCCESS: \u001b[1mYour benchmark has been successfully uploaded to the Hub. View it here: https://polarishub.io/benchmarks/molecularml/moleculeace_CHEMBL262_Ki\u001b[0m\n",
      " \n",
      "moleculeace_CHEMBL264_Ki\n",
      "⠋ Uploading dataset..."
     ]
    },
    {
     "name": "stderr",
     "output_type": "stream",
     "text": [
      "/mnt/ps/home/CORP/lu.zhu/miniconda3/envs/po_datasets/lib/python3.12/site-packages/yaspin/core.py:228: UserWarning: color, on_color and attrs are not supported when running in jupyter\n",
      "  self._color = self._set_color(value) if value else value\n",
      "\u001b[32m2024-07-24 12:03:38.986\u001b[0m | \u001b[1mINFO    \u001b[0m | \u001b[36mpolaris._mixins\u001b[0m:\u001b[36mmd5sum\u001b[0m:\u001b[36m27\u001b[0m - \u001b[1mComputing the checksum. This can be slow for large datasets.\u001b[0m\n"
     ]
    },
    {
     "name": "stdout",
     "output_type": "stream",
     "text": [
      "✅ SUCCESS: \u001b[1mYour dataset has been successfully uploaded to the Hub. View it here: https://polarishub.io/datasets/molecularml/moleculeace_CHEMBL264_Ki\u001b[0m\n",
      " \n",
      "⠋ Uploading benchmark..."
     ]
    },
    {
     "name": "stderr",
     "output_type": "stream",
     "text": [
      "/mnt/ps/home/CORP/lu.zhu/miniconda3/envs/po_datasets/lib/python3.12/site-packages/yaspin/core.py:228: UserWarning: color, on_color and attrs are not supported when running in jupyter\n",
      "  self._color = self._set_color(value) if value else value\n",
      "\u001b[32m2024-07-24 12:03:40.097\u001b[0m | \u001b[1mINFO    \u001b[0m | \u001b[36mpolaris._mixins\u001b[0m:\u001b[36mmd5sum\u001b[0m:\u001b[36m27\u001b[0m - \u001b[1mComputing the checksum. This can be slow for large datasets.\u001b[0m\n"
     ]
    },
    {
     "name": "stdout",
     "output_type": "stream",
     "text": [
      "✅ SUCCESS: \u001b[1mYour benchmark has been successfully uploaded to the Hub. View it here: https://polarishub.io/benchmarks/molecularml/moleculeace_CHEMBL264_Ki\u001b[0m\n",
      " \n",
      "moleculeace_CHEMBL2835_Ki\n",
      "⠋ Uploading dataset..."
     ]
    },
    {
     "name": "stderr",
     "output_type": "stream",
     "text": [
      "/mnt/ps/home/CORP/lu.zhu/miniconda3/envs/po_datasets/lib/python3.12/site-packages/yaspin/core.py:228: UserWarning: color, on_color and attrs are not supported when running in jupyter\n",
      "  self._color = self._set_color(value) if value else value\n",
      "\u001b[32m2024-07-24 12:03:40.529\u001b[0m | \u001b[1mINFO    \u001b[0m | \u001b[36mpolaris._mixins\u001b[0m:\u001b[36mmd5sum\u001b[0m:\u001b[36m27\u001b[0m - \u001b[1mComputing the checksum. This can be slow for large datasets.\u001b[0m\n"
     ]
    },
    {
     "name": "stdout",
     "output_type": "stream",
     "text": [
      "✅ SUCCESS: \u001b[1mYour dataset has been successfully uploaded to the Hub. View it here: https://polarishub.io/datasets/molecularml/moleculeace_CHEMBL2835_Ki\u001b[0m\n",
      " \n",
      "⠋ Uploading benchmark..."
     ]
    },
    {
     "name": "stderr",
     "output_type": "stream",
     "text": [
      "/mnt/ps/home/CORP/lu.zhu/miniconda3/envs/po_datasets/lib/python3.12/site-packages/yaspin/core.py:228: UserWarning: color, on_color and attrs are not supported when running in jupyter\n",
      "  self._color = self._set_color(value) if value else value\n",
      "\u001b[32m2024-07-24 12:03:41.808\u001b[0m | \u001b[1mINFO    \u001b[0m | \u001b[36mpolaris._mixins\u001b[0m:\u001b[36mmd5sum\u001b[0m:\u001b[36m27\u001b[0m - \u001b[1mComputing the checksum. This can be slow for large datasets.\u001b[0m\n"
     ]
    },
    {
     "name": "stdout",
     "output_type": "stream",
     "text": [
      "✅ SUCCESS: \u001b[1mYour benchmark has been successfully uploaded to the Hub. View it here: https://polarishub.io/benchmarks/molecularml/moleculeace_CHEMBL2835_Ki\u001b[0m\n",
      " \n",
      "moleculeace_CHEMBL287_Ki\n",
      "⠋ Uploading dataset..."
     ]
    },
    {
     "name": "stderr",
     "output_type": "stream",
     "text": [
      "/mnt/ps/home/CORP/lu.zhu/miniconda3/envs/po_datasets/lib/python3.12/site-packages/yaspin/core.py:228: UserWarning: color, on_color and attrs are not supported when running in jupyter\n",
      "  self._color = self._set_color(value) if value else value\n",
      "\u001b[32m2024-07-24 12:03:42.174\u001b[0m | \u001b[1mINFO    \u001b[0m | \u001b[36mpolaris._mixins\u001b[0m:\u001b[36mmd5sum\u001b[0m:\u001b[36m27\u001b[0m - \u001b[1mComputing the checksum. This can be slow for large datasets.\u001b[0m\n"
     ]
    },
    {
     "name": "stdout",
     "output_type": "stream",
     "text": [
      "✅ SUCCESS: \u001b[1mYour dataset has been successfully uploaded to the Hub. View it here: https://polarishub.io/datasets/molecularml/moleculeace_CHEMBL287_Ki\u001b[0m\n",
      " \n",
      "⠋ Uploading benchmark..."
     ]
    },
    {
     "name": "stderr",
     "output_type": "stream",
     "text": [
      "/mnt/ps/home/CORP/lu.zhu/miniconda3/envs/po_datasets/lib/python3.12/site-packages/yaspin/core.py:228: UserWarning: color, on_color and attrs are not supported when running in jupyter\n",
      "  self._color = self._set_color(value) if value else value\n",
      "\u001b[32m2024-07-24 12:03:43.651\u001b[0m | \u001b[1mINFO    \u001b[0m | \u001b[36mpolaris._mixins\u001b[0m:\u001b[36mmd5sum\u001b[0m:\u001b[36m27\u001b[0m - \u001b[1mComputing the checksum. This can be slow for large datasets.\u001b[0m\n"
     ]
    },
    {
     "name": "stdout",
     "output_type": "stream",
     "text": [
      "✅ SUCCESS: \u001b[1mYour benchmark has been successfully uploaded to the Hub. View it here: https://polarishub.io/benchmarks/molecularml/moleculeace_CHEMBL287_Ki\u001b[0m\n",
      " \n",
      "moleculeace_CHEMBL2971_Ki\n",
      "⠋ Uploading dataset..."
     ]
    },
    {
     "name": "stderr",
     "output_type": "stream",
     "text": [
      "/mnt/ps/home/CORP/lu.zhu/miniconda3/envs/po_datasets/lib/python3.12/site-packages/yaspin/core.py:228: UserWarning: color, on_color and attrs are not supported when running in jupyter\n",
      "  self._color = self._set_color(value) if value else value\n",
      "\u001b[32m2024-07-24 12:03:44.056\u001b[0m | \u001b[1mINFO    \u001b[0m | \u001b[36mpolaris._mixins\u001b[0m:\u001b[36mmd5sum\u001b[0m:\u001b[36m27\u001b[0m - \u001b[1mComputing the checksum. This can be slow for large datasets.\u001b[0m\n"
     ]
    },
    {
     "name": "stdout",
     "output_type": "stream",
     "text": [
      "✅ SUCCESS: \u001b[1mYour dataset has been successfully uploaded to the Hub. View it here: https://polarishub.io/datasets/molecularml/moleculeace_CHEMBL2971_Ki\u001b[0m\n",
      " \n",
      "⠋ Uploading benchmark..."
     ]
    },
    {
     "name": "stderr",
     "output_type": "stream",
     "text": [
      "/mnt/ps/home/CORP/lu.zhu/miniconda3/envs/po_datasets/lib/python3.12/site-packages/yaspin/core.py:228: UserWarning: color, on_color and attrs are not supported when running in jupyter\n",
      "  self._color = self._set_color(value) if value else value\n",
      "\u001b[32m2024-07-24 12:03:45.359\u001b[0m | \u001b[1mINFO    \u001b[0m | \u001b[36mpolaris._mixins\u001b[0m:\u001b[36mmd5sum\u001b[0m:\u001b[36m27\u001b[0m - \u001b[1mComputing the checksum. This can be slow for large datasets.\u001b[0m\n"
     ]
    },
    {
     "name": "stdout",
     "output_type": "stream",
     "text": [
      "✅ SUCCESS: \u001b[1mYour benchmark has been successfully uploaded to the Hub. View it here: https://polarishub.io/benchmarks/molecularml/moleculeace_CHEMBL2971_Ki\u001b[0m\n",
      " \n",
      "moleculeace_CHEMBL3979_EC50\n",
      "⠋ Uploading dataset..."
     ]
    },
    {
     "name": "stderr",
     "output_type": "stream",
     "text": [
      "/mnt/ps/home/CORP/lu.zhu/miniconda3/envs/po_datasets/lib/python3.12/site-packages/yaspin/core.py:228: UserWarning: color, on_color and attrs are not supported when running in jupyter\n",
      "  self._color = self._set_color(value) if value else value\n",
      "\u001b[32m2024-07-24 12:03:45.714\u001b[0m | \u001b[1mINFO    \u001b[0m | \u001b[36mpolaris._mixins\u001b[0m:\u001b[36mmd5sum\u001b[0m:\u001b[36m27\u001b[0m - \u001b[1mComputing the checksum. This can be slow for large datasets.\u001b[0m\n"
     ]
    },
    {
     "name": "stdout",
     "output_type": "stream",
     "text": [
      "✅ SUCCESS: \u001b[1mYour dataset has been successfully uploaded to the Hub. View it here: https://polarishub.io/datasets/molecularml/moleculeace_CHEMBL3979_EC50\u001b[0m\n",
      " \n",
      "⠋ Uploading benchmark..."
     ]
    },
    {
     "name": "stderr",
     "output_type": "stream",
     "text": [
      "/mnt/ps/home/CORP/lu.zhu/miniconda3/envs/po_datasets/lib/python3.12/site-packages/yaspin/core.py:228: UserWarning: color, on_color and attrs are not supported when running in jupyter\n",
      "  self._color = self._set_color(value) if value else value\n",
      "\u001b[32m2024-07-24 12:03:46.772\u001b[0m | \u001b[1mINFO    \u001b[0m | \u001b[36mpolaris._mixins\u001b[0m:\u001b[36mmd5sum\u001b[0m:\u001b[36m27\u001b[0m - \u001b[1mComputing the checksum. This can be slow for large datasets.\u001b[0m\n"
     ]
    },
    {
     "name": "stdout",
     "output_type": "stream",
     "text": [
      "✅ SUCCESS: \u001b[1mYour benchmark has been successfully uploaded to the Hub. View it here: https://polarishub.io/benchmarks/molecularml/moleculeace_CHEMBL3979_EC50\u001b[0m\n",
      " \n",
      "moleculeace_CHEMBL4005_Ki\n",
      "⠋ Uploading dataset..."
     ]
    },
    {
     "name": "stderr",
     "output_type": "stream",
     "text": [
      "/mnt/ps/home/CORP/lu.zhu/miniconda3/envs/po_datasets/lib/python3.12/site-packages/yaspin/core.py:228: UserWarning: color, on_color and attrs are not supported when running in jupyter\n",
      "  self._color = self._set_color(value) if value else value\n",
      "\u001b[32m2024-07-24 12:03:47.130\u001b[0m | \u001b[1mINFO    \u001b[0m | \u001b[36mpolaris._mixins\u001b[0m:\u001b[36mmd5sum\u001b[0m:\u001b[36m27\u001b[0m - \u001b[1mComputing the checksum. This can be slow for large datasets.\u001b[0m\n"
     ]
    },
    {
     "name": "stdout",
     "output_type": "stream",
     "text": [
      "✅ SUCCESS: \u001b[1mYour dataset has been successfully uploaded to the Hub. View it here: https://polarishub.io/datasets/molecularml/moleculeace_CHEMBL4005_Ki\u001b[0m\n",
      " \n",
      "⠋ Uploading benchmark..."
     ]
    },
    {
     "name": "stderr",
     "output_type": "stream",
     "text": [
      "/mnt/ps/home/CORP/lu.zhu/miniconda3/envs/po_datasets/lib/python3.12/site-packages/yaspin/core.py:228: UserWarning: color, on_color and attrs are not supported when running in jupyter\n",
      "  self._color = self._set_color(value) if value else value\n",
      "\u001b[32m2024-07-24 12:03:48.223\u001b[0m | \u001b[1mINFO    \u001b[0m | \u001b[36mpolaris._mixins\u001b[0m:\u001b[36mmd5sum\u001b[0m:\u001b[36m27\u001b[0m - \u001b[1mComputing the checksum. This can be slow for large datasets.\u001b[0m\n"
     ]
    },
    {
     "name": "stdout",
     "output_type": "stream",
     "text": [
      "✅ SUCCESS: \u001b[1mYour benchmark has been successfully uploaded to the Hub. View it here: https://polarishub.io/benchmarks/molecularml/moleculeace_CHEMBL4005_Ki\u001b[0m\n",
      " \n",
      "moleculeace_CHEMBL4203_Ki\n",
      "⠋ Uploading dataset..."
     ]
    },
    {
     "name": "stderr",
     "output_type": "stream",
     "text": [
      "/mnt/ps/home/CORP/lu.zhu/miniconda3/envs/po_datasets/lib/python3.12/site-packages/yaspin/core.py:228: UserWarning: color, on_color and attrs are not supported when running in jupyter\n",
      "  self._color = self._set_color(value) if value else value\n",
      "\u001b[32m2024-07-24 12:03:48.587\u001b[0m | \u001b[1mINFO    \u001b[0m | \u001b[36mpolaris._mixins\u001b[0m:\u001b[36mmd5sum\u001b[0m:\u001b[36m27\u001b[0m - \u001b[1mComputing the checksum. This can be slow for large datasets.\u001b[0m\n"
     ]
    },
    {
     "name": "stdout",
     "output_type": "stream",
     "text": [
      "✅ SUCCESS: \u001b[1mYour dataset has been successfully uploaded to the Hub. View it here: https://polarishub.io/datasets/molecularml/moleculeace_CHEMBL4203_Ki\u001b[0m\n",
      " \n",
      "⠋ Uploading benchmark..."
     ]
    },
    {
     "name": "stderr",
     "output_type": "stream",
     "text": [
      "/mnt/ps/home/CORP/lu.zhu/miniconda3/envs/po_datasets/lib/python3.12/site-packages/yaspin/core.py:228: UserWarning: color, on_color and attrs are not supported when running in jupyter\n",
      "  self._color = self._set_color(value) if value else value\n",
      "\u001b[32m2024-07-24 12:03:49.900\u001b[0m | \u001b[1mINFO    \u001b[0m | \u001b[36mpolaris._mixins\u001b[0m:\u001b[36mmd5sum\u001b[0m:\u001b[36m27\u001b[0m - \u001b[1mComputing the checksum. This can be slow for large datasets.\u001b[0m\n"
     ]
    },
    {
     "name": "stdout",
     "output_type": "stream",
     "text": [
      "✅ SUCCESS: \u001b[1mYour benchmark has been successfully uploaded to the Hub. View it here: https://polarishub.io/benchmarks/molecularml/moleculeace_CHEMBL4203_Ki\u001b[0m\n",
      " \n",
      "moleculeace_CHEMBL4616_EC50\n",
      "⠋ Uploading dataset..."
     ]
    },
    {
     "name": "stderr",
     "output_type": "stream",
     "text": [
      "/mnt/ps/home/CORP/lu.zhu/miniconda3/envs/po_datasets/lib/python3.12/site-packages/yaspin/core.py:228: UserWarning: color, on_color and attrs are not supported when running in jupyter\n",
      "  self._color = self._set_color(value) if value else value\n",
      "\u001b[32m2024-07-24 12:03:50.269\u001b[0m | \u001b[1mINFO    \u001b[0m | \u001b[36mpolaris._mixins\u001b[0m:\u001b[36mmd5sum\u001b[0m:\u001b[36m27\u001b[0m - \u001b[1mComputing the checksum. This can be slow for large datasets.\u001b[0m\n"
     ]
    },
    {
     "name": "stdout",
     "output_type": "stream",
     "text": [
      "✅ SUCCESS: \u001b[1mYour dataset has been successfully uploaded to the Hub. View it here: https://polarishub.io/datasets/molecularml/moleculeace_CHEMBL4616_EC50\u001b[0m\n",
      " \n",
      "⠋ Uploading benchmark..."
     ]
    },
    {
     "name": "stderr",
     "output_type": "stream",
     "text": [
      "/mnt/ps/home/CORP/lu.zhu/miniconda3/envs/po_datasets/lib/python3.12/site-packages/yaspin/core.py:228: UserWarning: color, on_color and attrs are not supported when running in jupyter\n",
      "  self._color = self._set_color(value) if value else value\n",
      "\u001b[32m2024-07-24 12:03:51.320\u001b[0m | \u001b[1mINFO    \u001b[0m | \u001b[36mpolaris._mixins\u001b[0m:\u001b[36mmd5sum\u001b[0m:\u001b[36m27\u001b[0m - \u001b[1mComputing the checksum. This can be slow for large datasets.\u001b[0m\n"
     ]
    },
    {
     "name": "stdout",
     "output_type": "stream",
     "text": [
      "✅ SUCCESS: \u001b[1mYour benchmark has been successfully uploaded to the Hub. View it here: https://polarishub.io/benchmarks/molecularml/moleculeace_CHEMBL4616_EC50\u001b[0m\n",
      " \n",
      "moleculeace_CHEMBL4792_Ki\n",
      "⠋ Uploading dataset..."
     ]
    },
    {
     "name": "stderr",
     "output_type": "stream",
     "text": [
      "/mnt/ps/home/CORP/lu.zhu/miniconda3/envs/po_datasets/lib/python3.12/site-packages/yaspin/core.py:228: UserWarning: color, on_color and attrs are not supported when running in jupyter\n",
      "  self._color = self._set_color(value) if value else value\n",
      "\u001b[32m2024-07-24 12:03:51.685\u001b[0m | \u001b[1mINFO    \u001b[0m | \u001b[36mpolaris._mixins\u001b[0m:\u001b[36mmd5sum\u001b[0m:\u001b[36m27\u001b[0m - \u001b[1mComputing the checksum. This can be slow for large datasets.\u001b[0m\n"
     ]
    },
    {
     "name": "stdout",
     "output_type": "stream",
     "text": [
      "✅ SUCCESS: \u001b[1mYour dataset has been successfully uploaded to the Hub. View it here: https://polarishub.io/datasets/molecularml/moleculeace_CHEMBL4792_Ki\u001b[0m\n",
      " \n",
      "⠋ Uploading benchmark..."
     ]
    },
    {
     "name": "stderr",
     "output_type": "stream",
     "text": [
      "/mnt/ps/home/CORP/lu.zhu/miniconda3/envs/po_datasets/lib/python3.12/site-packages/yaspin/core.py:228: UserWarning: color, on_color and attrs are not supported when running in jupyter\n",
      "  self._color = self._set_color(value) if value else value\n",
      "\u001b[32m2024-07-24 12:03:52.736\u001b[0m | \u001b[1mINFO    \u001b[0m | \u001b[36mpolaris._mixins\u001b[0m:\u001b[36mmd5sum\u001b[0m:\u001b[36m27\u001b[0m - \u001b[1mComputing the checksum. This can be slow for large datasets.\u001b[0m\n"
     ]
    },
    {
     "name": "stdout",
     "output_type": "stream",
     "text": [
      "✅ SUCCESS: \u001b[1mYour benchmark has been successfully uploaded to the Hub. View it here: https://polarishub.io/benchmarks/molecularml/moleculeace_CHEMBL4792_Ki\u001b[0m\n",
      " \n"
     ]
    },
    {
     "name": "stderr",
     "output_type": "stream",
     "text": [
      "/mnt/ps/home/CORP/lu.zhu/miniconda3/envs/po_datasets/lib/python3.12/site-packages/yaspin/core.py:228: UserWarning: color, on_color and attrs are not supported when running in jupyter\n",
      "  self._color = self._set_color(value) if value else value\n"
     ]
    }
   ],
   "source": [
    "for path in dm.fs.glob(\n",
    "    f\"gs://polaris-public/polaris-recipes/org-MolecularML/moleculeace/data/raw/*.csv\"\n",
    "):\n",
    "    table = dm.read_csv(path)\n",
    "    name = pathlib.Path(path).stem\n",
    "    chembl_id, readout = name.split(\"_\")\n",
    "    target_name = mapping[chembl_id]\n",
    "    dataset_name = f\"moleculeace_{name}\"\n",
    "    benchmark_name = dataset_name\n",
    "    chembl_id, readout = name.split(\"_\")\n",
    "\n",
    "    print(dataset_name)\n",
    "\n",
    "    annotations = {\n",
    "        \"smiles\": ColumnAnnotation(\n",
    "            description=\"Molecule SMILES string.\",\n",
    "            modality=\"molecule\",\n",
    "        ),\n",
    "        \"exp_mean [nM]\": ColumnAnnotation(\n",
    "            description=\"Bioactivity in concentration nano Molar\",\n",
    "        ),\n",
    "        \"y\": ColumnAnnotation(\n",
    "            description=f\"Negative of log transform of the bioactivity value {readout}\",\n",
    "            userAttributes={\"unit\": \"nM\"},\n",
    "        ),\n",
    "        \"cliff_mol\": ColumnAnnotation(\n",
    "            description=\"Whether the molecule exibit activity cliff in the dataset.\",\n",
    "        ),\n",
    "        \"split\": ColumnAnnotation(\n",
    "            description=\"Train-test split provided by MoleculeACE.\",\n",
    "        ),\n",
    "    }\n",
    "    dataset = Dataset(\n",
    "        table=table[annotations.keys()].copy(),\n",
    "        name=dataset_name,\n",
    "        description=f\"Bioassay {chembl_id} of protein {target_name} molecular machine learning with activity cliffs.\",\n",
    "        source=source,\n",
    "        annotations=annotations,\n",
    "        owner=owner,\n",
    "        tags=tags,\n",
    "        license=\"CC-BY-4.0\",\n",
    "        readme=load_readme(f\"org-MolecularML/moleculeACE/docs/{dataset_name}.md\")\n",
    "    )\n",
    "\n",
    "    dataset.upload_to_hub()\n",
    "\n",
    "    split = (\n",
    "        table.query(\"split == 'train'\").index.tolist(),\n",
    "        table.query(\"split == 'test'\").index.tolist(),\n",
    "    )\n",
    "\n",
    "    benchmark = SingleTaskBenchmarkSpecification(\n",
    "        name=benchmark_name,\n",
    "        dataset=dataset,\n",
    "        target_cols=target_col,\n",
    "        target_type=task,\n",
    "        input_cols=[mol_col],\n",
    "        split=split,\n",
    "        metrics=[\"mean_squared_error\"],\n",
    "        tags=[\"ADMET\", \"singletask\"],\n",
    "        owner=owner,\n",
    "        readme=load_readme(f\"org-MolecularML/moleculeACE/docs/{dataset_name}.md\")\n",
    "    )\n",
    "\n",
    "    benchmark.upload_to_hub()"
   ]
  },
  {
   "cell_type": "code",
   "execution_count": null,
   "metadata": {},
   "outputs": [],
   "source": []
  }
 ],
 "metadata": {
  "kernelspec": {
   "display_name": "lide",
   "language": "python",
   "name": "python3"
  },
  "language_info": {
   "codemirror_mode": {
    "name": "ipython",
    "version": 3
   },
   "file_extension": ".py",
   "mimetype": "text/x-python",
   "name": "python",
   "nbconvert_exporter": "python",
   "pygments_lexer": "ipython3",
   "version": "3.12.4"
  }
 },
 "nbformat": 4,
 "nbformat_minor": 2
}
