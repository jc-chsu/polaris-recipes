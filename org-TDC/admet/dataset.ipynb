{
 "cells": [
  {
   "cell_type": "code",
   "execution_count": 1,
   "metadata": {},
   "outputs": [
    {
     "name": "stderr",
     "output_type": "stream",
     "text": [
      "/mnt/ps/home/CORP/lu.zhu/miniconda3/envs/po_datasets/lib/python3.12/site-packages/tqdm/auto.py:21: TqdmWarning: IProgress not found. Please update jupyter and ipywidgets. See https://ipywidgets.readthedocs.io/en/stable/user_install.html\n",
      "  from .autonotebook import tqdm as notebook_tqdm\n"
     ]
    }
   ],
   "source": [
    "%load_ext autoreload\n",
    "%autoreload 2\n",
    "\n",
    "import os\n",
    "import sys\n",
    "import pathlib\n",
    "\n",
    "import pandas as pd\n",
    "import datamol as dm\n",
    "\n",
    "from polaris.dataset import Dataset, ColumnAnnotation\n",
    "from polaris.benchmark import SingleTaskBenchmarkSpecification\n",
    "from polaris.utils.types import HubOwner\n",
    "\n",
    "from tdc.benchmark_group import admet_group\n",
    "\n",
    "from polaris.evaluate._metric import Metric\n",
    "\n",
    "root = pathlib.Path(\"__file__\").absolute().parents[2]\n",
    "# set to recipe root directory\n",
    "os.chdir(root)\n",
    "sys.path.insert(0, str(root))"
   ]
  },
  {
   "cell_type": "code",
   "execution_count": 2,
   "metadata": {},
   "outputs": [
    {
     "data": {
      "text/plain": [
       "HubOwner(slug='tdcommons', external_id=None, type='organization')"
      ]
     },
     "execution_count": 2,
     "metadata": {},
     "output_type": "execute_result"
    }
   ],
   "source": [
    "# Get the owner and organization\n",
    "org = \"tdcommons\"\n",
    "\n",
    "owner = HubOwner(slug=org, type=\"organization\")\n",
    "owner"
   ]
  },
  {
   "cell_type": "code",
   "execution_count": 3,
   "metadata": {},
   "outputs": [],
   "source": [
    "from tdc import utils\n",
    "\n",
    "names = utils.retrieve_benchmark_names(\"ADMET_Group\")"
   ]
  },
  {
   "cell_type": "code",
   "execution_count": 4,
   "metadata": {},
   "outputs": [],
   "source": [
    "tdc_info = pd.read_csv(\n",
    "    \"/mnt/ps/home/CORP/lu.zhu/project/polaris-recipes/org-TDC/admet/tdc_admet_info.csv\",\n",
    "    index_col=\"Name\",\n",
    ")"
   ]
  },
  {
   "cell_type": "code",
   "execution_count": 5,
   "metadata": {},
   "outputs": [],
   "source": [
    "metric_dict = {\n",
    "    \"MAE\": \"mean_absolute_error\",\n",
    "    \"AUROC\": \"roc_auc\",\n",
    "    \"Spearman\": \"spearmanr\",\n",
    "    \"AUPRC\": \"pr_auc\",\n",
    "}\n",
    "\n",
    "Y_dict = {\n",
    "    \"caco2_wang\": \"Caco permeability readout.\",\n",
    "    \"hia_hou\": \"Human intestinal absorption readout.\",\n",
    "    \"pgp_broccatelli\": \"Pgp inhibition potency.\",\n",
    "    \"bioavailability_ma\": \"Activity of bioavailability.\",\n",
    "    \"lipophilicity_astrazeneca\": \"Activity of lipophilicity.\",\n",
    "    \"solubility_aqsoldb\": \"Aqeuous solubility.\",\n",
    "    \"bbb_martins\": \"Ability of a drug to penetrate the blood-brain barrier.\",\n",
    "    \"ppbr_az\": \"Plasma protein binding rate.\",\n",
    "    \"vdss_lombardo\": \"The volume of distribution at steady state\",\n",
    "    \"cyp2d6_veith\": \"CYP2D6 inhibition.\",\n",
    "    \"cyp3a4_veith\": \"CYP3A4 inhibition.\",\n",
    "    \"cyp2c9_veith\": \"CYP2C9 inhibition.\",\n",
    "    \"cyp2d6_substrate_carbonmangels\": \"CYP2D6 substrate.\",\n",
    "    \"cyp3a4_substrate_carbonmangels\": \"CYP3A4 substrate.\",\n",
    "    \"cyp2c9_substrate_carbonmangels\": \"CYP2C9 substrate.\",\n",
    "    \"half_life_obach\": \"Half life duration.\",\n",
    "    \"clearance_microsome_az\": \"Microsomal intrinsic clearance.\",\n",
    "    \"clearance_hepatocyte_az\": \"Hepatocytic intrinsic clearance.\",\n",
    "    \"herg\": \"hERG inhibition.\",\n",
    "    \"ames\": \"Drug mutagenicity.\",\n",
    "    \"dili\": \"Drug induced liver injury.\",\n",
    "    \"ld50_zhu\": \"Acute toxicity LD50.\",\n",
    "}"
   ]
  },
  {
   "cell_type": "code",
   "execution_count": 6,
   "metadata": {},
   "outputs": [],
   "source": [
    "tox = [\n",
    "    \"herg\",\n",
    "    \"dili\",\n",
    "    \"ames\",\n",
    "    \"ld50_zhu\",\n",
    "]\n",
    "target_col = \"Y\"\n",
    "mol_col = \"Drug\""
   ]
  },
  {
   "cell_type": "code",
   "execution_count": 9,
   "metadata": {},
   "outputs": [
    {
     "name": "stderr",
     "output_type": "stream",
     "text": [
      "Found local copy...\n"
     ]
    },
    {
     "name": "stdout",
     "output_type": "stream",
     "text": [
      "caco2_wang\n",
      "⠋ Uploading dataset..."
     ]
    },
    {
     "name": "stderr",
     "output_type": "stream",
     "text": [
      "\u001b[32m2024-07-22 15:39:24.252\u001b[0m | \u001b[1mINFO    \u001b[0m | \u001b[36mpolaris._mixins\u001b[0m:\u001b[36mmd5sum\u001b[0m:\u001b[36m27\u001b[0m - \u001b[1mComputing the checksum. This can be slow for large datasets.\u001b[0m\n"
     ]
    },
    {
     "name": "stdout",
     "output_type": "stream",
     "text": [
      "💥 ERROR: Failed to upload dataset. \n",
      "⠋ Uploading benchmark..."
     ]
    },
    {
     "name": "stderr",
     "output_type": "stream",
     "text": [
      "\u001b[32m2024-07-22 15:39:24.634\u001b[0m | \u001b[1mINFO    \u001b[0m | \u001b[36mpolaris._mixins\u001b[0m:\u001b[36mmd5sum\u001b[0m:\u001b[36m27\u001b[0m - \u001b[1mComputing the checksum. This can be slow for large datasets.\u001b[0m\n"
     ]
    },
    {
     "name": "stdout",
     "output_type": "stream",
     "text": [
      "⠸ Uploading benchmark... "
     ]
    },
    {
     "name": "stderr",
     "output_type": "stream",
     "text": [
      "Found local copy...\n"
     ]
    },
    {
     "name": "stdout",
     "output_type": "stream",
     "text": [
      "✅ SUCCESS: \u001b[1mYour benchmark has been successfully uploaded to the Hub. View it here: https://polarishub.io/benchmarks/tdcommons/caco2_wang\u001b[0m\n",
      " \n",
      "hia_hou\n",
      "⠋ Uploading dataset..."
     ]
    },
    {
     "name": "stderr",
     "output_type": "stream",
     "text": [
      "\u001b[32m2024-07-22 15:39:24.991\u001b[0m | \u001b[1mINFO    \u001b[0m | \u001b[36mpolaris._mixins\u001b[0m:\u001b[36mmd5sum\u001b[0m:\u001b[36m27\u001b[0m - \u001b[1mComputing the checksum. This can be slow for large datasets.\u001b[0m\n"
     ]
    },
    {
     "name": "stdout",
     "output_type": "stream",
     "text": [
      "✅ SUCCESS: \u001b[1mYour dataset has been successfully uploaded to the Hub. View it here: https://polarishub.io/datasets/tdcommons/hia_hou\u001b[0m\n",
      " \n",
      "⠋ Uploading benchmark..."
     ]
    },
    {
     "name": "stderr",
     "output_type": "stream",
     "text": [
      "\u001b[32m2024-07-22 15:39:25.996\u001b[0m | \u001b[1mINFO    \u001b[0m | \u001b[36mpolaris._mixins\u001b[0m:\u001b[36mmd5sum\u001b[0m:\u001b[36m27\u001b[0m - \u001b[1mComputing the checksum. This can be slow for large datasets.\u001b[0m\n"
     ]
    },
    {
     "name": "stdout",
     "output_type": "stream",
     "text": [
      "⠸ Uploading benchmark... "
     ]
    },
    {
     "name": "stderr",
     "output_type": "stream",
     "text": [
      "Found local copy...\n"
     ]
    },
    {
     "name": "stdout",
     "output_type": "stream",
     "text": [
      "✅ SUCCESS: \u001b[1mYour benchmark has been successfully uploaded to the Hub. View it here: https://polarishub.io/benchmarks/tdcommons/hia_hou\u001b[0m\n",
      " \n",
      "pgp_broccatelli\n",
      "⠋ Uploading dataset..."
     ]
    },
    {
     "name": "stderr",
     "output_type": "stream",
     "text": [
      "\u001b[32m2024-07-22 15:39:26.314\u001b[0m | \u001b[1mINFO    \u001b[0m | \u001b[36mpolaris._mixins\u001b[0m:\u001b[36mmd5sum\u001b[0m:\u001b[36m27\u001b[0m - \u001b[1mComputing the checksum. This can be slow for large datasets.\u001b[0m\n"
     ]
    },
    {
     "name": "stdout",
     "output_type": "stream",
     "text": [
      "✅ SUCCESS: \u001b[1mYour dataset has been successfully uploaded to the Hub. View it here: https://polarishub.io/datasets/tdcommons/pgp_broccatelli\u001b[0m\n",
      " \n",
      "⠋ Uploading benchmark..."
     ]
    },
    {
     "name": "stderr",
     "output_type": "stream",
     "text": [
      "\u001b[32m2024-07-22 15:39:27.412\u001b[0m | \u001b[1mINFO    \u001b[0m | \u001b[36mpolaris._mixins\u001b[0m:\u001b[36mmd5sum\u001b[0m:\u001b[36m27\u001b[0m - \u001b[1mComputing the checksum. This can be slow for large datasets.\u001b[0m\n"
     ]
    },
    {
     "name": "stdout",
     "output_type": "stream",
     "text": [
      "⠸ Uploading benchmark... "
     ]
    },
    {
     "name": "stderr",
     "output_type": "stream",
     "text": [
      "Found local copy...\n"
     ]
    },
    {
     "name": "stdout",
     "output_type": "stream",
     "text": [
      "✅ SUCCESS: \u001b[1mYour benchmark has been successfully uploaded to the Hub. View it here: https://polarishub.io/benchmarks/tdcommons/pgp_broccatelli\u001b[0m\n",
      " \n",
      "bioavailability_ma\n",
      "⠋ Uploading dataset..."
     ]
    },
    {
     "name": "stderr",
     "output_type": "stream",
     "text": [
      "\u001b[32m2024-07-22 15:39:27.744\u001b[0m | \u001b[1mINFO    \u001b[0m | \u001b[36mpolaris._mixins\u001b[0m:\u001b[36mmd5sum\u001b[0m:\u001b[36m27\u001b[0m - \u001b[1mComputing the checksum. This can be slow for large datasets.\u001b[0m\n"
     ]
    },
    {
     "name": "stdout",
     "output_type": "stream",
     "text": [
      "✅ SUCCESS: \u001b[1mYour dataset has been successfully uploaded to the Hub. View it here: https://polarishub.io/datasets/tdcommons/bioavailability_ma\u001b[0m\n",
      " \n",
      "⠋ Uploading benchmark..."
     ]
    },
    {
     "name": "stderr",
     "output_type": "stream",
     "text": [
      "\u001b[32m2024-07-22 15:39:28.717\u001b[0m | \u001b[1mINFO    \u001b[0m | \u001b[36mpolaris._mixins\u001b[0m:\u001b[36mmd5sum\u001b[0m:\u001b[36m27\u001b[0m - \u001b[1mComputing the checksum. This can be slow for large datasets.\u001b[0m\n"
     ]
    },
    {
     "name": "stdout",
     "output_type": "stream",
     "text": [
      "⠹ Uploading benchmark... "
     ]
    },
    {
     "name": "stderr",
     "output_type": "stream",
     "text": [
      "Found local copy...\n"
     ]
    },
    {
     "name": "stdout",
     "output_type": "stream",
     "text": [
      "✅ SUCCESS: \u001b[1mYour benchmark has been successfully uploaded to the Hub. View it here: https://polarishub.io/benchmarks/tdcommons/bioavailability_ma\u001b[0m\n",
      " \n",
      "lipophilicity_astrazeneca\n",
      "⠋ Uploading dataset..."
     ]
    },
    {
     "name": "stderr",
     "output_type": "stream",
     "text": [
      "\u001b[32m2024-07-22 15:39:29.031\u001b[0m | \u001b[1mINFO    \u001b[0m | \u001b[36mpolaris._mixins\u001b[0m:\u001b[36mmd5sum\u001b[0m:\u001b[36m27\u001b[0m - \u001b[1mComputing the checksum. This can be slow for large datasets.\u001b[0m\n"
     ]
    },
    {
     "name": "stdout",
     "output_type": "stream",
     "text": [
      "✅ SUCCESS: \u001b[1mYour dataset has been successfully uploaded to the Hub. View it here: https://polarishub.io/datasets/tdcommons/lipophilicity_astrazeneca\u001b[0m\n",
      " \n",
      "⠋ Uploading benchmark..."
     ]
    },
    {
     "name": "stderr",
     "output_type": "stream",
     "text": [
      "\u001b[32m2024-07-22 15:39:30.022\u001b[0m | \u001b[1mINFO    \u001b[0m | \u001b[36mpolaris._mixins\u001b[0m:\u001b[36mmd5sum\u001b[0m:\u001b[36m27\u001b[0m - \u001b[1mComputing the checksum. This can be slow for large datasets.\u001b[0m\n"
     ]
    },
    {
     "name": "stdout",
     "output_type": "stream",
     "text": [
      "⠼ Uploading benchmark... "
     ]
    },
    {
     "name": "stderr",
     "output_type": "stream",
     "text": [
      "Found local copy...\n"
     ]
    },
    {
     "name": "stdout",
     "output_type": "stream",
     "text": [
      "✅ SUCCESS: \u001b[1mYour benchmark has been successfully uploaded to the Hub. View it here: https://polarishub.io/benchmarks/tdcommons/lipophilicity_astrazeneca\u001b[0m\n",
      " \n",
      "solubility_aqsoldb\n",
      "⠋ Uploading dataset..."
     ]
    },
    {
     "name": "stderr",
     "output_type": "stream",
     "text": [
      "\u001b[32m2024-07-22 15:39:30.398\u001b[0m | \u001b[1mINFO    \u001b[0m | \u001b[36mpolaris._mixins\u001b[0m:\u001b[36mmd5sum\u001b[0m:\u001b[36m27\u001b[0m - \u001b[1mComputing the checksum. This can be slow for large datasets.\u001b[0m\n"
     ]
    },
    {
     "name": "stdout",
     "output_type": "stream",
     "text": [
      "✅ SUCCESS: \u001b[1mYour dataset has been successfully uploaded to the Hub. View it here: https://polarishub.io/datasets/tdcommons/solubility_aqsoldb\u001b[0m\n",
      " \n",
      "⠋ Uploading benchmark..."
     ]
    },
    {
     "name": "stderr",
     "output_type": "stream",
     "text": [
      "\u001b[32m2024-07-22 15:39:31.406\u001b[0m | \u001b[1mINFO    \u001b[0m | \u001b[36mpolaris._mixins\u001b[0m:\u001b[36mmd5sum\u001b[0m:\u001b[36m27\u001b[0m - \u001b[1mComputing the checksum. This can be slow for large datasets.\u001b[0m\n"
     ]
    },
    {
     "name": "stdout",
     "output_type": "stream",
     "text": [
      "⠼ Uploading benchmark... "
     ]
    },
    {
     "name": "stderr",
     "output_type": "stream",
     "text": [
      "Found local copy...\n"
     ]
    },
    {
     "name": "stdout",
     "output_type": "stream",
     "text": [
      "✅ SUCCESS: \u001b[1mYour benchmark has been successfully uploaded to the Hub. View it here: https://polarishub.io/benchmarks/tdcommons/solubility_aqsoldb\u001b[0m\n",
      " \n",
      "bbb_martins\n",
      "⠋ Uploading dataset..."
     ]
    },
    {
     "name": "stderr",
     "output_type": "stream",
     "text": [
      "\u001b[32m2024-07-22 15:39:31.873\u001b[0m | \u001b[1mINFO    \u001b[0m | \u001b[36mpolaris._mixins\u001b[0m:\u001b[36mmd5sum\u001b[0m:\u001b[36m27\u001b[0m - \u001b[1mComputing the checksum. This can be slow for large datasets.\u001b[0m\n"
     ]
    },
    {
     "name": "stdout",
     "output_type": "stream",
     "text": [
      "✅ SUCCESS: \u001b[1mYour dataset has been successfully uploaded to the Hub. View it here: https://polarishub.io/datasets/tdcommons/bbb_martins\u001b[0m\n",
      " \n",
      "⠋ Uploading benchmark..."
     ]
    },
    {
     "name": "stderr",
     "output_type": "stream",
     "text": [
      "\u001b[32m2024-07-22 15:39:32.896\u001b[0m | \u001b[1mINFO    \u001b[0m | \u001b[36mpolaris._mixins\u001b[0m:\u001b[36mmd5sum\u001b[0m:\u001b[36m27\u001b[0m - \u001b[1mComputing the checksum. This can be slow for large datasets.\u001b[0m\n"
     ]
    },
    {
     "name": "stdout",
     "output_type": "stream",
     "text": [
      "⠸ Uploading benchmark... "
     ]
    },
    {
     "name": "stderr",
     "output_type": "stream",
     "text": [
      "Found local copy...\n"
     ]
    },
    {
     "name": "stdout",
     "output_type": "stream",
     "text": [
      "✅ SUCCESS: \u001b[1mYour benchmark has been successfully uploaded to the Hub. View it here: https://polarishub.io/benchmarks/tdcommons/bbb_martins\u001b[0m\n",
      " \n",
      "ppbr_az\n",
      "⠋ Uploading dataset..."
     ]
    },
    {
     "name": "stderr",
     "output_type": "stream",
     "text": [
      "\u001b[32m2024-07-22 15:39:33.254\u001b[0m | \u001b[1mINFO    \u001b[0m | \u001b[36mpolaris._mixins\u001b[0m:\u001b[36mmd5sum\u001b[0m:\u001b[36m27\u001b[0m - \u001b[1mComputing the checksum. This can be slow for large datasets.\u001b[0m\n"
     ]
    },
    {
     "name": "stdout",
     "output_type": "stream",
     "text": [
      "✅ SUCCESS: \u001b[1mYour dataset has been successfully uploaded to the Hub. View it here: https://polarishub.io/datasets/tdcommons/ppbr_az\u001b[0m\n",
      " \n",
      "⠋ Uploading benchmark..."
     ]
    },
    {
     "name": "stderr",
     "output_type": "stream",
     "text": [
      "\u001b[32m2024-07-22 15:39:34.228\u001b[0m | \u001b[1mINFO    \u001b[0m | \u001b[36mpolaris._mixins\u001b[0m:\u001b[36mmd5sum\u001b[0m:\u001b[36m27\u001b[0m - \u001b[1mComputing the checksum. This can be slow for large datasets.\u001b[0m\n"
     ]
    },
    {
     "name": "stdout",
     "output_type": "stream",
     "text": [
      "⠸ Uploading benchmark... "
     ]
    },
    {
     "name": "stderr",
     "output_type": "stream",
     "text": [
      "Found local copy...\n"
     ]
    },
    {
     "name": "stdout",
     "output_type": "stream",
     "text": [
      "✅ SUCCESS: \u001b[1mYour benchmark has been successfully uploaded to the Hub. View it here: https://polarishub.io/benchmarks/tdcommons/ppbr_az\u001b[0m\n",
      " \n",
      "vdss_lombardo\n",
      "⠋ Uploading dataset..."
     ]
    },
    {
     "name": "stderr",
     "output_type": "stream",
     "text": [
      "\u001b[32m2024-07-22 15:39:34.619\u001b[0m | \u001b[1mINFO    \u001b[0m | \u001b[36mpolaris._mixins\u001b[0m:\u001b[36mmd5sum\u001b[0m:\u001b[36m27\u001b[0m - \u001b[1mComputing the checksum. This can be slow for large datasets.\u001b[0m\n"
     ]
    },
    {
     "name": "stdout",
     "output_type": "stream",
     "text": [
      "✅ SUCCESS: \u001b[1mYour dataset has been successfully uploaded to the Hub. View it here: https://polarishub.io/datasets/tdcommons/vdss_lombardo\u001b[0m\n",
      " \n",
      "⠋ Uploading benchmark..."
     ]
    },
    {
     "name": "stderr",
     "output_type": "stream",
     "text": [
      "\u001b[32m2024-07-22 15:39:35.609\u001b[0m | \u001b[1mINFO    \u001b[0m | \u001b[36mpolaris._mixins\u001b[0m:\u001b[36mmd5sum\u001b[0m:\u001b[36m27\u001b[0m - \u001b[1mComputing the checksum. This can be slow for large datasets.\u001b[0m\n"
     ]
    },
    {
     "name": "stdout",
     "output_type": "stream",
     "text": [
      "⠹ Uploading benchmark... "
     ]
    },
    {
     "name": "stderr",
     "output_type": "stream",
     "text": [
      "Found local copy...\n"
     ]
    },
    {
     "name": "stdout",
     "output_type": "stream",
     "text": [
      "✅ SUCCESS: \u001b[1mYour benchmark has been successfully uploaded to the Hub. View it here: https://polarishub.io/benchmarks/tdcommons/vdss_lombardo\u001b[0m\n",
      " \n",
      "cyp2d6_veith\n",
      "⠋ Uploading dataset..."
     ]
    },
    {
     "name": "stderr",
     "output_type": "stream",
     "text": [
      "\u001b[32m2024-07-22 15:39:35.876\u001b[0m | \u001b[1mINFO    \u001b[0m | \u001b[36mpolaris._mixins\u001b[0m:\u001b[36mmd5sum\u001b[0m:\u001b[36m27\u001b[0m - \u001b[1mComputing the checksum. This can be slow for large datasets.\u001b[0m\n"
     ]
    },
    {
     "name": "stdout",
     "output_type": "stream",
     "text": [
      "✅ SUCCESS: \u001b[1mYour dataset has been successfully uploaded to the Hub. View it here: https://polarishub.io/datasets/tdcommons/cyp2d6_veith\u001b[0m\n",
      " \n",
      "⠋ Uploading benchmark..."
     ]
    },
    {
     "name": "stderr",
     "output_type": "stream",
     "text": [
      "\u001b[32m2024-07-22 15:39:36.914\u001b[0m | \u001b[1mINFO    \u001b[0m | \u001b[36mpolaris._mixins\u001b[0m:\u001b[36mmd5sum\u001b[0m:\u001b[36m27\u001b[0m - \u001b[1mComputing the checksum. This can be slow for large datasets.\u001b[0m\n"
     ]
    },
    {
     "name": "stdout",
     "output_type": "stream",
     "text": [
      "⠋ Uploading benchmark... "
     ]
    },
    {
     "name": "stderr",
     "output_type": "stream",
     "text": [
      "Found local copy...\n"
     ]
    },
    {
     "name": "stdout",
     "output_type": "stream",
     "text": [
      "✅ SUCCESS: \u001b[1mYour benchmark has been successfully uploaded to the Hub. View it here: https://polarishub.io/benchmarks/tdcommons/cyp2d6_veith\u001b[0m\n",
      " \n",
      "cyp3a4_veith\n",
      "⠋ Uploading dataset..."
     ]
    },
    {
     "name": "stderr",
     "output_type": "stream",
     "text": [
      "\u001b[32m2024-07-22 15:39:37.849\u001b[0m | \u001b[1mINFO    \u001b[0m | \u001b[36mpolaris._mixins\u001b[0m:\u001b[36mmd5sum\u001b[0m:\u001b[36m27\u001b[0m - \u001b[1mComputing the checksum. This can be slow for large datasets.\u001b[0m\n"
     ]
    },
    {
     "name": "stdout",
     "output_type": "stream",
     "text": [
      "✅ SUCCESS: \u001b[1mYour dataset has been successfully uploaded to the Hub. View it here: https://polarishub.io/datasets/tdcommons/cyp3a4_veith\u001b[0m\n",
      " \n",
      "⠋ Uploading benchmark..."
     ]
    },
    {
     "name": "stderr",
     "output_type": "stream",
     "text": [
      "\u001b[32m2024-07-22 15:39:39.004\u001b[0m | \u001b[1mINFO    \u001b[0m | \u001b[36mpolaris._mixins\u001b[0m:\u001b[36mmd5sum\u001b[0m:\u001b[36m27\u001b[0m - \u001b[1mComputing the checksum. This can be slow for large datasets.\u001b[0m\n"
     ]
    },
    {
     "name": "stdout",
     "output_type": "stream",
     "text": [
      "⠦ Uploading benchmark... "
     ]
    },
    {
     "name": "stderr",
     "output_type": "stream",
     "text": [
      "Found local copy...\n"
     ]
    },
    {
     "name": "stdout",
     "output_type": "stream",
     "text": [
      "✅ SUCCESS: \u001b[1mYour benchmark has been successfully uploaded to the Hub. View it here: https://polarishub.io/benchmarks/tdcommons/cyp3a4_veith\u001b[0m\n",
      " \n",
      "cyp2c9_veith\n",
      "⠋ Uploading dataset..."
     ]
    },
    {
     "name": "stderr",
     "output_type": "stream",
     "text": [
      "\u001b[32m2024-07-22 15:39:39.609\u001b[0m | \u001b[1mINFO    \u001b[0m | \u001b[36mpolaris._mixins\u001b[0m:\u001b[36mmd5sum\u001b[0m:\u001b[36m27\u001b[0m - \u001b[1mComputing the checksum. This can be slow for large datasets.\u001b[0m\n"
     ]
    },
    {
     "name": "stdout",
     "output_type": "stream",
     "text": [
      "✅ SUCCESS: \u001b[1mYour dataset has been successfully uploaded to the Hub. View it here: https://polarishub.io/datasets/tdcommons/cyp2c9_veith\u001b[0m\n",
      " \n",
      "⠋ Uploading benchmark..."
     ]
    },
    {
     "name": "stderr",
     "output_type": "stream",
     "text": [
      "\u001b[32m2024-07-22 15:39:40.593\u001b[0m | \u001b[1mINFO    \u001b[0m | \u001b[36mpolaris._mixins\u001b[0m:\u001b[36mmd5sum\u001b[0m:\u001b[36m27\u001b[0m - \u001b[1mComputing the checksum. This can be slow for large datasets.\u001b[0m\n"
     ]
    },
    {
     "name": "stdout",
     "output_type": "stream",
     "text": [
      "⠴ Uploading benchmark... "
     ]
    },
    {
     "name": "stderr",
     "output_type": "stream",
     "text": [
      "Found local copy...\n"
     ]
    },
    {
     "name": "stdout",
     "output_type": "stream",
     "text": [
      "✅ SUCCESS: \u001b[1mYour benchmark has been successfully uploaded to the Hub. View it here: https://polarishub.io/benchmarks/tdcommons/cyp2c9_veith\u001b[0m\n",
      " \n",
      "cyp2d6_substrate_carbonmangels\n",
      "⠋ Uploading dataset..."
     ]
    },
    {
     "name": "stderr",
     "output_type": "stream",
     "text": [
      "\u001b[32m2024-07-22 15:39:41.119\u001b[0m | \u001b[1mINFO    \u001b[0m | \u001b[36mpolaris._mixins\u001b[0m:\u001b[36mmd5sum\u001b[0m:\u001b[36m27\u001b[0m - \u001b[1mComputing the checksum. This can be slow for large datasets.\u001b[0m\n"
     ]
    },
    {
     "name": "stdout",
     "output_type": "stream",
     "text": [
      "✅ SUCCESS: \u001b[1mYour dataset has been successfully uploaded to the Hub. View it here: https://polarishub.io/datasets/tdcommons/cyp2d6_substrate_carbonmangels\u001b[0m\n",
      " \n",
      "⠋ Uploading benchmark..."
     ]
    },
    {
     "name": "stderr",
     "output_type": "stream",
     "text": [
      "\u001b[32m2024-07-22 15:39:42.084\u001b[0m | \u001b[1mINFO    \u001b[0m | \u001b[36mpolaris._mixins\u001b[0m:\u001b[36mmd5sum\u001b[0m:\u001b[36m27\u001b[0m - \u001b[1mComputing the checksum. This can be slow for large datasets.\u001b[0m\n"
     ]
    },
    {
     "name": "stdout",
     "output_type": "stream",
     "text": [
      "⠹ Uploading benchmark... "
     ]
    },
    {
     "name": "stderr",
     "output_type": "stream",
     "text": [
      "Found local copy...\n"
     ]
    },
    {
     "name": "stdout",
     "output_type": "stream",
     "text": [
      "✅ SUCCESS: \u001b[1mYour benchmark has been successfully uploaded to the Hub. View it here: https://polarishub.io/benchmarks/tdcommons/cyp2d6_substrate_carbonmangels\u001b[0m\n",
      " \n",
      "cyp3a4_substrate_carbonmangels\n",
      "⠋ Uploading dataset..."
     ]
    },
    {
     "name": "stderr",
     "output_type": "stream",
     "text": [
      "\u001b[32m2024-07-22 15:39:42.366\u001b[0m | \u001b[1mINFO    \u001b[0m | \u001b[36mpolaris._mixins\u001b[0m:\u001b[36mmd5sum\u001b[0m:\u001b[36m27\u001b[0m - \u001b[1mComputing the checksum. This can be slow for large datasets.\u001b[0m\n"
     ]
    },
    {
     "name": "stdout",
     "output_type": "stream",
     "text": [
      "✅ SUCCESS: \u001b[1mYour dataset has been successfully uploaded to the Hub. View it here: https://polarishub.io/datasets/tdcommons/cyp3a4_substrate_carbonmangels\u001b[0m\n",
      " \n",
      "⠋ Uploading benchmark..."
     ]
    },
    {
     "name": "stderr",
     "output_type": "stream",
     "text": [
      "\u001b[32m2024-07-22 15:39:43.342\u001b[0m | \u001b[1mINFO    \u001b[0m | \u001b[36mpolaris._mixins\u001b[0m:\u001b[36mmd5sum\u001b[0m:\u001b[36m27\u001b[0m - \u001b[1mComputing the checksum. This can be slow for large datasets.\u001b[0m\n"
     ]
    },
    {
     "name": "stdout",
     "output_type": "stream",
     "text": [
      "⠹ Uploading benchmark... "
     ]
    },
    {
     "name": "stderr",
     "output_type": "stream",
     "text": [
      "Found local copy...\n"
     ]
    },
    {
     "name": "stdout",
     "output_type": "stream",
     "text": [
      "✅ SUCCESS: \u001b[1mYour benchmark has been successfully uploaded to the Hub. View it here: https://polarishub.io/benchmarks/tdcommons/cyp3a4_substrate_carbonmangels\u001b[0m\n",
      " \n",
      "cyp2c9_substrate_carbonmangels\n",
      "⠋ Uploading dataset..."
     ]
    },
    {
     "name": "stderr",
     "output_type": "stream",
     "text": [
      "\u001b[32m2024-07-22 15:39:43.622\u001b[0m | \u001b[1mINFO    \u001b[0m | \u001b[36mpolaris._mixins\u001b[0m:\u001b[36mmd5sum\u001b[0m:\u001b[36m27\u001b[0m - \u001b[1mComputing the checksum. This can be slow for large datasets.\u001b[0m\n"
     ]
    },
    {
     "name": "stdout",
     "output_type": "stream",
     "text": [
      "✅ SUCCESS: \u001b[1mYour dataset has been successfully uploaded to the Hub. View it here: https://polarishub.io/datasets/tdcommons/cyp2c9_substrate_carbonmangels\u001b[0m\n",
      " \n"
     ]
    },
    {
     "name": "stderr",
     "output_type": "stream",
     "text": [
      "\u001b[32m2024-07-22 15:39:44.582\u001b[0m | \u001b[1mINFO    \u001b[0m | \u001b[36mpolaris._mixins\u001b[0m:\u001b[36mmd5sum\u001b[0m:\u001b[36m27\u001b[0m - \u001b[1mComputing the checksum. This can be slow for large datasets.\u001b[0m\n"
     ]
    },
    {
     "name": "stdout",
     "output_type": "stream",
     "text": [
      "⠹ Uploading benchmark... "
     ]
    },
    {
     "name": "stderr",
     "output_type": "stream",
     "text": [
      "Found local copy...\n"
     ]
    },
    {
     "name": "stdout",
     "output_type": "stream",
     "text": [
      "✅ SUCCESS: \u001b[1mYour benchmark has been successfully uploaded to the Hub. View it here: https://polarishub.io/benchmarks/tdcommons/cyp2c9_substrate_carbonmangels\u001b[0m\n",
      " \n",
      "half_life_obach\n",
      "⠋ Uploading dataset..."
     ]
    },
    {
     "name": "stderr",
     "output_type": "stream",
     "text": [
      "\u001b[32m2024-07-22 15:39:44.887\u001b[0m | \u001b[1mINFO    \u001b[0m | \u001b[36mpolaris._mixins\u001b[0m:\u001b[36mmd5sum\u001b[0m:\u001b[36m27\u001b[0m - \u001b[1mComputing the checksum. This can be slow for large datasets.\u001b[0m\n"
     ]
    },
    {
     "name": "stdout",
     "output_type": "stream",
     "text": [
      "✅ SUCCESS: \u001b[1mYour dataset has been successfully uploaded to the Hub. View it here: https://polarishub.io/datasets/tdcommons/half_life_obach\u001b[0m\n",
      " \n",
      "⠋ Uploading benchmark..."
     ]
    },
    {
     "name": "stderr",
     "output_type": "stream",
     "text": [
      "\u001b[32m2024-07-22 15:39:46.100\u001b[0m | \u001b[1mINFO    \u001b[0m | \u001b[36mpolaris._mixins\u001b[0m:\u001b[36mmd5sum\u001b[0m:\u001b[36m27\u001b[0m - \u001b[1mComputing the checksum. This can be slow for large datasets.\u001b[0m\n"
     ]
    },
    {
     "name": "stdout",
     "output_type": "stream",
     "text": [
      "⠸ Uploading benchmark... "
     ]
    },
    {
     "name": "stderr",
     "output_type": "stream",
     "text": [
      "Found local copy...\n"
     ]
    },
    {
     "name": "stdout",
     "output_type": "stream",
     "text": [
      "✅ SUCCESS: \u001b[1mYour benchmark has been successfully uploaded to the Hub. View it here: https://polarishub.io/benchmarks/tdcommons/half_life_obach\u001b[0m\n",
      " \n",
      "clearance_microsome_az\n",
      "⠋ Uploading dataset..."
     ]
    },
    {
     "name": "stderr",
     "output_type": "stream",
     "text": [
      "\u001b[32m2024-07-22 15:39:46.428\u001b[0m | \u001b[1mINFO    \u001b[0m | \u001b[36mpolaris._mixins\u001b[0m:\u001b[36mmd5sum\u001b[0m:\u001b[36m27\u001b[0m - \u001b[1mComputing the checksum. This can be slow for large datasets.\u001b[0m\n"
     ]
    },
    {
     "name": "stdout",
     "output_type": "stream",
     "text": [
      "✅ SUCCESS: \u001b[1mYour dataset has been successfully uploaded to the Hub. View it here: https://polarishub.io/datasets/tdcommons/clearance_microsome_az\u001b[0m\n",
      " \n",
      "⠋ Uploading benchmark..."
     ]
    },
    {
     "name": "stderr",
     "output_type": "stream",
     "text": [
      "\u001b[32m2024-07-22 15:39:47.424\u001b[0m | \u001b[1mINFO    \u001b[0m | \u001b[36mpolaris._mixins\u001b[0m:\u001b[36mmd5sum\u001b[0m:\u001b[36m27\u001b[0m - \u001b[1mComputing the checksum. This can be slow for large datasets.\u001b[0m\n"
     ]
    },
    {
     "name": "stdout",
     "output_type": "stream",
     "text": [
      "⠸ Uploading benchmark... "
     ]
    },
    {
     "name": "stderr",
     "output_type": "stream",
     "text": [
      "Found local copy...\n"
     ]
    },
    {
     "name": "stdout",
     "output_type": "stream",
     "text": [
      "✅ SUCCESS: \u001b[1mYour benchmark has been successfully uploaded to the Hub. View it here: https://polarishub.io/benchmarks/tdcommons/clearance_microsome_az\u001b[0m\n",
      " \n",
      "clearance_hepatocyte_az\n",
      "⠋ Uploading dataset..."
     ]
    },
    {
     "name": "stderr",
     "output_type": "stream",
     "text": [
      "\u001b[32m2024-07-22 15:39:47.776\u001b[0m | \u001b[1mINFO    \u001b[0m | \u001b[36mpolaris._mixins\u001b[0m:\u001b[36mmd5sum\u001b[0m:\u001b[36m27\u001b[0m - \u001b[1mComputing the checksum. This can be slow for large datasets.\u001b[0m\n"
     ]
    },
    {
     "name": "stdout",
     "output_type": "stream",
     "text": [
      "✅ SUCCESS: \u001b[1mYour dataset has been successfully uploaded to the Hub. View it here: https://polarishub.io/datasets/tdcommons/clearance_hepatocyte_az\u001b[0m\n",
      " \n",
      "⠋ Uploading benchmark..."
     ]
    },
    {
     "name": "stderr",
     "output_type": "stream",
     "text": [
      "\u001b[32m2024-07-22 15:39:48.905\u001b[0m | \u001b[1mINFO    \u001b[0m | \u001b[36mpolaris._mixins\u001b[0m:\u001b[36mmd5sum\u001b[0m:\u001b[36m27\u001b[0m - \u001b[1mComputing the checksum. This can be slow for large datasets.\u001b[0m\n"
     ]
    },
    {
     "name": "stdout",
     "output_type": "stream",
     "text": [
      "⠸ Uploading benchmark... "
     ]
    },
    {
     "name": "stderr",
     "output_type": "stream",
     "text": [
      "Found local copy...\n"
     ]
    },
    {
     "name": "stdout",
     "output_type": "stream",
     "text": [
      "✅ SUCCESS: \u001b[1mYour benchmark has been successfully uploaded to the Hub. View it here: https://polarishub.io/benchmarks/tdcommons/clearance_hepatocyte_az\u001b[0m\n",
      " \n",
      "herg\n",
      "⠋ Uploading dataset..."
     ]
    },
    {
     "name": "stderr",
     "output_type": "stream",
     "text": [
      "\u001b[32m2024-07-22 15:39:49.199\u001b[0m | \u001b[1mINFO    \u001b[0m | \u001b[36mpolaris._mixins\u001b[0m:\u001b[36mmd5sum\u001b[0m:\u001b[36m27\u001b[0m - \u001b[1mComputing the checksum. This can be slow for large datasets.\u001b[0m\n"
     ]
    },
    {
     "name": "stdout",
     "output_type": "stream",
     "text": [
      "✅ SUCCESS: \u001b[1mYour dataset has been successfully uploaded to the Hub. View it here: https://polarishub.io/datasets/tdcommons/herg\u001b[0m\n",
      " \n",
      "⠋ Uploading benchmark..."
     ]
    },
    {
     "name": "stderr",
     "output_type": "stream",
     "text": [
      "\u001b[32m2024-07-22 15:39:50.145\u001b[0m | \u001b[1mINFO    \u001b[0m | \u001b[36mpolaris._mixins\u001b[0m:\u001b[36mmd5sum\u001b[0m:\u001b[36m27\u001b[0m - \u001b[1mComputing the checksum. This can be slow for large datasets.\u001b[0m\n"
     ]
    },
    {
     "name": "stdout",
     "output_type": "stream",
     "text": [
      "⠹ Uploading benchmark... "
     ]
    },
    {
     "name": "stderr",
     "output_type": "stream",
     "text": [
      "Found local copy...\n"
     ]
    },
    {
     "name": "stdout",
     "output_type": "stream",
     "text": [
      "✅ SUCCESS: \u001b[1mYour benchmark has been successfully uploaded to the Hub. View it here: https://polarishub.io/benchmarks/tdcommons/herg\u001b[0m\n",
      " \n",
      "ames\n"
     ]
    },
    {
     "name": "stderr",
     "output_type": "stream",
     "text": [
      "\u001b[32m2024-07-22 15:39:50.455\u001b[0m | \u001b[1mINFO    \u001b[0m | \u001b[36mpolaris._mixins\u001b[0m:\u001b[36mmd5sum\u001b[0m:\u001b[36m27\u001b[0m - \u001b[1mComputing the checksum. This can be slow for large datasets.\u001b[0m\n"
     ]
    },
    {
     "name": "stdout",
     "output_type": "stream",
     "text": [
      "✅ SUCCESS: \u001b[1mYour dataset has been successfully uploaded to the Hub. View it here: https://polarishub.io/datasets/tdcommons/ames\u001b[0m\n",
      " \n",
      "⠋ Uploading benchmark..."
     ]
    },
    {
     "name": "stderr",
     "output_type": "stream",
     "text": [
      "\u001b[32m2024-07-22 15:39:51.433\u001b[0m | \u001b[1mINFO    \u001b[0m | \u001b[36mpolaris._mixins\u001b[0m:\u001b[36mmd5sum\u001b[0m:\u001b[36m27\u001b[0m - \u001b[1mComputing the checksum. This can be slow for large datasets.\u001b[0m\n"
     ]
    },
    {
     "name": "stdout",
     "output_type": "stream",
     "text": [
      "⠴ Uploading benchmark... "
     ]
    },
    {
     "name": "stderr",
     "output_type": "stream",
     "text": [
      "Found local copy...\n"
     ]
    },
    {
     "name": "stdout",
     "output_type": "stream",
     "text": [
      "✅ SUCCESS: \u001b[1mYour benchmark has been successfully uploaded to the Hub. View it here: https://polarishub.io/benchmarks/tdcommons/ames\u001b[0m\n",
      " \n",
      "dili\n",
      "⠋ Uploading dataset..."
     ]
    },
    {
     "name": "stderr",
     "output_type": "stream",
     "text": [
      "\u001b[32m2024-07-22 15:39:51.938\u001b[0m | \u001b[1mINFO    \u001b[0m | \u001b[36mpolaris._mixins\u001b[0m:\u001b[36mmd5sum\u001b[0m:\u001b[36m27\u001b[0m - \u001b[1mComputing the checksum. This can be slow for large datasets.\u001b[0m\n"
     ]
    },
    {
     "name": "stdout",
     "output_type": "stream",
     "text": [
      "✅ SUCCESS: \u001b[1mYour dataset has been successfully uploaded to the Hub. View it here: https://polarishub.io/datasets/tdcommons/dili\u001b[0m\n",
      " \n",
      "⠋ Uploading benchmark..."
     ]
    },
    {
     "name": "stderr",
     "output_type": "stream",
     "text": [
      "\u001b[32m2024-07-22 15:39:52.928\u001b[0m | \u001b[1mINFO    \u001b[0m | \u001b[36mpolaris._mixins\u001b[0m:\u001b[36mmd5sum\u001b[0m:\u001b[36m27\u001b[0m - \u001b[1mComputing the checksum. This can be slow for large datasets.\u001b[0m\n"
     ]
    },
    {
     "name": "stdout",
     "output_type": "stream",
     "text": [
      "⠹ Uploading benchmark... "
     ]
    },
    {
     "name": "stderr",
     "output_type": "stream",
     "text": [
      "Found local copy...\n"
     ]
    },
    {
     "name": "stdout",
     "output_type": "stream",
     "text": [
      "✅ SUCCESS: \u001b[1mYour benchmark has been successfully uploaded to the Hub. View it here: https://polarishub.io/benchmarks/tdcommons/dili\u001b[0m\n",
      " \n",
      "ld50_zhu\n",
      "⠋ Uploading dataset..."
     ]
    },
    {
     "name": "stderr",
     "output_type": "stream",
     "text": [
      "\u001b[32m2024-07-22 15:39:53.262\u001b[0m | \u001b[1mINFO    \u001b[0m | \u001b[36mpolaris._mixins\u001b[0m:\u001b[36mmd5sum\u001b[0m:\u001b[36m27\u001b[0m - \u001b[1mComputing the checksum. This can be slow for large datasets.\u001b[0m\n"
     ]
    },
    {
     "name": "stdout",
     "output_type": "stream",
     "text": [
      "✅ SUCCESS: \u001b[1mYour dataset has been successfully uploaded to the Hub. View it here: https://polarishub.io/datasets/tdcommons/ld50_zhu\u001b[0m\n",
      " \n",
      "⠋ Uploading benchmark..."
     ]
    },
    {
     "name": "stderr",
     "output_type": "stream",
     "text": [
      "\u001b[32m2024-07-22 15:39:54.298\u001b[0m | \u001b[1mINFO    \u001b[0m | \u001b[36mpolaris._mixins\u001b[0m:\u001b[36mmd5sum\u001b[0m:\u001b[36m27\u001b[0m - \u001b[1mComputing the checksum. This can be slow for large datasets.\u001b[0m\n"
     ]
    },
    {
     "name": "stdout",
     "output_type": "stream",
     "text": [
      "✅ SUCCESS: \u001b[1mYour benchmark has been successfully uploaded to the Hub. View it here: https://polarishub.io/benchmarks/tdcommons/ld50_zhu\u001b[0m\n",
      " \n"
     ]
    }
   ],
   "source": [
    "for name in names:\n",
    "    print(name)\n",
    "    group = admet_group(\n",
    "        path=\"/mnt/ps/home/CORP/lu.zhu/project/polaris-recipes/org-TDC/admet/data\"\n",
    "    )\n",
    "    tdc_benchmark = group.get(name)\n",
    "    tdc_benchmark[\"train_val\"][\"split\"] = \"train_val\"\n",
    "    tdc_benchmark[\"test\"][\"split\"] = \"test\"\n",
    "    table = pd.concat(\n",
    "        [tdc_benchmark[\"train_val\"], tdc_benchmark[\"test\"]], ignore_index=True\n",
    "    )\n",
    "\n",
    "    annotations = {\n",
    "        \"Drug_ID\": ColumnAnnotation(description=\"Drug identifier.\"),\n",
    "        \"Drug\": ColumnAnnotation(\n",
    "            description=\"Molecule SMILES string.\",\n",
    "            modality=\"molecule\",\n",
    "        ),\n",
    "        \"Y\": ColumnAnnotation(description=Y_dict[name]),\n",
    "        \"split\": ColumnAnnotation(\n",
    "            description=\"Train-val-test split provided by TDC.\",\n",
    "        ),\n",
    "    }\n",
    "\n",
    "    dataset_name = tdc_benchmark[\"name\"]\n",
    "    if name in tox:\n",
    "        source = \"https://tdcommons.ai/single_pred_tasks/tox\"\n",
    "        tags = [\"TOX\"]\n",
    "    else:\n",
    "        source = \"https://tdcommons.ai/single_pred_tasks/adme\"\n",
    "        tags = [\"ADME\"]\n",
    "    dataset = Dataset(\n",
    "        table=table[annotations.keys()].copy(),\n",
    "        name=dataset_name,\n",
    "        description=Y_dict[name],\n",
    "        source=tdc_info.loc[name, \"Reference\"],\n",
    "        annotations=annotations,\n",
    "        owner=owner,\n",
    "        tags=tags,\n",
    "        license=\"CC-BY-4.0\",\n",
    "    )\n",
    "    try:\n",
    "        dataset.upload_to_hub()\n",
    "    except:\n",
    "        pass\n",
    "\n",
    "    metric = tdc_info.loc[name, \"Metric\"]\n",
    "    task = (\n",
    "        \"regression\" if tdc_info.loc[name, \"Task\"] == \"Regression\" else \"classification\"\n",
    "    )\n",
    "    split = (\n",
    "        table.query(\"split == 'train_val'\").index.tolist(),\n",
    "        table.query(\"split == 'test'\").index.tolist(),\n",
    "    )\n",
    "\n",
    "    benchmark_name = tdc_benchmark[\"name\"]\n",
    "    benchmark = SingleTaskBenchmarkSpecification(\n",
    "        name=benchmark_name,\n",
    "        dataset=dataset,\n",
    "        target_cols=target_col,\n",
    "        target_type=task,\n",
    "        input_cols=[mol_col],\n",
    "        split=split,\n",
    "        metrics=[metric_dict[metric]],\n",
    "        tags=[\"ADMET\", \"singletask\"],\n",
    "        owner=owner,\n",
    "    )\n",
    "    benchmark.upload_to_hub()"
   ]
  },
  {
   "cell_type": "code",
   "execution_count": 11,
   "metadata": {},
   "outputs": [],
   "source": [
    "import polaris as po"
   ]
  },
  {
   "cell_type": "code",
   "execution_count": 20,
   "metadata": {},
   "outputs": [],
   "source": [
    "from polaris.utils.misc import sluggify"
   ]
  },
  {
   "cell_type": "code",
   "execution_count": 21,
   "metadata": {},
   "outputs": [
    {
     "name": "stdout",
     "output_type": "stream",
     "text": [
      "⠋ Fetching dataset..."
     ]
    },
    {
     "name": "stdout",
     "output_type": "stream",
     "text": [
      "⠏ Fetching dataset... "
     ]
    },
    {
     "name": "stderr",
     "output_type": "stream",
     "text": [
      "\u001b[32m2024-07-22 15:46:58.100\u001b[0m | \u001b[33m\u001b[1mWARNING \u001b[0m | \u001b[36mpolaris._mixins\u001b[0m:\u001b[36mverify_checksum\u001b[0m:\u001b[36m58\u001b[0m - \u001b[33m\u001b[1mNo checksum to verify against. Specify either the md5sum parameter or store the checksum in the dataset.md5sum attribute.\u001b[0m\n"
     ]
    },
    {
     "name": "stdout",
     "output_type": "stream",
     "text": [
      "✅ SUCCESS: \u001b[1mFetched dataset.\u001b[0m\n",
      " \n",
      "⠦ Fetching dataset... "
     ]
    },
    {
     "name": "stderr",
     "output_type": "stream",
     "text": [
      "\u001b[32m2024-07-22 15:46:59.495\u001b[0m | \u001b[33m\u001b[1mWARNING \u001b[0m | \u001b[36mpolaris._mixins\u001b[0m:\u001b[36mverify_checksum\u001b[0m:\u001b[36m58\u001b[0m - \u001b[33m\u001b[1mNo checksum to verify against. Specify either the md5sum parameter or store the checksum in the dataset.md5sum attribute.\u001b[0m\n"
     ]
    },
    {
     "name": "stdout",
     "output_type": "stream",
     "text": [
      "✅ SUCCESS: \u001b[1mFetched dataset.\u001b[0m\n",
      " \n",
      "⠏ Fetching dataset... "
     ]
    },
    {
     "name": "stderr",
     "output_type": "stream",
     "text": [
      "\u001b[32m2024-07-22 15:47:00.332\u001b[0m | \u001b[33m\u001b[1mWARNING \u001b[0m | \u001b[36mpolaris._mixins\u001b[0m:\u001b[36mverify_checksum\u001b[0m:\u001b[36m58\u001b[0m - \u001b[33m\u001b[1mNo checksum to verify against. Specify either the md5sum parameter or store the checksum in the dataset.md5sum attribute.\u001b[0m\n"
     ]
    },
    {
     "name": "stdout",
     "output_type": "stream",
     "text": [
      "✅ SUCCESS: \u001b[1mFetched dataset.\u001b[0m\n",
      " \n",
      "⠋ Fetching dataset... "
     ]
    },
    {
     "name": "stderr",
     "output_type": "stream",
     "text": [
      "\u001b[32m2024-07-22 15:47:01.241\u001b[0m | \u001b[33m\u001b[1mWARNING \u001b[0m | \u001b[36mpolaris._mixins\u001b[0m:\u001b[36mverify_checksum\u001b[0m:\u001b[36m58\u001b[0m - \u001b[33m\u001b[1mNo checksum to verify against. Specify either the md5sum parameter or store the checksum in the dataset.md5sum attribute.\u001b[0m\n"
     ]
    },
    {
     "name": "stdout",
     "output_type": "stream",
     "text": [
      "✅ SUCCESS: \u001b[1mFetched dataset.\u001b[0m\n",
      " \n",
      "⠋ Fetching dataset... "
     ]
    },
    {
     "name": "stderr",
     "output_type": "stream",
     "text": [
      "\u001b[32m2024-07-22 15:47:02.108\u001b[0m | \u001b[33m\u001b[1mWARNING \u001b[0m | \u001b[36mpolaris._mixins\u001b[0m:\u001b[36mverify_checksum\u001b[0m:\u001b[36m58\u001b[0m - \u001b[33m\u001b[1mNo checksum to verify against. Specify either the md5sum parameter or store the checksum in the dataset.md5sum attribute.\u001b[0m\n"
     ]
    },
    {
     "name": "stdout",
     "output_type": "stream",
     "text": [
      "✅ SUCCESS: \u001b[1mFetched dataset.\u001b[0m\n",
      " \n",
      "⠏ Fetching dataset... "
     ]
    },
    {
     "name": "stderr",
     "output_type": "stream",
     "text": [
      "\u001b[32m2024-07-22 15:47:02.958\u001b[0m | \u001b[33m\u001b[1mWARNING \u001b[0m | \u001b[36mpolaris._mixins\u001b[0m:\u001b[36mverify_checksum\u001b[0m:\u001b[36m58\u001b[0m - \u001b[33m\u001b[1mNo checksum to verify against. Specify either the md5sum parameter or store the checksum in the dataset.md5sum attribute.\u001b[0m\n"
     ]
    },
    {
     "name": "stdout",
     "output_type": "stream",
     "text": [
      "✅ SUCCESS: \u001b[1mFetched dataset.\u001b[0m\n",
      " \n",
      "⠏ Fetching dataset... "
     ]
    },
    {
     "name": "stderr",
     "output_type": "stream",
     "text": [
      "\u001b[32m2024-07-22 15:47:03.789\u001b[0m | \u001b[33m\u001b[1mWARNING \u001b[0m | \u001b[36mpolaris._mixins\u001b[0m:\u001b[36mverify_checksum\u001b[0m:\u001b[36m58\u001b[0m - \u001b[33m\u001b[1mNo checksum to verify against. Specify either the md5sum parameter or store the checksum in the dataset.md5sum attribute.\u001b[0m\n"
     ]
    },
    {
     "name": "stdout",
     "output_type": "stream",
     "text": [
      "✅ SUCCESS: \u001b[1mFetched dataset.\u001b[0m\n",
      " \n",
      "⠏ Fetching dataset... "
     ]
    },
    {
     "name": "stderr",
     "output_type": "stream",
     "text": [
      "\u001b[32m2024-07-22 15:47:04.644\u001b[0m | \u001b[33m\u001b[1mWARNING \u001b[0m | \u001b[36mpolaris._mixins\u001b[0m:\u001b[36mverify_checksum\u001b[0m:\u001b[36m58\u001b[0m - \u001b[33m\u001b[1mNo checksum to verify against. Specify either the md5sum parameter or store the checksum in the dataset.md5sum attribute.\u001b[0m\n"
     ]
    },
    {
     "name": "stdout",
     "output_type": "stream",
     "text": [
      "✅ SUCCESS: \u001b[1mFetched dataset.\u001b[0m\n",
      " \n",
      "⠏ Fetching dataset... "
     ]
    },
    {
     "name": "stderr",
     "output_type": "stream",
     "text": [
      "\u001b[32m2024-07-22 15:47:05.431\u001b[0m | \u001b[33m\u001b[1mWARNING \u001b[0m | \u001b[36mpolaris._mixins\u001b[0m:\u001b[36mverify_checksum\u001b[0m:\u001b[36m58\u001b[0m - \u001b[33m\u001b[1mNo checksum to verify against. Specify either the md5sum parameter or store the checksum in the dataset.md5sum attribute.\u001b[0m\n"
     ]
    },
    {
     "name": "stdout",
     "output_type": "stream",
     "text": [
      "✅ SUCCESS: \u001b[1mFetched dataset.\u001b[0m\n",
      " \n",
      "⠦ Fetching dataset... "
     ]
    },
    {
     "name": "stderr",
     "output_type": "stream",
     "text": [
      "\u001b[32m2024-07-22 15:47:06.784\u001b[0m | \u001b[33m\u001b[1mWARNING \u001b[0m | \u001b[36mpolaris._mixins\u001b[0m:\u001b[36mverify_checksum\u001b[0m:\u001b[36m58\u001b[0m - \u001b[33m\u001b[1mNo checksum to verify against. Specify either the md5sum parameter or store the checksum in the dataset.md5sum attribute.\u001b[0m\n"
     ]
    },
    {
     "name": "stdout",
     "output_type": "stream",
     "text": [
      "✅ SUCCESS: \u001b[1mFetched dataset.\u001b[0m\n",
      " \n",
      "⠋ Fetching dataset... "
     ]
    },
    {
     "name": "stderr",
     "output_type": "stream",
     "text": [
      "\u001b[32m2024-07-22 15:47:07.671\u001b[0m | \u001b[33m\u001b[1mWARNING \u001b[0m | \u001b[36mpolaris._mixins\u001b[0m:\u001b[36mverify_checksum\u001b[0m:\u001b[36m58\u001b[0m - \u001b[33m\u001b[1mNo checksum to verify against. Specify either the md5sum parameter or store the checksum in the dataset.md5sum attribute.\u001b[0m\n"
     ]
    },
    {
     "name": "stdout",
     "output_type": "stream",
     "text": [
      "✅ SUCCESS: \u001b[1mFetched dataset.\u001b[0m\n",
      " \n",
      "⠋ Fetching dataset... "
     ]
    },
    {
     "name": "stderr",
     "output_type": "stream",
     "text": [
      "\u001b[32m2024-07-22 15:47:08.599\u001b[0m | \u001b[33m\u001b[1mWARNING \u001b[0m | \u001b[36mpolaris._mixins\u001b[0m:\u001b[36mverify_checksum\u001b[0m:\u001b[36m58\u001b[0m - \u001b[33m\u001b[1mNo checksum to verify against. Specify either the md5sum parameter or store the checksum in the dataset.md5sum attribute.\u001b[0m\n"
     ]
    },
    {
     "name": "stdout",
     "output_type": "stream",
     "text": [
      "✅ SUCCESS: \u001b[1mFetched dataset.\u001b[0m\n",
      " \n",
      "⠏ Fetching dataset... "
     ]
    },
    {
     "name": "stderr",
     "output_type": "stream",
     "text": [
      "\u001b[32m2024-07-22 15:47:09.409\u001b[0m | \u001b[33m\u001b[1mWARNING \u001b[0m | \u001b[36mpolaris._mixins\u001b[0m:\u001b[36mverify_checksum\u001b[0m:\u001b[36m58\u001b[0m - \u001b[33m\u001b[1mNo checksum to verify against. Specify either the md5sum parameter or store the checksum in the dataset.md5sum attribute.\u001b[0m\n"
     ]
    },
    {
     "name": "stdout",
     "output_type": "stream",
     "text": [
      "✅ SUCCESS: \u001b[1mFetched dataset.\u001b[0m\n",
      " \n",
      "⠏ Fetching dataset... "
     ]
    },
    {
     "name": "stderr",
     "output_type": "stream",
     "text": [
      "\u001b[32m2024-07-22 15:47:10.225\u001b[0m | \u001b[33m\u001b[1mWARNING \u001b[0m | \u001b[36mpolaris._mixins\u001b[0m:\u001b[36mverify_checksum\u001b[0m:\u001b[36m58\u001b[0m - \u001b[33m\u001b[1mNo checksum to verify against. Specify either the md5sum parameter or store the checksum in the dataset.md5sum attribute.\u001b[0m\n"
     ]
    },
    {
     "name": "stdout",
     "output_type": "stream",
     "text": [
      "✅ SUCCESS: \u001b[1mFetched dataset.\u001b[0m\n",
      " \n",
      "⠏ Fetching dataset... "
     ]
    },
    {
     "name": "stderr",
     "output_type": "stream",
     "text": [
      "\u001b[32m2024-07-22 15:47:11.093\u001b[0m | \u001b[33m\u001b[1mWARNING \u001b[0m | \u001b[36mpolaris._mixins\u001b[0m:\u001b[36mverify_checksum\u001b[0m:\u001b[36m58\u001b[0m - \u001b[33m\u001b[1mNo checksum to verify against. Specify either the md5sum parameter or store the checksum in the dataset.md5sum attribute.\u001b[0m\n"
     ]
    },
    {
     "name": "stdout",
     "output_type": "stream",
     "text": [
      "✅ SUCCESS: \u001b[1mFetched dataset.\u001b[0m\n",
      " \n",
      "⠏ Fetching dataset... "
     ]
    },
    {
     "name": "stderr",
     "output_type": "stream",
     "text": [
      "\u001b[32m2024-07-22 15:47:11.951\u001b[0m | \u001b[33m\u001b[1mWARNING \u001b[0m | \u001b[36mpolaris._mixins\u001b[0m:\u001b[36mverify_checksum\u001b[0m:\u001b[36m58\u001b[0m - \u001b[33m\u001b[1mNo checksum to verify against. Specify either the md5sum parameter or store the checksum in the dataset.md5sum attribute.\u001b[0m\n"
     ]
    },
    {
     "name": "stdout",
     "output_type": "stream",
     "text": [
      "✅ SUCCESS: \u001b[1mFetched dataset.\u001b[0m\n",
      " \n",
      "⠋ Fetching dataset... "
     ]
    },
    {
     "name": "stderr",
     "output_type": "stream",
     "text": [
      "\u001b[32m2024-07-22 15:47:12.856\u001b[0m | \u001b[33m\u001b[1mWARNING \u001b[0m | \u001b[36mpolaris._mixins\u001b[0m:\u001b[36mverify_checksum\u001b[0m:\u001b[36m58\u001b[0m - \u001b[33m\u001b[1mNo checksum to verify against. Specify either the md5sum parameter or store the checksum in the dataset.md5sum attribute.\u001b[0m\n"
     ]
    },
    {
     "name": "stdout",
     "output_type": "stream",
     "text": [
      "✅ SUCCESS: \u001b[1mFetched dataset.\u001b[0m\n",
      " \n",
      "⠏ Fetching dataset... "
     ]
    },
    {
     "name": "stderr",
     "output_type": "stream",
     "text": [
      "\u001b[32m2024-07-22 15:47:13.717\u001b[0m | \u001b[33m\u001b[1mWARNING \u001b[0m | \u001b[36mpolaris._mixins\u001b[0m:\u001b[36mverify_checksum\u001b[0m:\u001b[36m58\u001b[0m - \u001b[33m\u001b[1mNo checksum to verify against. Specify either the md5sum parameter or store the checksum in the dataset.md5sum attribute.\u001b[0m\n"
     ]
    },
    {
     "name": "stdout",
     "output_type": "stream",
     "text": [
      "✅ SUCCESS: \u001b[1mFetched dataset.\u001b[0m\n",
      " \n",
      "⠧ Fetching dataset... "
     ]
    },
    {
     "name": "stderr",
     "output_type": "stream",
     "text": [
      "\u001b[32m2024-07-22 15:47:14.392\u001b[0m | \u001b[33m\u001b[1mWARNING \u001b[0m | \u001b[36mpolaris._mixins\u001b[0m:\u001b[36mverify_checksum\u001b[0m:\u001b[36m58\u001b[0m - \u001b[33m\u001b[1mNo checksum to verify against. Specify either the md5sum parameter or store the checksum in the dataset.md5sum attribute.\u001b[0m\n"
     ]
    },
    {
     "name": "stdout",
     "output_type": "stream",
     "text": [
      "✅ SUCCESS: \u001b[1mFetched dataset.\u001b[0m\n",
      " \n",
      "⠇ Fetching dataset... "
     ]
    },
    {
     "name": "stderr",
     "output_type": "stream",
     "text": [
      "\u001b[32m2024-07-22 15:47:15.116\u001b[0m | \u001b[33m\u001b[1mWARNING \u001b[0m | \u001b[36mpolaris._mixins\u001b[0m:\u001b[36mverify_checksum\u001b[0m:\u001b[36m58\u001b[0m - \u001b[33m\u001b[1mNo checksum to verify against. Specify either the md5sum parameter or store the checksum in the dataset.md5sum attribute.\u001b[0m\n"
     ]
    },
    {
     "name": "stdout",
     "output_type": "stream",
     "text": [
      "✅ SUCCESS: \u001b[1mFetched dataset.\u001b[0m\n",
      " \n",
      "⠧ Fetching dataset... "
     ]
    },
    {
     "name": "stderr",
     "output_type": "stream",
     "text": [
      "\u001b[32m2024-07-22 15:47:15.781\u001b[0m | \u001b[33m\u001b[1mWARNING \u001b[0m | \u001b[36mpolaris._mixins\u001b[0m:\u001b[36mverify_checksum\u001b[0m:\u001b[36m58\u001b[0m - \u001b[33m\u001b[1mNo checksum to verify against. Specify either the md5sum parameter or store the checksum in the dataset.md5sum attribute.\u001b[0m\n"
     ]
    },
    {
     "name": "stdout",
     "output_type": "stream",
     "text": [
      "✅ SUCCESS: \u001b[1mFetched dataset.\u001b[0m\n",
      " \n",
      "⠇ Fetching dataset... "
     ]
    },
    {
     "name": "stderr",
     "output_type": "stream",
     "text": [
      "\u001b[32m2024-07-22 15:47:16.509\u001b[0m | \u001b[33m\u001b[1mWARNING \u001b[0m | \u001b[36mpolaris._mixins\u001b[0m:\u001b[36mverify_checksum\u001b[0m:\u001b[36m58\u001b[0m - \u001b[33m\u001b[1mNo checksum to verify against. Specify either the md5sum parameter or store the checksum in the dataset.md5sum attribute.\u001b[0m\n"
     ]
    },
    {
     "name": "stdout",
     "output_type": "stream",
     "text": [
      "✅ SUCCESS: \u001b[1mFetched dataset.\u001b[0m\n",
      " \n"
     ]
    }
   ],
   "source": [
    "for name in names:\n",
    "    try:\n",
    "        po.load_dataset(f\"tdcommons/{sluggify(name)}\")\n",
    "    except:\n",
    "        print(f\"failed {name}\")"
   ]
  },
  {
   "cell_type": "code",
   "execution_count": 23,
   "metadata": {},
   "outputs": [
    {
     "name": "stdout",
     "output_type": "stream",
     "text": [
      "⠙ Fetching benchmark... "
     ]
    },
    {
     "name": "stdout",
     "output_type": "stream",
     "text": [
      "⠏ Fetching benchmark... "
     ]
    },
    {
     "name": "stderr",
     "output_type": "stream",
     "text": [
      "\u001b[32m2024-07-22 15:48:27.663\u001b[0m | \u001b[33m\u001b[1mWARNING \u001b[0m | \u001b[36mpolaris._mixins\u001b[0m:\u001b[36mverify_checksum\u001b[0m:\u001b[36m58\u001b[0m - \u001b[33m\u001b[1mNo checksum to verify against. Specify either the md5sum parameter or store the checksum in the dataset.md5sum attribute.\u001b[0m\n",
      "\u001b[32m2024-07-22 15:48:27.665\u001b[0m | \u001b[33m\u001b[1mWARNING \u001b[0m | \u001b[36mpolaris._mixins\u001b[0m:\u001b[36mverify_checksum\u001b[0m:\u001b[36m58\u001b[0m - \u001b[33m\u001b[1mNo checksum to verify against. Specify either the md5sum parameter or store the checksum in the dataset.md5sum attribute.\u001b[0m\n"
     ]
    },
    {
     "name": "stdout",
     "output_type": "stream",
     "text": [
      "✅ SUCCESS: \u001b[1mFetched dataset.\u001b[0m\n",
      " \n",
      "✅ SUCCESS: \u001b[1mFetched benchmark.\u001b[0m\n",
      " \n",
      "⠋ Fetching benchmark... "
     ]
    },
    {
     "name": "stderr",
     "output_type": "stream",
     "text": [
      "\u001b[32m2024-07-22 15:48:28.517\u001b[0m | \u001b[33m\u001b[1mWARNING \u001b[0m | \u001b[36mpolaris._mixins\u001b[0m:\u001b[36mverify_checksum\u001b[0m:\u001b[36m58\u001b[0m - \u001b[33m\u001b[1mNo checksum to verify against. Specify either the md5sum parameter or store the checksum in the dataset.md5sum attribute.\u001b[0m\n",
      "\u001b[32m2024-07-22 15:48:28.520\u001b[0m | \u001b[33m\u001b[1mWARNING \u001b[0m | \u001b[36mpolaris._mixins\u001b[0m:\u001b[36mverify_checksum\u001b[0m:\u001b[36m58\u001b[0m - \u001b[33m\u001b[1mNo checksum to verify against. Specify either the md5sum parameter or store the checksum in the dataset.md5sum attribute.\u001b[0m\n"
     ]
    },
    {
     "name": "stdout",
     "output_type": "stream",
     "text": [
      "✅ SUCCESS: \u001b[1mFetched dataset.\u001b[0m\n",
      " \n",
      "✅ SUCCESS: \u001b[1mFetched benchmark.\u001b[0m\n",
      " \n",
      "⠏ Fetching benchmark... "
     ]
    },
    {
     "name": "stderr",
     "output_type": "stream",
     "text": [
      "\u001b[32m2024-07-22 15:48:29.371\u001b[0m | \u001b[33m\u001b[1mWARNING \u001b[0m | \u001b[36mpolaris._mixins\u001b[0m:\u001b[36mverify_checksum\u001b[0m:\u001b[36m58\u001b[0m - \u001b[33m\u001b[1mNo checksum to verify against. Specify either the md5sum parameter or store the checksum in the dataset.md5sum attribute.\u001b[0m\n",
      "\u001b[32m2024-07-22 15:48:29.374\u001b[0m | \u001b[33m\u001b[1mWARNING \u001b[0m | \u001b[36mpolaris._mixins\u001b[0m:\u001b[36mverify_checksum\u001b[0m:\u001b[36m58\u001b[0m - \u001b[33m\u001b[1mNo checksum to verify against. Specify either the md5sum parameter or store the checksum in the dataset.md5sum attribute.\u001b[0m\n"
     ]
    },
    {
     "name": "stdout",
     "output_type": "stream",
     "text": [
      "✅ SUCCESS: \u001b[1mFetched dataset.\u001b[0m\n",
      " \n",
      "✅ SUCCESS: \u001b[1mFetched benchmark.\u001b[0m\n",
      " \n",
      "⠧ Fetching dataset... . "
     ]
    },
    {
     "name": "stderr",
     "output_type": "stream",
     "text": [
      "\u001b[32m2024-07-22 15:48:30.199\u001b[0m | \u001b[33m\u001b[1mWARNING \u001b[0m | \u001b[36mpolaris._mixins\u001b[0m:\u001b[36mverify_checksum\u001b[0m:\u001b[36m58\u001b[0m - \u001b[33m\u001b[1mNo checksum to verify against. Specify either the md5sum parameter or store the checksum in the dataset.md5sum attribute.\u001b[0m\n",
      "\u001b[32m2024-07-22 15:48:30.202\u001b[0m | \u001b[33m\u001b[1mWARNING \u001b[0m | \u001b[36mpolaris._mixins\u001b[0m:\u001b[36mverify_checksum\u001b[0m:\u001b[36m58\u001b[0m - \u001b[33m\u001b[1mNo checksum to verify against. Specify either the md5sum parameter or store the checksum in the dataset.md5sum attribute.\u001b[0m\n"
     ]
    },
    {
     "name": "stdout",
     "output_type": "stream",
     "text": [
      "✅ SUCCESS: \u001b[1mFetched dataset.\u001b[0m\n",
      " \n",
      "✅ SUCCESS: \u001b[1mFetched benchmark.\u001b[0m\n",
      " \n",
      "⠧ Fetching dataset... . "
     ]
    },
    {
     "name": "stderr",
     "output_type": "stream",
     "text": [
      "\u001b[32m2024-07-22 15:48:31.022\u001b[0m | \u001b[33m\u001b[1mWARNING \u001b[0m | \u001b[36mpolaris._mixins\u001b[0m:\u001b[36mverify_checksum\u001b[0m:\u001b[36m58\u001b[0m - \u001b[33m\u001b[1mNo checksum to verify against. Specify either the md5sum parameter or store the checksum in the dataset.md5sum attribute.\u001b[0m\n",
      "\u001b[32m2024-07-22 15:48:31.027\u001b[0m | \u001b[33m\u001b[1mWARNING \u001b[0m | \u001b[36mpolaris._mixins\u001b[0m:\u001b[36mverify_checksum\u001b[0m:\u001b[36m58\u001b[0m - \u001b[33m\u001b[1mNo checksum to verify against. Specify either the md5sum parameter or store the checksum in the dataset.md5sum attribute.\u001b[0m\n"
     ]
    },
    {
     "name": "stdout",
     "output_type": "stream",
     "text": [
      "✅ SUCCESS: \u001b[1mFetched dataset.\u001b[0m\n",
      " \n",
      "✅ SUCCESS: \u001b[1mFetched benchmark.\u001b[0m\n",
      " \n",
      "⠋ Fetching benchmark... "
     ]
    },
    {
     "name": "stderr",
     "output_type": "stream",
     "text": [
      "\u001b[32m2024-07-22 15:48:31.927\u001b[0m | \u001b[33m\u001b[1mWARNING \u001b[0m | \u001b[36mpolaris._mixins\u001b[0m:\u001b[36mverify_checksum\u001b[0m:\u001b[36m58\u001b[0m - \u001b[33m\u001b[1mNo checksum to verify against. Specify either the md5sum parameter or store the checksum in the dataset.md5sum attribute.\u001b[0m\n",
      "\u001b[32m2024-07-22 15:48:31.934\u001b[0m | \u001b[33m\u001b[1mWARNING \u001b[0m | \u001b[36mpolaris._mixins\u001b[0m:\u001b[36mverify_checksum\u001b[0m:\u001b[36m58\u001b[0m - \u001b[33m\u001b[1mNo checksum to verify against. Specify either the md5sum parameter or store the checksum in the dataset.md5sum attribute.\u001b[0m\n"
     ]
    },
    {
     "name": "stdout",
     "output_type": "stream",
     "text": [
      "✅ SUCCESS: \u001b[1mFetched dataset.\u001b[0m\n",
      " \n",
      "✅ SUCCESS: \u001b[1mFetched benchmark.\u001b[0m\n",
      " \n",
      "⠧ Fetching dataset... . "
     ]
    },
    {
     "name": "stderr",
     "output_type": "stream",
     "text": [
      "\u001b[32m2024-07-22 15:48:32.782\u001b[0m | \u001b[33m\u001b[1mWARNING \u001b[0m | \u001b[36mpolaris._mixins\u001b[0m:\u001b[36mverify_checksum\u001b[0m:\u001b[36m58\u001b[0m - \u001b[33m\u001b[1mNo checksum to verify against. Specify either the md5sum parameter or store the checksum in the dataset.md5sum attribute.\u001b[0m\n",
      "\u001b[32m2024-07-22 15:48:32.784\u001b[0m | \u001b[33m\u001b[1mWARNING \u001b[0m | \u001b[36mpolaris._mixins\u001b[0m:\u001b[36mverify_checksum\u001b[0m:\u001b[36m58\u001b[0m - \u001b[33m\u001b[1mNo checksum to verify against. Specify either the md5sum parameter or store the checksum in the dataset.md5sum attribute.\u001b[0m\n"
     ]
    },
    {
     "name": "stdout",
     "output_type": "stream",
     "text": [
      "✅ SUCCESS: \u001b[1mFetched dataset.\u001b[0m\n",
      " \n",
      "✅ SUCCESS: \u001b[1mFetched benchmark.\u001b[0m\n",
      " \n",
      "⠧ Fetching dataset... . "
     ]
    },
    {
     "name": "stderr",
     "output_type": "stream",
     "text": [
      "\u001b[32m2024-07-22 15:48:33.629\u001b[0m | \u001b[33m\u001b[1mWARNING \u001b[0m | \u001b[36mpolaris._mixins\u001b[0m:\u001b[36mverify_checksum\u001b[0m:\u001b[36m58\u001b[0m - \u001b[33m\u001b[1mNo checksum to verify against. Specify either the md5sum parameter or store the checksum in the dataset.md5sum attribute.\u001b[0m\n",
      "\u001b[32m2024-07-22 15:48:33.632\u001b[0m | \u001b[33m\u001b[1mWARNING \u001b[0m | \u001b[36mpolaris._mixins\u001b[0m:\u001b[36mverify_checksum\u001b[0m:\u001b[36m58\u001b[0m - \u001b[33m\u001b[1mNo checksum to verify against. Specify either the md5sum parameter or store the checksum in the dataset.md5sum attribute.\u001b[0m\n"
     ]
    },
    {
     "name": "stdout",
     "output_type": "stream",
     "text": [
      "✅ SUCCESS: \u001b[1mFetched dataset.\u001b[0m\n",
      " \n",
      "✅ SUCCESS: \u001b[1mFetched benchmark.\u001b[0m\n",
      " \n",
      "⠏ Fetching benchmark... "
     ]
    },
    {
     "name": "stderr",
     "output_type": "stream",
     "text": [
      "\u001b[32m2024-07-22 15:48:34.418\u001b[0m | \u001b[33m\u001b[1mWARNING \u001b[0m | \u001b[36mpolaris._mixins\u001b[0m:\u001b[36mverify_checksum\u001b[0m:\u001b[36m58\u001b[0m - \u001b[33m\u001b[1mNo checksum to verify against. Specify either the md5sum parameter or store the checksum in the dataset.md5sum attribute.\u001b[0m\n",
      "\u001b[32m2024-07-22 15:48:34.421\u001b[0m | \u001b[33m\u001b[1mWARNING \u001b[0m | \u001b[36mpolaris._mixins\u001b[0m:\u001b[36mverify_checksum\u001b[0m:\u001b[36m58\u001b[0m - \u001b[33m\u001b[1mNo checksum to verify against. Specify either the md5sum parameter or store the checksum in the dataset.md5sum attribute.\u001b[0m\n"
     ]
    },
    {
     "name": "stdout",
     "output_type": "stream",
     "text": [
      "✅ SUCCESS: \u001b[1mFetched dataset.\u001b[0m\n",
      " \n",
      "✅ SUCCESS: \u001b[1mFetched benchmark.\u001b[0m\n",
      " \n",
      "⠸ Fetching benchmark... "
     ]
    },
    {
     "name": "stderr",
     "output_type": "stream",
     "text": [
      "\u001b[32m2024-07-22 15:48:35.536\u001b[0m | \u001b[33m\u001b[1mWARNING \u001b[0m | \u001b[36mpolaris._mixins\u001b[0m:\u001b[36mverify_checksum\u001b[0m:\u001b[36m58\u001b[0m - \u001b[33m\u001b[1mNo checksum to verify against. Specify either the md5sum parameter or store the checksum in the dataset.md5sum attribute.\u001b[0m\n",
      "\u001b[32m2024-07-22 15:48:35.542\u001b[0m | \u001b[33m\u001b[1mWARNING \u001b[0m | \u001b[36mpolaris._mixins\u001b[0m:\u001b[36mverify_checksum\u001b[0m:\u001b[36m58\u001b[0m - \u001b[33m\u001b[1mNo checksum to verify against. Specify either the md5sum parameter or store the checksum in the dataset.md5sum attribute.\u001b[0m\n"
     ]
    },
    {
     "name": "stdout",
     "output_type": "stream",
     "text": [
      "✅ SUCCESS: \u001b[1mFetched dataset.\u001b[0m\n",
      " \n",
      "✅ SUCCESS: \u001b[1mFetched benchmark.\u001b[0m\n",
      " \n",
      "⠋ Fetching benchmark... "
     ]
    },
    {
     "name": "stderr",
     "output_type": "stream",
     "text": [
      "\u001b[32m2024-07-22 15:48:36.458\u001b[0m | \u001b[33m\u001b[1mWARNING \u001b[0m | \u001b[36mpolaris._mixins\u001b[0m:\u001b[36mverify_checksum\u001b[0m:\u001b[36m58\u001b[0m - \u001b[33m\u001b[1mNo checksum to verify against. Specify either the md5sum parameter or store the checksum in the dataset.md5sum attribute.\u001b[0m\n",
      "\u001b[32m2024-07-22 15:48:36.464\u001b[0m | \u001b[33m\u001b[1mWARNING \u001b[0m | \u001b[36mpolaris._mixins\u001b[0m:\u001b[36mverify_checksum\u001b[0m:\u001b[36m58\u001b[0m - \u001b[33m\u001b[1mNo checksum to verify against. Specify either the md5sum parameter or store the checksum in the dataset.md5sum attribute.\u001b[0m\n"
     ]
    },
    {
     "name": "stdout",
     "output_type": "stream",
     "text": [
      "✅ SUCCESS: \u001b[1mFetched dataset.\u001b[0m\n",
      " \n",
      "✅ SUCCESS: \u001b[1mFetched benchmark.\u001b[0m\n",
      " \n",
      "⠧ Fetching dataset... . "
     ]
    },
    {
     "name": "stderr",
     "output_type": "stream",
     "text": [
      "\u001b[32m2024-07-22 15:48:37.378\u001b[0m | \u001b[33m\u001b[1mWARNING \u001b[0m | \u001b[36mpolaris._mixins\u001b[0m:\u001b[36mverify_checksum\u001b[0m:\u001b[36m58\u001b[0m - \u001b[33m\u001b[1mNo checksum to verify against. Specify either the md5sum parameter or store the checksum in the dataset.md5sum attribute.\u001b[0m\n",
      "\u001b[32m2024-07-22 15:48:37.382\u001b[0m | \u001b[33m\u001b[1mWARNING \u001b[0m | \u001b[36mpolaris._mixins\u001b[0m:\u001b[36mverify_checksum\u001b[0m:\u001b[36m58\u001b[0m - \u001b[33m\u001b[1mNo checksum to verify against. Specify either the md5sum parameter or store the checksum in the dataset.md5sum attribute.\u001b[0m\n"
     ]
    },
    {
     "name": "stdout",
     "output_type": "stream",
     "text": [
      "✅ SUCCESS: \u001b[1mFetched dataset.\u001b[0m\n",
      " \n",
      "✅ SUCCESS: \u001b[1mFetched benchmark.\u001b[0m\n",
      " \n",
      "⠏ Fetching benchmark... "
     ]
    },
    {
     "name": "stderr",
     "output_type": "stream",
     "text": [
      "\u001b[32m2024-07-22 15:48:38.186\u001b[0m | \u001b[33m\u001b[1mWARNING \u001b[0m | \u001b[36mpolaris._mixins\u001b[0m:\u001b[36mverify_checksum\u001b[0m:\u001b[36m58\u001b[0m - \u001b[33m\u001b[1mNo checksum to verify against. Specify either the md5sum parameter or store the checksum in the dataset.md5sum attribute.\u001b[0m\n",
      "\u001b[32m2024-07-22 15:48:38.189\u001b[0m | \u001b[33m\u001b[1mWARNING \u001b[0m | \u001b[36mpolaris._mixins\u001b[0m:\u001b[36mverify_checksum\u001b[0m:\u001b[36m58\u001b[0m - \u001b[33m\u001b[1mNo checksum to verify against. Specify either the md5sum parameter or store the checksum in the dataset.md5sum attribute.\u001b[0m\n"
     ]
    },
    {
     "name": "stdout",
     "output_type": "stream",
     "text": [
      "✅ SUCCESS: \u001b[1mFetched dataset.\u001b[0m\n",
      " \n",
      "✅ SUCCESS: \u001b[1mFetched benchmark.\u001b[0m\n",
      " \n",
      "⠏ Fetching benchmark... "
     ]
    },
    {
     "name": "stderr",
     "output_type": "stream",
     "text": [
      "\u001b[32m2024-07-22 15:48:38.985\u001b[0m | \u001b[33m\u001b[1mWARNING \u001b[0m | \u001b[36mpolaris._mixins\u001b[0m:\u001b[36mverify_checksum\u001b[0m:\u001b[36m58\u001b[0m - \u001b[33m\u001b[1mNo checksum to verify against. Specify either the md5sum parameter or store the checksum in the dataset.md5sum attribute.\u001b[0m\n",
      "\u001b[32m2024-07-22 15:48:38.987\u001b[0m | \u001b[33m\u001b[1mWARNING \u001b[0m | \u001b[36mpolaris._mixins\u001b[0m:\u001b[36mverify_checksum\u001b[0m:\u001b[36m58\u001b[0m - \u001b[33m\u001b[1mNo checksum to verify against. Specify either the md5sum parameter or store the checksum in the dataset.md5sum attribute.\u001b[0m\n"
     ]
    },
    {
     "name": "stdout",
     "output_type": "stream",
     "text": [
      "✅ SUCCESS: \u001b[1mFetched dataset.\u001b[0m\n",
      " \n",
      "✅ SUCCESS: \u001b[1mFetched benchmark.\u001b[0m\n",
      " \n",
      "⠏ Fetching benchmark... "
     ]
    },
    {
     "name": "stderr",
     "output_type": "stream",
     "text": [
      "\u001b[32m2024-07-22 15:48:39.798\u001b[0m | \u001b[33m\u001b[1mWARNING \u001b[0m | \u001b[36mpolaris._mixins\u001b[0m:\u001b[36mverify_checksum\u001b[0m:\u001b[36m58\u001b[0m - \u001b[33m\u001b[1mNo checksum to verify against. Specify either the md5sum parameter or store the checksum in the dataset.md5sum attribute.\u001b[0m\n",
      "\u001b[32m2024-07-22 15:48:39.801\u001b[0m | \u001b[33m\u001b[1mWARNING \u001b[0m | \u001b[36mpolaris._mixins\u001b[0m:\u001b[36mverify_checksum\u001b[0m:\u001b[36m58\u001b[0m - \u001b[33m\u001b[1mNo checksum to verify against. Specify either the md5sum parameter or store the checksum in the dataset.md5sum attribute.\u001b[0m\n"
     ]
    },
    {
     "name": "stdout",
     "output_type": "stream",
     "text": [
      "✅ SUCCESS: \u001b[1mFetched dataset.\u001b[0m\n",
      " \n",
      "✅ SUCCESS: \u001b[1mFetched benchmark.\u001b[0m\n",
      " \n",
      "⠙ Fetching dataset... . "
     ]
    },
    {
     "name": "stderr",
     "output_type": "stream",
     "text": [
      "\u001b[32m2024-07-22 15:48:40.997\u001b[0m | \u001b[33m\u001b[1mWARNING \u001b[0m | \u001b[36mpolaris._mixins\u001b[0m:\u001b[36mverify_checksum\u001b[0m:\u001b[36m58\u001b[0m - \u001b[33m\u001b[1mNo checksum to verify against. Specify either the md5sum parameter or store the checksum in the dataset.md5sum attribute.\u001b[0m\n",
      "\u001b[32m2024-07-22 15:48:41.000\u001b[0m | \u001b[33m\u001b[1mWARNING \u001b[0m | \u001b[36mpolaris._mixins\u001b[0m:\u001b[36mverify_checksum\u001b[0m:\u001b[36m58\u001b[0m - \u001b[33m\u001b[1mNo checksum to verify against. Specify either the md5sum parameter or store the checksum in the dataset.md5sum attribute.\u001b[0m\n"
     ]
    },
    {
     "name": "stdout",
     "output_type": "stream",
     "text": [
      "✅ SUCCESS: \u001b[1mFetched dataset.\u001b[0m\n",
      " \n",
      "✅ SUCCESS: \u001b[1mFetched benchmark.\u001b[0m\n",
      " \n",
      "⠏ Fetching benchmark... "
     ]
    },
    {
     "name": "stderr",
     "output_type": "stream",
     "text": [
      "\u001b[32m2024-07-22 15:48:41.811\u001b[0m | \u001b[33m\u001b[1mWARNING \u001b[0m | \u001b[36mpolaris._mixins\u001b[0m:\u001b[36mverify_checksum\u001b[0m:\u001b[36m58\u001b[0m - \u001b[33m\u001b[1mNo checksum to verify against. Specify either the md5sum parameter or store the checksum in the dataset.md5sum attribute.\u001b[0m\n",
      "\u001b[32m2024-07-22 15:48:41.814\u001b[0m | \u001b[33m\u001b[1mWARNING \u001b[0m | \u001b[36mpolaris._mixins\u001b[0m:\u001b[36mverify_checksum\u001b[0m:\u001b[36m58\u001b[0m - \u001b[33m\u001b[1mNo checksum to verify against. Specify either the md5sum parameter or store the checksum in the dataset.md5sum attribute.\u001b[0m\n"
     ]
    },
    {
     "name": "stdout",
     "output_type": "stream",
     "text": [
      "✅ SUCCESS: \u001b[1mFetched dataset.\u001b[0m\n",
      " \n",
      "✅ SUCCESS: \u001b[1mFetched benchmark.\u001b[0m\n",
      " \n",
      "⠦ Fetching dataset... . "
     ]
    },
    {
     "name": "stderr",
     "output_type": "stream",
     "text": [
      "\u001b[32m2024-07-22 15:48:42.553\u001b[0m | \u001b[33m\u001b[1mWARNING \u001b[0m | \u001b[36mpolaris._mixins\u001b[0m:\u001b[36mverify_checksum\u001b[0m:\u001b[36m58\u001b[0m - \u001b[33m\u001b[1mNo checksum to verify against. Specify either the md5sum parameter or store the checksum in the dataset.md5sum attribute.\u001b[0m\n",
      "\u001b[32m2024-07-22 15:48:42.556\u001b[0m | \u001b[33m\u001b[1mWARNING \u001b[0m | \u001b[36mpolaris._mixins\u001b[0m:\u001b[36mverify_checksum\u001b[0m:\u001b[36m58\u001b[0m - \u001b[33m\u001b[1mNo checksum to verify against. Specify either the md5sum parameter or store the checksum in the dataset.md5sum attribute.\u001b[0m\n"
     ]
    },
    {
     "name": "stdout",
     "output_type": "stream",
     "text": [
      "✅ SUCCESS: \u001b[1mFetched dataset.\u001b[0m\n",
      " \n",
      "✅ SUCCESS: \u001b[1mFetched benchmark.\u001b[0m\n",
      " \n",
      "⠦ Fetching dataset... . "
     ]
    },
    {
     "name": "stderr",
     "output_type": "stream",
     "text": [
      "\u001b[32m2024-07-22 15:48:43.302\u001b[0m | \u001b[33m\u001b[1mWARNING \u001b[0m | \u001b[36mpolaris._mixins\u001b[0m:\u001b[36mverify_checksum\u001b[0m:\u001b[36m58\u001b[0m - \u001b[33m\u001b[1mNo checksum to verify against. Specify either the md5sum parameter or store the checksum in the dataset.md5sum attribute.\u001b[0m\n",
      "\u001b[32m2024-07-22 15:48:43.305\u001b[0m | \u001b[33m\u001b[1mWARNING \u001b[0m | \u001b[36mpolaris._mixins\u001b[0m:\u001b[36mverify_checksum\u001b[0m:\u001b[36m58\u001b[0m - \u001b[33m\u001b[1mNo checksum to verify against. Specify either the md5sum parameter or store the checksum in the dataset.md5sum attribute.\u001b[0m\n"
     ]
    },
    {
     "name": "stdout",
     "output_type": "stream",
     "text": [
      "✅ SUCCESS: \u001b[1mFetched dataset.\u001b[0m\n",
      " \n",
      "✅ SUCCESS: \u001b[1mFetched benchmark.\u001b[0m\n",
      " \n",
      "⠧ Fetching dataset... . "
     ]
    },
    {
     "name": "stderr",
     "output_type": "stream",
     "text": [
      "\u001b[32m2024-07-22 15:48:44.154\u001b[0m | \u001b[33m\u001b[1mWARNING \u001b[0m | \u001b[36mpolaris._mixins\u001b[0m:\u001b[36mverify_checksum\u001b[0m:\u001b[36m58\u001b[0m - \u001b[33m\u001b[1mNo checksum to verify against. Specify either the md5sum parameter or store the checksum in the dataset.md5sum attribute.\u001b[0m\n",
      "\u001b[32m2024-07-22 15:48:44.159\u001b[0m | \u001b[33m\u001b[1mWARNING \u001b[0m | \u001b[36mpolaris._mixins\u001b[0m:\u001b[36mverify_checksum\u001b[0m:\u001b[36m58\u001b[0m - \u001b[33m\u001b[1mNo checksum to verify against. Specify either the md5sum parameter or store the checksum in the dataset.md5sum attribute.\u001b[0m\n"
     ]
    },
    {
     "name": "stdout",
     "output_type": "stream",
     "text": [
      "✅ SUCCESS: \u001b[1mFetched dataset.\u001b[0m\n",
      " \n",
      "✅ SUCCESS: \u001b[1mFetched benchmark.\u001b[0m\n",
      " \n",
      "⠏ Fetching benchmark... "
     ]
    },
    {
     "name": "stderr",
     "output_type": "stream",
     "text": [
      "\u001b[32m2024-07-22 15:48:44.982\u001b[0m | \u001b[33m\u001b[1mWARNING \u001b[0m | \u001b[36mpolaris._mixins\u001b[0m:\u001b[36mverify_checksum\u001b[0m:\u001b[36m58\u001b[0m - \u001b[33m\u001b[1mNo checksum to verify against. Specify either the md5sum parameter or store the checksum in the dataset.md5sum attribute.\u001b[0m\n",
      "\u001b[32m2024-07-22 15:48:44.985\u001b[0m | \u001b[33m\u001b[1mWARNING \u001b[0m | \u001b[36mpolaris._mixins\u001b[0m:\u001b[36mverify_checksum\u001b[0m:\u001b[36m58\u001b[0m - \u001b[33m\u001b[1mNo checksum to verify against. Specify either the md5sum parameter or store the checksum in the dataset.md5sum attribute.\u001b[0m\n"
     ]
    },
    {
     "name": "stdout",
     "output_type": "stream",
     "text": [
      "✅ SUCCESS: \u001b[1mFetched dataset.\u001b[0m\n",
      " \n",
      "✅ SUCCESS: \u001b[1mFetched benchmark.\u001b[0m\n",
      " \n",
      "⠋ Fetching benchmark... "
     ]
    },
    {
     "name": "stderr",
     "output_type": "stream",
     "text": [
      "\u001b[32m2024-07-22 15:48:45.849\u001b[0m | \u001b[33m\u001b[1mWARNING \u001b[0m | \u001b[36mpolaris._mixins\u001b[0m:\u001b[36mverify_checksum\u001b[0m:\u001b[36m58\u001b[0m - \u001b[33m\u001b[1mNo checksum to verify against. Specify either the md5sum parameter or store the checksum in the dataset.md5sum attribute.\u001b[0m\n",
      "\u001b[32m2024-07-22 15:48:45.854\u001b[0m | \u001b[33m\u001b[1mWARNING \u001b[0m | \u001b[36mpolaris._mixins\u001b[0m:\u001b[36mverify_checksum\u001b[0m:\u001b[36m58\u001b[0m - \u001b[33m\u001b[1mNo checksum to verify against. Specify either the md5sum parameter or store the checksum in the dataset.md5sum attribute.\u001b[0m\n"
     ]
    },
    {
     "name": "stdout",
     "output_type": "stream",
     "text": [
      "✅ SUCCESS: \u001b[1mFetched dataset.\u001b[0m\n",
      " \n",
      "✅ SUCCESS: \u001b[1mFetched benchmark.\u001b[0m\n",
      " \n"
     ]
    }
   ],
   "source": [
    "for name in names:\n",
    "    try:\n",
    "        po.load_benchmark(f\"tdcommons/{name}\")\n",
    "    except:\n",
    "        print(f\"failed {name}\")"
   ]
  },
  {
   "cell_type": "code",
   "execution_count": null,
   "metadata": {},
   "outputs": [],
   "source": []
  }
 ],
 "metadata": {
  "kernelspec": {
   "display_name": "po_datasets",
   "language": "python",
   "name": "python3"
  },
  "language_info": {
   "codemirror_mode": {
    "name": "ipython",
    "version": 3
   },
   "file_extension": ".py",
   "mimetype": "text/x-python",
   "name": "python",
   "nbconvert_exporter": "python",
   "pygments_lexer": "ipython3",
   "version": "3.12.4"
  }
 },
 "nbformat": 4,
 "nbformat_minor": 2
}
